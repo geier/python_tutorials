{
 "cells": [
  {
   "cell_type": "markdown",
   "metadata": {
    "toc": "true"
   },
   "source": [
    "<h1>Table of Contents<span class=\"tocSkip\"></span></h1>\n",
    "<div class=\"toc\"><ul class=\"toc-item\"><li><span><a href=\"#Python-for-Programmers\" data-toc-modified-id=\"Python-for-Programmers-1\"><span class=\"toc-item-num\">1&nbsp;&nbsp;</span>Python for Programmers</a></span></li><li><span><a href=\"#Basics\" data-toc-modified-id=\"Basics-2\"><span class=\"toc-item-num\">2&nbsp;&nbsp;</span>Basics</a></span></li><li><span><a href=\"#Basic-Data-Types\" data-toc-modified-id=\"Basic-Data-Types-3\"><span class=\"toc-item-num\">3&nbsp;&nbsp;</span>Basic Data Types</a></span><ul class=\"toc-item\"><li><span><a href=\"#strings\" data-toc-modified-id=\"strings-3.1\"><span class=\"toc-item-num\">3.1&nbsp;&nbsp;</span>strings</a></span></li><li><span><a href=\"#numbers\" data-toc-modified-id=\"numbers-3.2\"><span class=\"toc-item-num\">3.2&nbsp;&nbsp;</span>numbers</a></span></li></ul></li><li><span><a href=\"#Conditionals-and-Comparison-Operators\" data-toc-modified-id=\"Conditionals-and-Comparison-Operators-4\"><span class=\"toc-item-num\">4&nbsp;&nbsp;</span>Conditionals and Comparison Operators</a></span></li><li><span><a href=\"#Pass\" data-toc-modified-id=\"Pass-5\"><span class=\"toc-item-num\">5&nbsp;&nbsp;</span>Pass</a></span></li><li><span><a href=\"#Functions\" data-toc-modified-id=\"Functions-6\"><span class=\"toc-item-num\">6&nbsp;&nbsp;</span>Functions</a></span><ul class=\"toc-item\"><li><span><a href=\"#Defining-Functions\" data-toc-modified-id=\"Defining-Functions-6.1\"><span class=\"toc-item-num\">6.1&nbsp;&nbsp;</span>Defining Functions</a></span></li></ul></li><li><span><a href=\"#Long-Strings-and-Docstrings\" data-toc-modified-id=\"Long-Strings-and-Docstrings-7\"><span class=\"toc-item-num\">7&nbsp;&nbsp;</span>Long Strings and Docstrings</a></span></li><li><span><a href=\"#Compound-Types-/-Data-Structures\" data-toc-modified-id=\"Compound-Types-/-Data-Structures-8\"><span class=\"toc-item-num\">8&nbsp;&nbsp;</span>Compound Types / Data Structures</a></span><ul class=\"toc-item\"><li><span><a href=\"#lists\" data-toc-modified-id=\"lists-8.1\"><span class=\"toc-item-num\">8.1&nbsp;&nbsp;</span>lists</a></span><ul class=\"toc-item\"><li><span><a href=\"#python-lists-are-dynamic-arrays\" data-toc-modified-id=\"python-lists-are-dynamic-arrays-8.1.1\"><span class=\"toc-item-num\">8.1.1&nbsp;&nbsp;</span>python lists are dynamic arrays</a></span></li></ul></li><li><span><a href=\"#Iterating-over-lists-(For-Loops)\" data-toc-modified-id=\"Iterating-over-lists-(For-Loops)-8.2\"><span class=\"toc-item-num\">8.2&nbsp;&nbsp;</span>Iterating over lists (For Loops)</a></span></li><li><span><a href=\"#dictionaries\" data-toc-modified-id=\"dictionaries-8.3\"><span class=\"toc-item-num\">8.3&nbsp;&nbsp;</span>dictionaries</a></span></li><li><span><a href=\"#Tuples\" data-toc-modified-id=\"Tuples-8.4\"><span class=\"toc-item-num\">8.4&nbsp;&nbsp;</span>Tuples</a></span></li><li><span><a href=\"#Tuples-to-return-multiple-values-and-tuple-unpacking\" data-toc-modified-id=\"Tuples-to-return-multiple-values-and-tuple-unpacking-8.5\"><span class=\"toc-item-num\">8.5&nbsp;&nbsp;</span>Tuples to return multiple values and tuple unpacking</a></span></li><li><span><a href=\"#When-to-use-tuples,-when-to-use-lists?\" data-toc-modified-id=\"When-to-use-tuples,-when-to-use-lists?-8.6\"><span class=\"toc-item-num\">8.6&nbsp;&nbsp;</span>When to use tuples, when to use lists?</a></span></li><li><span><a href=\"#Combine-iteration-and-tuple-unpacking\" data-toc-modified-id=\"Combine-iteration-and-tuple-unpacking-8.7\"><span class=\"toc-item-num\">8.7&nbsp;&nbsp;</span>Combine iteration and tuple unpacking</a></span></li><li><span><a href=\"#Sequence-types-and-in\" data-toc-modified-id=\"Sequence-types-and-in-8.8\"><span class=\"toc-item-num\">8.8&nbsp;&nbsp;</span>Sequence types and <code>in</code></a></span></li></ul></li><li><span><a href=\"#Sets-as-in-set-theory\" data-toc-modified-id=\"Sets-as-in-set-theory-9\"><span class=\"toc-item-num\">9&nbsp;&nbsp;</span>Sets as in set theory</a></span><ul class=\"toc-item\"><li><span><a href=\"#Standard-&quot;trick&quot;-to-remove-duplicates-from-a-list\" data-toc-modified-id=\"Standard-&quot;trick&quot;-to-remove-duplicates-from-a-list-9.1\"><span class=\"toc-item-num\">9.1&nbsp;&nbsp;</span>Standard \"trick\" to remove duplicates from a list</a></span></li></ul></li><li><span><a href=\"#Exercises-A\" data-toc-modified-id=\"Exercises-A-10\"><span class=\"toc-item-num\">10&nbsp;&nbsp;</span>Exercises A</a></span></li><li><span><a href=\"#Objects,-Classes-and-Methods\" data-toc-modified-id=\"Objects,-Classes-and-Methods-11\"><span class=\"toc-item-num\">11&nbsp;&nbsp;</span>Objects, Classes and Methods</a></span><ul class=\"toc-item\"><li><span><a href=\"#Public-or-Private?\" data-toc-modified-id=\"Public-or-Private?-11.1\"><span class=\"toc-item-num\">11.1&nbsp;&nbsp;</span>Public or Private?</a></span></li><li><span><a href=\"#Multiple-Inheritance,-type()-and-isinstance()\" data-toc-modified-id=\"Multiple-Inheritance,-type()-and-isinstance()-11.2\"><span class=\"toc-item-num\">11.2&nbsp;&nbsp;</span>Multiple Inheritance, type() and isinstance()</a></span></li><li><span><a href=\"#__str__-and-__repr__\" data-toc-modified-id=\"__str__-and-__repr__-11.3\"><span class=\"toc-item-num\">11.3&nbsp;&nbsp;</span>__str__ and __repr__</a></span></li><li><span><a href=\"#Dynamic\" data-toc-modified-id=\"Dynamic-11.4\"><span class=\"toc-item-num\">11.4&nbsp;&nbsp;</span>Dynamic</a></span></li></ul></li><li><span><a href=\"#Exceptions\" data-toc-modified-id=\"Exceptions-12\"><span class=\"toc-item-num\">12&nbsp;&nbsp;</span>Exceptions</a></span><ul class=\"toc-item\"><li><span><a href=\"#Rasing-exceptions-and-defining-custom-exceptions\" data-toc-modified-id=\"Rasing-exceptions-and-defining-custom-exceptions-12.1\"><span class=\"toc-item-num\">12.1&nbsp;&nbsp;</span>Rasing exceptions and defining custom exceptions</a></span></li></ul></li><li><span><a href=\"#(While-and-For)-Loops\" data-toc-modified-id=\"(While-and-For)-Loops-13\"><span class=\"toc-item-num\">13&nbsp;&nbsp;</span>(While and For) Loops</a></span><ul class=\"toc-item\"><li><span><a href=\"#What-if-you-do-need-an-index?\" data-toc-modified-id=\"What-if-you-do-need-an-index?-13.1\"><span class=\"toc-item-num\">13.1&nbsp;&nbsp;</span>What if you do need an index?</a></span></li></ul></li><li><span><a href=\"#modules-and-packages\" data-toc-modified-id=\"modules-and-packages-14\"><span class=\"toc-item-num\">14&nbsp;&nbsp;</span>modules and packages</a></span><ul class=\"toc-item\"><li><span><a href=\"#Running-modules-as-scripts\" data-toc-modified-id=\"Running-modules-as-scripts-14.1\"><span class=\"toc-item-num\">14.1&nbsp;&nbsp;</span>Running modules as scripts</a></span></li><li><span><a href=\"#Make-packages-installable-and-installing-packages\" data-toc-modified-id=\"Make-packages-installable-and-installing-packages-14.2\"><span class=\"toc-item-num\">14.2&nbsp;&nbsp;</span>Make packages installable and installing packages</a></span></li></ul></li><li><span><a href=\"#Functional-Programming-and-Comprehensions\" data-toc-modified-id=\"Functional-Programming-and-Comprehensions-15\"><span class=\"toc-item-num\">15&nbsp;&nbsp;</span>Functional Programming and Comprehensions</a></span><ul class=\"toc-item\"><li><span><a href=\"#Lambda-functions-/-Anonymous-functions\" data-toc-modified-id=\"Lambda-functions-/-Anonymous-functions-15.1\"><span class=\"toc-item-num\">15.1&nbsp;&nbsp;</span>Lambda functions / Anonymous functions</a></span></li></ul></li><li><span><a href=\"#Iterators-and-Generators\" data-toc-modified-id=\"Iterators-and-Generators-16\"><span class=\"toc-item-num\">16&nbsp;&nbsp;</span>Iterators and Generators</a></span><ul class=\"toc-item\"><li><span><a href=\"#What-makes-an-iterator?\" data-toc-modified-id=\"What-makes-an-iterator?-16.1\"><span class=\"toc-item-num\">16.1&nbsp;&nbsp;</span>What makes an iterator?</a></span></li><li><span><a href=\"#Generator-expressions\" data-toc-modified-id=\"Generator-expressions-16.2\"><span class=\"toc-item-num\">16.2&nbsp;&nbsp;</span>Generator expressions</a></span></li><li><span><a href=\"#Using-yield-for-Generators\" data-toc-modified-id=\"Using-yield-for-Generators-16.3\"><span class=\"toc-item-num\">16.3&nbsp;&nbsp;</span>Using <code>yield</code> for Generators</a></span></li></ul></li><li><span><a href=\"#bytes-and-unicode-&amp;-string-formatting\" data-toc-modified-id=\"bytes-and-unicode-&amp;-string-formatting-17\"><span class=\"toc-item-num\">17&nbsp;&nbsp;</span>bytes and unicode &amp; string formatting</a></span><ul class=\"toc-item\"><li><span><a href=\"#bytes-and-unicode\" data-toc-modified-id=\"bytes-and-unicode-17.1\"><span class=\"toc-item-num\">17.1&nbsp;&nbsp;</span>bytes and unicode</a></span></li><li><span><a href=\"#String-Formatting\" data-toc-modified-id=\"String-Formatting-17.2\"><span class=\"toc-item-num\">17.2&nbsp;&nbsp;</span>String Formatting</a></span></li><li><span><a href=\"#concatenation\" data-toc-modified-id=\"concatenation-17.3\"><span class=\"toc-item-num\">17.3&nbsp;&nbsp;</span>concatenation</a></span></li></ul></li><li><span><a href=\"#*args,-**kwargs-and-tuple-and-dict-unpacking\" data-toc-modified-id=\"*args,-**kwargs-and-tuple-and-dict-unpacking-18\"><span class=\"toc-item-num\">18&nbsp;&nbsp;</span>*args, **kwargs and tuple and dict unpacking</a></span><ul class=\"toc-item\"><li><span><a href=\"#unpacking\" data-toc-modified-id=\"unpacking-18.1\"><span class=\"toc-item-num\">18.1&nbsp;&nbsp;</span>unpacking</a></span></li></ul></li><li><span><a href=\"#decorators\" data-toc-modified-id=\"decorators-19\"><span class=\"toc-item-num\">19&nbsp;&nbsp;</span>decorators</a></span><ul class=\"toc-item\"><li><span><a href=\"#Attribute-getters-and-setters\" data-toc-modified-id=\"Attribute-getters-and-setters-19.1\"><span class=\"toc-item-num\">19.1&nbsp;&nbsp;</span>Attribute getters and setters</a></span></li></ul></li><li><span><a href=\"#File-reading-and-writing\" data-toc-modified-id=\"File-reading-and-writing-20\"><span class=\"toc-item-num\">20&nbsp;&nbsp;</span>File reading and writing</a></span></li><li><span><a href=\"#Context-Manangers-and-better-file-access\" data-toc-modified-id=\"Context-Manangers-and-better-file-access-21\"><span class=\"toc-item-num\">21&nbsp;&nbsp;</span>Context Manangers and better file access</a></span></li><li><span><a href=\"#globals-and-scope\" data-toc-modified-id=\"globals-and-scope-22\"><span class=\"toc-item-num\">22&nbsp;&nbsp;</span>globals and scope</a></span><ul class=\"toc-item\"><li><span><a href=\"#scoping-by-examples\" data-toc-modified-id=\"scoping-by-examples-22.1\"><span class=\"toc-item-num\">22.1&nbsp;&nbsp;</span>scoping by examples</a></span></li><li><span><a href=\"#globals\" data-toc-modified-id=\"globals-22.2\"><span class=\"toc-item-num\">22.2&nbsp;&nbsp;</span>globals</a></span></li><li><span><a href=\"#Mutables\" data-toc-modified-id=\"Mutables-22.3\"><span class=\"toc-item-num\">22.3&nbsp;&nbsp;</span>Mutables</a></span></li><li><span><a href=\"#Call-by-value?-Call-by-reference?\" data-toc-modified-id=\"Call-by-value?-Call-by-reference?-22.4\"><span class=\"toc-item-num\">22.4&nbsp;&nbsp;</span>Call by value? Call by reference?</a></span></li><li><span><a href=\"#Gotcha:-mutable-default-arguments\" data-toc-modified-id=\"Gotcha:-mutable-default-arguments-22.5\"><span class=\"toc-item-num\">22.5&nbsp;&nbsp;</span>Gotcha: mutable default arguments</a></span></li></ul></li><li><span><a href=\"#EXERCISES-B\" data-toc-modified-id=\"EXERCISES-B-23\"><span class=\"toc-item-num\">23&nbsp;&nbsp;</span>EXERCISES B</a></span></li><li><span><a href=\"#Code-Style\" data-toc-modified-id=\"Code-Style-24\"><span class=\"toc-item-num\">24&nbsp;&nbsp;</span>Code Style</a></span></li><li><span><a href=\"#Not-covered\" data-toc-modified-id=\"Not-covered-25\"><span class=\"toc-item-num\">25&nbsp;&nbsp;</span>Not covered</a></span></li></ul></div>"
   ]
  },
  {
   "cell_type": "markdown",
   "metadata": {},
   "source": [
    "<h1>Python for Programmers</h1>"
   ]
  },
  {
   "cell_type": "markdown",
   "metadata": {},
   "source": [
    "# Basics\n",
    "* no semicolons needed\n",
    "* no braces\n",
    "* significant whitespace (use four spaces for each level of indendation, nothing else)\n",
    "* dynamically-ly typed (\"duck typed\", more on that later)\n",
    "* often strongly typed (some *upgrading* from integers to floats, etc., is performed)\n",
    " * `1 + 4.0` works\n",
    " * `1 + \"foo\"` doesn't\n",
    "* assignment with `=`, example: `foo = 42`\n",
    "* comments start with `#`\n",
    "* there are two incompatible versions of python, python 2 and python 3\n",
    "* if in doubt, use python 3\n",
    "* parenthesis execute functions, print is a function (in python 3)\n",
    "\n",
    "Obligatory helloworld:"
   ]
  },
  {
   "cell_type": "code",
   "execution_count": null,
   "metadata": {
    "ExecuteTime": {
     "end_time": "2019-04-16T14:49:48.040961Z",
     "start_time": "2019-04-16T14:49:48.037259Z"
    }
   },
   "outputs": [],
   "source": [
    "print(\"Hello World!\")"
   ]
  },
  {
   "cell_type": "markdown",
   "metadata": {},
   "source": [
    "# Basic Data Types \n",
    "\n",
    "## strings\n",
    "`double = \"bar\"`\n",
    "\n",
    "`single = 'foo'`\n",
    "\n",
    "`escape = 'it\\'s a trap'`\n",
    "\n",
    "* try to stay consistent when quoting\n",
    "* I use \"string\" if it's something user facing, e.g., a string I would internationalize\n",
    "* and 'string' when it's something else, e.g. a dictionary key\n",
    "* add strings with `+` or `+=` (creates a new string though)\n",
    "\n",
    "## numbers\n",
    "* `integer = 1`\n",
    "* `float = 1.0`\n",
    "* `complex = 2.0 + 3j`\n",
    "\n",
    "* all \"standard\" operators exist: `+`, `-`, `/`, `*`, `**`, `%`, and probably some more\n",
    "* some shortcuts `+=`, `-=`, `*=`, `/=`, and probably some more (but not increment, decrement)\n",
    "* since python 3, dividing an int always casts to float, `//` is floor division"
   ]
  },
  {
   "cell_type": "code",
   "execution_count": null,
   "metadata": {
    "ExecuteTime": {
     "end_time": "2019-04-16T14:49:49.481953Z",
     "start_time": "2019-04-16T14:49:49.470046Z"
    }
   },
   "outputs": [],
   "source": [
    "a = 'foo'\n",
    "a += 'bar'\n",
    "a"
   ]
  },
  {
   "cell_type": "code",
   "execution_count": null,
   "metadata": {
    "ExecuteTime": {
     "end_time": "2019-04-16T14:49:49.844035Z",
     "start_time": "2019-04-16T14:49:49.840477Z"
    }
   },
   "outputs": [],
   "source": [
    "a = 12\n",
    "a /= 4\n",
    "a"
   ]
  },
  {
   "cell_type": "code",
   "execution_count": null,
   "metadata": {
    "ExecuteTime": {
     "end_time": "2019-04-16T14:49:50.527910Z",
     "start_time": "2019-04-16T14:49:50.523677Z"
    }
   },
   "outputs": [],
   "source": [
    "a = 1\n",
    "a / 2"
   ]
  },
  {
   "cell_type": "code",
   "execution_count": null,
   "metadata": {
    "ExecuteTime": {
     "end_time": "2019-04-16T14:49:50.962065Z",
     "start_time": "2019-04-16T14:49:50.956813Z"
    }
   },
   "outputs": [],
   "source": [
    "a // 2"
   ]
  },
  {
   "cell_type": "markdown",
   "metadata": {},
   "source": [
    "# Conditionals and Comparison Operators\n",
    "\n",
    "* python knows `bool`s (`True` and `False`, note the capitalization) and negation `not`\n",
    "* logical operators `and` and `or`\n",
    "* colon `:` after conditional\n",
    "* indent body with (multiple of) 4 spaces"
   ]
  },
  {
   "cell_type": "code",
   "execution_count": null,
   "metadata": {
    "ExecuteTime": {
     "end_time": "2019-04-16T14:49:52.245651Z",
     "start_time": "2019-04-16T14:49:52.241624Z"
    }
   },
   "outputs": [],
   "source": [
    "if True:\n",
    "    print(\"It's True!\")"
   ]
  },
  {
   "cell_type": "code",
   "execution_count": null,
   "metadata": {
    "ExecuteTime": {
     "end_time": "2019-04-16T14:49:52.407638Z",
     "start_time": "2019-04-16T14:49:52.404111Z"
    }
   },
   "outputs": [],
   "source": [
    "if not False:\n",
    "    print(\"It's not False!\")"
   ]
  },
  {
   "cell_type": "code",
   "execution_count": null,
   "metadata": {
    "ExecuteTime": {
     "end_time": "2019-04-16T14:49:52.759548Z",
     "start_time": "2019-04-16T14:49:52.756835Z"
    }
   },
   "outputs": [],
   "source": [
    "if True and not False:\n",
    "    print(\"It's True\")"
   ]
  },
  {
   "cell_type": "code",
   "execution_count": null,
   "metadata": {
    "ExecuteTime": {
     "end_time": "2019-04-16T14:49:53.050371Z",
     "start_time": "2019-04-16T14:49:53.046593Z"
    }
   },
   "outputs": [],
   "source": [
    "a = 1\n",
    "b = -1\n",
    "if a == 0 or (a > 0 and b < 1):\n",
    "    print(\"Use parenthesis as needed\")"
   ]
  },
  {
   "cell_type": "code",
   "execution_count": null,
   "metadata": {
    "ExecuteTime": {
     "end_time": "2019-04-16T14:49:53.381630Z",
     "start_time": "2019-04-16T14:49:53.377629Z"
    }
   },
   "outputs": [],
   "source": [
    "a = 0\n",
    "if a == 0:\n",
    "    print('a is zero')\n",
    "elif a > 1:\n",
    "    print('a is positive')\n",
    "else:\n",
    "    print('a is negative')"
   ]
  },
  {
   "cell_type": "markdown",
   "metadata": {},
   "source": [
    "* keywords are `if`, `elif`, `else`\n",
    "* there is no switch\n",
    "* test for same values with `==`, different values `!=`\n",
    "* test for the same object with `is` "
   ]
  },
  {
   "cell_type": "code",
   "execution_count": null,
   "metadata": {
    "ExecuteTime": {
     "end_time": "2019-04-16T14:49:54.483892Z",
     "start_time": "2019-04-16T14:49:54.480216Z"
    }
   },
   "outputs": [],
   "source": [
    "a is a"
   ]
  },
  {
   "cell_type": "code",
   "execution_count": null,
   "metadata": {
    "ExecuteTime": {
     "end_time": "2019-04-16T14:49:54.822434Z",
     "start_time": "2019-04-16T14:49:54.817497Z"
    }
   },
   "outputs": [],
   "source": [
    "1001 == 1000 + 1"
   ]
  },
  {
   "cell_type": "code",
   "execution_count": null,
   "metadata": {
    "ExecuteTime": {
     "end_time": "2019-04-16T14:49:54.990395Z",
     "start_time": "2019-04-16T14:49:54.985380Z"
    }
   },
   "outputs": [],
   "source": [
    "1001 is 1000 + 1"
   ]
  },
  {
   "cell_type": "markdown",
   "metadata": {},
   "source": [
    "<div class=\"alert alert-warning\">\n",
    "<b>CPython internal:</b>\n",
    "    >>> 1 + 1 is 2\n",
    "    True\n",
    "    \n",
    "Python creates small integers on startup and reuses them later."
   ]
  },
  {
   "cell_type": "markdown",
   "metadata": {},
   "source": [
    "in conditionals, everything is tested if it's `True`ish or `False`ish:"
   ]
  },
  {
   "cell_type": "code",
   "execution_count": null,
   "metadata": {
    "ExecuteTime": {
     "end_time": "2019-04-16T14:49:56.752823Z",
     "start_time": "2019-04-16T14:49:56.750137Z"
    }
   },
   "outputs": [],
   "source": [
    "if 1:\n",
    "    print(\"It's true\")\n",
    "if 0:\n",
    "    print(\"It's not\")"
   ]
  },
  {
   "cell_type": "markdown",
   "metadata": {},
   "source": [
    "* 0 is Falsish\n",
    "* non-zero numbers are Trueish\n",
    "\n",
    "* empty strings are Falsish\n",
    "* non empty strings are Trueish\n",
    "\n",
    "* empty lists, dictionaries, tuples, sets are Falsish (we'll learn about them later)\n",
    "* non-empty lists, dictionaries, tuples, sets are Trueish\n",
    "                                                       \n",
    "* Test if a value is really True or False with is:"
   ]
  },
  {
   "cell_type": "code",
   "execution_count": null,
   "metadata": {
    "ExecuteTime": {
     "end_time": "2019-04-16T14:49:57.895269Z",
     "start_time": "2019-04-16T14:49:57.892673Z"
    }
   },
   "outputs": [],
   "source": [
    "a = True\n",
    "\n",
    "if a is True:\n",
    "    print('a is True')"
   ]
  },
  {
   "cell_type": "markdown",
   "metadata": {},
   "source": [
    "# Pass\n",
    "* `pass` is an \"empty\" statement with no effects, surprisingly often useful (search this document for `pass`)"
   ]
  },
  {
   "cell_type": "code",
   "execution_count": null,
   "metadata": {
    "ExecuteTime": {
     "end_time": "2019-04-16T14:49:58.920174Z",
     "start_time": "2019-04-16T14:49:58.917267Z"
    }
   },
   "outputs": [],
   "source": [
    "if a == a:\n",
    "    pass"
   ]
  },
  {
   "cell_type": "markdown",
   "metadata": {},
   "source": [
    "# Functions\n",
    " * Functions are called with round parenthesis: `func()`.\n",
    " * Arguments are given as a list of comma seperated values: `func(a, b, c)`\n",
    " * or as keyword arguments: `func(a, foo=b, bar=c)`\n",
    " * non-keyword arguments must always come before keyword arguments"
   ]
  },
  {
   "cell_type": "markdown",
   "metadata": {},
   "source": [
    "## Defining Functions\n",
    "* Functions are defined with `def`, the body of the function is indented (always use 4 spaces for one indentation level)\n",
    "* `return` returns values\n",
    "* arguments can have default values\n",
    "* non-default arguments must not follow default arguments\n",
    "* functions can have multiple `return` statements\n",
    "* keyword and default arguments are completely different"
   ]
  },
  {
   "cell_type": "code",
   "execution_count": null,
   "metadata": {
    "ExecuteTime": {
     "end_time": "2019-04-16T14:50:15.318124Z",
     "start_time": "2019-04-16T14:50:15.315619Z"
    }
   },
   "outputs": [],
   "source": [
    "def calc(a, b, operation='add'):\n",
    "    if operation == 'add':\n",
    "        return a + b\n",
    "    elif operation == 'subtract':\n",
    "        return a - b\n",
    "    # what happens if `operation` is neither 'add' nor 'subtract'?"
   ]
  },
  {
   "cell_type": "code",
   "execution_count": null,
   "metadata": {
    "ExecuteTime": {
     "end_time": "2019-04-16T14:50:15.328920Z",
     "start_time": "2019-04-16T14:50:15.324087Z"
    }
   },
   "outputs": [],
   "source": [
    "calc(1, 2)"
   ]
  },
  {
   "cell_type": "code",
   "execution_count": null,
   "metadata": {
    "ExecuteTime": {
     "end_time": "2019-04-16T14:50:15.336339Z",
     "start_time": "2019-04-16T14:50:15.331004Z"
    }
   },
   "outputs": [],
   "source": [
    "calc(1, 2, operation='subtract')"
   ]
  },
  {
   "cell_type": "code",
   "execution_count": null,
   "metadata": {
    "ExecuteTime": {
     "end_time": "2019-04-16T14:50:15.344985Z",
     "start_time": "2019-04-16T14:50:15.338659Z"
    }
   },
   "outputs": [],
   "source": [
    "calc(1, 2, 'add')"
   ]
  },
  {
   "cell_type": "code",
   "execution_count": null,
   "metadata": {
    "ExecuteTime": {
     "end_time": "2019-04-16T14:50:15.352153Z",
     "start_time": "2019-04-16T14:50:15.346924Z"
    }
   },
   "outputs": [],
   "source": [
    "calc(a=1, b=2, operation='subtract')"
   ]
  },
  {
   "cell_type": "markdown",
   "metadata": {},
   "source": [
    "Functions are first class objects, they can be assigned, passed around or even modified (not covered here)."
   ]
  },
  {
   "cell_type": "code",
   "execution_count": null,
   "metadata": {
    "ExecuteTime": {
     "end_time": "2019-04-16T14:50:16.072657Z",
     "start_time": "2019-04-16T14:50:16.068617Z"
    }
   },
   "outputs": [],
   "source": [
    "def add(a, b):\n",
    "    return a + b\n",
    "\n",
    "subtract = add\n",
    "\n",
    "subtract(42, 23)"
   ]
  },
  {
   "cell_type": "code",
   "execution_count": null,
   "metadata": {
    "ExecuteTime": {
     "end_time": "2019-04-16T14:50:16.083580Z",
     "start_time": "2019-04-16T14:50:16.078102Z"
    }
   },
   "outputs": [],
   "source": [
    "def subtract(a, b):\n",
    "    return a - b\n",
    "\n",
    "def add(a, b):\n",
    "    return a + b\n",
    "\n",
    "\n",
    "def operation(a, b, function):\n",
    "    return function(a, b)\n",
    "\n",
    "operation(5, 7, add)"
   ]
  },
  {
   "cell_type": "markdown",
   "metadata": {},
   "source": [
    "# Long Strings and Docstrings\n",
    "\n",
    "* long strings can be enclosed by tripple quotes `\"\"\"` or `'''`\n",
    "* a string that is the first statement in a function (or method or class) definition is called a docstring and should describe what the function does\n",
    "* can be accessed with either `func.__doc__` or `help(func)`\n",
    "* often used for generation of documentation\n",
    "* Convention: first line should be the headline, followed by a more thorough description\n",
    "* Should also document the arguments and return values (and what exceptions it can raise)\n",
    "* different style guides, especially for argument and return value documentation"
   ]
  },
  {
   "cell_type": "code",
   "execution_count": null,
   "metadata": {
    "ExecuteTime": {
     "end_time": "2019-04-16T14:50:16.812015Z",
     "start_time": "2019-04-16T14:50:16.809197Z"
    }
   },
   "outputs": [],
   "source": [
    "foo = \"\"\"this is a long string\n",
    "that can even span multiple lines\"\"\"\n",
    "\n",
    "print(foo)"
   ]
  },
  {
   "cell_type": "code",
   "execution_count": null,
   "metadata": {
    "ExecuteTime": {
     "end_time": "2019-04-16T14:50:16.822110Z",
     "start_time": "2019-04-16T14:50:16.819379Z"
    }
   },
   "outputs": [],
   "source": [
    "def add(a, b):\n",
    "    \"\"\"Add two values.\n",
    "    \n",
    "    This is an example of sphinx's docstring format.\n",
    "    \n",
    "    :param a: the first argument\n",
    "    :type a: int\n",
    "    :param b: the second argument\n",
    "    :type b: int\n",
    "    :returns: the sum of both arguments\n",
    "    :rtype: int\n",
    "    \"\"\"\n",
    "    return a + b"
   ]
  },
  {
   "cell_type": "code",
   "execution_count": null,
   "metadata": {
    "ExecuteTime": {
     "end_time": "2019-04-16T14:50:16.829635Z",
     "start_time": "2019-04-16T14:50:16.825336Z"
    }
   },
   "outputs": [],
   "source": [
    "help(add)"
   ]
  },
  {
   "cell_type": "code",
   "execution_count": null,
   "metadata": {
    "ExecuteTime": {
     "end_time": "2019-04-16T14:50:16.837057Z",
     "start_time": "2019-04-16T14:50:16.832167Z"
    }
   },
   "outputs": [],
   "source": [
    "add.__doc__"
   ]
  },
  {
   "cell_type": "markdown",
   "metadata": {
    "ExecuteTime": {
     "end_time": "2017-08-30T20:36:41.169020Z",
     "start_time": "2017-08-30T20:36:41.167083Z"
    }
   },
   "source": [
    "# Compound Types / Data Structures"
   ]
  },
  {
   "cell_type": "markdown",
   "metadata": {},
   "source": [
    "The most important compound data structures in python are:\n",
    "   * lists\n",
    "   * dictionaries (what might be called *map, hash table, associatative array* in other languages)\n",
    "   * tuples\n",
    "   * sets"
   ]
  },
  {
   "cell_type": "markdown",
   "metadata": {
    "ExecuteTime": {
     "end_time": "2017-08-30T20:41:03.688400Z",
     "start_time": "2017-08-30T20:41:03.684737Z"
    }
   },
   "source": [
    "## lists\n",
    "\n",
    "Create by putting comma seperated values between square brackets []"
   ]
  },
  {
   "cell_type": "code",
   "execution_count": null,
   "metadata": {
    "ExecuteTime": {
     "end_time": "2019-04-16T14:50:18.995167Z",
     "start_time": "2019-04-16T14:50:18.991249Z"
    }
   },
   "outputs": [],
   "source": [
    "squares = [1, 4, 9, 16, 25, 36]\n",
    "squares"
   ]
  },
  {
   "cell_type": "markdown",
   "metadata": {},
   "source": [
    "Index via square brackets\n"
   ]
  },
  {
   "cell_type": "code",
   "execution_count": null,
   "metadata": {
    "ExecuteTime": {
     "end_time": "2019-04-16T14:50:19.738012Z",
     "start_time": "2019-04-16T14:50:19.733176Z"
    }
   },
   "outputs": [],
   "source": [
    "squares[3]"
   ]
  },
  {
   "cell_type": "markdown",
   "metadata": {
    "ExecuteTime": {
     "end_time": "2017-08-30T20:45:49.263000Z",
     "start_time": "2017-08-30T20:45:49.255703Z"
    }
   },
   "source": [
    "**python is zero based**\n",
    "Access the first element with 0"
   ]
  },
  {
   "cell_type": "code",
   "execution_count": null,
   "metadata": {
    "ExecuteTime": {
     "end_time": "2019-04-16T14:50:20.488387Z",
     "start_time": "2019-04-16T14:50:20.484272Z"
    }
   },
   "outputs": [],
   "source": [
    "squares[0]"
   ]
  },
  {
   "cell_type": "markdown",
   "metadata": {},
   "source": [
    "accessing a range of values with slicing (excluding the endpoint)"
   ]
  },
  {
   "cell_type": "code",
   "execution_count": null,
   "metadata": {
    "ExecuteTime": {
     "end_time": "2019-04-16T14:50:21.282984Z",
     "start_time": "2019-04-16T14:50:21.279518Z"
    }
   },
   "outputs": [],
   "source": [
    "squares[1:3]"
   ]
  },
  {
   "cell_type": "markdown",
   "metadata": {},
   "source": [
    "Ommitting the start or end values equals to slicing from beginning or to the end"
   ]
  },
  {
   "cell_type": "code",
   "execution_count": null,
   "metadata": {
    "ExecuteTime": {
     "end_time": "2019-04-16T14:50:22.017247Z",
     "start_time": "2019-04-16T14:50:22.013123Z"
    }
   },
   "outputs": [],
   "source": [
    "squares[:3]"
   ]
  },
  {
   "cell_type": "code",
   "execution_count": null,
   "metadata": {
    "ExecuteTime": {
     "end_time": "2019-04-16T14:50:22.026403Z",
     "start_time": "2019-04-16T14:50:22.022203Z"
    }
   },
   "outputs": [],
   "source": [
    "squares[2:]"
   ]
  },
  {
   "cell_type": "markdown",
   "metadata": {},
   "source": [
    "Negative indices equals to counting from the end, where -1 is the index of the last element"
   ]
  },
  {
   "cell_type": "code",
   "execution_count": null,
   "metadata": {
    "ExecuteTime": {
     "end_time": "2019-04-16T14:50:22.790195Z",
     "start_time": "2019-04-16T14:50:22.786316Z"
    }
   },
   "outputs": [],
   "source": [
    "squares[-1]"
   ]
  },
  {
   "cell_type": "code",
   "execution_count": null,
   "metadata": {
    "ExecuteTime": {
     "end_time": "2019-04-16T14:50:22.799961Z",
     "start_time": "2019-04-16T14:50:22.795743Z"
    }
   },
   "outputs": [],
   "source": [
    "squares[3:-2]"
   ]
  },
  {
   "cell_type": "markdown",
   "metadata": {},
   "source": [
    "We can also access only every `n`th element"
   ]
  },
  {
   "cell_type": "code",
   "execution_count": null,
   "metadata": {
    "ExecuteTime": {
     "end_time": "2019-04-16T14:50:23.560148Z",
     "start_time": "2019-04-16T14:50:23.555926Z"
    }
   },
   "outputs": [],
   "source": [
    "squares[::3]"
   ]
  },
  {
   "cell_type": "markdown",
   "metadata": {},
   "source": [
    "Combining it all:"
   ]
  },
  {
   "cell_type": "code",
   "execution_count": null,
   "metadata": {
    "ExecuteTime": {
     "end_time": "2019-04-16T14:50:24.298677Z",
     "start_time": "2019-04-16T14:50:24.294029Z"
    }
   },
   "outputs": [],
   "source": [
    "squares[1:-2:2]"
   ]
  },
  {
   "cell_type": "code",
   "execution_count": null,
   "metadata": {
    "ExecuteTime": {
     "end_time": "2019-04-16T14:50:24.307342Z",
     "start_time": "2019-04-16T14:50:24.304488Z"
    }
   },
   "outputs": [],
   "source": [
    "### Some common operations on lists"
   ]
  },
  {
   "cell_type": "code",
   "execution_count": null,
   "metadata": {
    "ExecuteTime": {
     "end_time": "2019-04-16T14:50:24.316260Z",
     "start_time": "2019-04-16T14:50:24.310804Z"
    }
   },
   "outputs": [],
   "source": [
    "squares * 3"
   ]
  },
  {
   "cell_type": "code",
   "execution_count": null,
   "metadata": {
    "ExecuteTime": {
     "end_time": "2019-04-16T14:50:24.323309Z",
     "start_time": "2019-04-16T14:50:24.318415Z"
    }
   },
   "outputs": [],
   "source": [
    "[1, 2, 3] + [5, 6, 7]"
   ]
  },
  {
   "cell_type": "code",
   "execution_count": null,
   "metadata": {
    "ExecuteTime": {
     "end_time": "2019-04-16T14:50:24.328292Z",
     "start_time": "2019-04-16T14:50:24.325349Z"
    }
   },
   "outputs": [],
   "source": [
    "mylist = [1, 2, 3,  # definitions can go over multiple lines as long as they are in parenthesis\n",
    "         4, 5, 6]"
   ]
  },
  {
   "cell_type": "code",
   "execution_count": null,
   "metadata": {
    "ExecuteTime": {
     "end_time": "2019-04-16T14:50:24.335232Z",
     "start_time": "2019-04-16T14:50:24.330249Z"
    }
   },
   "outputs": [],
   "source": [
    "squares.append(49)\n",
    "squares"
   ]
  },
  {
   "cell_type": "code",
   "execution_count": null,
   "metadata": {
    "ExecuteTime": {
     "end_time": "2019-04-16T14:50:24.345202Z",
     "start_time": "2019-04-16T14:50:24.339650Z"
    }
   },
   "outputs": [],
   "source": [
    "squares.extend([64, 81])\n",
    "squares"
   ]
  },
  {
   "cell_type": "code",
   "execution_count": null,
   "metadata": {
    "ExecuteTime": {
     "end_time": "2019-04-16T14:50:24.352932Z",
     "start_time": "2019-04-16T14:50:24.347663Z"
    }
   },
   "outputs": [],
   "source": [
    "squares.insert(2, 1.21)\n",
    "squares"
   ]
  },
  {
   "cell_type": "code",
   "execution_count": null,
   "metadata": {
    "ExecuteTime": {
     "end_time": "2019-04-16T14:50:24.362587Z",
     "start_time": "2019-04-16T14:50:24.356975Z"
    }
   },
   "outputs": [],
   "source": [
    "squares.sort()  # sorts in-place\n",
    "squares"
   ]
  },
  {
   "cell_type": "code",
   "execution_count": null,
   "metadata": {
    "ExecuteTime": {
     "end_time": "2019-04-16T14:50:24.371069Z",
     "start_time": "2019-04-16T14:50:24.366063Z"
    }
   },
   "outputs": [],
   "source": [
    "squares.pop(1)"
   ]
  },
  {
   "cell_type": "markdown",
   "metadata": {},
   "source": [
    "The lengths of a list is can be calculated with len():"
   ]
  },
  {
   "cell_type": "code",
   "execution_count": null,
   "metadata": {
    "ExecuteTime": {
     "end_time": "2019-04-16T14:50:25.115532Z",
     "start_time": "2019-04-16T14:50:25.111718Z"
    }
   },
   "outputs": [],
   "source": [
    "len(squares)"
   ]
  },
  {
   "cell_type": "markdown",
   "metadata": {},
   "source": [
    "### python lists are dynamic arrays\n",
    "\n",
    "* accessing is O(0)\n",
    "* extending is O(n) in the worst case\n",
    "* inserting and removing elements not at the end is O(n)\n",
    "* there are no (native) true linked lists in python"
   ]
  },
  {
   "cell_type": "markdown",
   "metadata": {},
   "source": [
    "## Iterating over lists (For Loops)\n",
    "If you want to process elements of a list (or any other *iterable*), you use a for loop:"
   ]
  },
  {
   "cell_type": "code",
   "execution_count": null,
   "metadata": {
    "ExecuteTime": {
     "end_time": "2019-04-16T14:50:26.630686Z",
     "start_time": "2019-04-16T14:50:26.626831Z"
    }
   },
   "outputs": [],
   "source": [
    "for element in squares:\n",
    "    print(element)"
   ]
  },
  {
   "cell_type": "markdown",
   "metadata": {},
   "source": [
    "Iteration is a core concept in python and is used *really* often. Lots of things can be iterated over, we'll learn how to define our own iterators later. For example, the `range()` function returns an iterator over a sequence of integers. "
   ]
  },
  {
   "cell_type": "code",
   "execution_count": null,
   "metadata": {
    "ExecuteTime": {
     "end_time": "2019-04-16T14:50:27.415802Z",
     "start_time": "2019-04-16T14:50:27.410973Z"
    }
   },
   "outputs": [],
   "source": [
    "range(10)"
   ]
  },
  {
   "cell_type": "code",
   "execution_count": null,
   "metadata": {
    "ExecuteTime": {
     "end_time": "2019-04-16T14:50:27.425909Z",
     "start_time": "2019-04-16T14:50:27.421592Z"
    }
   },
   "outputs": [],
   "source": [
    "for number in range(10):\n",
    "    print(number)"
   ]
  },
  {
   "cell_type": "markdown",
   "metadata": {},
   "source": [
    "returns an iterator over the integers 0 to 9. In ranges, the end value is excluded. Range can also take a start value (inclusive) and an optional step size:"
   ]
  },
  {
   "cell_type": "code",
   "execution_count": null,
   "metadata": {
    "ExecuteTime": {
     "end_time": "2019-04-16T14:50:28.183186Z",
     "start_time": "2019-04-16T14:50:28.179148Z"
    }
   },
   "outputs": [],
   "source": [
    "range(3, 11, 2)"
   ]
  },
  {
   "cell_type": "code",
   "execution_count": null,
   "metadata": {
    "ExecuteTime": {
     "end_time": "2019-04-16T14:50:28.193715Z",
     "start_time": "2019-04-16T14:50:28.188948Z"
    }
   },
   "outputs": [],
   "source": [
    "list(range(3, 11, 2))"
   ]
  },
  {
   "cell_type": "markdown",
   "metadata": {},
   "source": [
    "What you NEVER do in python is any variant of this:\n",
    "    \n",
    "    i = 0\n",
    "    while i < len(squares):\n",
    "        print(squares[i])\n",
    "        i += 1\n",
    "    \n",
    "We'll see later what we need to do if we need an index."
   ]
  },
  {
   "cell_type": "markdown",
   "metadata": {},
   "source": [
    "## dictionaries\n",
    "\n",
    "* dictionaries store *key-value-pairs*, values can be retrieved via their key.\n",
    "* if iterating over them, the keys/values may not be returned in the same order (even though since python 3.6 they are)\n",
    "* dictionaries are created via literals or the `dict()` constructor"
   ]
  },
  {
   "cell_type": "code",
   "execution_count": null,
   "metadata": {
    "ExecuteTime": {
     "end_time": "2019-04-16T14:50:29.728454Z",
     "start_time": "2019-04-16T14:50:29.724185Z"
    }
   },
   "outputs": [],
   "source": [
    "mydict = {}\n",
    "mydict"
   ]
  },
  {
   "cell_type": "code",
   "execution_count": null,
   "metadata": {
    "ExecuteTime": {
     "end_time": "2019-04-16T14:50:29.738728Z",
     "start_time": "2019-04-16T14:50:29.733417Z"
    }
   },
   "outputs": [],
   "source": [
    "square_dict = {1: 1, 2: 4, 3: 9}\n",
    "square_dict"
   ]
  },
  {
   "cell_type": "markdown",
   "metadata": {},
   "source": [
    "Any python object can be used as a value, everything that is `hashable` (immutable) can be used as a key:"
   ]
  },
  {
   "cell_type": "code",
   "execution_count": null,
   "metadata": {
    "ExecuteTime": {
     "end_time": "2019-04-16T14:50:30.509127Z",
     "start_time": "2019-04-16T14:50:30.504892Z"
    }
   },
   "outputs": [],
   "source": [
    "mydict = {'the meaning of life': 42, 1: 'one', 'squares': squares}\n",
    "mydict"
   ]
  },
  {
   "cell_type": "markdown",
   "metadata": {},
   "source": [
    "Accessing, updating and inserting values is done via square brackets:"
   ]
  },
  {
   "cell_type": "code",
   "execution_count": null,
   "metadata": {
    "ExecuteTime": {
     "end_time": "2019-04-16T14:50:31.309215Z",
     "start_time": "2019-04-16T14:50:31.305614Z"
    }
   },
   "outputs": [],
   "source": [
    "mydict[1]"
   ]
  },
  {
   "cell_type": "code",
   "execution_count": null,
   "metadata": {
    "ExecuteTime": {
     "end_time": "2019-04-16T14:50:31.319657Z",
     "start_time": "2019-04-16T14:50:31.315094Z"
    }
   },
   "outputs": [],
   "source": [
    "mydict[1] = 'two'\n",
    "mydict"
   ]
  },
  {
   "cell_type": "code",
   "execution_count": null,
   "metadata": {
    "ExecuteTime": {
     "end_time": "2019-04-16T14:50:31.326781Z",
     "start_time": "2019-04-16T14:50:31.322015Z"
    }
   },
   "outputs": [],
   "source": [
    "mydict['foo'] = 'bar'\n",
    "mydict"
   ]
  },
  {
   "cell_type": "markdown",
   "metadata": {
    "ExecuteTime": {
     "end_time": "2018-10-18T08:27:34.578661Z",
     "start_time": "2018-10-18T08:27:34.574643Z"
    },
    "collapsed": true
   },
   "source": [
    "dictionaries can be iterated over (the iterator returns its keys)"
   ]
  },
  {
   "cell_type": "code",
   "execution_count": null,
   "metadata": {
    "ExecuteTime": {
     "end_time": "2019-04-16T14:50:32.101002Z",
     "start_time": "2019-04-16T14:50:32.098188Z"
    }
   },
   "outputs": [],
   "source": [
    "for key in mydict:\n",
    "    print(key, mydict[key])"
   ]
  },
  {
   "cell_type": "markdown",
   "metadata": {},
   "source": [
    "keys, values and key-value-pairs can also be accessed directly, those methods all return iterators in python 3:"
   ]
  },
  {
   "cell_type": "code",
   "execution_count": null,
   "metadata": {
    "ExecuteTime": {
     "end_time": "2019-04-16T14:50:32.909314Z",
     "start_time": "2019-04-16T14:50:32.905670Z"
    }
   },
   "outputs": [],
   "source": [
    "mydict.keys()"
   ]
  },
  {
   "cell_type": "code",
   "execution_count": null,
   "metadata": {
    "ExecuteTime": {
     "end_time": "2019-04-16T14:50:32.920025Z",
     "start_time": "2019-04-16T14:50:32.915183Z"
    }
   },
   "outputs": [],
   "source": [
    "mydict.values()"
   ]
  },
  {
   "cell_type": "code",
   "execution_count": null,
   "metadata": {
    "ExecuteTime": {
     "end_time": "2019-04-16T14:50:32.927030Z",
     "start_time": "2019-04-16T14:50:32.922485Z"
    }
   },
   "outputs": [],
   "source": [
    "mydict.items()"
   ]
  },
  {
   "cell_type": "markdown",
   "metadata": {},
   "source": [
    "dictionary values can be removed with dict.pop(key) (which returns the value), dictionaries can be updated from other dictionaries with dict.update()"
   ]
  },
  {
   "cell_type": "code",
   "execution_count": null,
   "metadata": {
    "ExecuteTime": {
     "end_time": "2019-04-16T14:50:33.712049Z",
     "start_time": "2019-04-16T14:50:33.708121Z"
    }
   },
   "outputs": [],
   "source": [
    "mydict.pop(1)"
   ]
  },
  {
   "cell_type": "code",
   "execution_count": null,
   "metadata": {
    "ExecuteTime": {
     "end_time": "2019-04-16T14:50:33.722447Z",
     "start_time": "2019-04-16T14:50:33.718294Z"
    }
   },
   "outputs": [],
   "source": [
    "mydict"
   ]
  },
  {
   "cell_type": "code",
   "execution_count": null,
   "metadata": {
    "ExecuteTime": {
     "end_time": "2019-04-16T14:50:33.732713Z",
     "start_time": "2019-04-16T14:50:33.725115Z"
    }
   },
   "outputs": [],
   "source": [
    "mydict.update(square_dict)\n",
    "mydict"
   ]
  },
  {
   "cell_type": "markdown",
   "metadata": {},
   "source": [
    "## Tuples\n",
    "* tuples are immutable, they cannot be changed once created (they are therefore hashable and can be used as a dictionary key).\n",
    "* created via comma seperated values (by convention they are put inside of round brackets) or via the `tuple()` constructor\n",
    "* iterable"
   ]
  },
  {
   "cell_type": "code",
   "execution_count": null,
   "metadata": {
    "ExecuteTime": {
     "end_time": "2019-04-16T14:50:34.634718Z",
     "start_time": "2019-04-16T14:50:34.630891Z"
    }
   },
   "outputs": [],
   "source": [
    "mytuple = tuple()\n",
    "mytuple"
   ]
  },
  {
   "cell_type": "code",
   "execution_count": null,
   "metadata": {
    "ExecuteTime": {
     "end_time": "2019-04-16T14:50:34.647458Z",
     "start_time": "2019-04-16T14:50:34.644082Z"
    }
   },
   "outputs": [],
   "source": [
    "type(tuple)"
   ]
  },
  {
   "cell_type": "code",
   "execution_count": null,
   "metadata": {
    "ExecuteTime": {
     "end_time": "2019-04-16T14:50:34.657607Z",
     "start_time": "2019-04-16T14:50:34.653085Z"
    }
   },
   "outputs": [],
   "source": [
    "mytuple = (1, 2, 3)\n",
    "mytuple"
   ]
  },
  {
   "cell_type": "markdown",
   "metadata": {},
   "source": [
    "Warning, this is a tuple as well (note the comma):"
   ]
  },
  {
   "cell_type": "code",
   "execution_count": null,
   "metadata": {
    "ExecuteTime": {
     "end_time": "2019-04-16T14:50:35.434556Z",
     "start_time": "2019-04-16T14:50:35.430746Z"
    }
   },
   "outputs": [],
   "source": [
    "mytuple = 1,\n",
    "mytuple"
   ]
  },
  {
   "cell_type": "markdown",
   "metadata": {},
   "source": [
    "Tuple values are accessed via square brackets as well:"
   ]
  },
  {
   "cell_type": "code",
   "execution_count": null,
   "metadata": {
    "ExecuteTime": {
     "end_time": "2019-04-16T14:50:36.218901Z",
     "start_time": "2019-04-16T14:50:36.212154Z"
    }
   },
   "outputs": [],
   "source": [
    "mytuple[0]"
   ]
  },
  {
   "cell_type": "markdown",
   "metadata": {},
   "source": [
    "## Tuples to return multiple values and tuple unpacking\n",
    "\n",
    "* tuples can be used return multiple values from a function\n",
    "* tuple elements can be assigned to multiple variables at once (tuple unpacking)"
   ]
  },
  {
   "cell_type": "code",
   "execution_count": null,
   "metadata": {
    "ExecuteTime": {
     "end_time": "2019-04-16T14:50:37.232817Z",
     "start_time": "2019-04-16T14:50:37.225899Z"
    }
   },
   "outputs": [],
   "source": [
    "def multiple_values():\n",
    "    return 1, 2, 3, 4\n",
    "\n",
    "values = multiple_values()\n",
    "print(values)"
   ]
  },
  {
   "cell_type": "code",
   "execution_count": null,
   "metadata": {
    "ExecuteTime": {
     "end_time": "2019-04-16T14:50:37.241834Z",
     "start_time": "2019-04-16T14:50:37.237911Z"
    }
   },
   "outputs": [],
   "source": [
    "a, b, c, d = values\n",
    "print(a)\n",
    "print(b)\n",
    "print(c)\n",
    "print(d)"
   ]
  },
  {
   "cell_type": "code",
   "execution_count": null,
   "metadata": {
    "ExecuteTime": {
     "end_time": "2019-04-16T14:50:37.249078Z",
     "start_time": "2019-04-16T14:50:37.244477Z"
    }
   },
   "outputs": [],
   "source": [
    "a, b, c, d = multiple_values()"
   ]
  },
  {
   "cell_type": "code",
   "execution_count": null,
   "metadata": {
    "ExecuteTime": {
     "end_time": "2019-04-16T14:50:37.256641Z",
     "start_time": "2019-04-16T14:50:37.250984Z"
    }
   },
   "outputs": [],
   "source": [
    "a, *f = values  # this is a python 3 feature\n",
    "print(a)\n",
    "print(f)"
   ]
  },
  {
   "cell_type": "markdown",
   "metadata": {},
   "source": [
    "use tuple unpacking to define multiple variables at once"
   ]
  },
  {
   "cell_type": "code",
   "execution_count": null,
   "metadata": {
    "ExecuteTime": {
     "end_time": "2019-04-16T14:50:38.275076Z",
     "start_time": "2019-04-16T14:50:38.268167Z"
    }
   },
   "outputs": [],
   "source": [
    "a, b, c = 1, 2, 3  # remember, parenthesis are optional"
   ]
  },
  {
   "cell_type": "code",
   "execution_count": null,
   "metadata": {
    "ExecuteTime": {
     "end_time": "2019-04-16T14:50:38.283186Z",
     "start_time": "2019-04-16T14:50:38.278229Z"
    }
   },
   "outputs": [],
   "source": [
    "a, b, c = [1, 2, 3]  # also works with lists"
   ]
  },
  {
   "cell_type": "code",
   "execution_count": null,
   "metadata": {
    "ExecuteTime": {
     "end_time": "2019-04-16T14:50:38.291696Z",
     "start_time": "2019-04-16T14:50:38.287750Z"
    }
   },
   "outputs": [],
   "source": [
    "a, *b, c = 1, 2, 3, 4\n",
    "print(a)\n",
    "print(b)\n",
    "print(c)"
   ]
  },
  {
   "cell_type": "markdown",
   "metadata": {},
   "source": [
    "## When to use tuples, when to use lists?\n",
    "* obvious differences mutable vs. immutable\n",
    "* in general, use lists for storing several of the same kind, tuples for storing different things\n",
    "* e.g., combine for storing a list of records"
   ]
  },
  {
   "cell_type": "code",
   "execution_count": null,
   "metadata": {
    "ExecuteTime": {
     "end_time": "2019-04-16T14:50:39.108042Z",
     "start_time": "2019-04-16T14:50:39.104698Z"
    }
   },
   "outputs": [],
   "source": [
    "records = [\n",
    "    ('Alice', 'F', 29),\n",
    "    ('Bob', 'M', 23),\n",
    "    ('Eve', 'F', 44),\n",
    "]"
   ]
  },
  {
   "cell_type": "code",
   "execution_count": null,
   "metadata": {
    "ExecuteTime": {
     "end_time": "2019-04-16T14:50:39.119867Z",
     "start_time": "2019-04-16T14:50:39.114476Z"
    }
   },
   "outputs": [],
   "source": [
    "for name, sex, age in records:\n",
    "    print(name, 'is', age, 'years old')"
   ]
  },
  {
   "cell_type": "markdown",
   "metadata": {
    "ExecuteTime": {
     "end_time": "2017-09-08T09:33:30.721350Z",
     "start_time": "2017-09-08T09:33:30.719075Z"
    }
   },
   "source": [
    "## Combine iteration and tuple unpacking"
   ]
  },
  {
   "cell_type": "code",
   "execution_count": null,
   "metadata": {
    "ExecuteTime": {
     "end_time": "2019-04-16T14:50:39.989576Z",
     "start_time": "2019-04-16T14:50:39.984152Z"
    }
   },
   "outputs": [],
   "source": [
    "records = [\n",
    "    ('Alice', ('F', 29)),\n",
    "    ('Bob', ('M', 23)),\n",
    "    ('Eve', ('F', 44)),\n",
    "]\n",
    "\n",
    "for name, (sex, age) in records:\n",
    "    print('This is', name, ',', {'F': 'she', 'M': 'he'}[sex], 'is', age, 'years old')"
   ]
  },
  {
   "cell_type": "markdown",
   "metadata": {},
   "source": [
    "## Sequence types and `in`\n",
    "\n",
    "* Reminder: all sequence types can be iterated over\n",
    "* test if a value is contained in a sequence data type with `value in sequence`\n",
    "* strings are sequences, too"
   ]
  },
  {
   "cell_type": "code",
   "execution_count": null,
   "metadata": {
    "ExecuteTime": {
     "end_time": "2019-04-16T14:50:40.789681Z",
     "start_time": "2019-04-16T14:50:40.784521Z"
    }
   },
   "outputs": [],
   "source": [
    "1 in [1, 2, 3]"
   ]
  },
  {
   "cell_type": "code",
   "execution_count": null,
   "metadata": {
    "ExecuteTime": {
     "end_time": "2019-04-16T14:50:40.799647Z",
     "start_time": "2019-04-16T14:50:40.794400Z"
    }
   },
   "outputs": [],
   "source": [
    "'x' in {'foo': 'bar', 1: 2}"
   ]
  },
  {
   "cell_type": "code",
   "execution_count": null,
   "metadata": {
    "ExecuteTime": {
     "end_time": "2019-04-16T14:50:40.806707Z",
     "start_time": "2019-04-16T14:50:40.802186Z"
    }
   },
   "outputs": [],
   "source": [
    "'ll' in 'Hello, World!'"
   ]
  },
  {
   "cell_type": "markdown",
   "metadata": {},
   "source": [
    "# Sets as in set theory\n",
    "* sets are container types that contain equal objects only once\n",
    "* defined via `{foo, bar, baz, ...}` or `set()`\n",
    "* lots of methods to add, remove elements, compare with other sets, etc.\n",
    "* implemented very similar to dictionaries\n",
    "* can be iterated over"
   ]
  },
  {
   "cell_type": "code",
   "execution_count": null,
   "metadata": {
    "ExecuteTime": {
     "end_time": "2019-04-16T14:50:41.614525Z",
     "start_time": "2019-04-16T14:50:41.610546Z"
    }
   },
   "outputs": [],
   "source": [
    "data = {1, 2, 3}\n",
    "data"
   ]
  },
  {
   "cell_type": "code",
   "execution_count": null,
   "metadata": {
    "ExecuteTime": {
     "end_time": "2019-04-16T14:50:41.625086Z",
     "start_time": "2019-04-16T14:50:41.620630Z"
    }
   },
   "outputs": [],
   "source": [
    "data = {1, 2, 3, 4, 5, 1}\n",
    "data"
   ]
  },
  {
   "cell_type": "code",
   "execution_count": null,
   "metadata": {
    "ExecuteTime": {
     "end_time": "2019-04-16T14:50:41.632756Z",
     "start_time": "2019-04-16T14:50:41.627458Z"
    }
   },
   "outputs": [],
   "source": [
    "data.add('foo')\n",
    "data"
   ]
  },
  {
   "cell_type": "code",
   "execution_count": null,
   "metadata": {
    "ExecuteTime": {
     "end_time": "2019-04-16T14:50:41.640779Z",
     "start_time": "2019-04-16T14:50:41.636336Z"
    }
   },
   "outputs": [],
   "source": [
    "set(['foo', 23, (1, 2, 3)])"
   ]
  },
  {
   "cell_type": "markdown",
   "metadata": {},
   "source": [
    "## Standard \"trick\" to remove duplicates from a list\n",
    "might change order!"
   ]
  },
  {
   "cell_type": "code",
   "execution_count": null,
   "metadata": {
    "ExecuteTime": {
     "end_time": "2019-04-16T14:50:42.487451Z",
     "start_time": "2019-04-16T14:50:42.482920Z"
    }
   },
   "outputs": [],
   "source": [
    "data = [3, 5, 1, 6, 2, 1, 3, 5]\n",
    "list(set(data))"
   ]
  },
  {
   "cell_type": "markdown",
   "metadata": {},
   "source": [
    "# Exercises A\n",
    "<div class=\"alert alert-success\">\n",
    "    <li>Write a function that takes two values and returns the larger one and document it</li>\n",
    "    <li>Write a factorial function `def fact(n)` (n \\* (n - 1) \\* (n - 2) \\* ... \\* 1)</li>\n",
    "    <li>Write a function that takes a list of numbers as an argument and returns the mean</li>\n",
    "    <li>Write a function that takes two lists as arguments and returs True if they share at least one common member</li>\n",
    "    <li>Write a function to check if all dictionaries in a list are empty or not.</li>\n",
    "    <li>Write a function to sum all the items in a dictionary</li>\n",
    "    <li>Write a function program to combine two dictionary adding values for common keys (e.g., d1 = {'a': 100, 'b': 200, 'c':300}\n",
    "d2 = {'a': 300, 'b': 200, 'd':400})</li>\n",
    "    <li>Find out what the `.get()` method of a dictionary does.\n",
    "    <li>Write a function to remove spaces from dictionary keys</li>\n",
    "    <li>Write a function that removes duplicates from a list and, optionally, keeps the ordering</li>\n",
    "</div>"
   ]
  },
  {
   "cell_type": "markdown",
   "metadata": {},
   "source": [
    "# Objects, Classes and Methods\n",
    "\n",
    "* in python, everything is an object, even functions and types\n",
    "* remember `list.append()`?\n",
    "* you can still program in a not object-oriented style\n",
    "* new classes are defined with `class`\n",
    "* in python 2 one had to inherit from `object` to ensure one didn't get an \"old style\" class (not necessary in python 3, but still often done)\n",
    "* class names are usually Capitalized and use CamelCase\n",
    "* instances are instantiated with ()"
   ]
  },
  {
   "cell_type": "code",
   "execution_count": null,
   "metadata": {
    "ExecuteTime": {
     "end_time": "2019-04-16T14:50:44.149742Z",
     "start_time": "2019-04-16T14:50:44.147369Z"
    }
   },
   "outputs": [],
   "source": [
    "class Animal(object):\n",
    "    pass"
   ]
  },
  {
   "cell_type": "code",
   "execution_count": null,
   "metadata": {
    "ExecuteTime": {
     "end_time": "2019-04-16T14:50:44.157897Z",
     "start_time": "2019-04-16T14:50:44.155518Z"
    }
   },
   "outputs": [],
   "source": [
    "class Animal():\n",
    "    pass"
   ]
  },
  {
   "cell_type": "code",
   "execution_count": null,
   "metadata": {
    "ExecuteTime": {
     "end_time": "2019-04-16T14:50:44.164368Z",
     "start_time": "2019-04-16T14:50:44.160220Z"
    }
   },
   "outputs": [],
   "source": [
    "leo = Animal()\n",
    "leo"
   ]
  },
  {
   "cell_type": "markdown",
   "metadata": {},
   "source": [
    "* methods are defined with `def`, just as functions and also executed as functions\n",
    "* attributes are accessed via `instance.attribute` and also set like that `instance.attribute = value`\n",
    "* they take a pointer to themselves called `self` as a first parameter (convention)\n",
    "* `self` doesn't need to be given when calling a method\n",
    "* you can define an initialization method, called `__init__(self)` which can take arguments\n",
    "* `__init__()` isn't the constructor, that's `__new__` (which you usually don't need to touch)\n",
    "* it is considered good practice to define all attributes in `__init__`"
   ]
  },
  {
   "cell_type": "code",
   "execution_count": null,
   "metadata": {
    "ExecuteTime": {
     "end_time": "2019-04-16T14:50:44.980999Z",
     "start_time": "2019-04-16T14:50:44.977808Z"
    }
   },
   "outputs": [],
   "source": [
    "class Cat(object):\n",
    "    def speak(self, sentence=\"Meow\"):\n",
    "        print(sentence)\n",
    "    \n",
    "leo = Cat()\n",
    "leo.speak()"
   ]
  },
  {
   "cell_type": "code",
   "execution_count": null,
   "metadata": {
    "ExecuteTime": {
     "end_time": "2019-04-16T14:50:44.992166Z",
     "start_time": "2019-04-16T14:50:44.987590Z"
    }
   },
   "outputs": [],
   "source": [
    "class Cat():\n",
    "    def __init__(self, name):\n",
    "        self.name = name\n",
    "    \n",
    "    def say_name(self):\n",
    "        print('My name is', self.name)\n",
    "        \n",
    "leo = Cat('leo')\n",
    "leo.say_name()"
   ]
  },
  {
   "cell_type": "code",
   "execution_count": null,
   "metadata": {
    "ExecuteTime": {
     "end_time": "2019-04-16T14:50:44.998540Z",
     "start_time": "2019-04-16T14:50:44.994432Z"
    }
   },
   "outputs": [],
   "source": [
    "class Cat():\n",
    "    def __init__(self, name):\n",
    "        self.name = name\n",
    "        \n",
    "    def define_colllar_color(self, color):\n",
    "        \"\"\"not good style\"\"\"\n",
    "        self.collar_color = color\n",
    "    \n",
    "    \n",
    "leo = Cat('leo')\n",
    "leo.define_colllar_color('green')\n",
    "print(leo.collar_color)\n",
    "leo.collar_color = 'red'\n",
    "print(leo.collar_color)"
   ]
  },
  {
   "cell_type": "markdown",
   "metadata": {},
   "source": [
    "## Public or Private?\n",
    "* in python, there are no such things as truly private methods/attributes\n",
    "* by convention, if their name starts with `_` they are considered private\n",
    "* you don't need setters or getters, there is an API-stable upgrade path for attributes, see \"attributes\"\n",
    "* names starting with two underscores `__` (and end with no more than one `_`) get mangled (but are still accessible)\n",
    "* names starting with and ending with two underscores have special meaning (like `__init__` or `__new__`), don't use those yourself"
   ]
  },
  {
   "cell_type": "code",
   "execution_count": null,
   "metadata": {
    "ExecuteTime": {
     "end_time": "2019-04-16T14:50:45.855855Z",
     "start_time": "2019-04-16T14:50:45.851403Z"
    }
   },
   "outputs": [],
   "source": [
    "class Cat():\n",
    "    def __init__(self, name, age):\n",
    "        self._name = name\n",
    "        self.__age = age\n",
    "        \n",
    "leo = Cat('leo', 42)\n",
    "leo._name"
   ]
  },
  {
   "cell_type": "code",
   "execution_count": null,
   "metadata": {
    "ExecuteTime": {
     "end_time": "2019-04-16T14:50:45.952362Z",
     "start_time": "2019-04-16T14:50:45.861756Z"
    }
   },
   "outputs": [],
   "source": [
    "leo.__age   # this is an error, we'll see what it means later"
   ]
  },
  {
   "cell_type": "code",
   "execution_count": null,
   "metadata": {
    "ExecuteTime": {
     "end_time": "2019-04-16T14:50:45.953142Z",
     "start_time": "2019-04-16T14:50:45.858Z"
    }
   },
   "outputs": [],
   "source": [
    "leo.__dict__  # this is where all the instances attributes are stored\n",
    "              # leo.x really is leo.__dict__['x']"
   ]
  },
  {
   "cell_type": "code",
   "execution_count": null,
   "metadata": {
    "ExecuteTime": {
     "end_time": "2019-04-16T14:50:45.953954Z",
     "start_time": "2019-04-16T14:50:45.863Z"
    }
   },
   "outputs": [],
   "source": [
    "leo._Cat__age"
   ]
  },
  {
   "cell_type": "markdown",
   "metadata": {},
   "source": [
    "## Multiple Inheritance, type() and isinstance()\n",
    "* python supports multiple inheritance\n",
    "* `type(instance)` tells you the type of an instance, `id(instance)` tells you its id (that is what `is` tests)\n",
    "* in most cases, don't use `type(a) == type(b)`, use `isinstance()`\n",
    "* `__mro__` tells you the *m*ethod *r*esolution *o*rder of a type\n",
    "* `super().method()` let's you call an instances parent's method from an instance method"
   ]
  },
  {
   "cell_type": "code",
   "execution_count": null,
   "metadata": {
    "ExecuteTime": {
     "end_time": "2019-04-16T14:50:46.690023Z",
     "start_time": "2019-04-16T14:50:46.685471Z"
    }
   },
   "outputs": [],
   "source": [
    "class Animal():\n",
    "    def __init__(self, name):\n",
    "        self.name = name\n",
    "\n",
    "class WaterAnimal(Animal):\n",
    "    def swim(self):\n",
    "        print(\"swimming\")\n",
    "    \n",
    "class Mammal(Animal):\n",
    "    def breathe(self):\n",
    "        print(\"breathing\")\n",
    "        \n",
    "class Whale(WaterAnimal, Mammal):\n",
    "    def __init__(self, name, ocean):\n",
    "        self.ocean = ocean\n",
    "        super().__init__(name)\n",
    "\n",
    "moby = Whale('Moby', 'Atlantic')\n",
    "print(moby.name)\n",
    "print(moby.ocean)"
   ]
  },
  {
   "cell_type": "code",
   "execution_count": null,
   "metadata": {
    "ExecuteTime": {
     "end_time": "2019-04-16T14:50:46.697066Z",
     "start_time": "2019-04-16T14:50:46.692665Z"
    }
   },
   "outputs": [],
   "source": [
    "id(moby)"
   ]
  },
  {
   "cell_type": "code",
   "execution_count": null,
   "metadata": {
    "ExecuteTime": {
     "end_time": "2019-04-16T14:50:46.708725Z",
     "start_time": "2019-04-16T14:50:46.704471Z"
    }
   },
   "outputs": [],
   "source": [
    "type(moby)"
   ]
  },
  {
   "cell_type": "code",
   "execution_count": null,
   "metadata": {
    "ExecuteTime": {
     "end_time": "2019-04-16T14:50:46.715654Z",
     "start_time": "2019-04-16T14:50:46.710742Z"
    }
   },
   "outputs": [],
   "source": [
    "type(moby).__mro__"
   ]
  },
  {
   "cell_type": "code",
   "execution_count": null,
   "metadata": {
    "ExecuteTime": {
     "end_time": "2019-04-16T14:50:46.721682Z",
     "start_time": "2019-04-16T14:50:46.718166Z"
    }
   },
   "outputs": [],
   "source": [
    "moby.breathe()"
   ]
  },
  {
   "cell_type": "code",
   "execution_count": null,
   "metadata": {
    "ExecuteTime": {
     "end_time": "2019-04-16T14:50:46.727533Z",
     "start_time": "2019-04-16T14:50:46.723962Z"
    }
   },
   "outputs": [],
   "source": [
    "moby.swim()"
   ]
  },
  {
   "cell_type": "code",
   "execution_count": null,
   "metadata": {
    "ExecuteTime": {
     "end_time": "2019-04-16T14:50:46.734811Z",
     "start_time": "2019-04-16T14:50:46.729596Z"
    }
   },
   "outputs": [],
   "source": [
    "isinstance(moby, Whale)"
   ]
  },
  {
   "cell_type": "code",
   "execution_count": null,
   "metadata": {
    "ExecuteTime": {
     "end_time": "2019-04-16T14:50:46.741838Z",
     "start_time": "2019-04-16T14:50:46.736938Z"
    }
   },
   "outputs": [],
   "source": [
    "isinstance(moby, Animal)"
   ]
  },
  {
   "cell_type": "markdown",
   "metadata": {},
   "source": [
    "remember when I said, `+=` on strings really creates a new string? we can now check for that"
   ]
  },
  {
   "cell_type": "code",
   "execution_count": null,
   "metadata": {
    "ExecuteTime": {
     "end_time": "2019-04-16T14:50:47.598250Z",
     "start_time": "2019-04-16T14:50:47.594169Z"
    }
   },
   "outputs": [],
   "source": [
    "a = 'foo'\n",
    "id(a)"
   ]
  },
  {
   "cell_type": "code",
   "execution_count": null,
   "metadata": {
    "ExecuteTime": {
     "end_time": "2019-04-16T14:50:47.609159Z",
     "start_time": "2019-04-16T14:50:47.604580Z"
    }
   },
   "outputs": [],
   "source": [
    "a += 'bar'\n",
    "a"
   ]
  },
  {
   "cell_type": "code",
   "execution_count": null,
   "metadata": {
    "ExecuteTime": {
     "end_time": "2019-04-16T14:50:47.615359Z",
     "start_time": "2019-04-16T14:50:47.611142Z"
    }
   },
   "outputs": [],
   "source": [
    "id(a)"
   ]
  },
  {
   "cell_type": "markdown",
   "metadata": {},
   "source": [
    "## \\_\\_str\\_\\_ and \\_\\_repr\\_\\_\n",
    "\n",
    "* our instance looks very ugly in string form (\"<\\__main__.Whale at 0x7fbf70275978>\") while built in object look much more useful\n",
    "* they implement `instance.__str__()` and `instance.__repr__()`\n",
    "* `__str__()` is supposed to give a nice string representation, but uses `__repr__()` as a fallback \n",
    "* `__repr__()` a faithful represantion\n",
    "* if in doubt, implement `__repr__()`\n",
    "* there are several more interesting methods to implement, e.g., `__lt__()`, as in \"less than\" to allow comparison of your objects"
   ]
  },
  {
   "cell_type": "code",
   "execution_count": null,
   "metadata": {
    "ExecuteTime": {
     "end_time": "2019-04-16T14:50:48.478142Z",
     "start_time": "2019-04-16T14:50:48.472022Z"
    }
   },
   "outputs": [],
   "source": [
    "class Animal():\n",
    "    def __init__(self, name):\n",
    "        self.name = name\n",
    "        \n",
    "    def __repr__(self):\n",
    "        return '< Animal: name=' + self.name + '>'\n",
    "\n",
    "Animal('Leo')"
   ]
  },
  {
   "cell_type": "markdown",
   "metadata": {},
   "source": [
    "## Dynamic\n",
    "python is truly, scarely dynamic, almost every aspect of classes and instances can be overriden"
   ]
  },
  {
   "cell_type": "code",
   "execution_count": null,
   "metadata": {
    "ExecuteTime": {
     "end_time": "2019-04-16T14:50:49.428544Z",
     "start_time": "2019-04-16T14:50:49.424954Z"
    }
   },
   "outputs": [],
   "source": [
    "class Animal():\n",
    "    def __init__(self, name):\n",
    "        self.name = name\n",
    "        \n",
    "leo = Animal('Leo')\n",
    "\n",
    "def say_name(self):\n",
    "    print(self.name)\n",
    "    \n",
    "Animal.say_name = say_name\n",
    "\n",
    "leo.say_name()"
   ]
  },
  {
   "cell_type": "code",
   "execution_count": null,
   "metadata": {
    "ExecuteTime": {
     "end_time": "2019-04-16T14:50:49.439419Z",
     "start_time": "2019-04-16T14:50:49.435095Z"
    }
   },
   "outputs": [],
   "source": [
    "class Cat(Animal):\n",
    "    def meow(self):\n",
    "        print('Meow')\n",
    "        \n",
    "class Dog(Animal):\n",
    "    def bark(self):\n",
    "        print('WoffWoff')\n",
    "        \n",
    "\n",
    "leo = Cat('leo')\n",
    "leo.meow()"
   ]
  },
  {
   "cell_type": "code",
   "execution_count": null,
   "metadata": {
    "ExecuteTime": {
     "end_time": "2019-04-16T14:50:49.451455Z",
     "start_time": "2019-04-16T14:50:49.441454Z"
    }
   },
   "outputs": [],
   "source": [
    "leo.__class__ = Dog  # THIS IS A BAD IDEA, sometimes it's usefull\n",
    "leo.meow()"
   ]
  },
  {
   "cell_type": "code",
   "execution_count": null,
   "metadata": {
    "ExecuteTime": {
     "end_time": "2019-04-16T14:50:49.452320Z",
     "start_time": "2019-04-16T14:50:49.435Z"
    }
   },
   "outputs": [],
   "source": [
    "leo.bark()"
   ]
  },
  {
   "cell_type": "code",
   "execution_count": null,
   "metadata": {
    "ExecuteTime": {
     "end_time": "2019-04-16T14:50:49.453626Z",
     "start_time": "2019-04-16T14:50:49.440Z"
    }
   },
   "outputs": [],
   "source": [
    "class Number():\n",
    "    def __init__(self, number):\n",
    "        self.number = number\n",
    "        \n",
    "    def add_one(self):\n",
    "        return self.number + 1\n",
    "    \n",
    "three = Number(3)\n",
    "three.add_one()"
   ]
  },
  {
   "cell_type": "code",
   "execution_count": null,
   "metadata": {
    "ExecuteTime": {
     "end_time": "2019-04-16T14:50:49.454793Z",
     "start_time": "2019-04-16T14:50:49.445Z"
    }
   },
   "outputs": [],
   "source": [
    "def subtract_one(self):\n",
    "    return self.number - 1\n",
    "\n",
    "Number.add_one = subtract_one\n",
    "\n",
    "three.add_one()"
   ]
  },
  {
   "cell_type": "markdown",
   "metadata": {},
   "source": [
    "# Exceptions\n",
    "\n",
    "* Syntax Errors happen when python parses your code\n",
    "* Exceptions happen at runtime and are used for error handling\n",
    "* most python code doesn't use error codes as return values\n",
    "* exceptions can be \"caught\"\n",
    "* uncaught exceptions will eventualy crash your program"
   ]
  },
  {
   "cell_type": "code",
   "execution_count": null,
   "metadata": {
    "ExecuteTime": {
     "end_time": "2019-04-16T14:50:50.434629Z",
     "start_time": "2019-04-16T14:50:50.426884Z"
    }
   },
   "outputs": [],
   "source": [
    "1. / 0"
   ]
  },
  {
   "cell_type": "code",
   "execution_count": null,
   "metadata": {
    "ExecuteTime": {
     "end_time": "2019-04-16T14:50:50.435594Z",
     "start_time": "2019-04-16T14:50:50.429Z"
    }
   },
   "outputs": [],
   "source": [
    "t = {1: 'one'}\n",
    "t[2]"
   ]
  },
  {
   "cell_type": "code",
   "execution_count": null,
   "metadata": {
    "ExecuteTime": {
     "end_time": "2019-04-16T14:50:50.437032Z",
     "start_time": "2019-04-16T14:50:50.434Z"
    }
   },
   "outputs": [],
   "source": [
    "def inverse(a):\n",
    "    rvalue = 1. / a\n",
    "    return rvalue\n",
    "\n",
    "inverse(0)"
   ]
  },
  {
   "cell_type": "code",
   "execution_count": null,
   "metadata": {
    "ExecuteTime": {
     "end_time": "2019-04-16T14:50:50.442932Z",
     "start_time": "2019-04-16T14:50:50.439Z"
    }
   },
   "outputs": [],
   "source": [
    "def add_inverse(a):\n",
    "    inv = inverse(a)\n",
    "    rvalue = a + inv\n",
    "    return rvalue\n",
    "\n",
    "add_inverse(0)"
   ]
  },
  {
   "cell_type": "code",
   "execution_count": null,
   "metadata": {
    "ExecuteTime": {
     "end_time": "2019-04-16T14:50:50.447677Z",
     "start_time": "2019-04-16T14:50:50.443Z"
    }
   },
   "outputs": [],
   "source": [
    "try:\n",
    "    b = inverse(0)\n",
    "except ZeroDivisionError:\n",
    "    b = 99999\n",
    "\n",
    "print(b)"
   ]
  },
  {
   "cell_type": "markdown",
   "metadata": {},
   "source": [
    "* the code block after `try` is executed (try to keep it short), if an exception is raised that is `caught`, the code block below that `except` is executed\n",
    "* you can handle multiple exceptions with the same or different code\n",
    "* the exception can be bound to a variable and accessed\n",
    "* an optional `else` block (needs to be placed after all `except`s) is executed if no exception occurred"
   ]
  },
  {
   "cell_type": "code",
   "execution_count": null,
   "metadata": {
    "ExecuteTime": {
     "end_time": "2019-04-16T14:50:51.375154Z",
     "start_time": "2019-04-16T14:50:51.365516Z"
    }
   },
   "outputs": [],
   "source": [
    "try:\n",
    "    b = inverse(0)\n",
    "except (ZeroDivisionError, KeyError):\n",
    "    b = 99999"
   ]
  },
  {
   "cell_type": "code",
   "execution_count": null,
   "metadata": {
    "ExecuteTime": {
     "end_time": "2019-04-16T14:50:51.376087Z",
     "start_time": "2019-04-16T14:50:51.368Z"
    }
   },
   "outputs": [],
   "source": [
    "try:\n",
    "    b = inverse(0)\n",
    "except ZeroDivisionError:\n",
    "    b = 99999\n",
    "except KeyError:\n",
    "    b = -9999"
   ]
  },
  {
   "cell_type": "code",
   "execution_count": null,
   "metadata": {
    "ExecuteTime": {
     "end_time": "2019-04-16T14:50:51.377052Z",
     "start_time": "2019-04-16T14:50:51.373Z"
    }
   },
   "outputs": [],
   "source": [
    "try:\n",
    "    b = inverse(0)\n",
    "except ZeroDivisionError as error:\n",
    "    b = 99999\n",
    "    print('An error has ocurred')\n",
    "    print(error)"
   ]
  },
  {
   "cell_type": "code",
   "execution_count": null,
   "metadata": {
    "ExecuteTime": {
     "end_time": "2019-04-16T14:50:51.385281Z",
     "start_time": "2019-04-16T14:50:51.378Z"
    }
   },
   "outputs": [],
   "source": [
    "try:\n",
    "    b = inverse(1)\n",
    "except ZeroDivisionError:\n",
    "    b = 99999\n",
    "else:\n",
    "    print('No exception occurred')\n",
    "b"
   ]
  },
  {
   "cell_type": "code",
   "execution_count": null,
   "metadata": {
    "ExecuteTime": {
     "end_time": "2019-04-16T14:50:51.386721Z",
     "start_time": "2019-04-16T14:50:51.383Z"
    }
   },
   "outputs": [],
   "source": [
    "try:\n",
    "    b = inverse(0)\n",
    "except ZeroDivisionError:\n",
    "    b = 99999\n",
    "else:\n",
    "    print('No exception occurred') \n",
    "b"
   ]
  },
  {
   "cell_type": "markdown",
   "metadata": {},
   "source": [
    "## Rasing exceptions and defining custom exceptions\n",
    "* raise an exception via the `raise` keyword\n",
    "* re-raise exceptions with a plain `raise`\n",
    "* create custom exceptions by inheriting from an existing Exception\n",
    "* `except` also catches all child exceptions\n",
    "* `Exception` is the base class of all exceptions\n",
    "* `except Exeption` catches all exceptions (don't use)\n",
    "* Exceptions can take arguments (access via `.args`)\n",
    "* Exceptions can have a proper `__init__(self, args)` function"
   ]
  },
  {
   "cell_type": "code",
   "execution_count": null,
   "metadata": {
    "ExecuteTime": {
     "end_time": "2019-04-16T14:50:52.361959Z",
     "start_time": "2019-04-16T14:50:52.352836Z"
    }
   },
   "outputs": [],
   "source": [
    "def broken():\n",
    "    raise ValueError\n",
    "    \n",
    "broken()"
   ]
  },
  {
   "cell_type": "code",
   "execution_count": null,
   "metadata": {
    "ExecuteTime": {
     "end_time": "2019-04-16T14:50:52.362878Z",
     "start_time": "2019-04-16T14:50:52.356Z"
    }
   },
   "outputs": [],
   "source": [
    "try:\n",
    "    broken()\n",
    "except ValueError:\n",
    "    print(\"There was an exception\")\n",
    "    raise"
   ]
  },
  {
   "cell_type": "code",
   "execution_count": null,
   "metadata": {
    "ExecuteTime": {
     "end_time": "2019-04-16T14:50:52.364195Z",
     "start_time": "2019-04-16T14:50:52.361Z"
    }
   },
   "outputs": [],
   "source": [
    "class CustomException(ValueError):\n",
    "    pass\n",
    "\n",
    "def broken():\n",
    "    raise CustomException()"
   ]
  },
  {
   "cell_type": "code",
   "execution_count": null,
   "metadata": {
    "ExecuteTime": {
     "end_time": "2019-04-16T14:50:52.370608Z",
     "start_time": "2019-04-16T14:50:52.366Z"
    }
   },
   "outputs": [],
   "source": [
    "try:\n",
    "    broken()\n",
    "except CustomException:\n",
    "    print(\"Caught an exception\")"
   ]
  },
  {
   "cell_type": "code",
   "execution_count": null,
   "metadata": {
    "ExecuteTime": {
     "end_time": "2019-04-16T14:50:52.374610Z",
     "start_time": "2019-04-16T14:50:52.370Z"
    }
   },
   "outputs": [],
   "source": [
    "try:\n",
    "    broken()\n",
    "except ValueError:\n",
    "    print(\"Caught an exception\")"
   ]
  },
  {
   "cell_type": "code",
   "execution_count": null,
   "metadata": {
    "ExecuteTime": {
     "end_time": "2019-04-16T14:50:52.378703Z",
     "start_time": "2019-04-16T14:50:52.374Z"
    }
   },
   "outputs": [],
   "source": [
    "def broken():\n",
    "    raise CustomException(\"This is a description of the error and a value\", 42)\n",
    "    \n",
    "try:\n",
    "    broken()\n",
    "except CustomException as error:\n",
    "    print(error.args)"
   ]
  },
  {
   "cell_type": "markdown",
   "metadata": {},
   "source": [
    "# (While and For) Loops\n",
    "reprise\n",
    "\n",
    "* `while condition` loops over body as long as condition is Trueish\n",
    "* if condition is Falsish from the beginning, body is not executed even once\n",
    "* `break` ends a loop execution (`for` and `while`)\n",
    "* `continue` restarts at the top of the loop\n",
    "* `else` block is executed if loop was not broken (with `break`)"
   ]
  },
  {
   "cell_type": "code",
   "execution_count": null,
   "metadata": {
    "ExecuteTime": {
     "end_time": "2019-04-16T14:50:53.260574Z",
     "start_time": "2019-04-16T14:50:53.257334Z"
    }
   },
   "outputs": [],
   "source": [
    "a = 10\n",
    "while a > 1:\n",
    "    a /= 2\n",
    "    print(a)"
   ]
  },
  {
   "cell_type": "code",
   "execution_count": null,
   "metadata": {
    "ExecuteTime": {
     "end_time": "2019-04-16T14:50:53.269096Z",
     "start_time": "2019-04-16T14:50:53.266393Z"
    }
   },
   "outputs": [],
   "source": [
    "while False:\n",
    "    print(\"loop\")"
   ]
  },
  {
   "cell_type": "code",
   "execution_count": null,
   "metadata": {
    "ExecuteTime": {
     "end_time": "2019-04-16T14:50:53.275618Z",
     "start_time": "2019-04-16T14:50:53.271743Z"
    }
   },
   "outputs": [],
   "source": [
    "a = 10\n",
    "while True:\n",
    "    if a < 1:\n",
    "        break\n",
    "    a /= 2\n",
    "    print(a)"
   ]
  },
  {
   "cell_type": "code",
   "execution_count": null,
   "metadata": {},
   "outputs": [],
   "source": []
  },
  {
   "cell_type": "code",
   "execution_count": null,
   "metadata": {
    "ExecuteTime": {
     "end_time": "2019-04-16T14:50:53.285979Z",
     "start_time": "2019-04-16T14:50:53.281563Z"
    }
   },
   "outputs": [],
   "source": [
    "list_of_lists = [['hello', 'world'], [], ['foo'], [23, 42, 5]]\n",
    "complete_list = list()\n",
    "for element in list_of_lists:\n",
    "    if element == list():   # empty list\n",
    "        continue\n",
    "    else:                   # not really needed here\n",
    "        complete_list.extend(element)\n",
    "print(complete_list)"
   ]
  },
  {
   "cell_type": "code",
   "execution_count": null,
   "metadata": {
    "ExecuteTime": {
     "end_time": "2019-04-16T14:50:53.291978Z",
     "start_time": "2019-04-16T14:50:53.288307Z"
    }
   },
   "outputs": [],
   "source": [
    "fibbonaci = [0, 1]\n",
    "\n",
    "for _ in range(10):\n",
    "    fibbonaci.append(fibbonaci[-1] + fibbonaci[-2])\n",
    "else:\n",
    "    print(\"this loop ended without being broken\")"
   ]
  },
  {
   "cell_type": "markdown",
   "metadata": {},
   "source": [
    "## What if you do need an index?\n",
    "* use `enumerate` (and then tuple unpacking)\n",
    "* enumerate accepts arguments"
   ]
  },
  {
   "cell_type": "code",
   "execution_count": null,
   "metadata": {
    "ExecuteTime": {
     "end_time": "2019-04-16T14:50:54.175901Z",
     "start_time": "2019-04-16T14:50:54.171479Z"
    }
   },
   "outputs": [],
   "source": [
    "list(enumerate(fibbonaci))"
   ]
  },
  {
   "cell_type": "code",
   "execution_count": null,
   "metadata": {
    "ExecuteTime": {
     "end_time": "2019-04-16T14:50:54.186433Z",
     "start_time": "2019-04-16T14:50:54.181262Z"
    }
   },
   "outputs": [],
   "source": [
    "for number, element in enumerate(fibbonaci):\n",
    "    print(\"the\", element, \"fibonacci number is \", number)"
   ]
  },
  {
   "cell_type": "code",
   "execution_count": null,
   "metadata": {
    "ExecuteTime": {
     "end_time": "2019-04-16T14:50:54.193287Z",
     "start_time": "2019-04-16T14:50:54.188478Z"
    }
   },
   "outputs": [],
   "source": [
    "list(enumerate([\"pig\", \"cow\", \"sheep\"], 3))"
   ]
  },
  {
   "cell_type": "code",
   "execution_count": null,
   "metadata": {},
   "outputs": [],
   "source": []
  },
  {
   "cell_type": "code",
   "execution_count": null,
   "metadata": {},
   "outputs": [],
   "source": []
  },
  {
   "cell_type": "markdown",
   "metadata": {},
   "source": [
    "# modules and packages\n",
    "\n",
    "* a python file is a module, it can be `import`ed if it's in your PYTHONPATH\n",
    "* a package is a collection of python modules, a directory containing python modules and a `__init__.py` file, packages can also be imported\n",
    "* a package is a module, too\n",
    "* nested packages are not automatically imported\n",
    "\n",
    "* use classes, functions, variables, etc. from that module\n"
   ]
  },
  {
   "cell_type": "code",
   "execution_count": null,
   "metadata": {
    "ExecuteTime": {
     "end_time": "2019-04-16T14:50:55.093905Z",
     "start_time": "2019-04-16T14:50:55.089312Z"
    }
   },
   "outputs": [],
   "source": [
    "import xml"
   ]
  },
  {
   "cell_type": "code",
   "execution_count": null,
   "metadata": {
    "ExecuteTime": {
     "end_time": "2019-04-16T14:50:55.100028Z",
     "start_time": "2019-04-16T14:50:55.095548Z"
    }
   },
   "outputs": [],
   "source": [
    "xml"
   ]
  },
  {
   "cell_type": "code",
   "execution_count": null,
   "metadata": {
    "ExecuteTime": {
     "end_time": "2019-04-16T14:50:55.225224Z",
     "start_time": "2019-04-16T14:50:55.105970Z"
    }
   },
   "outputs": [],
   "source": [
    "!echo $PYTHONPATH"
   ]
  },
  {
   "cell_type": "code",
   "execution_count": null,
   "metadata": {
    "ExecuteTime": {
     "end_time": "2019-04-16T14:50:55.232112Z",
     "start_time": "2019-04-16T14:50:55.227813Z"
    }
   },
   "outputs": [],
   "source": [
    "import xml\n",
    "xml"
   ]
  },
  {
   "cell_type": "code",
   "execution_count": null,
   "metadata": {
    "ExecuteTime": {
     "end_time": "2019-04-16T14:50:55.372901Z",
     "start_time": "2019-04-16T14:50:55.234352Z"
    }
   },
   "outputs": [],
   "source": [
    "!tree /usr/local/Cellar/python3/3.6.4_2/Frameworks/Python.framework/Versions/3.6/lib/python3.6/xml/ # those .pyc files are compiled python files"
   ]
  },
  {
   "cell_type": "code",
   "execution_count": null,
   "metadata": {
    "ExecuteTime": {
     "end_time": "2019-04-16T14:50:55.379256Z",
     "start_time": "2019-04-16T14:50:55.374978Z"
    }
   },
   "outputs": [],
   "source": [
    "type(xml)"
   ]
  },
  {
   "cell_type": "code",
   "execution_count": null,
   "metadata": {
    "ExecuteTime": {
     "end_time": "2019-04-16T14:50:55.384461Z",
     "start_time": "2019-04-16T14:50:55.381599Z"
    }
   },
   "outputs": [],
   "source": [
    "import sys"
   ]
  },
  {
   "cell_type": "code",
   "execution_count": null,
   "metadata": {
    "ExecuteTime": {
     "end_time": "2019-04-16T14:50:55.391269Z",
     "start_time": "2019-04-16T14:50:55.386813Z"
    }
   },
   "outputs": [],
   "source": [
    "sys.path"
   ]
  },
  {
   "cell_type": "code",
   "execution_count": null,
   "metadata": {
    "ExecuteTime": {
     "end_time": "2019-04-16T14:50:55.396429Z",
     "start_time": "2019-04-16T14:50:55.393353Z"
    }
   },
   "outputs": [],
   "source": [
    "sys.path.append('/User/Desktop')"
   ]
  },
  {
   "cell_type": "code",
   "execution_count": null,
   "metadata": {
    "ExecuteTime": {
     "end_time": "2019-04-16T14:50:55.403081Z",
     "start_time": "2019-04-16T14:50:55.398600Z"
    }
   },
   "outputs": [],
   "source": [
    "sys.path"
   ]
  },
  {
   "cell_type": "code",
   "execution_count": null,
   "metadata": {
    "ExecuteTime": {
     "end_time": "2019-04-16T14:50:55.409400Z",
     "start_time": "2019-04-16T14:50:55.405292Z"
    }
   },
   "outputs": [],
   "source": [
    "from xml import etree"
   ]
  },
  {
   "cell_type": "code",
   "execution_count": null,
   "metadata": {
    "ExecuteTime": {
     "end_time": "2019-04-16T14:50:55.415172Z",
     "start_time": "2019-04-16T14:50:55.411053Z"
    }
   },
   "outputs": [],
   "source": [
    "type(etree)"
   ]
  },
  {
   "cell_type": "markdown",
   "metadata": {},
   "source": [
    "You can also do `from xml import *`, it moves everything from that module into your current name space.\n",
    "Don't do that.\n",
    "\n",
    "Can import under other names with `as`"
   ]
  },
  {
   "cell_type": "code",
   "execution_count": null,
   "metadata": {
    "ExecuteTime": {
     "end_time": "2019-04-16T14:50:56.067752Z",
     "start_time": "2019-04-16T14:50:56.061489Z"
    }
   },
   "outputs": [],
   "source": [
    "from xml.etree import ElementPath as ep\n",
    "ep"
   ]
  },
  {
   "cell_type": "code",
   "execution_count": null,
   "metadata": {
    "ExecuteTime": {
     "end_time": "2019-04-16T14:50:56.195858Z",
     "start_time": "2019-04-16T14:50:56.069790Z"
    }
   },
   "outputs": [],
   "source": [
    "!tree animals/"
   ]
  },
  {
   "cell_type": "code",
   "execution_count": null,
   "metadata": {
    "ExecuteTime": {
     "end_time": "2019-04-16T14:50:56.320535Z",
     "start_time": "2019-04-16T14:50:56.198119Z"
    }
   },
   "outputs": [],
   "source": [
    "!rm -rf animals/__pycache__"
   ]
  },
  {
   "cell_type": "code",
   "execution_count": null,
   "metadata": {
    "ExecuteTime": {
     "end_time": "2019-04-16T14:50:56.445104Z",
     "start_time": "2019-04-16T14:50:56.323009Z"
    }
   },
   "outputs": [],
   "source": [
    "!cat animals/cats.py"
   ]
  },
  {
   "cell_type": "code",
   "execution_count": null,
   "metadata": {
    "ExecuteTime": {
     "end_time": "2019-04-16T14:50:56.569415Z",
     "start_time": "2019-04-16T14:50:56.447344Z"
    }
   },
   "outputs": [],
   "source": [
    "!cat animals/__init__.py"
   ]
  },
  {
   "cell_type": "code",
   "execution_count": null,
   "metadata": {},
   "outputs": [],
   "source": []
  },
  {
   "cell_type": "code",
   "execution_count": null,
   "metadata": {
    "ExecuteTime": {
     "end_time": "2019-04-16T14:50:56.581548Z",
     "start_time": "2019-04-16T14:50:56.571455Z"
    }
   },
   "outputs": [],
   "source": [
    "import animals"
   ]
  },
  {
   "cell_type": "code",
   "execution_count": null,
   "metadata": {
    "ExecuteTime": {
     "end_time": "2019-04-16T14:50:56.582480Z",
     "start_time": "2019-04-16T14:50:56.091Z"
    }
   },
   "outputs": [],
   "source": [
    "animals.Cat('Leo')"
   ]
  },
  {
   "cell_type": "markdown",
   "metadata": {},
   "source": [
    "## Running modules as scripts\n",
    "\n",
    "* All statements will be executed on importing a module\n",
    "* Importing the following modules will result in the output of \"Meoow\"\n",
    "\n",
    "```python\n",
    "#! /usr/bin/env python\n",
    "\n",
    "class Cat():\n",
    "    def __init__(self, name):\n",
    "        self.name = name\n",
    "\n",
    "    def meow(self):\n",
    "        print('Meooow')\n",
    "        \n",
    "        \n",
    "mycat = Cat('Alex')\n",
    "mycat.meow()\n",
    "```\n"
   ]
  },
  {
   "cell_type": "markdown",
   "metadata": {},
   "source": [
    "Instead use this:\n",
    "\n",
    "```python\n",
    "#! /usr/bin/env python\n",
    "\n",
    "class Cat():\n",
    "    def __init__(self, name):\n",
    "        self.name = name\n",
    "\n",
    "    def meow(self):\n",
    "        print('Meooow')\n",
    "\n",
    "if __name__ == \"__main__\":\n",
    "    mycat = Cat('Alex')\n",
    "    mycat.meow()\n",
    "```"
   ]
  },
  {
   "cell_type": "code",
   "execution_count": null,
   "metadata": {
    "ExecuteTime": {
     "end_time": "2019-04-16T14:50:57.952091Z",
     "start_time": "2019-04-16T14:50:57.948561Z"
    }
   },
   "outputs": [],
   "source": [
    "print(__name__)"
   ]
  },
  {
   "cell_type": "code",
   "execution_count": null,
   "metadata": {
    "ExecuteTime": {
     "end_time": "2019-04-16T14:50:57.962018Z",
     "start_time": "2019-04-16T14:50:57.958311Z"
    }
   },
   "outputs": [],
   "source": [
    "import xml\n",
    "print(xml.__name__)"
   ]
  },
  {
   "cell_type": "markdown",
   "metadata": {},
   "source": [
    "## Make packages installable and installing packages\n",
    "* create a `setup.py` in the directory above your package\n",
    "* documentation https://docs.python.org/3/distutils/setupscript.html\n",
    "* install packages py running `pip install /path/to/packagedir` where the packagedir is the directory containing the setup.py\n",
    "* pip: Pip Installs Packages\n",
    "* can als install packages from package repositories\n",
    "* default PyPI (Python Package Index), contains thousands of packages of diverse quality\n",
    "* `pip install packagename`"
   ]
  },
  {
   "cell_type": "markdown",
   "metadata": {
    "ExecuteTime": {
     "end_time": "2017-09-08T08:44:41.701776Z",
     "start_time": "2017-09-08T08:44:41.698151Z"
    }
   },
   "source": [
    "<div class=\"alert alert-warning\">\n",
    "    <b>WARNING</b>: Never run <pre>sudo pip install</pre> (or as an admin on windows)\n",
    "\n",
    "* prefer `pip install --user packagename `\n",
    "* even better: use a virtual environments ( https://docs.python.org/3/tutorial/venv.html )"
   ]
  },
  {
   "cell_type": "code",
   "execution_count": null,
   "metadata": {
    "ExecuteTime": {
     "end_time": "2019-04-16T14:50:59.960187Z",
     "start_time": "2019-04-16T14:50:59.838277Z"
    }
   },
   "outputs": [],
   "source": [
    "!cat project/setup.py"
   ]
  },
  {
   "cell_type": "code",
   "execution_count": null,
   "metadata": {},
   "outputs": [],
   "source": []
  },
  {
   "cell_type": "markdown",
   "metadata": {
    "ExecuteTime": {
     "end_time": "2017-09-05T21:43:54.299393Z",
     "start_time": "2017-09-05T21:43:54.296376Z"
    }
   },
   "source": [
    "# Functional Programming and Comprehensions\n",
    "* python supports functional programming with map, reduce, etc. and list/dict/set comprehensions\n",
    "* comprehensions can be nested\n",
    "* `[]` list comprehensions\n",
    "* `{key: value}` dict comprehensions\n",
    "* `{value}` for set comprehensions"
   ]
  },
  {
   "cell_type": "code",
   "execution_count": null,
   "metadata": {
    "ExecuteTime": {
     "end_time": "2019-04-16T14:51:00.762907Z",
     "start_time": "2019-04-16T14:51:00.756916Z"
    }
   },
   "outputs": [],
   "source": [
    "squares = [x ** 2 for x in range(10)]\n",
    "squares"
   ]
  },
  {
   "cell_type": "code",
   "execution_count": null,
   "metadata": {
    "ExecuteTime": {
     "end_time": "2019-04-16T14:51:00.771354Z",
     "start_time": "2019-04-16T14:51:00.765107Z"
    }
   },
   "outputs": [],
   "source": [
    "even_squares = [x ** 2 for x in range(10) if x % 2 == 0]\n",
    "even_squares"
   ]
  },
  {
   "cell_type": "code",
   "execution_count": null,
   "metadata": {
    "ExecuteTime": {
     "end_time": "2019-04-16T14:51:00.781337Z",
     "start_time": "2019-04-16T14:51:00.776716Z"
    }
   },
   "outputs": [],
   "source": [
    "tree = [[1, 2, 3], [4, 5, 6], [7, 8, 9]]\n",
    "[leaf for branch in tree for leaf in branch]"
   ]
  },
  {
   "cell_type": "code",
   "execution_count": null,
   "metadata": {
    "ExecuteTime": {
     "end_time": "2019-04-16T14:51:00.788831Z",
     "start_time": "2019-04-16T14:51:00.783885Z"
    }
   },
   "outputs": [],
   "source": [
    "{x: str(x ** 2) for x in range(10)}"
   ]
  },
  {
   "cell_type": "code",
   "execution_count": null,
   "metadata": {
    "ExecuteTime": {
     "end_time": "2019-04-16T14:51:00.795772Z",
     "start_time": "2019-04-16T14:51:00.790913Z"
    }
   },
   "outputs": [],
   "source": [
    "{x ** 2 for x in range(10)}"
   ]
  },
  {
   "cell_type": "markdown",
   "metadata": {
    "ExecuteTime": {
     "end_time": "2017-09-05T21:52:22.586150Z",
     "start_time": "2017-09-05T21:52:22.583227Z"
    }
   },
   "source": [
    "* `map` maps a function to an iterable\n",
    "* reduce and filter have been moved to functools, e.g. `functools.reduce` "
   ]
  },
  {
   "cell_type": "code",
   "execution_count": null,
   "metadata": {
    "ExecuteTime": {
     "end_time": "2019-04-16T14:51:01.914746Z",
     "start_time": "2019-04-16T14:51:01.910064Z"
    }
   },
   "outputs": [],
   "source": [
    "map(sum, [range(num) for num in range(10)])"
   ]
  },
  {
   "cell_type": "code",
   "execution_count": null,
   "metadata": {
    "ExecuteTime": {
     "end_time": "2019-04-16T14:51:01.925139Z",
     "start_time": "2019-04-16T14:51:01.920323Z"
    }
   },
   "outputs": [],
   "source": [
    "list(map(sum, [range(num) for num in range(1, 10)]))"
   ]
  },
  {
   "cell_type": "code",
   "execution_count": null,
   "metadata": {
    "ExecuteTime": {
     "end_time": "2019-04-16T14:51:01.935143Z",
     "start_time": "2019-04-16T14:51:01.927422Z"
    }
   },
   "outputs": [],
   "source": [
    "from functools import reduce\n",
    "\n",
    "def add(x, y):\n",
    "    return x + y\n",
    "\n",
    "reduce(add, range(10)) "
   ]
  },
  {
   "cell_type": "markdown",
   "metadata": {
    "ExecuteTime": {
     "end_time": "2017-09-05T21:56:08.941630Z",
     "start_time": "2017-09-05T21:56:08.939718Z"
    }
   },
   "source": [
    "## Lambda functions / Anonymous functions"
   ]
  },
  {
   "cell_type": "code",
   "execution_count": null,
   "metadata": {
    "ExecuteTime": {
     "end_time": "2019-04-16T14:51:02.900967Z",
     "start_time": "2019-04-16T14:51:02.896440Z"
    }
   },
   "outputs": [],
   "source": [
    "reduce(lambda x, y: x + y, range(10))"
   ]
  },
  {
   "cell_type": "code",
   "execution_count": null,
   "metadata": {
    "ExecuteTime": {
     "end_time": "2019-04-16T14:51:02.908864Z",
     "start_time": "2019-04-16T14:51:02.904326Z"
    }
   },
   "outputs": [],
   "source": [
    "f = lambda x, y: x + y\n",
    "f(3, 5)\n"
   ]
  },
  {
   "cell_type": "code",
   "execution_count": null,
   "metadata": {
    "ExecuteTime": {
     "end_time": "2019-04-16T14:51:02.916709Z",
     "start_time": "2019-04-16T14:51:02.911710Z"
    }
   },
   "outputs": [],
   "source": [
    "f = lambda x: x + 1\n",
    "f(4)"
   ]
  },
  {
   "cell_type": "code",
   "execution_count": null,
   "metadata": {
    "ExecuteTime": {
     "end_time": "2019-04-16T14:51:02.924229Z",
     "start_time": "2019-04-16T14:51:02.919203Z"
    }
   },
   "outputs": [],
   "source": [
    "f = lambda: 42\n",
    "f()"
   ]
  },
  {
   "cell_type": "markdown",
   "metadata": {},
   "source": [
    "# Iterators and Generators \n",
    "* we have seen before that we can iterate over lists, tuples, etc.\n",
    "* we have also seen *iterators* before, e.g., like `range()`\n",
    "* while `range()` supports indexing, most iterators don't (like `dict.keys()`)"
   ]
  },
  {
   "cell_type": "code",
   "execution_count": null,
   "metadata": {},
   "outputs": [],
   "source": []
  },
  {
   "cell_type": "code",
   "execution_count": null,
   "metadata": {
    "ExecuteTime": {
     "end_time": "2019-04-16T14:51:03.882170Z",
     "start_time": "2019-04-16T14:51:03.878910Z"
    }
   },
   "outputs": [],
   "source": [
    "for element in [1, 2, 3, 4]:\n",
    "    print(element)"
   ]
  },
  {
   "cell_type": "code",
   "execution_count": null,
   "metadata": {
    "ExecuteTime": {
     "end_time": "2019-04-16T14:51:03.892750Z",
     "start_time": "2019-04-16T14:51:03.888389Z"
    }
   },
   "outputs": [],
   "source": [
    "range(5)"
   ]
  },
  {
   "cell_type": "code",
   "execution_count": null,
   "metadata": {
    "ExecuteTime": {
     "end_time": "2019-04-16T14:51:03.899920Z",
     "start_time": "2019-04-16T14:51:03.895010Z"
    }
   },
   "outputs": [],
   "source": [
    "range(5)[3]"
   ]
  },
  {
   "cell_type": "code",
   "execution_count": null,
   "metadata": {
    "ExecuteTime": {
     "end_time": "2019-04-16T14:51:03.912821Z",
     "start_time": "2019-04-16T14:51:03.902822Z"
    }
   },
   "outputs": [],
   "source": [
    "t = {1: 'one', 2: 'two', 3: 'three'}\n",
    "t.keys()[0]  # this doesn't work"
   ]
  },
  {
   "cell_type": "markdown",
   "metadata": {},
   "source": [
    "## What makes an iterator?\n",
    "* implementing a `__next__()` method and an `__iter__()` method that returns `self`\n",
    "* raising `StopIteration` when the iteration should break\n",
    "* when iterating, `next()` is called\n"
   ]
  },
  {
   "cell_type": "code",
   "execution_count": null,
   "metadata": {
    "ExecuteTime": {
     "end_time": "2019-04-16T14:51:04.864112Z",
     "start_time": "2019-04-16T14:51:04.860358Z"
    }
   },
   "outputs": [],
   "source": [
    "class Range():\n",
    "    def __init__(self, limit):\n",
    "        self.limit = limit\n",
    "        self.current = 0\n",
    "        \n",
    "    def __iter__(self):\n",
    "        return self\n",
    "    \n",
    "    def __next__(self):\n",
    "        self.current += 1\n",
    "        if self.current == self.limit:\n",
    "            raise StopIteration\n",
    "        return self.current\n",
    "    \n",
    "def our_range(limit):\n",
    "     return Range(limit)"
   ]
  },
  {
   "cell_type": "code",
   "execution_count": null,
   "metadata": {
    "ExecuteTime": {
     "end_time": "2019-04-16T14:51:04.872053Z",
     "start_time": "2019-04-16T14:51:04.869100Z"
    }
   },
   "outputs": [],
   "source": [
    "for x in Range(3):\n",
    "    print(x)"
   ]
  },
  {
   "cell_type": "code",
   "execution_count": null,
   "metadata": {
    "ExecuteTime": {
     "end_time": "2019-04-16T14:51:04.878731Z",
     "start_time": "2019-04-16T14:51:04.873870Z"
    }
   },
   "outputs": [],
   "source": [
    "range_ = Range(3)\n",
    "next(range_)"
   ]
  },
  {
   "cell_type": "code",
   "execution_count": null,
   "metadata": {
    "ExecuteTime": {
     "end_time": "2019-04-16T14:51:04.888298Z",
     "start_time": "2019-04-16T14:51:04.882868Z"
    }
   },
   "outputs": [],
   "source": [
    "next(range_)"
   ]
  },
  {
   "cell_type": "code",
   "execution_count": null,
   "metadata": {
    "ExecuteTime": {
     "end_time": "2019-04-16T14:51:04.903529Z",
     "start_time": "2019-04-16T14:51:04.893958Z"
    }
   },
   "outputs": [],
   "source": [
    "next(range_)  # iterator is exhausted"
   ]
  },
  {
   "cell_type": "markdown",
   "metadata": {},
   "source": [
    "## Generator expressions\n",
    "* work like list comprehensions, but generate values as needed\n",
    "* use round parenthesis `()`"
   ]
  },
  {
   "cell_type": "code",
   "execution_count": null,
   "metadata": {
    "ExecuteTime": {
     "end_time": "2019-04-16T14:51:05.969089Z",
     "start_time": "2019-04-16T14:51:05.964649Z"
    }
   },
   "outputs": [],
   "source": [
    "squares = (x ** 2 for x in range(256))\n",
    "squares"
   ]
  },
  {
   "cell_type": "code",
   "execution_count": null,
   "metadata": {
    "ExecuteTime": {
     "end_time": "2019-04-16T14:51:05.978786Z",
     "start_time": "2019-04-16T14:51:05.974243Z"
    }
   },
   "outputs": [],
   "source": [
    "next(squares)"
   ]
  },
  {
   "cell_type": "code",
   "execution_count": null,
   "metadata": {
    "ExecuteTime": {
     "end_time": "2019-04-16T14:51:05.985083Z",
     "start_time": "2019-04-16T14:51:05.980809Z"
    }
   },
   "outputs": [],
   "source": [
    "next(squares)"
   ]
  },
  {
   "cell_type": "markdown",
   "metadata": {
    "ExecuteTime": {
     "end_time": "2017-09-08T09:00:39.292868Z",
     "start_time": "2017-09-08T09:00:39.290557Z"
    }
   },
   "source": [
    "## Using `yield` for Generators\n",
    "* use `yield` instead of `return` to make a function return a generator\n",
    "* also `yield from` an iterator\n",
    "* send values to the generator with `.send()`"
   ]
  },
  {
   "cell_type": "code",
   "execution_count": null,
   "metadata": {
    "ExecuteTime": {
     "end_time": "2019-04-16T14:51:06.934931Z",
     "start_time": "2019-04-16T14:51:06.931904Z"
    }
   },
   "outputs": [],
   "source": [
    "def squares_generator(n):\n",
    "    for i in range(n):\n",
    "        print('generating the next square')\n",
    "        yield i ** 2\n",
    "        print('just finished')"
   ]
  },
  {
   "cell_type": "code",
   "execution_count": null,
   "metadata": {
    "ExecuteTime": {
     "end_time": "2019-04-16T14:51:06.945009Z",
     "start_time": "2019-04-16T14:51:06.939935Z"
    }
   },
   "outputs": [],
   "source": [
    "squares = squares_generator(10)\n",
    "squares"
   ]
  },
  {
   "cell_type": "code",
   "execution_count": null,
   "metadata": {
    "ExecuteTime": {
     "end_time": "2019-04-16T14:51:06.952824Z",
     "start_time": "2019-04-16T14:51:06.948121Z"
    }
   },
   "outputs": [],
   "source": [
    "next(squares)"
   ]
  },
  {
   "cell_type": "code",
   "execution_count": null,
   "metadata": {
    "ExecuteTime": {
     "end_time": "2019-04-16T14:51:06.960346Z",
     "start_time": "2019-04-16T14:51:06.955151Z"
    }
   },
   "outputs": [],
   "source": [
    "next(squares)"
   ]
  },
  {
   "cell_type": "code",
   "execution_count": null,
   "metadata": {
    "ExecuteTime": {
     "end_time": "2019-04-16T14:51:06.968475Z",
     "start_time": "2019-04-16T14:51:06.965180Z"
    }
   },
   "outputs": [],
   "source": [
    "def squares_and_more_squares():\n",
    "    yield from squares_generator(3)\n",
    "    yield from squares_generator(5)"
   ]
  },
  {
   "cell_type": "code",
   "execution_count": null,
   "metadata": {
    "ExecuteTime": {
     "end_time": "2019-04-16T14:51:06.975757Z",
     "start_time": "2019-04-16T14:51:06.970109Z"
    }
   },
   "outputs": [],
   "source": [
    "list(squares_and_more_squares())"
   ]
  },
  {
   "cell_type": "code",
   "execution_count": null,
   "metadata": {
    "ExecuteTime": {
     "end_time": "2019-04-16T14:51:06.983812Z",
     "start_time": "2019-04-16T14:51:06.978136Z"
    }
   },
   "outputs": [],
   "source": [
    "def square_input():\n",
    "    while True:\n",
    "        x = yield\n",
    "        yield x * 2\n",
    "        \n",
    "squarer = square_input()\n",
    "squarer"
   ]
  },
  {
   "cell_type": "code",
   "execution_count": null,
   "metadata": {
    "ExecuteTime": {
     "end_time": "2019-04-16T14:51:06.988829Z",
     "start_time": "2019-04-16T14:51:06.985876Z"
    }
   },
   "outputs": [],
   "source": [
    "next(squarer)"
   ]
  },
  {
   "cell_type": "code",
   "execution_count": null,
   "metadata": {
    "ExecuteTime": {
     "end_time": "2019-04-16T14:51:06.997649Z",
     "start_time": "2019-04-16T14:51:06.993674Z"
    }
   },
   "outputs": [],
   "source": [
    "squarer.send(12)"
   ]
  },
  {
   "cell_type": "markdown",
   "metadata": {
    "ExecuteTime": {
     "end_time": "2017-09-08T09:03:56.340018Z",
     "start_time": "2017-09-08T09:03:56.333658Z"
    }
   },
   "source": [
    "<div class=\"alert alert-success\">\n",
    "        <b>EXERCISE:</b> What happens when you mix yield and return?\n",
    "</div>"
   ]
  },
  {
   "cell_type": "markdown",
   "metadata": {},
   "source": [
    "# bytes and unicode & string formatting\n",
    "## bytes and unicode\n",
    "\n",
    "* bytes are written from disk or network\n",
    "* in your application, best only deal with unicode strings (called `string` in python 3 and `unicode` in python 2)\n",
    "* bytes are `.decoded(encoding)` to unicode\n",
    "* unicode is `.encoded(encoding)` to bytes\n",
    "* strings are unicode by default\n",
    "* `b'strings'` are bytes (`u'strings'` are unicode for backwards compat. with python 2)\n",
    "* bytes and unicode are incompatible with each other (in python 3)\n",
    "\n",
    "* unicode sandwich: convert incoming bytes as quickly as possible to unicode, convert back to bytes as close to data exiting your application as possible\n"
   ]
  },
  {
   "cell_type": "code",
   "execution_count": null,
   "metadata": {
    "ExecuteTime": {
     "end_time": "2019-04-16T14:51:08.921612Z",
     "start_time": "2019-04-16T14:51:08.917440Z"
    }
   },
   "outputs": [],
   "source": [
    "type('test')"
   ]
  },
  {
   "cell_type": "code",
   "execution_count": null,
   "metadata": {
    "ExecuteTime": {
     "end_time": "2019-04-16T14:51:08.930306Z",
     "start_time": "2019-04-16T14:51:08.926369Z"
    }
   },
   "outputs": [],
   "source": [
    "type(b'test')"
   ]
  },
  {
   "cell_type": "code",
   "execution_count": null,
   "metadata": {
    "ExecuteTime": {
     "end_time": "2019-04-16T14:51:08.937566Z",
     "start_time": "2019-04-16T14:51:08.932893Z"
    }
   },
   "outputs": [],
   "source": [
    "'Hellö Wörld'.encode('utf-8')"
   ]
  },
  {
   "cell_type": "code",
   "execution_count": null,
   "metadata": {
    "ExecuteTime": {
     "end_time": "2019-04-16T14:51:08.946196Z",
     "start_time": "2019-04-16T14:51:08.941459Z"
    }
   },
   "outputs": [],
   "source": [
    "b'test'.decode('utf-8')"
   ]
  },
  {
   "cell_type": "code",
   "execution_count": null,
   "metadata": {
    "ExecuteTime": {
     "end_time": "2019-04-16T14:51:08.956098Z",
     "start_time": "2019-04-16T14:51:08.948504Z"
    }
   },
   "outputs": [],
   "source": [
    "b'Hello' + 'World'"
   ]
  },
  {
   "cell_type": "markdown",
   "metadata": {},
   "source": [
    "## String Formatting\n",
    "There are several ways for string formatting in python, probably too many by now.\n",
    "\n",
    "* C-style `%` formatting (which was initially deprecated in python 3, but is still usefull for logging)\n",
    "* .format() strings  https://docs.python.org/3/library/string.html#formatstrings\n",
    "* f''.format() strings (since python 3.6)\n",
    "* Template strings, not covered here"
   ]
  },
  {
   "cell_type": "code",
   "execution_count": null,
   "metadata": {
    "ExecuteTime": {
     "end_time": "2019-04-16T14:51:09.931148Z",
     "start_time": "2019-04-16T14:51:09.925938Z"
    }
   },
   "outputs": [],
   "source": [
    "'Hello %f, hello %s' % (42, 'again')\n",
    "# these are useful for logging, because the string formatting is done lazily"
   ]
  },
  {
   "cell_type": "code",
   "execution_count": null,
   "metadata": {
    "ExecuteTime": {
     "end_time": "2019-04-16T14:51:09.940437Z",
     "start_time": "2019-04-16T14:51:09.935995Z"
    }
   },
   "outputs": [],
   "source": [
    "'Hello {}, hello {}'.format(32, 'again')"
   ]
  },
  {
   "cell_type": "code",
   "execution_count": null,
   "metadata": {
    "ExecuteTime": {
     "end_time": "2019-04-16T14:51:09.947530Z",
     "start_time": "2019-04-16T14:51:09.943011Z"
    }
   },
   "outputs": [],
   "source": [
    "'Hello {greeting}, hello {word}'.format(word='again', greeting=32)"
   ]
  },
  {
   "cell_type": "code",
   "execution_count": null,
   "metadata": {
    "ExecuteTime": {
     "end_time": "2019-04-16T14:51:09.956081Z",
     "start_time": "2019-04-16T14:51:09.951490Z"
    }
   },
   "outputs": [],
   "source": [
    "'Hello {greeting:0.3}'.format(greeting=0.454249)"
   ]
  },
  {
   "cell_type": "code",
   "execution_count": null,
   "metadata": {
    "ExecuteTime": {
     "end_time": "2019-04-16T14:51:09.963131Z",
     "start_time": "2019-04-16T14:51:09.958533Z"
    }
   },
   "outputs": [],
   "source": [
    "'Hello {greeting:0.3}'.format(greeting=0.4)"
   ]
  },
  {
   "cell_type": "code",
   "execution_count": null,
   "metadata": {
    "ExecuteTime": {
     "end_time": "2019-04-16T15:11:24.953020Z",
     "start_time": "2019-04-16T15:11:24.948559Z"
    }
   },
   "outputs": [],
   "source": [
    "foo = 'World'\n",
    "print(f'Hello {foo}!')"
   ]
  },
  {
   "cell_type": "markdown",
   "metadata": {},
   "source": [
    "## concatenation\n",
    "* strings in parenthesis and brackets are automatically concatenated"
   ]
  },
  {
   "cell_type": "code",
   "execution_count": null,
   "metadata": {
    "ExecuteTime": {
     "end_time": "2019-04-16T15:11:27.192644Z",
     "start_time": "2019-04-16T15:11:27.188156Z"
    }
   },
   "outputs": [],
   "source": [
    "(\"hello\"\n",
    "\"world\")"
   ]
  },
  {
   "cell_type": "code",
   "execution_count": null,
   "metadata": {
    "ExecuteTime": {
     "end_time": "2019-04-16T15:11:27.745385Z",
     "start_time": "2019-04-16T15:11:27.740384Z"
    }
   },
   "outputs": [],
   "source": [
    "[\"hello\"\n",
    "\"world\"]"
   ]
  },
  {
   "cell_type": "markdown",
   "metadata": {},
   "source": [
    "# \\*args, \\*\\*kwargs and tuple and dict unpacking\n",
    "\n"
   ]
  },
  {
   "cell_type": "markdown",
   "metadata": {},
   "source": [
    "* use `*args` and `**kwargs` for catching all arguments and keyword arguments in function definitions\n",
    "* arguments available as a tuple `args` in function body\n",
    "* keyword arguments available as a dictionary `kwargs` in function body\n",
    "* names `args` and `kwargs` arbitrary and not required but convention\n",
    "* can be mixed with defined (keyword) arguments"
   ]
  },
  {
   "cell_type": "code",
   "execution_count": null,
   "metadata": {
    "ExecuteTime": {
     "end_time": "2019-04-16T15:11:31.077153Z",
     "start_time": "2019-04-16T15:11:31.073972Z"
    }
   },
   "outputs": [],
   "source": [
    "def plot(data, *argsx, color='red', **kwargs):\n",
    "    print('data :', data)\n",
    "    print(argsx)\n",
    "    print(kwargs)"
   ]
  },
  {
   "cell_type": "code",
   "execution_count": null,
   "metadata": {
    "ExecuteTime": {
     "end_time": "2019-04-16T15:11:31.520700Z",
     "start_time": "2019-04-16T15:11:31.517330Z"
    }
   },
   "outputs": [],
   "source": [
    "plot([1,2,3], [5, 6, 7], [9, 8, 7], width=3, marker='x')"
   ]
  },
  {
   "cell_type": "markdown",
   "metadata": {},
   "source": [
    "## unpacking\n",
    "* use \\* and \\** to \"unpack\" iterables and dictionaries into function calls"
   ]
  },
  {
   "cell_type": "code",
   "execution_count": null,
   "metadata": {
    "ExecuteTime": {
     "end_time": "2019-04-16T15:11:33.101458Z",
     "start_time": "2019-04-16T15:11:33.097739Z"
    }
   },
   "outputs": [],
   "source": [
    "arguments = (1, 2, 3)\n",
    "kwarguments = {'color': 'red', 'lw': 3, 'limits': ((0, 1), (0, 10))}\n",
    "\n",
    "plot(*arguments, **kwarguments)"
   ]
  },
  {
   "cell_type": "code",
   "execution_count": null,
   "metadata": {
    "ExecuteTime": {
     "end_time": "2019-04-16T15:11:37.254415Z",
     "start_time": "2019-04-16T15:11:37.250887Z"
    }
   },
   "outputs": [],
   "source": [
    "# hacky substitutes for f-strings (use for quick reporting scripts, not \"real\" programs, can get *really* slow)\n",
    "print('Hello {foo}'.format(**locals()))  # locals() returns all variables in local scope"
   ]
  },
  {
   "cell_type": "markdown",
   "metadata": {},
   "source": [
    "# decorators\n",
    "\n",
    "* functions are first class objects, that can be very useful\n",
    "* decoraters are functions, that take and return functions"
   ]
  },
  {
   "cell_type": "code",
   "execution_count": null,
   "metadata": {
    "ExecuteTime": {
     "end_time": "2019-04-16T15:12:09.324939Z",
     "start_time": "2019-04-16T15:12:09.321734Z"
    }
   },
   "outputs": [],
   "source": [
    "def function():\n",
    "    print(\"executing\")\n",
    "    \n",
    "def decorate(fun):\n",
    "    print(\"decorating\")\n",
    "    return fun"
   ]
  },
  {
   "cell_type": "code",
   "execution_count": null,
   "metadata": {
    "ExecuteTime": {
     "end_time": "2019-04-16T15:12:09.935772Z",
     "start_time": "2019-04-16T15:12:09.932706Z"
    }
   },
   "outputs": [],
   "source": [
    "function = decorate(function)"
   ]
  },
  {
   "cell_type": "code",
   "execution_count": null,
   "metadata": {
    "ExecuteTime": {
     "end_time": "2019-04-16T15:12:12.494436Z",
     "start_time": "2019-04-16T15:12:12.491896Z"
    }
   },
   "outputs": [],
   "source": [
    "function()"
   ]
  },
  {
   "cell_type": "markdown",
   "metadata": {},
   "source": [
    "* This is pretty useless!\n",
    "* But still, it's what the @operator is for:"
   ]
  },
  {
   "cell_type": "code",
   "execution_count": null,
   "metadata": {
    "ExecuteTime": {
     "end_time": "2019-04-16T15:12:13.874297Z",
     "start_time": "2019-04-16T15:12:13.870994Z"
    }
   },
   "outputs": [],
   "source": [
    "@decorate\n",
    "def function():\n",
    "    print(\"executing the function\")"
   ]
  },
  {
   "cell_type": "code",
   "execution_count": null,
   "metadata": {
    "ExecuteTime": {
     "end_time": "2019-04-16T15:12:14.228823Z",
     "start_time": "2019-04-16T15:12:14.226268Z"
    }
   },
   "outputs": [],
   "source": [
    "function()"
   ]
  },
  {
   "cell_type": "code",
   "execution_count": null,
   "metadata": {
    "ExecuteTime": {
     "end_time": "2019-04-16T15:12:14.566313Z",
     "start_time": "2019-04-16T15:12:14.563049Z"
    }
   },
   "outputs": [],
   "source": [
    "def decorate(func):\n",
    "    def _inner():\n",
    "        print(\"before the function is called\")\n",
    "        func()\n",
    "        print(\"after the function is called\")\n",
    "    return _inner"
   ]
  },
  {
   "cell_type": "code",
   "execution_count": null,
   "metadata": {
    "ExecuteTime": {
     "end_time": "2019-04-16T15:12:14.953723Z",
     "start_time": "2019-04-16T15:12:14.950792Z"
    }
   },
   "outputs": [],
   "source": [
    "@decorate\n",
    "def function():\n",
    "    \"\"\"prints something useful\"\"\"\n",
    "    print(\"executing the function\")"
   ]
  },
  {
   "cell_type": "code",
   "execution_count": null,
   "metadata": {
    "ExecuteTime": {
     "end_time": "2019-04-16T15:12:15.460782Z",
     "start_time": "2019-04-16T15:12:15.457619Z"
    }
   },
   "outputs": [],
   "source": [
    "function()"
   ]
  },
  {
   "cell_type": "code",
   "execution_count": null,
   "metadata": {
    "ExecuteTime": {
     "end_time": "2019-04-16T15:12:15.835651Z",
     "start_time": "2019-04-16T15:12:15.832149Z"
    }
   },
   "outputs": [],
   "source": [
    "help(function)  # that's disappointing..."
   ]
  },
  {
   "cell_type": "markdown",
   "metadata": {},
   "source": [
    "* using `functools.wraps` fixes `__doc__` (among others)"
   ]
  },
  {
   "cell_type": "code",
   "execution_count": null,
   "metadata": {
    "ExecuteTime": {
     "end_time": "2019-04-16T15:12:17.330183Z",
     "start_time": "2019-04-16T15:12:17.325778Z"
    }
   },
   "outputs": [],
   "source": [
    "from functools import wraps\n",
    "\n",
    "\n",
    "def decorate(func):\n",
    "    @wraps(func)\n",
    "    def _inner():\n",
    "        print(\"before the function is called\")\n",
    "        func()\n",
    "        print(\"after the function is called\")\n",
    "    return _inner\n",
    "\n",
    "@decorate\n",
    "def function():\n",
    "    \"\"\"prints something useful\"\"\"\n",
    "    print(\"executing the function\")\n",
    "    \n",
    "function()"
   ]
  },
  {
   "cell_type": "code",
   "execution_count": null,
   "metadata": {
    "ExecuteTime": {
     "end_time": "2019-04-16T15:12:17.520043Z",
     "start_time": "2019-04-16T15:12:17.516910Z"
    }
   },
   "outputs": [],
   "source": [
    "help(function)"
   ]
  },
  {
   "cell_type": "code",
   "execution_count": null,
   "metadata": {},
   "outputs": [],
   "source": []
  },
  {
   "cell_type": "markdown",
   "metadata": {},
   "source": [
    "* decorators can be nested\n",
    "* decorators can accept arguments\n",
    "\n",
    "* More useful example:\n"
   ]
  },
  {
   "cell_type": "code",
   "execution_count": null,
   "metadata": {
    "ExecuteTime": {
     "end_time": "2019-04-16T15:12:18.759449Z",
     "start_time": "2019-04-16T15:12:18.748061Z"
    }
   },
   "outputs": [],
   "source": [
    "import time\n",
    "\n",
    "\n",
    "def timer(func):\n",
    "    def wrapper():\n",
    "        start = time.time()\n",
    "        func()\n",
    "        end = time.time()\n",
    "        return \"Executing time: {}s\".format(end - start)\n",
    "    return wrapper\n",
    "\n",
    "\n",
    "@timer\n",
    "def my_function():\n",
    "    numbers = []\n",
    "    for num in range(10000):\n",
    "        numbers.append(num ** 2)\n",
    "    print(\"sum: {}\".format(sum(numbers)))\n",
    "\n",
    "my_function()"
   ]
  },
  {
   "cell_type": "markdown",
   "metadata": {},
   "source": [
    "## Attribute getters and setters"
   ]
  },
  {
   "cell_type": "code",
   "execution_count": null,
   "metadata": {
    "ExecuteTime": {
     "end_time": "2019-04-16T15:12:19.989137Z",
     "start_time": "2019-04-16T15:12:19.984301Z"
    }
   },
   "outputs": [],
   "source": [
    "class Car():\n",
    "    def __init__(self, num_passengers):\n",
    "        self.num_passengers = num_passengers\n",
    "        \n",
    "car = Car(4)\n",
    "car.num_passengers = 8\n",
    "car.num_passengers"
   ]
  },
  {
   "cell_type": "markdown",
   "metadata": {},
   "source": [
    "Now we want to introduce a maximum number of passengers and, when setting num_passengers, make sure that number is never exceeded. AND keep the API backwards compatible."
   ]
  },
  {
   "cell_type": "code",
   "execution_count": null,
   "metadata": {
    "ExecuteTime": {
     "end_time": "2019-04-16T15:12:21.346035Z",
     "start_time": "2019-04-16T15:12:21.342631Z"
    }
   },
   "outputs": [],
   "source": [
    "class Car():\n",
    "    def __init__(self, num_passengers, max_passengers=4):\n",
    "        self._num_passengers = num_passengers\n",
    "        self._max_passengers = max_passengers\n",
    "      \n",
    "    @property\n",
    "    def num_passengers(self):\n",
    "        return self._num_passengers\n",
    "    \n",
    "    @num_passengers.setter\n",
    "    def num_passengers(self, new_passengers):\n",
    "        if new_passengers > self._max_passengers:\n",
    "            raise ValueError('Car cannot fit that many people')\n",
    "        self._num_passengers = new_passengers"
   ]
  },
  {
   "cell_type": "code",
   "execution_count": null,
   "metadata": {
    "ExecuteTime": {
     "end_time": "2019-04-16T15:12:21.558282Z",
     "start_time": "2019-04-16T15:12:21.552341Z"
    }
   },
   "outputs": [],
   "source": [
    "car = Car(2, 4)\n",
    "car.num_passengers"
   ]
  },
  {
   "cell_type": "code",
   "execution_count": null,
   "metadata": {},
   "outputs": [],
   "source": []
  },
  {
   "cell_type": "code",
   "execution_count": null,
   "metadata": {
    "ExecuteTime": {
     "end_time": "2019-04-16T15:12:21.938488Z",
     "start_time": "2019-04-16T15:12:21.934580Z"
    }
   },
   "outputs": [],
   "source": [
    "car.num_passengers = 3\n",
    "car.num_passengers"
   ]
  },
  {
   "cell_type": "code",
   "execution_count": null,
   "metadata": {
    "ExecuteTime": {
     "end_time": "2019-04-16T15:12:22.140923Z",
     "start_time": "2019-04-16T15:12:22.130128Z"
    }
   },
   "outputs": [],
   "source": [
    "car.num_passengers = 8  # this should raise a ValueError"
   ]
  },
  {
   "cell_type": "markdown",
   "metadata": {},
   "source": [
    "there is also another way to get the same result using `property`, I don't like it."
   ]
  },
  {
   "cell_type": "code",
   "execution_count": null,
   "metadata": {
    "ExecuteTime": {
     "end_time": "2019-04-16T15:12:23.237109Z",
     "start_time": "2019-04-16T15:12:23.225985Z"
    }
   },
   "outputs": [],
   "source": [
    "class Car():\n",
    "    def __init__(self, num_passengers, max_passengers=4):\n",
    "        self._num_passengers = num_passengers\n",
    "        self._max_passengers = max_passengers\n",
    "      \n",
    "    def get_num_passengers(self):\n",
    "        return self._num_passengers\n",
    "    \n",
    "    def set_num_passengers(self, new_passengers):\n",
    "        if new_passengers > self._max_passengers:\n",
    "            raise ValueError('Car cannot fit that many people')\n",
    "        self._num_passengers = new_passengers\n",
    "        \n",
    "    num_passengers = property(get_num_passengers, set_num_passengers)\n",
    "    \n",
    "    \n",
    "car = Car(1, 8)\n",
    "car.num_passengers = 3\n",
    "car.num_passengers"
   ]
  },
  {
   "cell_type": "markdown",
   "metadata": {
    "ExecuteTime": {
     "end_time": "2017-09-05T20:49:39.103454Z",
     "start_time": "2017-09-05T20:49:39.101501Z"
    },
    "collapsed": true
   },
   "source": [
    "# File reading and writing\n",
    "* open files with open('/path/to/file')\n",
    "* open with open('path/', 'w') for writing\n",
    "* `open(file, mode)` with mode::\n",
    "```\n",
    "    Character Meaning\n",
    "    --------- ---------------------------------------------------------------\n",
    "    'r'       open for reading (default)\n",
    "    'w'       open for writing, truncating the file first\n",
    "    'x'       create a new file and open it for writing\n",
    "    'a'       open for writing, appending to the end of the file if it exists\n",
    "    'b'       binary mode\n",
    "    't'       text mode (default)\n",
    "    '+'       open a disk file for updating (reading and writing)\n",
    "    ```\n",
    "    \n",
    "* close files with `myfile.close()`\n",
    "* `file` is a key word in python 2\n",
    "* read single bytes with `read()`, lines with `readline()`, all lines with `readlines()`\n",
    "* same for writing"
   ]
  },
  {
   "cell_type": "code",
   "execution_count": null,
   "metadata": {
    "ExecuteTime": {
     "end_time": "2019-04-16T15:12:24.407033Z",
     "start_time": "2019-04-16T15:12:24.401477Z"
    }
   },
   "outputs": [],
   "source": [
    "myfile = open('test.dat', 'w')\n",
    "myfile.write('hello world\\n')\n",
    "myfile.write('foo bar baz\\n')"
   ]
  },
  {
   "cell_type": "code",
   "execution_count": null,
   "metadata": {
    "ExecuteTime": {
     "end_time": "2019-04-16T15:12:29.193259Z",
     "start_time": "2019-04-16T15:12:29.067688Z"
    }
   },
   "outputs": [],
   "source": [
    "!cat test.dat"
   ]
  },
  {
   "cell_type": "code",
   "execution_count": null,
   "metadata": {
    "ExecuteTime": {
     "end_time": "2019-04-16T15:12:29.378518Z",
     "start_time": "2019-04-16T15:12:29.375122Z"
    }
   },
   "outputs": [],
   "source": [
    "for num in range(10):\n",
    "    myfile.write('{}\\n'.format(num))"
   ]
  },
  {
   "cell_type": "code",
   "execution_count": null,
   "metadata": {
    "ExecuteTime": {
     "end_time": "2019-04-16T15:12:29.701637Z",
     "start_time": "2019-04-16T15:12:29.578590Z"
    }
   },
   "outputs": [],
   "source": [
    "!cat test.dat"
   ]
  },
  {
   "cell_type": "code",
   "execution_count": null,
   "metadata": {
    "ExecuteTime": {
     "end_time": "2019-04-16T15:12:29.788340Z",
     "start_time": "2019-04-16T15:12:29.785026Z"
    }
   },
   "outputs": [],
   "source": [
    "myfile.close()"
   ]
  },
  {
   "cell_type": "code",
   "execution_count": null,
   "metadata": {
    "ExecuteTime": {
     "end_time": "2019-04-16T15:12:29.992937Z",
     "start_time": "2019-04-16T15:12:29.988747Z"
    }
   },
   "outputs": [],
   "source": [
    "myfile = open('test.dat')\n",
    "print(myfile.readlines())\n",
    "myfile.close()"
   ]
  },
  {
   "cell_type": "code",
   "execution_count": null,
   "metadata": {
    "ExecuteTime": {
     "end_time": "2017-09-05T21:00:11.759246Z",
     "start_time": "2017-09-05T21:00:11.756241Z"
    }
   },
   "outputs": [],
   "source": []
  },
  {
   "cell_type": "markdown",
   "metadata": {},
   "source": [
    "# Context Manangers and better file access\n",
    "* wouldn't it be cool, if the file would close when you are done with it?\n",
    "* that's where contextmanagers come in"
   ]
  },
  {
   "cell_type": "code",
   "execution_count": null,
   "metadata": {
    "ExecuteTime": {
     "end_time": "2019-04-16T15:12:31.408437Z",
     "start_time": "2019-04-16T15:12:31.401363Z"
    }
   },
   "outputs": [],
   "source": [
    "with open('test.dat') as myfile:\n",
    "    data = myfile.readlines()\n",
    "type(myfile)"
   ]
  },
  {
   "cell_type": "markdown",
   "metadata": {},
   "source": [
    "* implement your own Context Manager with implementing `__enter__` and `__exit__`"
   ]
  },
  {
   "cell_type": "code",
   "execution_count": null,
   "metadata": {
    "ExecuteTime": {
     "end_time": "2019-04-16T15:12:32.686410Z",
     "start_time": "2019-04-16T15:12:32.681002Z"
    }
   },
   "outputs": [],
   "source": [
    "class DataBase():\n",
    "    def __enter__(self):\n",
    "        print('getting lock')\n",
    "        return self\n",
    "        \n",
    "    def __exit__(self, exception_type, exception_value, traceback):\n",
    "        print('release lock')\n",
    "        \n",
    "        \n",
    "with DataBase() as db:\n",
    "    print('doing real work with our {}'.format(db))"
   ]
  },
  {
   "cell_type": "markdown",
   "metadata": {},
   "source": [
    "# globals and scope\n",
    "## scoping by examples"
   ]
  },
  {
   "cell_type": "code",
   "execution_count": null,
   "metadata": {
    "ExecuteTime": {
     "end_time": "2019-04-16T15:12:35.064600Z",
     "start_time": "2019-04-16T15:12:35.060626Z"
    }
   },
   "outputs": [],
   "source": [
    "a = 'before'\n",
    "\n",
    "def test():\n",
    "    print(a)\n",
    "    \n",
    "test()"
   ]
  },
  {
   "cell_type": "code",
   "execution_count": null,
   "metadata": {
    "ExecuteTime": {
     "end_time": "2019-04-16T15:12:35.546562Z",
     "start_time": "2019-04-16T15:12:35.542236Z"
    }
   },
   "outputs": [],
   "source": [
    "a = 'before'\n",
    "\n",
    "def test():\n",
    "    a = 'in function'\n",
    "    print(a)\n",
    "    \n",
    "test()\n",
    "print(a)"
   ]
  },
  {
   "cell_type": "code",
   "execution_count": null,
   "metadata": {
    "ExecuteTime": {
     "end_time": "2019-04-16T15:12:36.063993Z",
     "start_time": "2019-04-16T15:12:36.059928Z"
    }
   },
   "outputs": [],
   "source": [
    "x = 'before'\n",
    "a = [x for x in (1, 2, 3)]\n",
    "print(x)  # in python 2, the x leaks"
   ]
  },
  {
   "cell_type": "markdown",
   "metadata": {
    "ExecuteTime": {
     "end_time": "2017-09-05T21:23:55.629450Z",
     "start_time": "2017-09-05T21:23:55.627600Z"
    }
   },
   "source": [
    "## globals"
   ]
  },
  {
   "cell_type": "code",
   "execution_count": null,
   "metadata": {
    "ExecuteTime": {
     "end_time": "2019-04-16T15:12:37.766281Z",
     "start_time": "2019-04-16T15:12:37.761755Z"
    }
   },
   "outputs": [],
   "source": [
    "a = 'foo'\n",
    "\n",
    "def test():\n",
    "    global a\n",
    "    a = 1\n",
    "\n",
    "test()\n",
    "print(a)"
   ]
  },
  {
   "cell_type": "markdown",
   "metadata": {
    "ExecuteTime": {
     "end_time": "2017-09-05T21:18:33.025813Z",
     "start_time": "2017-09-05T21:18:33.022050Z"
    }
   },
   "source": [
    "## Mutables"
   ]
  },
  {
   "cell_type": "code",
   "execution_count": null,
   "metadata": {
    "ExecuteTime": {
     "end_time": "2019-04-16T15:12:39.614120Z",
     "start_time": "2019-04-16T15:12:39.611019Z"
    }
   },
   "outputs": [],
   "source": [
    "data = {1:  'before'}\n",
    "\n",
    "def test():\n",
    "    print(data)\n",
    "    data[1] = 'function'\n",
    "    print(data)\n",
    "\n",
    "test()\n",
    "print(data)"
   ]
  },
  {
   "cell_type": "code",
   "execution_count": null,
   "metadata": {
    "ExecuteTime": {
     "end_time": "2019-04-16T15:12:39.963134Z",
     "start_time": "2019-04-16T15:12:39.958009Z"
    }
   },
   "outputs": [],
   "source": [
    "data = {1:  'before'}\n",
    "\n",
    "def test(values):\n",
    "    print(values)\n",
    "    values[1] = 'function'\n",
    "    print(values)\n",
    "\n",
    "test(data)\n",
    "print(data)"
   ]
  },
  {
   "cell_type": "markdown",
   "metadata": {},
   "source": [
    "## Call by value? Call by reference?\n",
    "neither, call by *label*"
   ]
  },
  {
   "cell_type": "markdown",
   "metadata": {},
   "source": [
    "## Gotcha: mutable default arguments"
   ]
  },
  {
   "cell_type": "code",
   "execution_count": null,
   "metadata": {
    "ExecuteTime": {
     "end_time": "2019-04-16T15:12:42.444683Z",
     "start_time": "2019-04-16T15:12:42.442248Z"
    }
   },
   "outputs": [],
   "source": [
    "def test(data=[]):\n",
    "    data.append(1)\n",
    "    print(data)"
   ]
  },
  {
   "cell_type": "code",
   "execution_count": null,
   "metadata": {
    "ExecuteTime": {
     "end_time": "2019-04-16T15:12:42.687848Z",
     "start_time": "2019-04-16T15:12:42.684382Z"
    }
   },
   "outputs": [],
   "source": [
    "test()"
   ]
  },
  {
   "cell_type": "code",
   "execution_count": null,
   "metadata": {
    "ExecuteTime": {
     "end_time": "2019-04-16T15:12:43.324664Z",
     "start_time": "2019-04-16T15:12:43.321049Z"
    }
   },
   "outputs": [],
   "source": [
    "test()"
   ]
  },
  {
   "cell_type": "code",
   "execution_count": null,
   "metadata": {
    "ExecuteTime": {
     "end_time": "2019-04-16T15:12:43.788795Z",
     "start_time": "2019-04-16T15:12:43.784842Z"
    }
   },
   "outputs": [],
   "source": [
    "test()"
   ]
  },
  {
   "cell_type": "markdown",
   "metadata": {},
   "source": [
    "Most of the time, you want to do this instead:"
   ]
  },
  {
   "cell_type": "code",
   "execution_count": null,
   "metadata": {
    "ExecuteTime": {
     "end_time": "2019-04-16T15:12:45.466361Z",
     "start_time": "2019-04-16T15:12:45.462720Z"
    }
   },
   "outputs": [],
   "source": [
    "def test(data=None):\n",
    "    if data is None:\n",
    "        data = []\n",
    "    data.append(1)\n",
    "    print(data)\n",
    "    \n",
    "test()\n",
    "test()\n",
    "test()"
   ]
  },
  {
   "cell_type": "markdown",
   "metadata": {},
   "source": [
    "# EXERCISES B\n",
    "<div class=\"alert alert-success\">\n",
    "<li>Write functions decorators to add html tags (`<b>bold</b>`, `<i>italic</i>`, ...) to strings</li>\n",
    "<li>Write a function that returns the number of local variables defined (hint: `locals()`)</li>\n",
    "<li>Write a class `Rectangle` constructed by a length and width and a method which will compute the area of a rectangle</li>\n",
    "<li>Write a child class of `Rectangle` called `Square`\n",
    "<li>Write a clone of `range`</li>\n",
    "</div>"
   ]
  },
  {
   "cell_type": "markdown",
   "metadata": {},
   "source": [
    "# Code Style\n",
    "\n",
    "* defined in PEP008 (**P**ython **E**nhancement **P**roposal)\n",
    "* use four spaces for indenting, nothing else\n",
    "* spaces around operators (but not for keyword arguments or default values)\n",
    "* spaces behind commas, no spaces around braces or parenthesis\n",
    "* variable names at least three letters\n",
    "* classes use CamelCase\n",
    "* everything else snake_case\n",
    "* two empty lines before classes and functions\n",
    "* one empty lines before methods\n",
    "* 78 characters per line\n",
    "\n",
    "* check automatically in your editor, CI, etc\n",
    "* tools: `pep8`, `flake8`, etc"
   ]
  },
  {
   "cell_type": "markdown",
   "metadata": {},
   "source": [
    "# Not covered\n",
    "\n",
    "* standard library (very rich, sometimes a bit stale)\n",
    "* debugging (hint: try %debug in the notebook after an exception occurred, type `help` for help)\n",
    "* profiling\n",
    "* type hints, typing, mypy\n",
    "* extending with C (C API)"
   ]
  },
  {
   "cell_type": "code",
   "execution_count": null,
   "metadata": {},
   "outputs": [],
   "source": []
  }
 ],
 "metadata": {
  "hide_input": false,
  "kernelspec": {
   "display_name": "Python 3",
   "language": "python",
   "name": "python3"
  },
  "language_info": {
   "codemirror_mode": {
    "name": "ipython",
    "version": 3
   },
   "file_extension": ".py",
   "mimetype": "text/x-python",
   "name": "python",
   "nbconvert_exporter": "python",
   "pygments_lexer": "ipython3",
   "version": "3.6.4"
  },
  "toc": {
   "base_numbering": 1,
   "nav_menu": {
    "height": "68px",
    "width": "252px"
   },
   "number_sections": true,
   "sideBar": true,
   "skip_h1_title": false,
   "title_cell": "Table of Contents",
   "title_sidebar": "Contents",
   "toc_cell": true,
   "toc_position": {
    "height": "881px",
    "left": "0px",
    "right": "1069px",
    "top": "106px",
    "width": "441px"
   },
   "toc_section_display": "block",
   "toc_window_display": true
  },
  "toc_position": {
   "height": "345px",
   "left": "1164px",
   "right": "104px",
   "top": "71px",
   "width": "410px"
  }
 },
 "nbformat": 4,
 "nbformat_minor": 2
}
