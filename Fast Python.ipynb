{
 "cells": [
  {
   "cell_type": "markdown",
   "metadata": {
    "ExecuteTime": {
     "end_time": "2018-10-11T21:18:26.126043Z",
     "start_time": "2018-10-11T21:18:26.122182Z"
    }
   },
   "source": [
    "<h1>Make your Python code go fast</h1>\n",
    "\n",
    "* Is it fast enough already?\n",
    "* Profiling: Where does it spend its time?\n",
    "* Using a debugger\n",
    "* Complexity of your functions\n",
    "* Multithreading and multiprocessing\n",
    "* Numpy\n",
    "* Cython\n",
    "* Numba\n",
    "* Other options\n",
    "\n"
   ]
  },
  {
   "cell_type": "markdown",
   "metadata": {
    "ExecuteTime": {
     "end_time": "2018-10-11T21:22:30.721625Z",
     "start_time": "2018-10-11T21:22:30.718759Z"
    }
   },
   "source": [
    "# Is it fast enough already?"
   ]
  },
  {
   "cell_type": "markdown",
   "metadata": {},
   "source": [
    "start with `%%time` and `%%timeit`"
   ]
  },
  {
   "cell_type": "code",
   "execution_count": null,
   "metadata": {
    "ExecuteTime": {
     "end_time": "2018-10-15T08:51:53.848509Z",
     "start_time": "2018-10-15T08:51:53.843988Z"
    }
   },
   "outputs": [],
   "source": [
    "import numpy as np\n",
    "\n",
    "LINES = 20\n",
    "COLUMNS = 10\n",
    "\n",
    "def mandelbrot(point, infinity=9999999):\n",
    "    z = 0j\n",
    "    for n in range(100000):\n",
    "        z = z * z + point\n",
    "        if abs(z) >= infinity:\n",
    "            return n\n",
    "    return 0"
   ]
  },
  {
   "cell_type": "code",
   "execution_count": null,
   "metadata": {
    "ExecuteTime": {
     "end_time": "2018-10-15T12:20:44.523205Z",
     "start_time": "2018-10-15T12:20:43.544160Z"
    }
   },
   "outputs": [],
   "source": [
    "%%time\n",
    "\n",
    "for y in np.linspace(-1.5, 1.5, LINES):\n",
    "    for x in np.linspace(-2, 1, COLUMNS):\n",
    "        n = mandelbrot(x + y * 1j)\n"
   ]
  },
  {
   "cell_type": "code",
   "execution_count": null,
   "metadata": {
    "ExecuteTime": {
     "end_time": "2018-10-15T12:21:37.369040Z",
     "start_time": "2018-10-15T12:21:34.206627Z"
    }
   },
   "outputs": [],
   "source": [
    "%%timeit\n",
    "\n",
    "for y in np.linspace(-1.5, 1.5, 1):\n",
    "    for x in np.linspace(-2, 1, 1):\n",
    "        n = mandelbrot(x + y * 1j)"
   ]
  },
  {
   "cell_type": "markdown",
   "metadata": {},
   "source": [
    "**Is that fast enough?**"
   ]
  },
  {
   "cell_type": "markdown",
   "metadata": {},
   "source": [
    "# Profiling"
   ]
  },
  {
   "cell_type": "code",
   "execution_count": null,
   "metadata": {
    "ExecuteTime": {
     "end_time": "2018-10-15T12:23:40.916958Z",
     "start_time": "2018-10-15T12:23:40.789546Z"
    }
   },
   "outputs": [],
   "source": [
    "!cat slow.py"
   ]
  },
  {
   "cell_type": "code",
   "execution_count": null,
   "metadata": {
    "ExecuteTime": {
     "end_time": "2018-10-15T12:25:40.303675Z",
     "start_time": "2018-10-15T12:25:40.019068Z"
    }
   },
   "outputs": [],
   "source": [
    "!python slow.py"
   ]
  },
  {
   "cell_type": "code",
   "execution_count": null,
   "metadata": {},
   "outputs": [],
   "source": [
    "lineprofile"
   ]
  },
  {
   "cell_type": "code",
   "execution_count": null,
   "metadata": {
    "ExecuteTime": {
     "end_time": "2018-10-15T12:27:25.029289Z",
     "start_time": "2018-10-15T12:27:24.624073Z"
    }
   },
   "outputs": [],
   "source": [
    "!python -m cProfile -s tottime slow.py"
   ]
  },
  {
   "cell_type": "markdown",
   "metadata": {},
   "source": [
    "Can also do this inline"
   ]
  },
  {
   "cell_type": "code",
   "execution_count": null,
   "metadata": {
    "ExecuteTime": {
     "end_time": "2018-10-15T12:37:38.833057Z",
     "start_time": "2018-10-15T12:37:38.824437Z"
    }
   },
   "outputs": [],
   "source": [
    "%%prun\n",
    "import cProfile\n",
    "cp = cProfile.Profile()\n",
    "cp.enable()\n",
    "## your code\n",
    "\n",
    "cp.disable()\n",
    "cp.print_stats()\n",
    "cp.dump_stats"
   ]
  },
  {
   "cell_type": "markdown",
   "metadata": {
    "ExecuteTime": {
     "end_time": "2018-10-15T08:48:31.139743Z",
     "start_time": "2018-10-15T08:48:31.134130Z"
    }
   },
   "source": [
    "## Visualization of profiling results\n",
    "* snakeviz\n",
    "    * https://jiffyclub.github.io/snakeviz/\n",
    "* pyprof2calltree / kcachegrind\n",
    "    * https://pypi.org/project/pyprof2calltree/\n",
    "    * https://kcachegrind.github.io/html/Home.html\n"
   ]
  },
  {
   "cell_type": "code",
   "execution_count": null,
   "metadata": {
    "ExecuteTime": {
     "end_time": "2018-10-15T12:31:44.563407Z",
     "start_time": "2018-10-15T12:31:44.191284Z"
    }
   },
   "outputs": [],
   "source": [
    "!python -m cProfile -o myscript.cprof slow.py"
   ]
  },
  {
   "cell_type": "code",
   "execution_count": null,
   "metadata": {},
   "outputs": [],
   "source": [
    "#snakeviz myscript.cprof"
   ]
  },
  {
   "cell_type": "markdown",
   "metadata": {
    "ExecuteTime": {
     "end_time": "2018-10-12T17:59:51.972332Z",
     "start_time": "2018-10-12T17:59:51.967726Z"
    }
   },
   "source": [
    "* Line profiler https://github.com/rkern/line_profiler    \n",
    "* Interesting Example: https://julien.danjou.info/guide-to-python-profiling-cprofile-concrete-case-carbonara/"
   ]
  },
  {
   "cell_type": "markdown",
   "metadata": {
    "ExecuteTime": {
     "end_time": "2018-10-12T17:59:59.894967Z",
     "start_time": "2018-10-12T17:59:59.891800Z"
    }
   },
   "source": [
    "# Using a debugger\n",
    "\n",
    "**Strong recommendation** install ipdb (no need to do anything differently)"
   ]
  },
  {
   "cell_type": "code",
   "execution_count": null,
   "metadata": {
    "ExecuteTime": {
     "end_time": "2018-10-12T18:00:51.548692Z",
     "start_time": "2018-10-12T18:00:30.143766Z"
    }
   },
   "outputs": [],
   "source": [
    "!pip install ipdb"
   ]
  },
  {
   "cell_type": "code",
   "execution_count": null,
   "metadata": {
    "ExecuteTime": {
     "end_time": "2018-10-15T12:53:55.140501Z",
     "start_time": "2018-10-15T12:52:53.480898Z"
    }
   },
   "outputs": [],
   "source": [
    "def divide(a, b):\n",
    "    c = a / b\n",
    "    return c\n",
    "\n",
    "def calc():\n",
    "    elements = list()\n",
    "    for x in range(1, 10):\n",
    "        print(x)\n",
    "        elements.append(divide(1, x))\n",
    "        import pdb; pdb.set_trace()\n",
    "\n",
    "\n",
    "    return elements\n",
    "calc()"
   ]
  },
  {
   "cell_type": "code",
   "execution_count": null,
   "metadata": {
    "ExecuteTime": {
     "end_time": "2018-10-15T12:52:45.556407Z",
     "start_time": "2018-10-15T12:52:42.036935Z"
    }
   },
   "outputs": [],
   "source": [
    "%debug"
   ]
  },
  {
   "cell_type": "code",
   "execution_count": null,
   "metadata": {
    "ExecuteTime": {
     "end_time": "2018-10-15T12:47:10.496171Z",
     "start_time": "2018-10-15T12:47:04.122304Z"
    }
   },
   "outputs": [],
   "source": [
    "%debug"
   ]
  },
  {
   "cell_type": "markdown",
   "metadata": {},
   "source": [
    "* in jupyter: use `%debug` for getting into the debugger\n",
    "* type `help<enter>` for help\n",
    "\n",
    "* don't forget to `continue` at the end, or your notebook will be stuck\n",
    "* in a script, use `import pdb; pdb.set_trace()`\n",
    "\n",
    "\n",
    "## Basic commands\n",
    "\n",
    "* `l(ist)`: shows code for current file\n",
    "* `c(ont(inue))`: continue with the execution\n",
    "* `n(ext)`: run until next line in current function is reached\n",
    "* `!varname`: inspects the variable `varname` (`!` can often be ommitted)\n",
    "* `u(p)`: go up a function\n",
    "* `d(own)`: go down a fucntion"
   ]
  },
  {
   "cell_type": "markdown",
   "metadata": {
    "ExecuteTime": {
     "end_time": "2018-10-11T21:24:58.023798Z",
     "start_time": "2018-10-11T21:24:58.020840Z"
    }
   },
   "source": [
    "# Complexity of your functions"
   ]
  },
  {
   "cell_type": "code",
   "execution_count": null,
   "metadata": {
    "ExecuteTime": {
     "end_time": "2018-10-15T12:54:08.648457Z",
     "start_time": "2018-10-15T12:54:08.643349Z"
    }
   },
   "outputs": [],
   "source": [
    "import numpy as np\n",
    "import time\n",
    "import matplotlib.pyplot as plt"
   ]
  },
  {
   "cell_type": "code",
   "execution_count": null,
   "metadata": {
    "ExecuteTime": {
     "end_time": "2018-10-15T07:39:24.766735Z",
     "start_time": "2018-10-15T07:39:24.762000Z"
    }
   },
   "outputs": [],
   "source": [
    "def bubblesort(array):\n",
    "    \"\"\"Swap the elements to arrange in order\"\"\"\n",
    "    for iter_num in range(len(array) -1 ,0,-1):\n",
    "        for idx in range(iter_num):\n",
    "            if array[idx]>array[idx+1]:\n",
    "                temp = array[idx]\n",
    "                array[idx] = array[idx+1]\n",
    "                array[idx+1] = temp"
   ]
  },
  {
   "cell_type": "code",
   "execution_count": null,
   "metadata": {
    "ExecuteTime": {
     "end_time": "2018-10-15T12:55:13.168920Z",
     "start_time": "2018-10-15T12:55:13.161278Z"
    }
   },
   "outputs": [],
   "source": [
    "array = np.random.random(100)\n",
    "array"
   ]
  },
  {
   "cell_type": "code",
   "execution_count": null,
   "metadata": {
    "ExecuteTime": {
     "end_time": "2018-10-15T12:55:21.886985Z",
     "start_time": "2018-10-15T12:55:21.882277Z"
    }
   },
   "outputs": [],
   "source": [
    "bubblesort(array)"
   ]
  },
  {
   "cell_type": "code",
   "execution_count": null,
   "metadata": {
    "ExecuteTime": {
     "end_time": "2018-10-15T12:55:23.987919Z",
     "start_time": "2018-10-15T12:55:23.982629Z"
    }
   },
   "outputs": [],
   "source": [
    "array"
   ]
  },
  {
   "cell_type": "code",
   "execution_count": null,
   "metadata": {
    "ExecuteTime": {
     "end_time": "2018-10-15T12:56:32.841796Z",
     "start_time": "2018-10-15T12:56:09.047828Z"
    }
   },
   "outputs": [],
   "source": [
    "times_bubble = list()\n",
    "\n",
    "xvalues = np.linspace(1, 4, 10)\n",
    "for x in xvalues:\n",
    "    \n",
    "    array = np.random.random(int(10**x))\n",
    "   \n",
    "    start = time.time()\n",
    "    \n",
    "    bubblesort(array)\n",
    "    \n",
    "    end = time.time()\n",
    "    \n",
    "    times_bubble.append(end - start)"
   ]
  },
  {
   "cell_type": "code",
   "execution_count": null,
   "metadata": {
    "ExecuteTime": {
     "end_time": "2018-10-15T07:54:13.153694Z",
     "start_time": "2018-10-15T07:54:13.148316Z"
    }
   },
   "outputs": [],
   "source": []
  },
  {
   "cell_type": "code",
   "execution_count": null,
   "metadata": {
    "ExecuteTime": {
     "end_time": "2018-10-15T13:01:30.490500Z",
     "start_time": "2018-10-15T13:01:30.326048Z"
    }
   },
   "outputs": [],
   "source": [
    "plt.plot(xvalues, times_bubble, '-x');\n",
    "#plt.yscale('log');"
   ]
  },
  {
   "cell_type": "code",
   "execution_count": null,
   "metadata": {
    "ExecuteTime": {
     "end_time": "2018-10-15T08:00:34.013116Z",
     "start_time": "2018-10-15T08:00:34.005934Z"
    }
   },
   "outputs": [],
   "source": [
    "def merge_sort(alist):\n",
    "    if len(alist) > 1:\n",
    "        mid = len(alist) // 2\n",
    "        lefthalf = alist[:mid]\n",
    "        righthalf = alist[mid:]\n",
    "\n",
    "        merge_sort(lefthalf)\n",
    "        merge_sort(righthalf)\n",
    "        i, j, k = 0, 0, 0\n",
    "        while i < len(lefthalf) and j < len(righthalf):\n",
    "            if lefthalf[i] < righthalf[j]:\n",
    "                alist[k] = lefthalf[i]\n",
    "                i = i + 1\n",
    "            else:\n",
    "                alist[k] = righthalf[j]\n",
    "                j = j + 1\n",
    "            k = k + 1\n",
    "\n",
    "        while i < len(lefthalf):\n",
    "            alist[k] = lefthalf[i]\n",
    "            i = i + 1\n",
    "            k = k + 1\n",
    "\n",
    "        while j < len(righthalf):\n",
    "            alist[k]=righthalf[j]\n",
    "            j = j + 1\n",
    "            k = k + 1\n"
   ]
  },
  {
   "cell_type": "code",
   "execution_count": null,
   "metadata": {
    "ExecuteTime": {
     "end_time": "2018-10-15T12:58:24.302896Z",
     "start_time": "2018-10-15T12:58:24.169209Z"
    }
   },
   "outputs": [],
   "source": [
    "times_merge = list()\n",
    "for x in xvalues:\n",
    "    array = np.random.random(int(10**x))\n",
    "    start = time.time()\n",
    "    merge_sort(array)\n",
    "    end = time.time()\n",
    "    times_merge.append(end - start)"
   ]
  },
  {
   "cell_type": "code",
   "execution_count": null,
   "metadata": {
    "ExecuteTime": {
     "end_time": "2018-10-15T12:58:33.536439Z",
     "start_time": "2018-10-15T12:58:33.101446Z"
    }
   },
   "outputs": [],
   "source": [
    "plt.plot(xvalues, times_bubble, '-x', label='bubble sort')\n",
    "plt.plot(xvalues, times_merge, '-x', label='merge sort')\n",
    "plt.legend()\n",
    "plt.yscale('log');"
   ]
  },
  {
   "cell_type": "code",
   "execution_count": null,
   "metadata": {
    "ExecuteTime": {
     "end_time": "2018-10-15T07:49:43.812215Z",
     "start_time": "2018-10-15T07:49:43.807865Z"
    }
   },
   "outputs": [],
   "source": []
  },
  {
   "cell_type": "code",
   "execution_count": null,
   "metadata": {
    "ExecuteTime": {
     "end_time": "2018-10-15T12:59:38.908055Z",
     "start_time": "2018-10-15T12:59:38.901641Z"
    }
   },
   "outputs": [],
   "source": [
    "times_np = list()\n",
    "for x in xvalues:\n",
    "    array = np.random.random(int(10**x))\n",
    "    start = time.time()\n",
    "    \n",
    "    array.sort()\n",
    "    \n",
    "    end = time.time()\n",
    "    times_np.append(end - start)"
   ]
  },
  {
   "cell_type": "code",
   "execution_count": null,
   "metadata": {
    "ExecuteTime": {
     "end_time": "2018-10-15T12:59:41.584502Z",
     "start_time": "2018-10-15T12:59:41.065839Z"
    }
   },
   "outputs": [],
   "source": [
    "plt.plot(xvalues, times_bubble, '-x', label='bubble sort')\n",
    "plt.plot(xvalues, times_merge, '-x', label='merge sort')\n",
    "plt.plot(xvalues, times_np, '-x', label='numpy sort')\n",
    "\n",
    "\n",
    "plt.legend()\n",
    "plt.yscale('log');"
   ]
  },
  {
   "cell_type": "markdown",
   "metadata": {},
   "source": [
    "## Takeaways\n",
    "* Use code from people who had more time to spend on an optimal solution whereever possible\n",
    "* Optimizing for algorithmic complexity is hard"
   ]
  },
  {
   "cell_type": "markdown",
   "metadata": {},
   "source": [
    "## Recommended courses\n",
    "### Coursera: Algorithms I and II by Kevin Wayne and Robert Sedgewick\n",
    "* https://www.coursera.org/learn/algorithms-part1\n",
    "* Java\n",
    "* more practical\n",
    "\n",
    "### Algorithms Design and Analysis by Tim Roughgarden\n",
    "* More theoretical\n",
    "* Can do it in any programming language\n",
    "* https://www.coursera.org/specializations/algorithms\n",
    "* https://theory.stanford.edu/~tim/videos.html "
   ]
  },
  {
   "cell_type": "markdown",
   "metadata": {
    "ExecuteTime": {
     "end_time": "2018-10-11T21:25:28.531280Z",
     "start_time": "2018-10-11T21:25:28.526560Z"
    }
   },
   "source": [
    "# Multithreading and multiprocessing"
   ]
  },
  {
   "cell_type": "markdown",
   "metadata": {
    "ExecuteTime": {
     "end_time": "2018-10-12T17:57:24.388609Z",
     "start_time": "2018-10-12T17:57:24.324175Z"
    }
   },
   "source": [
    "see multiprocessing notebook"
   ]
  },
  {
   "cell_type": "markdown",
   "metadata": {},
   "source": [
    "# Numpy\n",
    "\n",
    "see numpy tutorial notebooks"
   ]
  },
  {
   "cell_type": "markdown",
   "metadata": {
    "ExecuteTime": {
     "end_time": "2018-10-12T17:58:11.289805Z",
     "start_time": "2018-10-12T17:58:11.282386Z"
    }
   },
   "source": [
    "# Cython"
   ]
  },
  {
   "cell_type": "markdown",
   "metadata": {
    "ExecuteTime": {
     "end_time": "2018-10-12T17:58:29.382489Z",
     "start_time": "2018-10-12T17:58:29.376406Z"
    }
   },
   "source": [
    "see cython and numba notebook"
   ]
  },
  {
   "cell_type": "markdown",
   "metadata": {
    "ExecuteTime": {
     "end_time": "2018-10-12T17:58:39.342460Z",
     "start_time": "2018-10-12T17:58:39.339803Z"
    }
   },
   "source": [
    "# Numba"
   ]
  },
  {
   "cell_type": "markdown",
   "metadata": {
    "ExecuteTime": {
     "end_time": "2018-10-12T17:59:12.055713Z",
     "start_time": "2018-10-12T17:59:12.051064Z"
    }
   },
   "source": [
    "see cython and numba notebook"
   ]
  },
  {
   "cell_type": "markdown",
   "metadata": {},
   "source": [
    "# Other options\n",
    "## Write your own C-Extension\n",
    "https://docs.python.org/3/extending/building.html\n",
    "Often not worth it, but sometimes last chance for best performace\n",
    "## Use another interpreter\n",
    "Pypy is a very fast python interpreter, but typically not better for numeric workloads"
   ]
  }
 ],
 "metadata": {
  "hide_input": false,
  "kernelspec": {
   "display_name": "Python 3",
   "language": "python",
   "name": "python3"
  },
  "language_info": {
   "codemirror_mode": {
    "name": "ipython",
    "version": 3
   },
   "file_extension": ".py",
   "mimetype": "text/x-python",
   "name": "python",
   "nbconvert_exporter": "python",
   "pygments_lexer": "ipython3",
   "version": "3.6.4"
  },
  "toc": {
   "base_numbering": 1,
   "nav_menu": {},
   "number_sections": true,
   "sideBar": true,
   "skip_h1_title": false,
   "title_cell": "Table of Contents",
   "title_sidebar": "Contents",
   "toc_cell": false,
   "toc_position": {},
   "toc_section_display": true,
   "toc_window_display": false
  }
 },
 "nbformat": 4,
 "nbformat_minor": 2
}
