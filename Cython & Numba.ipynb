{
 "cells": [
  {
   "cell_type": "code",
   "execution_count": null,
   "metadata": {
    "ExecuteTime": {
     "end_time": "2018-10-15T13:22:20.311073Z",
     "start_time": "2018-10-15T13:22:19.317010Z"
    }
   },
   "outputs": [],
   "source": [
    "import matplotlib.pyplot as plt\n",
    "%matplotlib inline\n",
    "import numpy as np"
   ]
  },
  {
   "cell_type": "code",
   "execution_count": null,
   "metadata": {
    "ExecuteTime": {
     "end_time": "2018-10-11T21:14:59.504173Z",
     "start_time": "2018-10-11T21:14:06.496922Z"
    }
   },
   "outputs": [],
   "source": [
    "!pip install cython"
   ]
  },
  {
   "cell_type": "markdown",
   "metadata": {},
   "source": [
    "# Cython\n",
    "http://cython.readthedocs.io\n",
    "    \n",
    "* Cython is Python with C data types.\n",
    "* Almost any Python code is also valid Cython\n",
    "* Cython will compile Python to C (and then to machine code)\n",
    "* Easily mix C and Python code\n",
    "* Easy writing of wrappers for C code"
   ]
  },
  {
   "cell_type": "markdown",
   "metadata": {},
   "source": [
    "* in jupyer, use the `%%cython` magic, need to load with `%load_ext Cython`\n",
    "* use `%%cython --annotate` for help, yellow lines are slow\n",
    "\n",
    "* use `cdef`s and C types to type your code (only allowed at top level indentation)\n",
    "* tell cython about your np.ndarray shape and type\n",
    "* make sure to type everything, you don't get warnings, but slow code"
   ]
  },
  {
   "cell_type": "code",
   "execution_count": null,
   "metadata": {
    "ExecuteTime": {
     "end_time": "2018-10-15T13:22:27.021122Z",
     "start_time": "2018-10-15T13:22:26.254399Z"
    }
   },
   "outputs": [],
   "source": [
    "%load_ext Cython"
   ]
  },
  {
   "cell_type": "markdown",
   "metadata": {},
   "source": [
    "## Python example"
   ]
  },
  {
   "cell_type": "code",
   "execution_count": null,
   "metadata": {
    "ExecuteTime": {
     "end_time": "2018-10-15T13:22:44.883077Z",
     "start_time": "2018-10-15T13:22:44.877982Z"
    }
   },
   "outputs": [],
   "source": [
    "def primes():\n",
    "    result = []\n",
    "    p = [0] * 1000\n",
    "    kmax = 1000\n",
    "    k = 0\n",
    "    n = 2\n",
    "    while k < kmax:\n",
    "        i = 0\n",
    "        while i < k and n % p[i] != 0:\n",
    "            i = i + 1\n",
    "        if i == k:\n",
    "            p[k] = n\n",
    "            k = k + 1\n",
    "            result.append(n)\n",
    "        n = n + 1\n",
    "    return result"
   ]
  },
  {
   "cell_type": "code",
   "execution_count": null,
   "metadata": {
    "ExecuteTime": {
     "end_time": "2018-10-15T13:22:49.520245Z",
     "start_time": "2018-10-15T13:22:45.303353Z"
    }
   },
   "outputs": [],
   "source": [
    "%timeit primes()"
   ]
  },
  {
   "cell_type": "code",
   "execution_count": null,
   "metadata": {
    "ExecuteTime": {
     "end_time": "2018-10-15T13:24:46.304699Z",
     "start_time": "2018-10-15T13:24:45.961205Z"
    }
   },
   "outputs": [],
   "source": [
    "%%cython --annotate\n",
    "\n",
    "def primes():\n",
    "    cdef int n, k, i\n",
    "    cdef int p[1000]\n",
    "    result = []\n",
    "\n",
    "    cdef int kmax = 1000\n",
    "    k = 0\n",
    "    n = 2\n",
    "    while k < kmax:\n",
    "        i = 0\n",
    "        while i < k and n % p[i] != 0:\n",
    "            i = i + 1\n",
    "        if i == k:\n",
    "            p[k] = n\n",
    "            k = k + 1\n",
    "            result.append(n)\n",
    "        n = n + 1\n",
    "    return result"
   ]
  },
  {
   "cell_type": "code",
   "execution_count": null,
   "metadata": {
    "ExecuteTime": {
     "end_time": "2018-10-15T13:23:43.481439Z",
     "start_time": "2018-10-15T13:23:31.269253Z"
    }
   },
   "outputs": [],
   "source": [
    "%timeit primes()"
   ]
  },
  {
   "cell_type": "markdown",
   "metadata": {},
   "source": [
    "## Numpy example"
   ]
  },
  {
   "cell_type": "code",
   "execution_count": null,
   "metadata": {
    "ExecuteTime": {
     "end_time": "2018-10-15T13:26:36.894779Z",
     "start_time": "2018-10-15T13:26:36.891915Z"
    }
   },
   "outputs": [],
   "source": [
    "import numpy as np"
   ]
  },
  {
   "cell_type": "code",
   "execution_count": null,
   "metadata": {
    "ExecuteTime": {
     "end_time": "2018-10-15T13:27:00.419132Z",
     "start_time": "2018-10-15T13:26:59.448944Z"
    }
   },
   "outputs": [],
   "source": [
    "%%cython --annotate\n",
    "\n",
    "import numpy as np\n",
    "\n",
    "\n",
    "def naive_convolve(f, g):\n",
    "    if g.shape[0] % 2 != 1 or g.shape[1] % 2 != 1:\n",
    "        raise ValueError(\"Only odd dimensions on filter supported\")\n",
    "    vmax = f.shape[0]\n",
    "    wmax = f.shape[1]\n",
    "    smax = g.shape[0]\n",
    "    tmax = g.shape[1]\n",
    "    smid = smax // 2\n",
    "    tmid = tmax // 2\n",
    "    xmax = vmax + 2*smid\n",
    "    ymax = wmax + 2*tmid\n",
    "    h = np.zeros([xmax, ymax], dtype=f.dtype)\n",
    "    for x in range(xmax):\n",
    "        for y in range(ymax):\n",
    "            s_from = max(smid - x, -smid)\n",
    "            s_to = min((xmax - x) - smid, smid + 1)\n",
    "            t_from = max(tmid - y, -tmid)\n",
    "            t_to = min((ymax - y) - tmid, tmid + 1)\n",
    "            value = 0\n",
    "            for s in range(s_from, s_to):\n",
    "                for t in range(t_from, t_to):\n",
    "                    v = x - smid + s\n",
    "                    w = y - tmid + t\n",
    "                    value += g[smid - s, tmid - t] * f[v, w]\n",
    "            h[x, y] = value\n",
    "    return h"
   ]
  },
  {
   "cell_type": "code",
   "execution_count": null,
   "metadata": {
    "ExecuteTime": {
     "end_time": "2018-10-15T13:27:27.259606Z",
     "start_time": "2018-10-15T13:27:27.256051Z"
    }
   },
   "outputs": [],
   "source": [
    "N = 100\n",
    "f = np.arange(N * N, dtype=np.int).reshape((N, N))\n",
    "g = np.arange(81, dtype=np.int).reshape((9, 9))"
   ]
  },
  {
   "cell_type": "code",
   "execution_count": null,
   "metadata": {
    "ExecuteTime": {
     "end_time": "2018-10-15T13:27:28.300209Z",
     "start_time": "2018-10-15T13:27:28.295403Z"
    }
   },
   "outputs": [],
   "source": [
    "f"
   ]
  },
  {
   "cell_type": "code",
   "execution_count": null,
   "metadata": {
    "ExecuteTime": {
     "end_time": "2018-10-15T13:27:28.532935Z",
     "start_time": "2018-10-15T13:27:28.527984Z"
    }
   },
   "outputs": [],
   "source": [
    "g"
   ]
  },
  {
   "cell_type": "code",
   "execution_count": null,
   "metadata": {
    "ExecuteTime": {
     "end_time": "2018-10-15T13:27:31.248006Z",
     "start_time": "2018-10-15T13:27:28.704552Z"
    }
   },
   "outputs": [],
   "source": [
    "%timeit naive_convolve(f, g)"
   ]
  },
  {
   "cell_type": "code",
   "execution_count": null,
   "metadata": {
    "ExecuteTime": {
     "end_time": "2018-10-11T21:17:21.005127Z",
     "start_time": "2018-10-11T21:17:18.282019Z"
    }
   },
   "outputs": [],
   "source": [
    "%timeit naive_convolve(f, g)"
   ]
  },
  {
   "cell_type": "code",
   "execution_count": null,
   "metadata": {
    "ExecuteTime": {
     "end_time": "2018-10-15T13:28:06.877674Z",
     "start_time": "2018-10-15T13:28:05.989516Z"
    }
   },
   "outputs": [],
   "source": [
    "%%cython --annotate\n",
    "\n",
    "import numpy as np\n",
    "\n",
    "cimport numpy as np\n",
    "\n",
    "DTYPE = np.int\n",
    "# \"ctypedef\" assigns a corresponding compile-time type to DTYPE_t. For\n",
    "# every type in the numpy module there's a corresponding compile-time\n",
    "# type with a _t-suffix.\n",
    "ctypedef np.int_t DTYPE_t\n",
    "# \"def\" can type its arguments but not have a return type. The type of the\n",
    "# arguments for a \"def\" function is checked at run-time when entering the\n",
    "# function.\n",
    "\n",
    "def naive_convolve(np.ndarray f, np.ndarray g):\n",
    "    if g.shape[0] % 2 != 1 or g.shape[1] % 2 != 1:\n",
    "        raise ValueError(\"Only odd dimensions on filter supported\")\n",
    "    assert f.dtype == DTYPE and g.dtype == DTYPE\n",
    "    cdef int vmax = f.shape[0]\n",
    "    cdef int wmax = f.shape[1]\n",
    "    cdef int smax = g.shape[0]\n",
    "    cdef int tmax = g.shape[1]\n",
    "    cdef int smid = smax // 2\n",
    "    cdef int tmid = tmax // 2\n",
    "    cdef int xmax = vmax + 2*smid\n",
    "    cdef int ymax = wmax + 2*tmid\n",
    "    cdef np.ndarray h = np.zeros([xmax, ymax], dtype=DTYPE)\n",
    "    cdef int x, y, s, t, v, w\n",
    "    cdef int s_from, s_to, t_from, t_to\n",
    "    cdef DTYPE_t value\n",
    "    for x in range(xmax):\n",
    "        for y in range(ymax):\n",
    "            s_from = max(smid - x, -smid)\n",
    "            s_to = min((xmax - x) - smid, smid + 1)\n",
    "            t_from = max(tmid - y, -tmid)\n",
    "            t_to = min((ymax - y) - tmid, tmid + 1)\n",
    "            value = 0\n",
    "            for s in range(s_from, s_to):\n",
    "                for t in range(t_from, t_to):\n",
    "                    v = x - smid + s\n",
    "                    w = y - tmid + t\n",
    "                    value += g[smid - s, tmid - t] * f[v, w]\n",
    "            h[x, y] = value\n",
    "    return h"
   ]
  },
  {
   "cell_type": "code",
   "execution_count": null,
   "metadata": {
    "ExecuteTime": {
     "end_time": "2018-10-15T13:28:18.421798Z",
     "start_time": "2018-10-15T13:28:15.598906Z"
    }
   },
   "outputs": [],
   "source": [
    "%timeit naive_convolve(f, g)"
   ]
  },
  {
   "cell_type": "code",
   "execution_count": null,
   "metadata": {
    "ExecuteTime": {
     "end_time": "2018-10-15T13:30:24.668682Z",
     "start_time": "2018-10-15T13:30:23.818627Z"
    }
   },
   "outputs": [],
   "source": [
    "%%cython \n",
    "\n",
    "import numpy as np\n",
    "\n",
    "cimport numpy as np\n",
    "\n",
    "DTYPE = np.int\n",
    "\n",
    "ctypedef np.int_t DTYPE_t\n",
    "\n",
    "# NEXT LINE CHANGED\n",
    "def naive_convolve(np.ndarray[DTYPE_t, ndim=2] f, np.ndarray[DTYPE_t, ndim=2] g):\n",
    "    if g.shape[0] % 2 != 1 or g.shape[1] % 2 != 1:\n",
    "        raise ValueError(\"Only odd dimensions on filter supported\")\n",
    "    assert f.dtype == DTYPE and g.dtype == DTYPE\n",
    "\n",
    "    cdef int vmax = f.shape[0]\n",
    "    cdef int wmax = f.shape[1]\n",
    "    cdef int smax = g.shape[0]\n",
    "    cdef int tmax = g.shape[1]\n",
    "    cdef int smid = smax // 2\n",
    "    cdef int tmid = tmax // 2\n",
    "    cdef int xmax = vmax + 2*smid\n",
    "    cdef int ymax = wmax + 2*tmid\n",
    "    # NEXT LINE CHANGED\n",
    "    cdef np.ndarray[DTYPE_t, ndim=2] h = np.zeros([xmax, ymax], dtype=DTYPE)\n",
    "    cdef int x, y, s, t, v, w\n",
    "   \n",
    "    cdef int s_from, s_to, t_from, t_to\n",
    "   \n",
    "    cdef DTYPE_t value\n",
    "    for x in range(xmax):\n",
    "        for y in range(ymax):\n",
    "            s_from = max(smid - x, -smid)\n",
    "            s_to = min((xmax - x) - smid, smid + 1)\n",
    "            t_from = max(tmid - y, -tmid)\n",
    "            t_to = min((ymax - y) - tmid, tmid + 1)\n",
    "            value = 0\n",
    "            for s in range(s_from, s_to):\n",
    "                for t in range(t_from, t_to):\n",
    "                    v = x - smid + s\n",
    "                    w = y - tmid + t\n",
    "                    value += g[smid - s, tmid - t] * f[v, w]\n",
    "            h[x, y] = value\n",
    "    return h"
   ]
  },
  {
   "cell_type": "code",
   "execution_count": null,
   "metadata": {
    "ExecuteTime": {
     "end_time": "2018-10-15T13:29:31.518428Z",
     "start_time": "2018-10-15T13:29:19.895038Z"
    }
   },
   "outputs": [],
   "source": [
    "%timeit naive_convolve(f, g)"
   ]
  },
  {
   "cell_type": "code",
   "execution_count": null,
   "metadata": {
    "ExecuteTime": {
     "end_time": "2018-10-11T21:17:37.523011Z",
     "start_time": "2018-10-11T21:17:37.339697Z"
    }
   },
   "outputs": [],
   "source": [
    "plt.imshow(naive_convolve(f, g))"
   ]
  },
  {
   "cell_type": "code",
   "execution_count": null,
   "metadata": {
    "ExecuteTime": {
     "end_time": "2018-10-11T21:17:37.693966Z",
     "start_time": "2018-10-11T21:17:37.526147Z"
    }
   },
   "outputs": [],
   "source": [
    "plt.imshow(g)"
   ]
  },
  {
   "cell_type": "markdown",
   "metadata": {},
   "source": [
    "## Building Cython modules\n",
    "\n",
    "* cython files have the ending `.pyx`\n",
    "* put the following in your setup.py:\n",
    "\n",
    "```\n",
    "from setuptools import setup\n",
    "from Cython.Build import cythonize\n",
    "\n",
    "setup(\n",
    "    ext_modules = cythonize(\"helloworld.pyx\")\n",
    ")\n",
    "```\n",
    "\n",
    "build with `python setup.py build_ext --inplace`"
   ]
  },
  {
   "cell_type": "markdown",
   "metadata": {},
   "source": [
    "# Numba\n",
    "http://numba.pydata.org/\n",
    "\n",
    "* uses a LLVM based JIT to compile python code to machine code\n",
    "* works very well with numpy\n",
    "* runs on CPUs and GPUs\n",
    "* sometimes needs annotations as well"
   ]
  },
  {
   "cell_type": "code",
   "execution_count": null,
   "metadata": {
    "ExecuteTime": {
     "end_time": "2018-10-15T13:32:46.084087Z",
     "start_time": "2018-10-15T13:32:40.642279Z"
    }
   },
   "outputs": [],
   "source": [
    "!pip install numba"
   ]
  },
  {
   "cell_type": "code",
   "execution_count": null,
   "metadata": {
    "ExecuteTime": {
     "end_time": "2018-10-15T13:32:48.748491Z",
     "start_time": "2018-10-15T13:32:48.580435Z"
    }
   },
   "outputs": [],
   "source": [
    "import numba"
   ]
  },
  {
   "cell_type": "code",
   "execution_count": null,
   "metadata": {
    "ExecuteTime": {
     "end_time": "2018-10-15T13:32:49.451518Z",
     "start_time": "2018-10-15T13:32:49.415006Z"
    }
   },
   "outputs": [],
   "source": [
    "@numba.jit()\n",
    "def naive_convolve(f, g):\n",
    "    if g.shape[0] % 2 != 1 or g.shape[1] % 2 != 1:\n",
    "        raise ValueError(\"Only odd dimensions on filter supported\")\n",
    "    vmax = f.shape[0]\n",
    "    wmax = f.shape[1]\n",
    "    smax = g.shape[0]\n",
    "    tmax = g.shape[1]\n",
    "    smid = smax // 2\n",
    "    tmid = tmax // 2\n",
    "    xmax = vmax + 2*smid\n",
    "    ymax = wmax + 2*tmid\n",
    "    h = np.zeros([xmax, ymax], dtype=f.dtype)\n",
    "    for x in range(xmax):\n",
    "        for y in range(ymax):\n",
    "            s_from = max(smid - x, -smid)\n",
    "            s_to = min((xmax - x) - smid, smid + 1)\n",
    "            t_from = max(tmid - y, -tmid)\n",
    "            t_to = min((ymax - y) - tmid, tmid + 1)\n",
    "            value = 0\n",
    "            for s in range(s_from, s_to):\n",
    "                for t in range(t_from, t_to):\n",
    "                    v = x - smid + s\n",
    "                    w = y - tmid + t\n",
    "                    value += g[smid - s, tmid - t] * f[v, w]\n",
    "            h[x, y] = value\n",
    "    return h"
   ]
  },
  {
   "cell_type": "code",
   "execution_count": null,
   "metadata": {
    "ExecuteTime": {
     "end_time": "2018-10-15T13:33:45.856561Z",
     "start_time": "2018-10-15T13:33:45.278550Z"
    }
   },
   "outputs": [],
   "source": [
    "%timeit -n 5 naive_convolve(f, g)"
   ]
  },
  {
   "cell_type": "code",
   "execution_count": null,
   "metadata": {},
   "outputs": [],
   "source": [
    "plt.imshow(naive_convolve(f, g))"
   ]
  }
 ],
 "metadata": {
  "hide_input": false,
  "kernelspec": {
   "display_name": "Python 3",
   "language": "python",
   "name": "python3"
  },
  "language_info": {
   "codemirror_mode": {
    "name": "ipython",
    "version": 3
   },
   "file_extension": ".py",
   "mimetype": "text/x-python",
   "name": "python",
   "nbconvert_exporter": "python",
   "pygments_lexer": "ipython3",
   "version": "3.6.4"
  },
  "toc": {
   "base_numbering": 1,
   "nav_menu": {},
   "number_sections": true,
   "sideBar": true,
   "skip_h1_title": false,
   "title_cell": "Table of Contents",
   "title_sidebar": "Contents",
   "toc_cell": false,
   "toc_position": {},
   "toc_section_display": "block",
   "toc_window_display": false
  }
 },
 "nbformat": 4,
 "nbformat_minor": 2
}
