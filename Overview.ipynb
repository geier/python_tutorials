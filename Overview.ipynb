{
 "cells": [
  {
   "cell_type": "markdown",
   "metadata": {
    "ExecuteTime": {
     "end_time": "2017-09-07T21:31:10.189545Z",
     "start_time": "2017-09-07T21:31:10.185966Z"
    }
   },
   "source": [
    "# Plan for two days\n",
    "\n",
    "* Jupyter notebook (0.5 h)\n",
    "* Python 3  (4 h)\n",
    "* Unit Testing with pytest (1 h)\n",
    "* Numpy (4 h)\n",
    "* Matplotlib (1 h)\n",
    "* Scipy (1 h)\n",
    "* Pandas (3 h)\n",
    "* Seaborn (1 h)"
   ]
  },
  {
   "cell_type": "markdown",
   "metadata": {},
   "source": [
    "# What to expect\n",
    "**You won't be able to master all of those topics in 2 days**\n",
    "\n",
    "* be comfortable with the basics\n",
    "* have an overview about what the different parts do\n",
    "* know where to find help / how to interpret the documentation"
   ]
  },
  {
   "cell_type": "markdown",
   "metadata": {},
   "source": [
    "# Python\n",
    "\n",
    "* high level, general purpose, multi paradigm programming language\n",
    "* several implementations, default called CPython\n",
    "* open source\n",
    "* rich standard library (batteries included)\n",
    "* large community, most of it is \"Open Source\" under BSD-like license"
   ]
  },
  {
   "cell_type": "markdown",
   "metadata": {},
   "source": [
    "# Unit Testing: pytest - tox - hypothesis\n",
    "## pytest\n",
    "* testing frame working for python\n",
    "* test runner for discovering and running tests\n",
    "* fixtures, mocking, etc. included\n",
    "* very informative output\n",
    "* less overhead than UnitTest\n",
    "\n",
    "## tox\n",
    "* standardized testing\n",
    "* tests run in virtual environment, isolated from your python installation\n",
    "* allows testing with different python and library versions  \n",
    "\n",
    "## hypothesis\n",
    "* tool for automatically generating test data "
   ]
  },
  {
   "cell_type": "markdown",
   "metadata": {},
   "source": [
    "# Numpy\n",
    "* numeric python\n",
    "* multi-dimensional array class\n",
    "* methods for numeric calculations with those arrays\n",
    "* base for the scientific/numeric engineering stack in python\n",
    "* fast"
   ]
  },
  {
   "cell_type": "markdown",
   "metadata": {},
   "source": [
    "# Matplotlib\n",
    "* plotting and visualisation for python\n",
    "* allows to create any (2D) plot you can imagine\n",
    "* basis for a lot of more high level plotting tools"
   ]
  },
  {
   "cell_type": "markdown",
   "metadata": {},
   "source": [
    "# Scipy Libraries\n",
    "* collection of mathematical algorithms and convenience functions\n",
    "* based on Numpy\n",
    "* here: linear algebra, optimization, random distributions and statistical tests"
   ]
  },
  {
   "cell_type": "markdown",
   "metadata": {},
   "source": [
    "# Pandas\n",
    "**Pan**el **Da**ta\n",
    "* data manipulation, analysis and visualisation\n",
    "* data structures for tables and time series"
   ]
  },
  {
   "cell_type": "markdown",
   "metadata": {},
   "source": [
    "# Seaborn\n",
    "* high level visualization library\n",
    "* based on matplotlib\n",
    "* easier styling\n",
    "* functions for statistical plots"
   ]
  },
  {
   "cell_type": "markdown",
   "metadata": {
    "ExecuteTime": {
     "end_time": "2017-09-09T13:56:44.536964Z",
     "start_time": "2017-09-09T13:56:44.533550Z"
    }
   },
   "source": [
    "# Jupyter Notebook\n",
    "* web application for mixing code, text and images\n",
    "* similar to Matlab or \n",
    "* based on IPython (interactive python), and started out as the IPython notebook\n",
    "* build for **Ju**lia, **Pyt**hon, **R**, but supports many more languages\n",
    "* many plugins for additional functionality available"
   ]
  },
  {
   "cell_type": "markdown",
   "metadata": {},
   "source": [
    "* start by running `jupyter notebook` in the directory where you want your notebooks to be stored"
   ]
  },
  {
   "cell_type": "markdown",
   "metadata": {},
   "source": [
    "* contains *cells* of different types (code, markdown, raw) \n",
    "* can be converted to with `ctrl-1`, `ctrl-2`, and `ctrl-3`"
   ]
  },
  {
   "cell_type": "markdown",
   "metadata": {},
   "source": [
    "## code cells\n",
    "* cells can be executed and output is displayed below\n",
    "* printed output is display as well\n",
    "* return value of last value is displayed as well\n",
    "* `Shift-Enter`: execute cell, jump to cell below (or create a new one if last cell is selected)\n",
    "* `Ctrl-Enter`: execute cell, insert new cell below\n",
    "* `Esc` & `Enter`: switch to command or edit mode\n",
    "\n",
    "* links work like this [test](https://test.de): `[test](https://test.de)`\n",
    "* `Tab`: code completion\n",
    "* `Shift-Tab`: (up to three times) show documentation\n",
    "* `%line` and `%%cell`: magic functions (try `%magic` and execute)\n",
    "* `!command` to execute system commands"
   ]
  },
  {
   "cell_type": "markdown",
   "metadata": {
    "ExecuteTime": {
     "end_time": "2017-09-09T14:22:01.256195Z",
     "start_time": "2017-09-09T14:22:01.248330Z"
    },
    "variables": {
     "dt": {}
    }
   },
   "source": [
    "## markdown cells\n",
    "* renders markdown\n",
    "* \\$formula\\$ for inline formula (LaTeX like)\n",
    "   $\\frac{\\alpha^2}{2}$\n",
    "* \\$\\$formula\\$\\$ for display math mode (same syntax)\n",
    "$$\\oint_C {E \\cdot d\\ell = - \\frac{d}{{dt}}} \\int_S {B_n dA}$$"
   ]
  },
  {
   "cell_type": "code",
   "execution_count": null,
   "metadata": {
    "ExecuteTime": {
     "end_time": "2019-04-16T14:16:24.341026Z",
     "start_time": "2019-04-16T14:16:24.337809Z"
    }
   },
   "outputs": [],
   "source": [
    "print('Hello World')"
   ]
  },
  {
   "cell_type": "code",
   "execution_count": null,
   "metadata": {},
   "outputs": [],
   "source": []
  }
 ],
 "metadata": {
  "hide_input": false,
  "kernelspec": {
   "display_name": "Python 3",
   "language": "python",
   "name": "python3"
  },
  "language_info": {
   "codemirror_mode": {
    "name": "ipython",
    "version": 3
   },
   "file_extension": ".py",
   "mimetype": "text/x-python",
   "name": "python",
   "nbconvert_exporter": "python",
   "pygments_lexer": "ipython3",
   "version": "3.6.4"
  },
  "toc": {
   "base_numbering": 1,
   "nav_menu": {
    "height": "48px",
    "width": "251px"
   },
   "number_sections": true,
   "sideBar": true,
   "skip_h1_title": false,
   "title_cell": "Table of Contents",
   "title_sidebar": "Contents",
   "toc_cell": false,
   "toc_position": {},
   "toc_section_display": "block",
   "toc_window_display": false
  }
 },
 "nbformat": 4,
 "nbformat_minor": 2
}
