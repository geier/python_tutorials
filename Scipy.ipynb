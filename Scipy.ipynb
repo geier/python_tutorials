{
 "cells": [
  {
   "cell_type": "markdown",
   "metadata": {
    "toc": "true"
   },
   "source": [
    "<h1>Table of Contents<span class=\"tocSkip\"></span></h1>\n",
    "<div class=\"toc\"><ul class=\"toc-item\"><li><span><a href=\"#Table-of-Contents\" data-toc-modified-id=\"Table-of-Contents-1\"><span class=\"toc-item-num\">1&nbsp;&nbsp;</span>Table of Contents</a></span></li><li><span><a href=\"#Overview\" data-toc-modified-id=\"Overview-2\"><span class=\"toc-item-num\">2&nbsp;&nbsp;</span>Overview</a></span></li><li><span><a href=\"#Linear-Algebra-with-scipy.linalg\" data-toc-modified-id=\"Linear-Algebra-with-scipy.linalg-3\"><span class=\"toc-item-num\">3&nbsp;&nbsp;</span>Linear Algebra with <code>scipy.linalg</code></a></span><ul class=\"toc-item\"><li><span><a href=\"#Basic-operations\" data-toc-modified-id=\"Basic-operations-3.1\"><span class=\"toc-item-num\">3.1&nbsp;&nbsp;</span>Basic operations</a></span></li><li><span><a href=\"#Solving-linear-systems\" data-toc-modified-id=\"Solving-linear-systems-3.2\"><span class=\"toc-item-num\">3.2&nbsp;&nbsp;</span>Solving linear systems</a></span></li></ul></li><li><span><a href=\"#Statistics-with-scipy.stats\" data-toc-modified-id=\"Statistics-with-scipy.stats-4\"><span class=\"toc-item-num\">4&nbsp;&nbsp;</span>Statistics with <code>scipy.stats</code></a></span><ul class=\"toc-item\"><li><span><a href=\"#Distributions\" data-toc-modified-id=\"Distributions-4.1\"><span class=\"toc-item-num\">4.1&nbsp;&nbsp;</span>Distributions</a></span></li><li><span><a href=\"#Descriptive-Statistics\" data-toc-modified-id=\"Descriptive-Statistics-4.2\"><span class=\"toc-item-num\">4.2&nbsp;&nbsp;</span>Descriptive Statistics</a></span></li><li><span><a href=\"#Fitting\" data-toc-modified-id=\"Fitting-4.3\"><span class=\"toc-item-num\">4.3&nbsp;&nbsp;</span>Fitting</a></span></li><li><span><a href=\"#Tests\" data-toc-modified-id=\"Tests-4.4\"><span class=\"toc-item-num\">4.4&nbsp;&nbsp;</span>Tests</a></span></li></ul></li><li><span><a href=\"#Optimization-with-scipy.optimize\" data-toc-modified-id=\"Optimization-with-scipy.optimize-5\"><span class=\"toc-item-num\">5&nbsp;&nbsp;</span>Optimization with <code>scipy.optimize</code></a></span></li></ul></div>"
   ]
  },
  {
   "cell_type": "markdown",
   "metadata": {
    "ExecuteTime": {
     "end_time": "2017-09-08T11:43:41.324835Z",
     "start_time": "2017-09-08T11:43:41.308429Z"
    }
   },
   "source": [
    "# Overview\n",
    "https://docs.scipy.org\n",
    "    \n",
    "* python package for scientific engineering\n",
    "* based on NumPy's array\n",
    "* mostly written in Fortran, and C\n",
    "\n",
    "* contains lots of different sub packages for different applications, among others:\n",
    "    + `fftpack`: Fast Fourier Transform routines\n",
    "    + `integrate`: Integration and ordinary differential equation solvers\n",
    "    + `io`: Input and Output\n",
    "    + `linalg`: Linear algebra\n",
    "    + `optimize`: Optimization and root-finding routines\n",
    "    + `signal`: Signal processing\n",
    "    + `sparse`: Sparse matrices and associated routines\n",
    "    + `spatial`: Spatial data structures and algorithms\n",
    "    + `stats`: Statistical distributions and functions"
   ]
  },
  {
   "cell_type": "code",
   "execution_count": null,
   "metadata": {
    "ExecuteTime": {
     "end_time": "2017-09-08T11:44:18.471818Z",
     "start_time": "2017-09-08T11:44:18.193666Z"
    }
   },
   "outputs": [],
   "source": [
    "import numpy as np\n",
    "import matplotlib.pyplot as plt\n",
    "%matplotlib"
   ]
  },
  {
   "cell_type": "markdown",
   "metadata": {
    "ExecuteTime": {
     "end_time": "2017-09-08T11:44:30.891001Z",
     "start_time": "2017-09-08T11:44:30.886994Z"
    }
   },
   "source": [
    "# Linear Algebra with `scipy.linalg`\n",
    "https://docs.scipy.org/doc/scipy/reference/tutorial/linalg.html\n",
    "\n",
    "* `scipy.linalg` contains the same functions as `numpy.linalg` and more\n",
    "* always accelerated by BLAS/LAPACK (other than numpy)\n",
    "\n",
    "## Basic operations\n",
    "* most methods very discoverable\n",
    "  + determinant: `.det(matrix)`\n",
    "  + inverse: `.inv(matrix)`\n",
    "  + singular-value decomposition (SVD): `.svd(matrix)` (lots of other decompositions included as well)\n",
    "  + eigenvectors and values: `.eig(matrix)`\n",
    "  + eigenvalues: `.eigvals(matrix)`"
   ]
  },
  {
   "cell_type": "code",
   "execution_count": null,
   "metadata": {
    "ExecuteTime": {
     "end_time": "2017-09-08T11:46:27.869127Z",
     "start_time": "2017-09-08T11:46:27.866322Z"
    }
   },
   "outputs": [],
   "source": [
    "from scipy import linalg"
   ]
  },
  {
   "cell_type": "code",
   "execution_count": null,
   "metadata": {
    "ExecuteTime": {
     "end_time": "2017-09-08T11:56:33.717365Z",
     "start_time": "2017-09-08T11:56:33.712339Z"
    }
   },
   "outputs": [],
   "source": [
    "matrix = np.array([[1, 2,],\n",
    "                   [3, 4,],\n",
    "                  ])\n",
    "linalg.det(matrix)"
   ]
  },
  {
   "cell_type": "code",
   "execution_count": null,
   "metadata": {
    "ExecuteTime": {
     "end_time": "2017-09-08T11:56:35.112527Z",
     "start_time": "2017-09-08T11:56:35.102649Z"
    }
   },
   "outputs": [],
   "source": [
    "nonsquare = np.array([[1, 2, 3,],\n",
    "                      [4, 5, 6]\n",
    "                     ])\n",
    "linalg.det(nonsquare)"
   ]
  },
  {
   "cell_type": "code",
   "execution_count": null,
   "metadata": {
    "ExecuteTime": {
     "end_time": "2017-09-08T11:56:35.297433Z",
     "start_time": "2017-09-08T11:56:35.292851Z"
    }
   },
   "outputs": [],
   "source": [
    "imatrix = linalg.inv(matrix)\n",
    "imatrix"
   ]
  },
  {
   "cell_type": "code",
   "execution_count": null,
   "metadata": {
    "ExecuteTime": {
     "end_time": "2017-09-08T11:56:35.473842Z",
     "start_time": "2017-09-08T11:56:35.468448Z"
    }
   },
   "outputs": [],
   "source": [
    "np.dot(imatrix, matrix)"
   ]
  },
  {
   "cell_type": "code",
   "execution_count": null,
   "metadata": {
    "ExecuteTime": {
     "end_time": "2017-09-08T11:56:35.644694Z",
     "start_time": "2017-09-08T11:56:35.639697Z"
    }
   },
   "outputs": [],
   "source": [
    "np.dot(imatrix, matrix) == np.eye(2)"
   ]
  },
  {
   "cell_type": "code",
   "execution_count": null,
   "metadata": {
    "ExecuteTime": {
     "end_time": "2017-09-08T11:58:13.183373Z",
     "start_time": "2017-09-08T11:58:13.179256Z"
    }
   },
   "outputs": [],
   "source": [
    "np.allclose(np.dot(imatrix, matrix), np.eye(2))"
   ]
  },
  {
   "cell_type": "code",
   "execution_count": null,
   "metadata": {
    "ExecuteTime": {
     "end_time": "2017-09-08T11:58:54.118060Z",
     "start_time": "2017-09-08T11:58:54.112163Z"
    }
   },
   "outputs": [],
   "source": [
    "matrix = np.arange(9).reshape((3, 3)) + np.diag([1, 0, 1])\n",
    "matrix"
   ]
  },
  {
   "cell_type": "code",
   "execution_count": null,
   "metadata": {
    "ExecuteTime": {
     "end_time": "2017-09-08T11:59:40.717959Z",
     "start_time": "2017-09-08T11:59:40.713398Z"
    }
   },
   "outputs": [],
   "source": [
    "uarr, spec, vharr = linalg.svd(matrix)\n",
    "uarr"
   ]
  },
  {
   "cell_type": "code",
   "execution_count": null,
   "metadata": {
    "ExecuteTime": {
     "end_time": "2017-09-08T12:08:29.281138Z",
     "start_time": "2017-09-08T12:08:29.273271Z"
    }
   },
   "outputs": [],
   "source": [
    "matrix = np.array([[0, 2, -1],\n",
    "                   [2, -1, 1],\n",
    "                   [2, -1, 3]\n",
    "                  ])\n",
    "linalg.l(matrix)\n"
   ]
  },
  {
   "cell_type": "code",
   "execution_count": null,
   "metadata": {
    "ExecuteTime": {
     "end_time": "2017-09-08T12:08:30.770285Z",
     "start_time": "2017-09-08T12:08:30.765148Z"
    }
   },
   "outputs": [],
   "source": [
    "nlambdas[0]"
   ]
  },
  {
   "cell_type": "code",
   "execution_count": null,
   "metadata": {
    "ExecuteTime": {
     "end_time": "2017-09-08T12:10:26.628563Z",
     "start_time": "2017-09-08T12:10:26.624027Z"
    }
   },
   "outputs": [],
   "source": [
    "linalg.eigvals(matrix)"
   ]
  },
  {
   "cell_type": "markdown",
   "metadata": {
    "ExecuteTime": {
     "end_time": "2017-09-08T12:15:42.830702Z",
     "start_time": "2017-09-08T12:15:42.825015Z"
    }
   },
   "source": [
    "## Solving linear systems\n",
    "\n",
    "* use `linalg.solve(A, b)`\n",
    "\n",
    "\\begin{eqnarray*} x + 3y + 5z & = & 10 \\\\ 2x + 5y + z & = & 8 \\\\ 2x + 3y + 8z & = & 3 \\end{eqnarray*}\n",
    "\n",
    "\\begin{split}\\left[\\begin{array}{c} x\\\\ y\\\\ z\\end{array}\\right]=\\left[\\begin{array}{ccc} 1 & 3 & 5\\\\ 2 & 5 & 1\\\\ 2 & 3 & 8\\end{array}\\right]^{-1}\\left[\\begin{array}{c} 10\\\\ 8\\\\ 3\\end{array}\\right]\\end{split}"
   ]
  },
  {
   "cell_type": "code",
   "execution_count": null,
   "metadata": {
    "ExecuteTime": {
     "end_time": "2017-09-08T12:18:57.861306Z",
     "start_time": "2017-09-08T12:18:57.851153Z"
    }
   },
   "outputs": [],
   "source": [
    "A = np.array([[1, 3, 5],\n",
    "              [2, 5, 1],\n",
    "              [2, 3, 8],\n",
    "             ])\n",
    "b = np.array([10, 8, 3])\n",
    "solution = np.linalg.solve(A, b)\n",
    "solution"
   ]
  },
  {
   "cell_type": "code",
   "execution_count": null,
   "metadata": {
    "ExecuteTime": {
     "end_time": "2017-09-08T12:19:44.928403Z",
     "start_time": "2017-09-08T12:19:44.924116Z"
    }
   },
   "outputs": [],
   "source": [
    "A.dot(solution) - b"
   ]
  },
  {
   "cell_type": "markdown",
   "metadata": {},
   "source": [
    "# Statistics with `scipy.stats`\n",
    "\n",
    "* contains mostly distributions and statistical tests"
   ]
  },
  {
   "cell_type": "code",
   "execution_count": null,
   "metadata": {
    "ExecuteTime": {
     "end_time": "2017-09-08T12:28:51.471803Z",
     "start_time": "2017-09-08T12:28:51.465438Z"
    }
   },
   "outputs": [],
   "source": [
    "import scipy.stats as stats\n",
    "\n",
    "import matplotlib.pyplot as plt\n",
    "%matplotlib inline"
   ]
  },
  {
   "cell_type": "markdown",
   "metadata": {
    "ExecuteTime": {
     "end_time": "2017-09-08T12:26:05.671125Z",
     "start_time": "2017-09-08T12:26:05.668265Z"
    }
   },
   "source": [
    "## Distributions\n",
    "https://docs.scipy.org/doc/scipy/reference/tutorial/stats.html#random-variables\n",
    "* nearly 100 random variables have been implemented (most of them continous random variables)\n",
    "* commonly used methods are:\n",
    "    + `.rvs()`: Random Variates\n",
    "    + `.pdf()`: Probability Density Function\n",
    "    + `cdf()`: Cumulative Distribution Function\n",
    "    + `sf()`: Survival Function (1-CDF)\n",
    "    + `ppf()`: Percent Point Function (Inverse of CDF)\n",
    "    + `isf()`: Inverse Survival Function (Inverse of SF)\n",
    "    + `stats()`: Return mean, variance, (Fisher’s) skew, or (Fisher’s) kurtosis\n",
    "    + `moment()`: non-central moments of the distribution\n",
    " * distributions can be shifted with the `loc` and scaled with the `scale` parameter (defaults are 0 and 1)"
   ]
  },
  {
   "cell_type": "code",
   "execution_count": null,
   "metadata": {
    "ExecuteTime": {
     "end_time": "2017-09-08T12:40:16.415301Z",
     "start_time": "2017-09-08T12:40:16.410162Z"
    }
   },
   "outputs": [],
   "source": [
    "stats.norm.rvs()"
   ]
  },
  {
   "cell_type": "code",
   "execution_count": null,
   "metadata": {
    "ExecuteTime": {
     "end_time": "2017-09-08T12:32:35.267885Z",
     "start_time": "2017-09-08T12:32:35.262584Z"
    }
   },
   "outputs": [],
   "source": [
    "stats.norm.pdf(0)"
   ]
  },
  {
   "cell_type": "code",
   "execution_count": null,
   "metadata": {
    "ExecuteTime": {
     "end_time": "2017-09-08T12:32:39.904724Z",
     "start_time": "2017-09-08T12:32:39.897507Z"
    }
   },
   "outputs": [],
   "source": [
    "stats.norm.cdf(0)"
   ]
  },
  {
   "cell_type": "code",
   "execution_count": null,
   "metadata": {
    "ExecuteTime": {
     "end_time": "2017-09-08T12:38:18.760187Z",
     "start_time": "2017-09-08T12:38:18.450226Z"
    }
   },
   "outputs": [],
   "source": [
    "grid = np.linspace(-3, 3, 100)\n",
    "pdf = stats.norm.pdf(grid)\n",
    "plt.plot(grid, pdf);"
   ]
  },
  {
   "cell_type": "code",
   "execution_count": null,
   "metadata": {
    "ExecuteTime": {
     "end_time": "2017-09-08T12:43:33.232922Z",
     "start_time": "2017-09-08T12:43:32.964825Z"
    }
   },
   "outputs": [],
   "source": [
    "grid = np.linspace(0, 6, 100)\n",
    "cdf = stats.uniform.pdf(grid, loc=1, scale=4)\n",
    "plt.plot(grid, cdf);"
   ]
  },
  {
   "cell_type": "code",
   "execution_count": null,
   "metadata": {
    "ExecuteTime": {
     "end_time": "2017-09-08T12:39:57.248685Z",
     "start_time": "2017-09-08T12:39:57.244509Z"
    }
   },
   "outputs": [],
   "source": [
    "stats.uniform.rvs()"
   ]
  },
  {
   "cell_type": "code",
   "execution_count": null,
   "metadata": {
    "ExecuteTime": {
     "end_time": "2017-09-08T12:41:21.265102Z",
     "start_time": "2017-09-08T12:41:21.261461Z"
    }
   },
   "outputs": [],
   "source": [
    "gamma = stats.gamma(1, scale=2)  # freeze the distribution"
   ]
  },
  {
   "cell_type": "code",
   "execution_count": null,
   "metadata": {
    "ExecuteTime": {
     "end_time": "2017-09-08T12:40:54.783198Z",
     "start_time": "2017-09-08T12:40:54.777022Z"
    }
   },
   "outputs": [],
   "source": [
    "gamma.rvs()"
   ]
  },
  {
   "cell_type": "code",
   "execution_count": null,
   "metadata": {
    "ExecuteTime": {
     "end_time": "2017-09-08T12:48:17.197226Z",
     "start_time": "2017-09-08T12:48:16.683498Z"
    }
   },
   "outputs": [],
   "source": [
    "grid = np.linspace(0, 20, 100)\n",
    "cdf = stats.geom.cdf(grid, p=0.2)  # geometric distribution is discrete\n",
    "plt.bar(grid, cdf);"
   ]
  },
  {
   "cell_type": "markdown",
   "metadata": {},
   "source": [
    "* you can also build your own distributions by subclassing the existing ones"
   ]
  },
  {
   "cell_type": "markdown",
   "metadata": {
    "ExecuteTime": {
     "end_time": "2017-09-08T12:48:12.702801Z",
     "start_time": "2017-09-08T12:48:12.700279Z"
    }
   },
   "source": [
    "## Descriptive Statistics\n",
    "* `stats.describe(a)` returns description of observable\n"
   ]
  },
  {
   "cell_type": "code",
   "execution_count": null,
   "metadata": {
    "ExecuteTime": {
     "end_time": "2017-09-08T12:51:06.068510Z",
     "start_time": "2017-09-08T12:51:06.049500Z"
    }
   },
   "outputs": [],
   "source": [
    "import pandas as pd\n",
    "iris = pd.read_csv('data/iris.csv')\n",
    "iris.head()"
   ]
  },
  {
   "cell_type": "code",
   "execution_count": null,
   "metadata": {
    "ExecuteTime": {
     "end_time": "2017-09-08T12:58:48.986639Z",
     "start_time": "2017-09-08T12:58:48.981511Z"
    }
   },
   "outputs": [],
   "source": [
    "stats.describe(iris['sepal_length'])"
   ]
  },
  {
   "cell_type": "markdown",
   "metadata": {},
   "source": [
    "## Fitting"
   ]
  },
  {
   "cell_type": "code",
   "execution_count": null,
   "metadata": {
    "ExecuteTime": {
     "end_time": "2017-09-08T12:59:18.152607Z",
     "start_time": "2017-09-08T12:59:18.148494Z"
    }
   },
   "outputs": [],
   "source": [
    "stats.norm.fit(iris['sepal_length'])"
   ]
  },
  {
   "cell_type": "code",
   "execution_count": null,
   "metadata": {
    "ExecuteTime": {
     "end_time": "2017-09-08T12:59:25.990601Z",
     "start_time": "2017-09-08T12:59:25.741740Z"
    }
   },
   "outputs": [],
   "source": [
    "data = iris['sepal_length']\n",
    "\n",
    "grid = np.linspace(4, 8, 20)\n",
    "bins = 0.5 * (grid[1:] + grid[:-1])\n",
    "histogram = np.histogram(data, bins=grid, normed=True)[0]\n",
    "\n",
    "b = stats.norm.pdf(bins, loc=5.84, scale=0.82)\n",
    "plt.plot(bins, histogram)\n",
    "plt.plot(bins, b )"
   ]
  },
  {
   "cell_type": "markdown",
   "metadata": {},
   "source": [
    "## Tests\n",
    "* `.pearsonr(a, b)`/`spearmanr(a, b)` to test if distributions are equal\n",
    "* t-tests: `.ttest_ind(a, b)`, `.ttest_rel(a, b)`, `ttest_1samp(a)`\n",
    "* Wilcoxon: `.wilcoxon(a, b)`"
   ]
  },
  {
   "cell_type": "code",
   "execution_count": null,
   "metadata": {
    "ExecuteTime": {
     "end_time": "2017-09-08T13:06:44.097383Z",
     "start_time": "2017-09-08T13:06:44.091765Z"
    }
   },
   "outputs": [],
   "source": [
    "stats.pearsonr(data, stats.norm(loc=5.84, scale=0.82).rvs(len(data)))"
   ]
  },
  {
   "cell_type": "markdown",
   "metadata": {
    "ExecuteTime": {
     "end_time": "2017-09-08T13:07:35.730345Z",
     "start_time": "2017-09-08T13:07:35.724667Z"
    }
   },
   "source": [
    "<div class=\"alert alert-success\">\n",
    "    <b>EXERCISES</b>\n",
    "    <li>create a gamma distribution with shape=1 of 1000 samples and plot its histogram together with its PDF</li>\n",
    "    <li>can you find the shape parameter when fitting the random variables?</li>\n",
    "    <li>check if the sepal lengths distributions are different between the different iris species</li>\n",
    "    <li>Look up what the return values of the test functions mean</li>\n",
    "    <li>see if a normal distribution can be fitted better to single species sepal lengths distributions</li>\n",
    "    <li>test if the distributions of sepal and petal lengths and widths are different from each other, do different tests for the different species, note, that as these observations are related, you might want to use `stats.ttest_rel()`</li>\n",
    "    \n",
    "</div>\n",
    "\n",
    "    groups = iris.groupby('species')\n",
    "    setosa = groups.get_group('setosa')['sepal_length']\n",
    "    versicolor = groups.get_group('versicolor')['sepal_length']\n",
    "    virginica = groups.get_group('virginica')['sepal_length']"
   ]
  },
  {
   "cell_type": "code",
   "execution_count": null,
   "metadata": {
    "ExecuteTime": {
     "end_time": "2017-09-08T13:11:23.975000Z",
     "start_time": "2017-09-08T13:11:23.524740Z"
    },
    "tags": [
     "solution"
    ]
   },
   "outputs": [],
   "source": [
    "data = stats.gamma(1).rvs(1000)\n",
    "plt.hist(data, bins=100, normed=True)\n",
    "grid = np.linspace(0, 10, 100)\n",
    "plt.plot(grid, stats.gamma(1).pdf(grid))\n"
   ]
  },
  {
   "cell_type": "code",
   "execution_count": null,
   "metadata": {
    "ExecuteTime": {
     "end_time": "2017-09-08T13:11:50.717356Z",
     "start_time": "2017-09-08T13:11:49.899814Z"
    },
    "tags": [
     "solution"
    ]
   },
   "outputs": [],
   "source": [
    "stats.gamma.fit(data)"
   ]
  },
  {
   "cell_type": "code",
   "execution_count": null,
   "metadata": {
    "ExecuteTime": {
     "end_time": "2017-09-08T13:26:19.952236Z",
     "start_time": "2017-09-08T13:26:19.947137Z"
    }
   },
   "outputs": [],
   "source": [
    "stats.pearsonr(iris['sepal_length'], iris['petal_length'])"
   ]
  },
  {
   "cell_type": "code",
   "execution_count": null,
   "metadata": {
    "ExecuteTime": {
     "end_time": "2017-09-08T13:34:57.376375Z",
     "start_time": "2017-09-08T13:34:57.367047Z"
    }
   },
   "outputs": [],
   "source": [
    "groups = iris.groupby('species')\n",
    "setosa = groups.get_group('setosa')['sepal_length']\n",
    "versicolor = groups.get_group('versicolor')['sepal_length']\n",
    "virginica = groups.get_group('virginica')['sepal_length']"
   ]
  },
  {
   "cell_type": "code",
   "execution_count": null,
   "metadata": {
    "ExecuteTime": {
     "end_time": "2017-09-08T13:34:54.378668Z",
     "start_time": "2017-09-08T13:34:54.374332Z"
    }
   },
   "outputs": [],
   "source": [
    "stats.ttest_rel(setosa, versicolor)"
   ]
  },
  {
   "cell_type": "markdown",
   "metadata": {
    "ExecuteTime": {
     "end_time": "2017-09-08T13:39:11.769283Z",
     "start_time": "2017-09-08T13:39:11.767004Z"
    }
   },
   "source": [
    "# Optimization with `scipy.optimize`\n",
    "* contains methods for function minimization, cure fitting and root finding\n",
    "https://docs.scipy.org/doc/scipy/reference/tutorial/optimize.html"
   ]
  },
  {
   "cell_type": "code",
   "execution_count": null,
   "metadata": {
    "ExecuteTime": {
     "end_time": "2017-09-08T13:44:31.054966Z",
     "start_time": "2017-09-08T13:44:31.052477Z"
    }
   },
   "outputs": [],
   "source": [
    "from scipy import optimize"
   ]
  },
  {
   "cell_type": "code",
   "execution_count": null,
   "metadata": {
    "ExecuteTime": {
     "end_time": "2017-09-08T13:44:31.765850Z",
     "start_time": "2017-09-08T13:44:31.571533Z"
    }
   },
   "outputs": [],
   "source": [
    "def f(x):\n",
    "    return x ** 2 + 10 * np.sin(x)\n",
    "\n",
    "x = np.arange(-10, 10, 0.1)\n",
    "plt.plot(x, f(x));"
   ]
  },
  {
   "cell_type": "code",
   "execution_count": null,
   "metadata": {
    "ExecuteTime": {
     "end_time": "2017-09-08T13:46:57.379913Z",
     "start_time": "2017-09-08T13:46:57.371981Z"
    }
   },
   "outputs": [],
   "source": [
    "minimum = optimize.fmin_bfgs(f, 0)  # Broyden-Fletcher–Goldfarb-Shanno\n",
    "minimum"
   ]
  },
  {
   "cell_type": "code",
   "execution_count": null,
   "metadata": {
    "ExecuteTime": {
     "end_time": "2017-09-08T13:46:52.403954Z",
     "start_time": "2017-09-08T13:46:52.159337Z"
    }
   },
   "outputs": [],
   "source": [
    "plt.plot(x, f(x));\n",
    "plt.scatter([minimum], [f(minimum)], marker='x', color='C3', s=200);"
   ]
  },
  {
   "cell_type": "code",
   "execution_count": null,
   "metadata": {
    "ExecuteTime": {
     "end_time": "2017-09-08T13:47:09.358730Z",
     "start_time": "2017-09-08T13:47:09.353162Z"
    }
   },
   "outputs": [],
   "source": [
    "minimum = optimize.fmin_l_bfgs_b\n",
    "minimum"
   ]
  },
  {
   "cell_type": "code",
   "execution_count": null,
   "metadata": {
    "ExecuteTime": {
     "end_time": "2017-09-08T13:47:16.595039Z",
     "start_time": "2017-09-08T13:47:16.349945Z"
    }
   },
   "outputs": [],
   "source": [
    "plt.plot(x, f(x));\n",
    "plt.scatter([minimum], [f(minimum)], marker='x', color='C3', s=200);"
   ]
  },
  {
   "cell_type": "markdown",
   "metadata": {},
   "source": [
    "<div class=\"alert alert-success\">\n",
    "    <b>EXERCISE:</b>\n",
    "    <li>Plot the following two dimensional function as an image (`.imshow()`, or as a 3D plot</li>\n",
    "    <li>use `fmin_bfgs()` to find more than one minimum</li>\n",
    "    <li>what happens if you give a start value of [0, 0]</li>\n",
    "    \n",
    "</div>\n",
    "\n",
    "    def sixhump(x):\n",
    "        return (4 - 2.1*x[0]**2 + x[0]**4 / 3.) * x[0]**2 + x[0] * x[1] + (-4 + 4*x[1]**2) * x[1] **2\n",
    "        \n",
    "hint for 3D plot:\n",
    "\n",
    "    from mpl_toolkits.mplot3d import Axes3D\n",
    "    fig = plt.figure()\n",
    "    ax = fig.add_subplot(111, projection='3d')\n",
    "    surf = ax.plot_surface(xgrid, ygrid, function([x, y])) "
   ]
  },
  {
   "cell_type": "code",
   "execution_count": null,
   "metadata": {
    "ExecuteTime": {
     "end_time": "2017-09-08T13:59:10.969677Z",
     "start_time": "2017-09-08T13:59:10.795346Z"
    },
    "tags": [
     "solution"
    ]
   },
   "outputs": [],
   "source": [
    "def sixhump(x):\n",
    "    return (4 - 2.1*x[0]**2 + x[0]**4 / 3.) * x[0]**2 + x[0] * x[1] + (-4 + 4*x[1]**2) * x[1] **2\n",
    "\n",
    "x = np.linspace(-2, 2)\n",
    "y = np.linspace(-1, 1)\n",
    "xg, yg = np.meshgrid(x, y)\n",
    "\n",
    "plt.imshow(sixhump([xg, yg]))"
   ]
  },
  {
   "cell_type": "code",
   "execution_count": null,
   "metadata": {
    "ExecuteTime": {
     "end_time": "2017-09-08T13:59:32.693805Z",
     "start_time": "2017-09-08T13:59:31.825050Z"
    },
    "tags": [
     "solution"
    ]
   },
   "outputs": [],
   "source": [
    "from mpl_toolkits.mplot3d import Axes3D\n",
    "fig = plt.figure()\n",
    "ax = fig.add_subplot(111, projection='3d')\n",
    "surf = ax.plot_surface(xg, yg, sixhump([xg, yg]), rstride=1, cstride=1,\n",
    "                       cmap=plt.cm.jet, linewidth=0, antialiased=False)\n",
    " "
   ]
  },
  {
   "cell_type": "code",
   "execution_count": null,
   "metadata": {
    "ExecuteTime": {
     "end_time": "2017-09-08T14:03:17.715284Z",
     "start_time": "2017-09-08T14:03:17.704811Z"
    },
    "tags": [
     "solution"
    ]
   },
   "outputs": [],
   "source": [
    "optimize.fmin_bfgs(sixhump, [3, 0])"
   ]
  },
  {
   "cell_type": "markdown",
   "metadata": {},
   "source": [
    "CC BY-NC Christian Geier, 2017\n",
    "\n",
    "All code and material is licensed under [Attribution-NonCommercial 4.0 International (CC BY-NC 4.0) ](https://creativecommons.org/licenses/by-nc/4.0/)\n",
    "\n",
    "Contains some content from http://www.scipy-lectures.org, licensed under [Creative Commons Attribution 4.0 International License (CC-by)](https://creativecommons.org/licenses/by/4.0/), see [Authors](http://www.scipy-lectures.org/preface.html#authors) for a list of authors.\n"
   ]
  }
 ],
 "metadata": {
  "celltoolbar": "Tags",
  "hide_input": false,
  "kernelspec": {
   "display_name": "Python 3",
   "language": "python",
   "name": "python3"
  },
  "language_info": {
   "codemirror_mode": {
    "name": "ipython",
    "version": 3
   },
   "file_extension": ".py",
   "mimetype": "text/x-python",
   "name": "python",
   "nbconvert_exporter": "python",
   "pygments_lexer": "ipython3",
   "version": "3.6.4"
  },
  "toc": {
   "base_numbering": 1,
   "nav_menu": {},
   "number_sections": true,
   "sideBar": true,
   "skip_h1_title": false,
   "title_cell": "Table of Contents",
   "title_sidebar": "Contents",
   "toc_cell": true,
   "toc_position": {},
   "toc_section_display": "block",
   "toc_window_display": true
  }
 },
 "nbformat": 4,
 "nbformat_minor": 2
}
