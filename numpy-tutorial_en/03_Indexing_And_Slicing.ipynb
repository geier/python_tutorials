{
 "cells": [
  {
   "cell_type": "markdown",
   "metadata": {
    "toc": "true"
   },
   "source": [
    "<h1>Table of Contents<span class=\"tocSkip\"></span></h1>\n",
    "<div class=\"toc\"><ul class=\"toc-item\"><li><span><a href=\"#Table-of-Contents\" data-toc-modified-id=\"Table-of-Contents-1\"><span class=\"toc-item-num\">1&nbsp;&nbsp;</span>Table of Contents</a></span></li><li><span><a href=\"#Indexing-and-Slicing\" data-toc-modified-id=\"Indexing-and-Slicing-2\"><span class=\"toc-item-num\">2&nbsp;&nbsp;</span>Indexing and Slicing</a></span><ul class=\"toc-item\"><li><span><a href=\"#Simple-Indexing\" data-toc-modified-id=\"Simple-Indexing-2.1\"><span class=\"toc-item-num\">2.1&nbsp;&nbsp;</span>Simple Indexing</a></span></li><li><span><a href=\"#Using-slices\" data-toc-modified-id=\"Using-slices-2.2\"><span class=\"toc-item-num\">2.2&nbsp;&nbsp;</span>Using <code>slices</code></a></span></li><li><span><a href=\"#Advanced-slicing\" data-toc-modified-id=\"Advanced-slicing-2.3\"><span class=\"toc-item-num\">2.3&nbsp;&nbsp;</span>Advanced slicing</a></span></li><li><span><a href=\"#Indexing-via-lists/arrays\" data-toc-modified-id=\"Indexing-via-lists/arrays-2.4\"><span class=\"toc-item-num\">2.4&nbsp;&nbsp;</span>Indexing via lists/arrays</a></span></li></ul></li><li><span><a href=\"#Exercises:\" data-toc-modified-id=\"Exercises:-3\"><span class=\"toc-item-num\">3&nbsp;&nbsp;</span>Exercises:</a></span></li></ul></div>"
   ]
  },
  {
   "cell_type": "markdown",
   "metadata": {},
   "source": [
    "# Indexing and Slicing\n",
    "## Simple Indexing\n",
    "\n",
    "![axis](files/axis.png)\n",
    "\n",
    "\n",
    "\n",
    "<div class=\"alert alert\">\n",
    "**Warning for FORTRAN/MATLAB-Users: the index is 0-based!**\n",
    "</div>\n"
   ]
  },
  {
   "cell_type": "code",
   "execution_count": 4,
   "metadata": {
    "ExecuteTime": {
     "end_time": "2018-10-15T13:14:28.621227Z",
     "start_time": "2018-10-15T13:14:28.616882Z"
    },
    "slideshow": {
     "slide_type": "-"
    }
   },
   "outputs": [
    {
     "name": "stdout",
     "output_type": "stream",
     "text": [
      "18\n"
     ]
    }
   ],
   "source": [
    "import numpy as np\n",
    "\n",
    "data = np.arange(1, 28).reshape(3, 3, 3)\n",
    "\n",
    "green = data[1, 2, 2]  # not the same as data[1][2][2]\n",
    "print(green)\n",
    "\n",
    "# Alternative:\n",
    "green = data[-2, -1, -1]    # Indexing from the end\n",
    "\n",
    "# Assignment:\n",
    "data[0, 1, 2] = 4711"
   ]
  },
  {
   "cell_type": "code",
   "execution_count": 6,
   "metadata": {
    "ExecuteTime": {
     "end_time": "2018-10-15T13:15:18.232867Z",
     "start_time": "2018-10-15T13:15:18.228583Z"
    }
   },
   "outputs": [
    {
     "data": {
      "text/plain": [
       "array([16, 17, 18])"
      ]
     },
     "execution_count": 6,
     "metadata": {},
     "output_type": "execute_result"
    }
   ],
   "source": [
    "\n",
    "\n",
    "\n",
    "\n",
    "data[1, 2]"
   ]
  },
  {
   "cell_type": "markdown",
   "metadata": {
    "slideshow": {
     "slide_type": "subslide"
    }
   },
   "source": [
    "## Using `slices`\n",
    "\n",
    "![slice_1](files/slice_1.png \"slice_1\")\n",
    "![slice_2](files/slice_2.png \"slice_2\")\n",
    "![slice_3](files/slice_3.png \"slice_3\")\n",
    "![slice_5](files/slice_5.png \"slice_5\")"
   ]
  },
  {
   "cell_type": "code",
   "execution_count": 7,
   "metadata": {
    "ExecuteTime": {
     "end_time": "2018-10-15T13:15:54.708837Z",
     "start_time": "2018-10-15T13:15:54.703320Z"
    },
    "slideshow": {
     "slide_type": "-"
    }
   },
   "outputs": [
    {
     "data": {
      "text/plain": [
       "array([4, 5, 6])"
      ]
     },
     "execution_count": 7,
     "metadata": {},
     "output_type": "execute_result"
    }
   ],
   "source": [
    "data = np.arange(1, 10).reshape(3, 3)\n",
    "\n",
    "# Select the second row\n",
    "data[1, :]"
   ]
  },
  {
   "cell_type": "code",
   "execution_count": 8,
   "metadata": {
    "ExecuteTime": {
     "end_time": "2018-10-15T13:16:20.187089Z",
     "start_time": "2018-10-15T13:16:20.182711Z"
    },
    "slideshow": {
     "slide_type": "fragment"
    }
   },
   "outputs": [
    {
     "data": {
      "text/plain": [
       "array([[1, 2, 3],\n",
       "       [7, 8, 9]])"
      ]
     },
     "execution_count": 8,
     "metadata": {},
     "output_type": "execute_result"
    }
   ],
   "source": [
    "# Selecting every second row\n",
    "data[::2]"
   ]
  },
  {
   "cell_type": "code",
   "execution_count": null,
   "metadata": {
    "collapsed": true,
    "slideshow": {
     "slide_type": "fragment"
    }
   },
   "outputs": [],
   "source": [
    "# Selecting everything until the second row and column\n",
    "data[:2, :2]"
   ]
  },
  {
   "cell_type": "code",
   "execution_count": null,
   "metadata": {
    "collapsed": true
   },
   "outputs": [],
   "source": [
    "# Careful!!! data[:2][:2] != data[:2, :2] !!!\n",
    "data[:2][:2]"
   ]
  },
  {
   "cell_type": "code",
   "execution_count": 9,
   "metadata": {
    "ExecuteTime": {
     "end_time": "2018-10-15T13:16:34.075872Z",
     "start_time": "2018-10-15T13:16:34.070678Z"
    }
   },
   "outputs": [
    {
     "data": {
      "text/plain": [
       "array([[ 1, 99, 99],\n",
       "       [ 4, 99, 99],\n",
       "       [ 7, 99, 99]])"
      ]
     },
     "execution_count": 9,
     "metadata": {},
     "output_type": "execute_result"
    }
   ],
   "source": [
    "# assignment via \"fancy\" indexing:\n",
    "data[:, 1:] = 99\n",
    "data"
   ]
  },
  {
   "cell_type": "markdown",
   "metadata": {
    "slideshow": {
     "slide_type": "subslide"
    }
   },
   "source": [
    "## Advanced slicing\n",
    "![slice_6](files/slice_6.png \"slice_6\")"
   ]
  },
  {
   "cell_type": "code",
   "execution_count": null,
   "metadata": {
    "collapsed": true,
    "slideshow": {
     "slide_type": "skip"
    }
   },
   "outputs": [],
   "source": [
    "data = np.array([[1, 2, 5], [5, 4, 7], [3, 9, 2]])"
   ]
  },
  {
   "cell_type": "code",
   "execution_count": null,
   "metadata": {
    "collapsed": true,
    "slideshow": {
     "slide_type": "-"
    }
   },
   "outputs": [],
   "source": [
    "# Choosing all entries > 4\n",
    "data[data > 4]"
   ]
  },
  {
   "cell_type": "code",
   "execution_count": null,
   "metadata": {
    "collapsed": true,
    "slideshow": {
     "slide_type": "fragment"
    }
   },
   "outputs": [],
   "source": [
    "# What's happening here?\n",
    "data > 4"
   ]
  },
  {
   "cell_type": "code",
   "execution_count": null,
   "metadata": {
    "collapsed": true,
    "slideshow": {
     "slide_type": "fragment"
    }
   },
   "outputs": [],
   "source": [
    "# Getting all indices where \"data > 4\" (np.where gets the indices of all True elements): \n",
    "np.where(data > 4)"
   ]
  },
  {
   "cell_type": "code",
   "execution_count": null,
   "metadata": {
    "collapsed": true,
    "slideshow": {
     "slide_type": "fragment"
    }
   },
   "outputs": [],
   "source": [
    "# Getting the diagonal elements\n",
    "data.diagonal()"
   ]
  },
  {
   "cell_type": "markdown",
   "metadata": {
    "slideshow": {
     "slide_type": "subslide"
    }
   },
   "source": [
    "## Indexing via lists/arrays"
   ]
  },
  {
   "cell_type": "code",
   "execution_count": 11,
   "metadata": {
    "ExecuteTime": {
     "end_time": "2018-10-15T13:17:35.196869Z",
     "start_time": "2018-10-15T13:17:35.191981Z"
    },
    "slideshow": {
     "slide_type": "-"
    }
   },
   "outputs": [
    {
     "name": "stdout",
     "output_type": "stream",
     "text": [
      "data:\n",
      "[[0. 0. 0. 0.]\n",
      " [1. 1. 1. 1.]\n",
      " [2. 2. 2. 2.]\n",
      " [3. 3. 3. 3.]\n",
      " [4. 4. 4. 4.]\n",
      " [5. 5. 5. 5.]\n",
      " [6. 6. 6. 6.]]\n",
      "\n",
      "selection:\n",
      "[[0. 0. 0. 0.]\n",
      " [2. 2. 2. 2.]\n",
      " [3. 3. 3. 3.]]\n",
      "\n"
     ]
    }
   ],
   "source": [
    "data = (np.ones(shape=(4, 7)) * np.arange(0, 7)).T\n",
    "print(\"data:\\n{}\\n\".format(data))\n",
    "\n",
    "selection = data[[True, False, True, True, False, False, False]]\n",
    "print(\"selection:\\n{}\\n\".format(selection))"
   ]
  },
  {
   "cell_type": "markdown",
   "metadata": {},
   "source": [
    "# Exercises:\n",
    "\n",
    "<div class=\"alert alert-success\">\n",
    "<li>Create an 8 x 8 check board with 1s and 0s</li>\n",
    "\n",
    "</div>"
   ]
  },
  {
   "cell_type": "code",
   "execution_count": null,
   "metadata": {
    "ExecuteTime": {
     "end_time": "2017-09-08T08:03:31.200742Z",
     "start_time": "2017-09-08T08:03:31.194535Z"
    },
    "collapsed": true
   },
   "outputs": [],
   "source": [
    "chess = np.zeros(shape=(8, 8), dtype=int)\n",
    "chess[1::2, ::2] = 1\n",
    "chess[::2, 1::2] = 1\n",
    "print(chess)"
   ]
  },
  {
   "cell_type": "markdown",
   "metadata": {},
   "source": [
    "<div class=\"alert alert-success\">\n",
    "<li> Choose all colored elements </li>\n",
    "</div>\n",
    "![slice_7](files/slice_7.png \"slice_7\")  "
   ]
  },
  {
   "cell_type": "code",
   "execution_count": null,
   "metadata": {
    "ExecuteTime": {
     "end_time": "2017-09-08T08:03:43.730536Z",
     "start_time": "2017-09-08T08:03:43.723835Z"
    },
    "collapsed": true
   },
   "outputs": [],
   "source": [
    "data = np.arange(1, 26).reshape(5, 5)\n",
    "data"
   ]
  },
  {
   "cell_type": "code",
   "execution_count": null,
   "metadata": {
    "ExecuteTime": {
     "end_time": "2017-09-08T08:04:01.936239Z",
     "start_time": "2017-09-08T08:04:01.923169Z"
    },
    "collapsed": true
   },
   "outputs": [],
   "source": [
    "yellow = np.diag(data)\n",
    "print(\"yellow:\\n{}\".format(yellow))\n",
    "\n",
    "green = data[1::3]\n",
    "print(\"\\ngreen:\\n{}\".format(green))\n",
    "\n",
    "blue = data[2:4, 1:3]\n",
    "print(\"\\nblue:\\n{}\".format(blue))"
   ]
  },
  {
   "cell_type": "code",
   "execution_count": null,
   "metadata": {
    "collapsed": true
   },
   "outputs": [],
   "source": []
  },
  {
   "cell_type": "markdown",
   "metadata": {},
   "source": [
    "<div class=\"alert alert-success\">\n",
    "<li> assign all yellow elements to 42 (indices\\_from_...)</li></div>"
   ]
  },
  {
   "cell_type": "code",
   "execution_count": null,
   "metadata": {
    "ExecuteTime": {
     "end_time": "2017-09-08T08:04:10.735314Z",
     "start_time": "2017-09-08T08:04:10.730657Z"
    },
    "collapsed": true
   },
   "outputs": [],
   "source": [
    "data[np.diag_indices_from(data)] = 42\n",
    "data"
   ]
  },
  {
   "cell_type": "markdown",
   "metadata": {},
   "source": [
    "<div class=\"alert alert-success\">\n",
    "<li>Select all elements which are odd and dividable by seven</li>\n",
    "</div>"
   ]
  },
  {
   "cell_type": "code",
   "execution_count": null,
   "metadata": {
    "collapsed": true
   },
   "outputs": [],
   "source": [
    "arr = np.arange(100)"
   ]
  },
  {
   "cell_type": "code",
   "execution_count": null,
   "metadata": {
    "collapsed": true
   },
   "outputs": [],
   "source": []
  },
  {
   "cell_type": "markdown",
   "metadata": {},
   "source": [
    "<div class=\"alert alert-success\">\n",
    "<li>Select all elements from arr1 where the entries in arr2 are larger than 2, with arr1 an arr2 arrays with random numbers between 0 and 10</li>\n",
    "</div>"
   ]
  },
  {
   "cell_type": "code",
   "execution_count": null,
   "metadata": {
    "ExecuteTime": {
     "end_time": "2017-09-08T08:04:21.182304Z",
     "start_time": "2017-09-08T08:04:21.176144Z"
    },
    "collapsed": true
   },
   "outputs": [],
   "source": [
    "arr1 = np.random.randint(0, 10, 10)  \n",
    "arr2 = np.random.randint(0, 10, 10)\n",
    "\n",
    "print(\"arr1:\\n  {}\\narr2:\\n  {}\".format(arr1, arr2))"
   ]
  },
  {
   "cell_type": "code",
   "execution_count": null,
   "metadata": {
    "ExecuteTime": {
     "end_time": "2017-09-08T08:05:16.351991Z",
     "start_time": "2017-09-08T08:05:16.347648Z"
    },
    "collapsed": true
   },
   "outputs": [],
   "source": [
    "arr1[arr2 > 2]"
   ]
  },
  {
   "cell_type": "markdown",
   "metadata": {},
   "source": [
    "<div class=\"alert alert-success\">\n",
    "<li>Create an 8 x 8 int)array with 1 on the diagonal, 3 on the tertiary diagonal and 9 in the lower triangle (hint: use np.diag_indices_from, np.eye and np.trial)</li>\n",
    "</div>"
   ]
  },
  {
   "cell_type": "code",
   "execution_count": null,
   "metadata": {
    "ExecuteTime": {
     "end_time": "2017-09-08T08:05:25.908284Z",
     "start_time": "2017-09-08T08:05:25.902188Z"
    },
    "collapsed": true
   },
   "outputs": [],
   "source": [
    "data = np.zeros((8, 8), dtype=int)\n",
    "\n",
    "data[np.diag_indices_from(data)] = 1\n",
    "data"
   ]
  },
  {
   "cell_type": "code",
   "execution_count": null,
   "metadata": {
    "ExecuteTime": {
     "end_time": "2017-09-08T08:05:30.617025Z",
     "start_time": "2017-09-08T08:05:30.610153Z"
    },
    "collapsed": true
   },
   "outputs": [],
   "source": [
    "data[np.tril_indices_from(data, -1)] = 9\n",
    "data"
   ]
  },
  {
   "cell_type": "code",
   "execution_count": null,
   "metadata": {
    "collapsed": true
   },
   "outputs": [],
   "source": []
  }
 ],
 "metadata": {
  "hide_input": false,
  "kernelspec": {
   "display_name": "Python 3",
   "language": "python",
   "name": "python3"
  },
  "language_info": {
   "codemirror_mode": {
    "name": "ipython",
    "version": 3
   },
   "file_extension": ".py",
   "mimetype": "text/x-python",
   "name": "python",
   "nbconvert_exporter": "python",
   "pygments_lexer": "ipython3",
   "version": "3.6.6"
  },
  "toc": {
   "nav_menu": {},
   "number_sections": true,
   "sideBar": true,
   "skip_h1_title": false,
   "title_cell": "Table of Contents",
   "title_sidebar": "Contents",
   "toc_cell": true,
   "toc_position": {},
   "toc_section_display": "block",
   "toc_window_display": true
  }
 },
 "nbformat": 4,
 "nbformat_minor": 1
}
