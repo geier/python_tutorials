{
 "cells": [
  {
   "cell_type": "markdown",
   "metadata": {},
   "source": [
    "# 09 Outlook"
   ]
  },
  {
   "cell_type": "markdown",
   "metadata": {},
   "source": [
    "## Make it go faster!\n",
    "NumPy is already pretty fast (compared to plain python), but sometimes it's not fast enough!"
   ]
  },
  {
   "cell_type": "markdown",
   "metadata": {},
   "source": [
    "### Cython\n",
    "\n",
    "http://cython.org\n",
    "\n",
    "* a static compiler for Python and a language called Cython (which is almost Python)\n",
    "* simplifies writing C Extensions\n",
    "* allows caling of C functions from Python\n",
    "* better performance through static typing\n",
    "* C Code generation from Python or Cython Code\n",
    "* almost all new parts of SciPy are written in Cython\n",
    "* Open Source and Free Software"
   ]
  },
  {
   "cell_type": "markdown",
   "metadata": {},
   "source": [
    "### C-API\n",
    "http://docs.scipy.org/doc/numpy/reference/c-api.html  \n",
    "\n",
    "- higher performance through static typing\n",
    "- numpy arrays behave like C arrays, depending on the memory layout (see flags) \n",
    "- many numpy functions can be called from C\n",
    "- a lot of cross platform problems can be saved by numpy-macros"
   ]
  },
  {
   "cell_type": "markdown",
   "metadata": {},
   "source": [
    "### Numba\n",
    "http://numba.pydata.org/\n",
    "\n",
    "* just-in-time compiler for Python andi NumPy\n",
    "* based on LLVM\n",
    "* really easy to use\n",
    "* Open Source and Free Software\n",
    "* developed by Continuum Analytics/Travis Oliphant\n",
    "\n",
    "* there is a commercial variant with CUDA support \n"
   ]
  },
  {
   "cell_type": "markdown",
   "metadata": {},
   "source": [
    "\n",
    "## Pandas"
   ]
  },
  {
   "cell_type": "markdown",
   "metadata": {},
   "source": [
    "http://pandas.pydata.org/\n",
    "\n",
    "* High Level time series analysis framework\n",
    "* origins in finance\n",
    "* DataFrame, similar to *R*\n",
    "* Open Source and Free Software\n"
   ]
  },
  {
   "cell_type": "code",
   "execution_count": null,
   "metadata": {},
   "outputs": [],
   "source": []
  },
  {
   "cell_type": "code",
   "execution_count": null,
   "metadata": {},
   "outputs": [],
   "source": []
  }
 ],
 "metadata": {
  "kernelspec": {
   "display_name": "Python 3",
   "language": "python",
   "name": "python3"
  },
  "language_info": {
   "codemirror_mode": {
    "name": "ipython",
    "version": 3
   },
   "file_extension": ".py",
   "mimetype": "text/x-python",
   "name": "python",
   "nbconvert_exporter": "python",
   "pygments_lexer": "ipython3",
   "version": "3.4.2"
  }
 },
 "nbformat": 4,
 "nbformat_minor": 1
}
