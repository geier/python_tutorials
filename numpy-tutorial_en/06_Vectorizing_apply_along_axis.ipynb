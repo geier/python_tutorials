{
 "cells": [
  {
   "cell_type": "markdown",
   "metadata": {
    "toc": "true"
   },
   "source": [
    "# Table of Contents\n",
    " <p><div class=\"lev1\"><a href=\"#06-Vectorizing,-apply_along_axis\"><span class=\"toc-item-num\">1&nbsp;&nbsp;</span>06 Vectorizing, apply_along_axis</a></div><div class=\"lev3\"><a href=\"#Example:-Number-of-all-integers-<-1-million-dividable-by-13\"><span class=\"toc-item-num\">1.0.1&nbsp;&nbsp;</span>Example: Number of all integers &lt; 1 million dividable by 13</a></div><div class=\"lev4\"><a href=\"#Python\"><span class=\"toc-item-num\">1.0.1.1&nbsp;&nbsp;</span>Python</a></div><div class=\"lev4\"><a href=\"#NumPy\"><span class=\"toc-item-num\">1.0.1.2&nbsp;&nbsp;</span>NumPy</a></div><div class=\"lev4\"><a href=\"#If-you-can,-don't-iterate-over-vectors!\"><span class=\"toc-item-num\">1.0.1.3&nbsp;&nbsp;</span>If you can, don't iterate over vectors!</a></div>"
   ]
  },
  {
   "cell_type": "markdown",
   "metadata": {},
   "source": [
    "# 06 Vectorizing, apply_along_axis"
   ]
  },
  {
   "cell_type": "code",
   "execution_count": null,
   "metadata": {
    "ExecuteTime": {
     "end_time": "2017-09-08T08:12:56.755546Z",
     "start_time": "2017-09-08T08:12:56.702935Z"
    }
   },
   "outputs": [],
   "source": [
    "import numpy as np"
   ]
  },
  {
   "cell_type": "markdown",
   "metadata": {},
   "source": [
    "### Example: Number of all integers < 1 million dividable by 13"
   ]
  },
  {
   "cell_type": "markdown",
   "metadata": {},
   "source": [
    "#### Python"
   ]
  },
  {
   "cell_type": "code",
   "execution_count": null,
   "metadata": {
    "ExecuteTime": {
     "end_time": "2017-09-08T08:31:39.824877Z",
     "start_time": "2017-09-08T08:31:30.979253Z"
    }
   },
   "outputs": [],
   "source": [
    "%%timeit \n",
    "count = 0\n",
    "for i in range(1000000):\n",
    "    if i % 13 == 0:\n",
    "        count += 1"
   ]
  },
  {
   "cell_type": "markdown",
   "metadata": {},
   "source": [
    "#### NumPy"
   ]
  },
  {
   "cell_type": "code",
   "execution_count": null,
   "metadata": {
    "ExecuteTime": {
     "end_time": "2017-09-08T08:31:39.831450Z",
     "start_time": "2017-09-08T08:31:39.826504Z"
    }
   },
   "outputs": [],
   "source": [
    "a = np.arange(1000000)"
   ]
  },
  {
   "cell_type": "code",
   "execution_count": null,
   "metadata": {
    "ExecuteTime": {
     "end_time": "2017-09-08T08:31:42.312148Z",
     "start_time": "2017-09-08T08:31:39.832901Z"
    }
   },
   "outputs": [],
   "source": [
    "%%timeit \n",
    "count = 0\n",
    "for i in a:\n",
    "    if i % 13 == 0:\n",
    "        count += 1"
   ]
  },
  {
   "cell_type": "markdown",
   "metadata": {},
   "source": [
    "#### If you can, don't iterate over vectors!"
   ]
  },
  {
   "cell_type": "code",
   "execution_count": null,
   "metadata": {
    "ExecuteTime": {
     "end_time": "2017-09-08T08:31:53.057909Z",
     "start_time": "2017-09-08T08:31:42.314295Z"
    }
   },
   "outputs": [],
   "source": [
    "%%timeit\n",
    "np.sum(np.mod(a, 13) == 0)"
   ]
  },
  {
   "cell_type": "code",
   "execution_count": null,
   "metadata": {},
   "outputs": [],
   "source": []
  }
 ],
 "metadata": {
  "hide_input": false,
  "kernelspec": {
   "display_name": "Python 3",
   "language": "python",
   "name": "python3"
  },
  "language_info": {
   "codemirror_mode": {
    "name": "ipython",
    "version": 3
   },
   "file_extension": ".py",
   "mimetype": "text/x-python",
   "name": "python",
   "nbconvert_exporter": "python",
   "pygments_lexer": "ipython3",
   "version": "3.5.2"
  },
  "toc": {
   "toc_cell": true,
   "toc_number_sections": true,
   "toc_threshold": 6,
   "toc_window_display": true
  }
 },
 "nbformat": 4,
 "nbformat_minor": 1
}
