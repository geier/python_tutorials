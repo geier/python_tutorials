{
 "cells": [
  {
   "cell_type": "markdown",
   "metadata": {},
   "source": [
    "# Strided_as\n",
    "\n",
    "* shape tells us, how many elements there are for each dimension\n",
    "* strides tell us, how many bits to jump into each dimension to get the next value\n",
    "\n",
    "* strided_as allows us to create a view onto an array, where data is read differently\n",
    "\n",
    "\n",
    "**Example:**Split a time series in **overlapping windows**\n"
   ]
  },
  {
   "cell_type": "code",
   "execution_count": null,
   "metadata": {},
   "outputs": [],
   "source": [
    "import numpy as np\n",
    "from numpy.lib.stride_tricks import as_strided\n",
    "\n",
    "\n",
    "timeseries = np.arange(1, 101)\n",
    "print(timeseries)\n",
    "\n",
    "window_length = 10\n",
    "overlap = 3"
   ]
  },
  {
   "cell_type": "code",
   "execution_count": null,
   "metadata": {},
   "outputs": [],
   "source": [
    "# Calculate the start of the last window\n",
    "step_max = len(timeseries) - window_length\n",
    "step_max"
   ]
  },
  {
   "cell_type": "code",
   "execution_count": null,
   "metadata": {},
   "outputs": [],
   "source": [
    "# Calculate the number of windows\n",
    "num_windows = step_max // (window_length - overlap) + 1\n",
    "num_windows"
   ]
  },
  {
   "cell_type": "code",
   "execution_count": null,
   "metadata": {},
   "outputs": [],
   "source": [
    "# numpy-stride-magic:\n",
    "new_strides = ((window_length - overlap) * timeseries.strides[0], ) + timeseries.strides\n",
    "new_shape = (num_windows, window_length, ) + timeseries.shape[1:]\n",
    "\n",
    "print(\"strides:\\noriginal: {}\\t new: {}\\n\".format(timeseries.strides, new_strides))\n",
    "print(\"shape:\\noriginal: {}\\t new: {}\".format(timeseries.shape, new_shape))"
   ]
  },
  {
   "cell_type": "code",
   "execution_count": null,
   "metadata": {},
   "outputs": [],
   "source": [
    "new = as_strided(timeseries, shape=new_shape, strides=new_strides)"
   ]
  },
  {
   "cell_type": "code",
   "execution_count": null,
   "metadata": {},
   "outputs": [],
   "source": [
    "new"
   ]
  },
  {
   "cell_type": "code",
   "execution_count": null,
   "metadata": {},
   "outputs": [],
   "source": []
  }
 ],
 "metadata": {
  "hide_input": false,
  "kernelspec": {
   "display_name": "Python 3",
   "language": "python",
   "name": "python3"
  },
  "language_info": {
   "codemirror_mode": {
    "name": "ipython",
    "version": 3
   },
   "file_extension": ".py",
   "mimetype": "text/x-python",
   "name": "python",
   "nbconvert_exporter": "python",
   "pygments_lexer": "ipython3",
   "version": "3.5.2"
  }
 },
 "nbformat": 4,
 "nbformat_minor": 1
}
