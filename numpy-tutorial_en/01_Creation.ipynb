{
 "cells": [
  {
   "cell_type": "markdown",
   "metadata": {
    "toc": "true"
   },
   "source": [
    "<h1>Table of Contents<span class=\"tocSkip\"></span></h1>\n",
    "<div class=\"toc\"><ul class=\"toc-item\"><li><span><a href=\"#Table-of-Contents\" data-toc-modified-id=\"Table-of-Contents-1\"><span class=\"toc-item-num\">1&nbsp;&nbsp;</span>Table of Contents</a></span></li><li><span><a href=\"#Array-Creation-and-their-Properties\" data-toc-modified-id=\"Array-Creation-and-their-Properties-2\"><span class=\"toc-item-num\">2&nbsp;&nbsp;</span>Array Creation and their Properties</a></span><ul class=\"toc-item\"><li><span><a href=\"#Create-Arrays-from-Iterables\" data-toc-modified-id=\"Create-Arrays-from-Iterables-2.1\"><span class=\"toc-item-num\">2.1&nbsp;&nbsp;</span>Create Arrays from Iterables</a></span></li><li><span><a href=\"#Creating-Empty-Arrays\" data-toc-modified-id=\"Creating-Empty-Arrays-2.2\"><span class=\"toc-item-num\">2.2&nbsp;&nbsp;</span>Creating Empty Arrays</a></span><ul class=\"toc-item\"><li><ul class=\"toc-item\"><li><span><a href=\"#set-the-dimensions-and-their-size-with-shape\" data-toc-modified-id=\"set-the-dimensions-and-their-size-with-shape-2.2.0.1\"><span class=\"toc-item-num\">2.2.0.1&nbsp;&nbsp;</span>set the dimensions and their size with <code>shape</code></a></span></li></ul></li></ul></li><li><span><a href=\"#Creating-Non-Empty-Arrays\" data-toc-modified-id=\"Creating-Non-Empty-Arrays-2.3\"><span class=\"toc-item-num\">2.3&nbsp;&nbsp;</span>Creating Non-Empty Arrays</a></span></li><li><span><a href=\"#Common-Attributes-of-Arrays\" data-toc-modified-id=\"Common-Attributes-of-Arrays-2.4\"><span class=\"toc-item-num\">2.4&nbsp;&nbsp;</span>Common Attributes of Arrays</a></span></li><li><span><a href=\"#Flags\" data-toc-modified-id=\"Flags-2.5\"><span class=\"toc-item-num\">2.5&nbsp;&nbsp;</span>Flags</a></span><ul class=\"toc-item\"><li><span><a href=\"#Information-about-memory-usage\" data-toc-modified-id=\"Information-about-memory-usage-2.5.1\"><span class=\"toc-item-num\">2.5.1&nbsp;&nbsp;</span>Information about memory usage</a></span></li></ul></li></ul></li><li><span><a href=\"#Exercises:\" data-toc-modified-id=\"Exercises:-3\"><span class=\"toc-item-num\">3&nbsp;&nbsp;</span>Exercises:</a></span></li></ul></div>"
   ]
  },
  {
   "cell_type": "markdown",
   "metadata": {
    "slideshow": {
     "slide_type": "slide"
    }
   },
   "source": [
    "# Array Creation and their Properties"
   ]
  },
  {
   "cell_type": "code",
   "execution_count": 1,
   "metadata": {
    "ExecuteTime": {
     "end_time": "2018-10-15T13:06:38.568578Z",
     "start_time": "2018-10-15T13:06:38.182900Z"
    },
    "slideshow": {
     "slide_type": "skip"
    }
   },
   "outputs": [],
   "source": [
    "import numpy as np"
   ]
  },
  {
   "cell_type": "markdown",
   "metadata": {},
   "source": [
    "## Create Arrays from Iterables"
   ]
  },
  {
   "cell_type": "code",
   "execution_count": 6,
   "metadata": {
    "ExecuteTime": {
     "end_time": "2018-10-15T13:08:08.074083Z",
     "start_time": "2018-10-15T13:08:08.068747Z"
    }
   },
   "outputs": [
    {
     "data": {
      "text/plain": [
       "dtype('int64')"
      ]
     },
     "execution_count": 6,
     "metadata": {},
     "output_type": "execute_result"
    }
   ],
   "source": [
    "my_list = [[0, 1, 2], [3, 4, 5], [6, 7, 8]]\n",
    "data = np.array(my_list)\n",
    "\n",
    "data.dtype"
   ]
  },
  {
   "cell_type": "code",
   "execution_count": null,
   "metadata": {
    "slideshow": {
     "slide_type": "fragment"
    }
   },
   "outputs": [],
   "source": [
    "# Making sure you have an array:\n",
    "\n",
    "my_big_list = range(100000)\n",
    "big_data = np.array(my_big_list)\n",
    "\n",
    "print(\"create ndarray from list\")\n",
    "%timeit -n 10 np.asarray(my_big_list)\n",
    "\n",
    "print(\"\\ncreate ndarray from ndarray\")\n",
    "%timeit -n 10 np.asarray(big_data)"
   ]
  },
  {
   "cell_type": "markdown",
   "metadata": {
    "slideshow": {
     "slide_type": "subslide"
    }
   },
   "source": [
    "## Creating Empty Arrays\n",
    "#### set the dimensions and their size with `shape` "
   ]
  },
  {
   "cell_type": "markdown",
   "metadata": {},
   "source": [
    "np.empty creates a new array, but reuses whatever is in memory"
   ]
  },
  {
   "cell_type": "code",
   "execution_count": 7,
   "metadata": {
    "ExecuteTime": {
     "end_time": "2018-10-15T13:08:29.608104Z",
     "start_time": "2018-10-15T13:08:29.601081Z"
    }
   },
   "outputs": [
    {
     "data": {
      "text/plain": [
       "array([[2.0e+000, 2.0e+000, 8.4e-323],\n",
       "       [0.0e+000, 0.0e+000, 0.0e+000]])"
      ]
     },
     "execution_count": 7,
     "metadata": {},
     "output_type": "execute_result"
    }
   ],
   "source": [
    "np.empty(shape=(2, 3))  # 2 rows, 3 columns"
   ]
  },
  {
   "cell_type": "markdown",
   "metadata": {},
   "source": [
    "np.zero zeros out the memory for you"
   ]
  },
  {
   "cell_type": "code",
   "execution_count": 8,
   "metadata": {
    "ExecuteTime": {
     "end_time": "2018-10-15T13:09:19.574138Z",
     "start_time": "2018-10-15T13:09:19.568724Z"
    }
   },
   "outputs": [
    {
     "data": {
      "text/plain": [
       "array([[0., 0., 0.],\n",
       "       [0., 0., 0.]])"
      ]
     },
     "execution_count": 8,
     "metadata": {},
     "output_type": "execute_result"
    }
   ],
   "source": [
    "np.zeros(shape=(2, 3))"
   ]
  },
  {
   "cell_type": "code",
   "execution_count": 11,
   "metadata": {
    "ExecuteTime": {
     "end_time": "2018-10-15T13:10:15.606365Z",
     "start_time": "2018-10-15T13:10:15.600795Z"
    }
   },
   "outputs": [
    {
     "data": {
      "text/plain": [
       "array([[-41., -41., -41.],\n",
       "       [-41., -41., -41.]])"
      ]
     },
     "execution_count": 11,
     "metadata": {},
     "output_type": "execute_result"
    }
   ],
   "source": [
    "np.ones(shape=(2, 3)) - 42  # numpy magic!!! More in chapter \"broadcasting\""
   ]
  },
  {
   "cell_type": "markdown",
   "metadata": {
    "slideshow": {
     "slide_type": "subslide"
    }
   },
   "source": [
    "## Creating Non-Empty Arrays\n",
    "\n",
    "Example: Range from 0 to 2$\\pi$ in 10 steps"
   ]
  },
  {
   "cell_type": "code",
   "execution_count": 14,
   "metadata": {
    "ExecuteTime": {
     "end_time": "2018-10-15T13:11:06.190967Z",
     "start_time": "2018-10-15T13:11:06.185832Z"
    }
   },
   "outputs": [
    {
     "data": {
      "text/plain": [
       "array([0.        , 0.6981317 , 1.3962634 , 2.0943951 , 2.7925268 ,\n",
       "       3.4906585 , 4.1887902 , 4.88692191, 5.58505361])"
      ]
     },
     "execution_count": 14,
     "metadata": {},
     "output_type": "execute_result"
    }
   ],
   "source": [
    "# using arange (analog to range, but supports different data types)\n",
    "np.arange(0, 2 * np.pi , 2 * np.pi / 9.)"
   ]
  },
  {
   "cell_type": "code",
   "execution_count": 15,
   "metadata": {
    "ExecuteTime": {
     "end_time": "2018-10-15T13:11:34.014158Z",
     "start_time": "2018-10-15T13:11:34.009158Z"
    },
    "slideshow": {
     "slide_type": "fragment"
    }
   },
   "outputs": [
    {
     "data": {
      "text/plain": [
       "array([0.        , 0.6981317 , 1.3962634 , 2.0943951 , 2.7925268 ,\n",
       "       3.4906585 , 4.1887902 , 4.88692191, 5.58505361, 6.28318531])"
      ]
     },
     "execution_count": 15,
     "metadata": {},
     "output_type": "execute_result"
    }
   ],
   "source": [
    "# easier:\n",
    "np.linspace(0, 2 * np.pi, num=10, endpoint=True)"
   ]
  },
  {
   "cell_type": "markdown",
   "metadata": {
    "slideshow": {
     "slide_type": "fragment"
    }
   },
   "source": [
    "Example: 2 x 5 array with random numbers from the interval [0, 1]"
   ]
  },
  {
   "cell_type": "code",
   "execution_count": null,
   "metadata": {
    "slideshow": {
     "slide_type": "fragment"
    }
   },
   "outputs": [],
   "source": [
    "np.random.rand(2, 5)"
   ]
  },
  {
   "cell_type": "markdown",
   "metadata": {
    "slideshow": {
     "slide_type": "fragment"
    }
   },
   "source": [
    "Example: 3 x 3 array with \"1\"s on the main diagonal"
   ]
  },
  {
   "cell_type": "code",
   "execution_count": null,
   "metadata": {
    "slideshow": {
     "slide_type": "fragment"
    }
   },
   "outputs": [],
   "source": [
    "np.identity(3)"
   ]
  },
  {
   "cell_type": "markdown",
   "metadata": {
    "slideshow": {
     "slide_type": "slide"
    }
   },
   "source": [
    "## Common Attributes of Arrays"
   ]
  },
  {
   "cell_type": "code",
   "execution_count": null,
   "metadata": {},
   "outputs": [],
   "source": [
    "data = np.identity(5)\n",
    "data"
   ]
  },
  {
   "cell_type": "code",
   "execution_count": null,
   "metadata": {},
   "outputs": [],
   "source": [
    "# dimension of the array\n",
    "data.ndim"
   ]
  },
  {
   "cell_type": "code",
   "execution_count": null,
   "metadata": {},
   "outputs": [],
   "source": [
    "# shape: Number of elements in each dimension\n",
    "data.shape"
   ]
  },
  {
   "cell_type": "code",
   "execution_count": null,
   "metadata": {},
   "outputs": [],
   "source": [
    "# number of elements\n",
    "data.size"
   ]
  },
  {
   "cell_type": "code",
   "execution_count": null,
   "metadata": {},
   "outputs": [],
   "source": [
    "# type of the elements\n",
    "data.dtype"
   ]
  },
  {
   "cell_type": "code",
   "execution_count": null,
   "metadata": {},
   "outputs": [],
   "source": [
    "# number of bits to the next entry in each dimension\n",
    "data.strides"
   ]
  },
  {
   "cell_type": "markdown",
   "metadata": {
    "slideshow": {
     "slide_type": "subslide"
    }
   },
   "source": [
    "## Flags\n",
    "### Information about memory usage"
   ]
  },
  {
   "cell_type": "code",
   "execution_count": null,
   "metadata": {
    "slideshow": {
     "slide_type": "-"
    }
   },
   "outputs": [],
   "source": [
    "data.flags"
   ]
  },
  {
   "cell_type": "markdown",
   "metadata": {},
   "source": [
    "last three can be set by the user"
   ]
  },
  {
   "cell_type": "markdown",
   "metadata": {
    "slideshow": {
     "slide_type": "slide"
    }
   },
   "source": [
    "---\n",
    "\n",
    "# Exercises:\n",
    "\n",
    "<div class=\"alert alert-success\">\n",
    "create an empty array arr1 going from 100 to 0 in steps of 20 (`[100, 80, ..., 0]`) and an array arr2 with 100 elements from 0.07 to 42, excluding the endpoint\n",
    "<li>  which datatypes are used? </li>\n",
    "<li> how can you set the datatype? </li>\n",
    "    </div>"
   ]
  },
  {
   "cell_type": "code",
   "execution_count": null,
   "metadata": {
    "ExecuteTime": {
     "end_time": "2017-09-08T07:59:12.052611Z",
     "start_time": "2017-09-08T07:59:12.039604Z"
    }
   },
   "outputs": [],
   "source": [
    "arr1 = np.arange(100, -1, -20)\n",
    "print(arr1, arr1.dtype)\n",
    "\n",
    "arr2 = np.linspace(0.07, 42, num=100, endpoint=False)\n",
    "print(arr2, arr2.dtype)\n",
    "\n",
    "arr1 = np.arange(100, -1, -20, dtype=np.float32)\n",
    "print(arr1, arr1.dtype)"
   ]
  },
  {
   "cell_type": "markdown",
   "metadata": {},
   "source": [
    "<div class=\"alert alert-success\">\n",
    "Create three arrays with a shape of (10, 20, 30) filled with, \"0\", with \"1\", and \"47.11\"\n",
    "<li> which method is fastest? (and why?)</li>\n",
    "<li> what does `len(a)` return? </li>\n",
    "</div>"
   ]
  },
  {
   "cell_type": "code",
   "execution_count": null,
   "metadata": {
    "ExecuteTime": {
     "end_time": "2017-09-08T07:59:52.348098Z",
     "start_time": "2017-09-08T07:59:52.312223Z"
    }
   },
   "outputs": [],
   "source": [
    "print(\"empty:\")\n",
    "%timeit -n 100 np.empty(shape=(10, 20, 30))\n",
    "\n",
    "print(\"\\nzeros:\")\n",
    "%timeit -n 100 np.zeros(shape=(10, 20, 30))\n",
    "\n",
    "print(\"\\nones:\")\n",
    "%timeit -n 100 np.ones(shape=(10, 20, 30))\n",
    "\n",
    "print(\"\\n47.11:\")\n",
    "%timeit -n 100 np.ones(shape=(10, 20, 30)) * 47.11\n",
    "\n",
    "empty = np.empty(shape=(10, 20, 30))\n",
    "print(\"shape: {}, len: {}\".format(empty.shape, len(empty)))"
   ]
  },
  {
   "cell_type": "markdown",
   "metadata": {},
   "source": [
    "<div class=\"alert alert-success\">\n",
    "Create a 5 x 5 array with \"1\" on the secondary-diagonal (hint: np.eye)\n",
    "</div>"
   ]
  },
  {
   "cell_type": "code",
   "execution_count": null,
   "metadata": {
    "ExecuteTime": {
     "end_time": "2017-09-08T08:00:14.889671Z",
     "start_time": "2017-09-08T08:00:14.883786Z"
    }
   },
   "outputs": [],
   "source": [
    "np.eye(5, 5, 1)"
   ]
  },
  {
   "cell_type": "markdown",
   "metadata": {},
   "source": [
    "<div class=\"alert alert-success\">\n",
    "What does array.astype do?\n",
    "</div>"
   ]
  },
  {
   "cell_type": "code",
   "execution_count": null,
   "metadata": {
    "ExecuteTime": {
     "end_time": "2017-09-08T08:00:25.513259Z",
     "start_time": "2017-09-08T08:00:25.509151Z"
    }
   },
   "outputs": [],
   "source": [
    "help(empty.astype)"
   ]
  },
  {
   "cell_type": "code",
   "execution_count": null,
   "metadata": {},
   "outputs": [],
   "source": []
  }
 ],
 "metadata": {
  "hide_input": false,
  "kernelspec": {
   "display_name": "Python 3",
   "language": "python",
   "name": "python3"
  },
  "language_info": {
   "codemirror_mode": {
    "name": "ipython",
    "version": 3
   },
   "file_extension": ".py",
   "mimetype": "text/x-python",
   "name": "python",
   "nbconvert_exporter": "python",
   "pygments_lexer": "ipython3",
   "version": "3.6.6"
  },
  "toc": {
   "nav_menu": {},
   "number_sections": true,
   "sideBar": true,
   "skip_h1_title": false,
   "title_cell": "Table of Contents",
   "title_sidebar": "Contents",
   "toc_cell": true,
   "toc_position": {},
   "toc_section_display": true,
   "toc_window_display": true
  }
 },
 "nbformat": 4,
 "nbformat_minor": 1
}
