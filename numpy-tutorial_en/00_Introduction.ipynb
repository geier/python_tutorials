{
 "cells": [
  {
   "cell_type": "markdown",
   "metadata": {},
   "source": [
    "# 00 Introduction: NumPy Overview"
   ]
  },
  {
   "cell_type": "markdown",
   "metadata": {},
   "source": [
    "* NumPy is a Python package\n",
    "* Support for (fast and large) arrays and matrices\n",
    "* 2005: Travis Oliphant unifies NumPy's ancestors *numarray* and *numerice*\n",
    "* has become *the* python package for numeric calculations\n",
    "* active development by the community\n",
    "* part of the scipy project\n",
    "* works well together with SciPy, Matplotlib, Jupyter, Pandas, …\n",
    "* NumPy is Open Source, Free Software and developed under the BSD License (3-clause)"
   ]
  },
  {
   "cell_type": "markdown",
   "metadata": {},
   "source": [
    "* NumPy is written in C, not Python\n",
    "* NumPy uses BLAS and LAPACK (same as MATLAB and lots of other programs)\n",
    "* NumPy only supports cpython"
   ]
  },
  {
   "cell_type": "markdown",
   "metadata": {},
   "source": [
    "* NumPy is canonically imported as:"
   ]
  },
  {
   "cell_type": "code",
   "execution_count": 1,
   "metadata": {
    "ExecuteTime": {
     "end_time": "2018-10-15T13:05:21.018583Z",
     "start_time": "2018-10-15T13:05:20.688187Z"
    }
   },
   "outputs": [],
   "source": [
    "import numpy as np"
   ]
  },
  {
   "cell_type": "markdown",
   "metadata": {},
   "source": [
    "* the most important class in NumPy is **ndarray** (**n**-**d**imensional **array**), which will be called *array* from now on"
   ]
  },
  {
   "cell_type": "markdown",
   "metadata": {},
   "source": [
    "## Documentation and Getting Help"
   ]
  },
  {
   "cell_type": "markdown",
   "metadata": {},
   "source": [
    "* http://docs.scipy.org/doc/ Reference and Tutorial\n"
   ]
  },
  {
   "cell_type": "markdown",
   "metadata": {},
   "source": [
    "### Docstrings\n",
    "\n",
    "NumPy's docstrings are very helpful and often reference similar functions\n",
    "\n",
    "* print np.func.\\_\\_doc\\_\\_\n",
    "* np.func? (in IPython)\n",
    "* np.info(np.func)"
   ]
  },
  {
   "cell_type": "code",
   "execution_count": null,
   "metadata": {},
   "outputs": [],
   "source": [
    "np.ndarray?"
   ]
  },
  {
   "cell_type": "code",
   "execution_count": null,
   "metadata": {},
   "outputs": [],
   "source": [
    "np.info(np.ndarray)"
   ]
  },
  {
   "cell_type": "markdown",
   "metadata": {},
   "source": [
    "### Searching for functions\n",
    "\n",
    "np.lookfor('suchstring')"
   ]
  },
  {
   "cell_type": "code",
   "execution_count": 2,
   "metadata": {
    "ExecuteTime": {
     "end_time": "2018-10-15T13:06:14.700381Z",
     "start_time": "2018-10-15T13:06:05.021171Z"
    }
   },
   "outputs": [
    {
     "name": "stdout",
     "output_type": "stream",
     "text": [
      "Search results for 'diagonal'\n",
      "-----------------------------\n",
      "numpy.diagonal\n",
      "    Return specified diagonals.\n",
      "numpy.eye\n",
      "    Return a 2-D array with ones on the diagonal and zeros elsewhere.\n",
      "numpy.tri\n",
      "    An array with ones at and below the given diagonal and zeros elsewhere.\n",
      "numpy.diag\n",
      "    Extract a diagonal or construct a diagonal array.\n",
      "numpy.tril\n",
      "    Lower triangle of an array.\n",
      "numpy.triu\n",
      "    Upper triangle of an array.\n",
      "numpy.trace\n",
      "    Return the sum along diagonals of the array.\n",
      "numpy.fill_diagonal\n",
      "    Fill the main diagonal of the given array of any dimensionality.\n",
      "numpy.diagflat\n",
      "    Create a two-dimensional array with the flattened input as a diagonal.\n",
      "numpy.ma.diagonal\n",
      "    a.diagonal(offset=0, axis1=0, axis2=1)\n",
      "numpy.diag_indices\n",
      "    Return the indices to access the main diagonal of an array.\n",
      "numpy.ma.diag\n",
      "    Extract a diagonal or construct a diagonal array.\n",
      "numpy.chararray.diagonal\n",
      "    Return specified diagonals. In NumPy 1.9 the returned array is a\n",
      "numpy.matlib.eye\n",
      "    Return a matrix with ones on the diagonal and zeros elsewhere.\n",
      "numpy.ma.diagflat\n",
      "    Create a two-dimensional array with the flattened input as a diagonal.\n",
      "numpy.diag_indices_from\n",
      "    Return the indices to access the main diagonal of an n-dimensional array.\n",
      "numpy.chararray.trace\n",
      "    Return the sum along diagonals of the array.\n",
      "numpy.ma.MaskedArray.diagonal\n",
      "    Return specified diagonals. In NumPy 1.9 the returned array is a\n",
      "numpy.ma.MaskedArray.trace\n",
      "    Return the sum along diagonals of the array.\n",
      "numpy.einsum\n",
      "    einsum(subscripts, *operands, out=None, dtype=None, order='K',\n",
      "numpy.select\n",
      "    Return an array drawn from elements in choicelist, depending on conditions.\n",
      "numpy.polyfit\n",
      "    Least squares polynomial fit.\n",
      "numpy.compress\n",
      "    Return selected slices of an array along given axis.\n",
      "numpy.corrcoef\n",
      "    Return Pearson product-moment correlation coefficients.\n",
      "numpy.identity\n",
      "    Return the identity array.\n",
      "numpy.mask_indices\n",
      "    Return the indices to access (n, n) arrays, given a masking function.\n",
      "numpy.tril_indices\n",
      "    Return the indices for the lower-triangle of an (n, m) array.\n",
      "numpy.triu_indices\n",
      "    Return the indices for the upper-triangle of an (n, m) array.\n",
      "numpy.ma.trace\n",
      "    a.trace(offset=0, axis1=0, axis2=1, dtype=None, out=None)\n",
      "numpy.ma.polyfit\n",
      "    Least squares polynomial fit.\n",
      "numpy.linalg.eigh\n",
      "    Return the eigenvalues and eigenvectors of a Hermitian or symmetric matrix.\n",
      "numpy.linalg.pinv\n",
      "    Compute the (Moore-Penrose) pseudo-inverse of a matrix.\n",
      "numpy.ma.identity\n",
      "    Return the identity array.\n",
      "numpy.tril_indices_from\n",
      "    Return the indices for the lower-triangle of arr.\n",
      "numpy.triu_indices_from\n",
      "    Return the indices for the upper-triangle of arr.\n",
      "numpy.linalg.eigvals\n",
      "    Compute the eigenvalues of a general matrix.\n",
      "numpy.linalg.eigvalsh\n",
      "    Compute the eigenvalues of a Hermitian or real symmetric matrix.\n",
      "numpy.matlib.identity\n",
      "    Returns the square identity matrix of given size."
     ]
    }
   ],
   "source": [
    "np.lookfor('diagonal')"
   ]
  },
  {
   "cell_type": "code",
   "execution_count": null,
   "metadata": {},
   "outputs": [],
   "source": []
  }
 ],
 "metadata": {
  "hide_input": false,
  "kernelspec": {
   "display_name": "Python 3",
   "language": "python",
   "name": "python3"
  },
  "language_info": {
   "codemirror_mode": {
    "name": "ipython",
    "version": 3
   },
   "file_extension": ".py",
   "mimetype": "text/x-python",
   "name": "python",
   "nbconvert_exporter": "python",
   "pygments_lexer": "ipython3",
   "version": "3.6.6"
  },
  "toc": {
   "nav_menu": {},
   "number_sections": true,
   "sideBar": true,
   "skip_h1_title": false,
   "title_cell": "Table of Contents",
   "title_sidebar": "Contents",
   "toc_cell": false,
   "toc_position": {},
   "toc_section_display": true,
   "toc_window_display": false
  }
 },
 "nbformat": 4,
 "nbformat_minor": 1
}
