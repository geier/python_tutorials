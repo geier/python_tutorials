{
 "cells": [
  {
   "cell_type": "markdown",
   "metadata": {
    "slideshow": {
     "slide_type": "slide"
    }
   },
   "source": [
    "# Broadcasting\n",
    "\n",
    "## Do the \"right thing\" with arrays of different sizes"
   ]
  },
  {
   "cell_type": "code",
   "execution_count": null,
   "metadata": {
    "ExecuteTime": {
     "end_time": "2017-09-08T08:10:57.977586Z",
     "start_time": "2017-09-08T08:10:57.703802Z"
    }
   },
   "outputs": [],
   "source": [
    "import numpy as np\n",
    "\n",
    "import matplotlib.pyplot as plt  # this is only used for visualizing some excercises\n",
    "%matplotlib inline"
   ]
  },
  {
   "cell_type": "markdown",
   "metadata": {},
   "source": [
    "## Simple example\n",
    "you have seen before"
   ]
  },
  {
   "cell_type": "code",
   "execution_count": null,
   "metadata": {},
   "outputs": [],
   "source": [
    "arr1 = np.arange(10)\n",
    "\n",
    "# Multiplying all values with a skalar\n",
    "arr1 * 2"
   ]
  },
  {
   "cell_type": "markdown",
   "metadata": {
    "slideshow": {
     "slide_type": "subslide"
    }
   },
   "source": [
    "## Normalize by mean"
   ]
  },
  {
   "cell_type": "code",
   "execution_count": null,
   "metadata": {},
   "outputs": [],
   "source": [
    "arr = (np.random.rand(2, 5) * 10).astype(np.int)\n",
    "arr"
   ]
  },
  {
   "cell_type": "code",
   "execution_count": null,
   "metadata": {},
   "outputs": [],
   "source": [
    "arr_mean = arr.mean(axis=0)\n",
    "arr_mean"
   ]
  },
  {
   "cell_type": "code",
   "execution_count": null,
   "metadata": {},
   "outputs": [],
   "source": [
    "# shapes:\n",
    "print(arr.shape)\n",
    "print(arr_mean.shape)"
   ]
  },
  {
   "cell_type": "code",
   "execution_count": null,
   "metadata": {},
   "outputs": [],
   "source": [
    "# demean:\n",
    "arr - arr_mean"
   ]
  },
  {
   "cell_type": "markdown",
   "metadata": {
    "slideshow": {
     "slide_type": "subslide"
    }
   },
   "source": [
    "## Rules for Broadcasting\n",
    "\n",
    "#### Arrays are compatible for broadcasting, when\n",
    "- their shape is identical\n",
    "OR\n",
    "- one array is missing one dimension, but otherwise its shape is equal to the other array's shape\n",
    "OR\n",
    "- the shape is equal except one entry, that entry **must be 1**\n",
    "\n",
    "\n",
    "#### Broadcasting is done over the missing dimension or the one of length 1\n",
    "\n"
   ]
  },
  {
   "cell_type": "markdown",
   "metadata": {
    "slideshow": {
     "slide_type": "subslide"
    }
   },
   "source": [
    "### Example 1: Broadcasting over 2-dimensional arrays\n",
    "![broadcasting_1](files/broadcasting_1.png \"broadcasting_1\")"
   ]
  },
  {
   "cell_type": "code",
   "execution_count": null,
   "metadata": {
    "slideshow": {
     "slide_type": "-"
    }
   },
   "outputs": [],
   "source": [
    "arr1 = np.arange(1, 7).reshape(3, 2)\n",
    "arr2 = np.arange(3).reshape(3, 1)"
   ]
  },
  {
   "cell_type": "code",
   "execution_count": null,
   "metadata": {
    "slideshow": {
     "slide_type": "fragment"
    }
   },
   "outputs": [],
   "source": [
    "arr1 + arr2"
   ]
  },
  {
   "cell_type": "markdown",
   "metadata": {
    "slideshow": {
     "slide_type": "subslide"
    }
   },
   "source": [
    "### Beispiel 2: Broadcasting von 2-dimensionalen arrays\n",
    "![broadcasting_2](files/broadcasting_2.png \"broadcasting_2\")"
   ]
  },
  {
   "cell_type": "code",
   "execution_count": null,
   "metadata": {
    "slideshow": {
     "slide_type": "-"
    }
   },
   "outputs": [],
   "source": [
    "arr1 = np.arange(1, 7).reshape(3, 2)\n",
    "arr2 = np.arange(2)"
   ]
  },
  {
   "cell_type": "code",
   "execution_count": null,
   "metadata": {},
   "outputs": [],
   "source": [
    "arr1 + arr2"
   ]
  },
  {
   "cell_type": "markdown",
   "metadata": {
    "slideshow": {
     "slide_type": "subslide"
    }
   },
   "source": [
    "### Example 3: Broadcasting of 3-dimensional arrays\n",
    "![broadcasting_3](files/broadcasting_3.png \"broadcasting_3\")"
   ]
  },
  {
   "cell_type": "code",
   "execution_count": null,
   "metadata": {},
   "outputs": [],
   "source": [
    "arr1 = np.arange(1, 31).reshape(5, 3, 2)\n",
    "arr2 = np.arange(5, -1, -1).reshape(3, 2)\n",
    "arr1 + arr2"
   ]
  },
  {
   "cell_type": "markdown",
   "metadata": {
    "slideshow": {
     "slide_type": "subslide"
    }
   },
   "source": [
    "### Broadcasting along any axis"
   ]
  },
  {
   "cell_type": "code",
   "execution_count": null,
   "metadata": {},
   "outputs": [],
   "source": [
    "arr = (np.random.rand(2, 5) * 10).astype(np.int)\n",
    "arr_mean_0 = arr.mean(axis=0)\n",
    "arr_mean_1 = arr.mean(axis=1)\n",
    "\n",
    "print(\"arr:\\n{}, shape={}\\n\".format(arr, arr.shape))\n",
    "print(\"axis={}:\\n{}, shape={}\\n\".format(0, arr_mean_0, arr_mean_0.shape))\n",
    "print(\"axis={}:\\n{}, shape={}\\n\".format(1, arr_mean_1, arr_mean_1.shape))"
   ]
  },
  {
   "cell_type": "markdown",
   "metadata": {},
   "source": [
    "**Problem:** arr_mean_1 has the wrong shape for broadcasting!  \n",
    "    shape = (2,) != (2,1) != (2,5) != (, 5)"
   ]
  },
  {
   "cell_type": "code",
   "execution_count": null,
   "metadata": {},
   "outputs": [],
   "source": [
    "arr - arr_mean_1"
   ]
  },
  {
   "cell_type": "markdown",
   "metadata": {},
   "source": [
    "**Solution:** Add a new axis!"
   ]
  },
  {
   "cell_type": "code",
   "execution_count": null,
   "metadata": {},
   "outputs": [],
   "source": [
    "arr_new_mean_1 = arr_mean_1[:, np.newaxis]\n",
    "\n",
    "print(\"shape: {}\".format(arr_new_mean_1.shape))\n",
    "\n",
    "arr_new_mean_1"
   ]
  },
  {
   "cell_type": "code",
   "execution_count": null,
   "metadata": {},
   "outputs": [],
   "source": [
    "arr - arr_new_mean_1"
   ]
  },
  {
   "cell_type": "markdown",
   "metadata": {
    "slideshow": {
     "slide_type": "slide"
    }
   },
   "source": [
    "----\n",
    "# Exercises:\n",
    "\n",
    "<div class=\"alert alert-success\">\n",
    "<li>Create the following array \n",
    "</li>\n",
    "</div>\n",
    "\n",
    "    array([[0, 0, 0, 0],\n",
    "           [1, 1, 1, 1],\n",
    "           [2, 2, 2, 2],\n",
    "           [3, 3, 3, 3],\n",
    "           [4, 4, 4, 4],\n",
    "           [5, 5, 5, 5],\n",
    "           [6, 6, 6, 6]])"
   ]
  },
  {
   "cell_type": "code",
   "execution_count": null,
   "metadata": {
    "ExecuteTime": {
     "end_time": "2017-09-08T08:09:47.951024Z",
     "start_time": "2017-09-08T08:09:47.864159Z"
    }
   },
   "outputs": [],
   "source": [
    "import numpy as np\n",
    "np.ones((7, 4), dtype=int) * np.arange(7)[:, np.newaxis]\n",
    "\n",
    "# alternative:\n",
    "# np.ones((7, 4), dtype=int) * np.arange(7).reshape(7, 1)"
   ]
  },
  {
   "cell_type": "code",
   "execution_count": null,
   "metadata": {},
   "outputs": [],
   "source": []
  },
  {
   "cell_type": "markdown",
   "metadata": {},
   "source": [
    "<div class=\"alert alert-success\">\n",
    "<li>Subtract the median along **all** axis from the following array:\n",
    "</li>\n",
    "</div>\n",
    "\n",
    "data = (np.random.rand(60) * 10).astype(np.int).reshape(4, 3, 5)"
   ]
  },
  {
   "cell_type": "code",
   "execution_count": null,
   "metadata": {
    "ExecuteTime": {
     "end_time": "2017-09-08T08:10:34.878579Z",
     "start_time": "2017-09-08T08:10:34.874497Z"
    }
   },
   "outputs": [],
   "source": [
    "data = (np.random.rand(60) * 10).astype(np.int).reshape(4, 3, 5)"
   ]
  },
  {
   "cell_type": "code",
   "execution_count": null,
   "metadata": {
    "ExecuteTime": {
     "end_time": "2017-09-08T08:10:40.746706Z",
     "start_time": "2017-09-08T08:10:40.735878Z"
    }
   },
   "outputs": [],
   "source": [
    "# axis = 0:\n",
    "data - np.median(data, axis=0)\n",
    "\n",
    "# axis = 1:\n",
    "data - np.median(data, axis=1)[:, np.newaxis, :]\n",
    "\n",
    "# axis = 2:\n",
    "data - np.median(data, axis=2)[:, :, np.newaxis]"
   ]
  },
  {
   "cell_type": "markdown",
   "metadata": {},
   "source": [
    "<div class=\"alert alert-success\">\n",
    "<li>Create five Sinus-Signals with 200 data points each in the interval $[0, 6 \\pi)$, </li>\n",
    "<li>Add some normal-distributed noise with a sigma of 0.1</li>\n",
    "<li>Add offsets to the data, so that their means are 0, 2, 4, 6, 8</li>\n",
    "</div>\n",
    "\n",
    "You can use `plt.plot(signals)` to have a look at your data\n"
   ]
  },
  {
   "cell_type": "code",
   "execution_count": null,
   "metadata": {
    "ExecuteTime": {
     "end_time": "2017-09-08T08:11:23.402716Z",
     "start_time": "2017-09-08T08:11:23.220801Z"
    }
   },
   "outputs": [],
   "source": [
    "sin_signal = np.sin(np.linspace(0, 6 * np.pi, num=200))\n",
    "\n",
    "noise = np.random.randn(200, 5)\n",
    "noisy_signals = sin_signal[:, np.newaxis] + 0.1 * noise\n",
    "mean_noisy_signal = noisy_signals + np.arange(0, 10, 2)\n",
    "\n",
    "plt.plot(mean_noisy_signal);"
   ]
  },
  {
   "cell_type": "markdown",
   "metadata": {},
   "source": [
    "<div class=\"alert alert-success\">\n",
    "<li>Renorm all signals to [-1, 1] </li>\n",
    "</div>"
   ]
  },
  {
   "cell_type": "code",
   "execution_count": null,
   "metadata": {
    "ExecuteTime": {
     "end_time": "2017-09-08T08:11:38.879740Z",
     "start_time": "2017-09-08T08:11:38.874239Z"
    }
   },
   "outputs": [],
   "source": [
    "demeaned_signal = mean_noisy_signal - mean_noisy_signal.mean(axis=0)\n",
    "\n",
    "new_signal = (demeaned_signal / (demeaned_signal.max(axis=0) - demeaned_signal.min(axis=0))) * 2"
   ]
  },
  {
   "cell_type": "code",
   "execution_count": null,
   "metadata": {
    "ExecuteTime": {
     "end_time": "2017-09-08T08:11:46.578552Z",
     "start_time": "2017-09-08T08:11:46.386295Z"
    }
   },
   "outputs": [],
   "source": [
    "plt.plot(new_signal);"
   ]
  },
  {
   "cell_type": "code",
   "execution_count": null,
   "metadata": {},
   "outputs": [],
   "source": []
  }
 ],
 "metadata": {
  "hide_input": false,
  "kernelspec": {
   "display_name": "Python 3",
   "language": "python",
   "name": "python3"
  },
  "language_info": {
   "codemirror_mode": {
    "name": "ipython",
    "version": 3
   },
   "file_extension": ".py",
   "mimetype": "text/x-python",
   "name": "python",
   "nbconvert_exporter": "python",
   "pygments_lexer": "ipython3",
   "version": "3.5.2"
  },
  "toc": {
   "colors": {
    "hover_highlight": "#DAA520",
    "running_highlight": "#FF0000",
    "selected_highlight": "#FFD700"
   },
   "moveMenuLeft": true,
   "nav_menu": {
    "height": "244px",
    "width": "252px"
   },
   "navigate_menu": true,
   "number_sections": true,
   "sideBar": true,
   "threshold": 4,
   "toc_cell": false,
   "toc_section_display": "block",
   "toc_window_display": false
  }
 },
 "nbformat": 4,
 "nbformat_minor": 1
}
