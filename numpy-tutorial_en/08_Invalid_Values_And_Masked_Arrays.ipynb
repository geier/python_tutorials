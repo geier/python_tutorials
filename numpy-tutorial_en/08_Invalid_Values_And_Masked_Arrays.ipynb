{
 "cells": [
  {
   "cell_type": "markdown",
   "metadata": {
    "toc": "true"
   },
   "source": [
    "# Table of Contents\n",
    " <p><div class=\"lev1\"><a href=\"#08-Invalid-Values-and-Masked-Arrays\"><span class=\"toc-item-num\">1&nbsp;&nbsp;</span>08 Invalid Values and Masked Arrays</a></div><div class=\"lev2\"><a href=\"#Inf-and-NaN\"><span class=\"toc-item-num\">1.1&nbsp;&nbsp;</span>Inf and NaN</a></div><div class=\"lev4\"><a href=\"#Testing-for-NaNs\"><span class=\"toc-item-num\">1.1.0.1&nbsp;&nbsp;</span>Testing for NaNs</a></div><div class=\"lev2\"><a href=\"#Exercise\"><span class=\"toc-item-num\">1.2&nbsp;&nbsp;</span>Exercise</a></div><div class=\"lev1\"><a href=\"#Working-with-invalid-data:-masked-arrays\"><span class=\"toc-item-num\">2&nbsp;&nbsp;</span>Working with invalid data: masked arrays</a></div><div class=\"lev3\"><a href=\"#Creating-MaskedArrays\"><span class=\"toc-item-num\">2.0.1&nbsp;&nbsp;</span>Creating MaskedArrays</a></div><div class=\"lev3\"><a href=\"#masked-arrays-can-be-masked-further\"><span class=\"toc-item-num\">2.0.2&nbsp;&nbsp;</span>masked arrays can be masked further</a></div><div class=\"lev3\"><a href=\"#masked-arrays-support-(?)-ndarray-ufuncs\"><span class=\"toc-item-num\">2.0.3&nbsp;&nbsp;</span>masked arrays support (?) ndarray ufuncs</a></div><div class=\"lev3\"><a href=\"#Indexing-and-Slicing\"><span class=\"toc-item-num\">2.0.4&nbsp;&nbsp;</span>Indexing and Slicing</a></div><div class=\"lev3\"><a href=\"#Refill-Masked-Arrays\"><span class=\"toc-item-num\">2.0.5&nbsp;&nbsp;</span>Refill Masked Arrays</a></div><div class=\"lev3\"><a href=\"#Accessing-Data-and-Mask\"><span class=\"toc-item-num\">2.0.6&nbsp;&nbsp;</span>Accessing Data and Mask</a></div><div class=\"lev4\"><a href=\"#Accessing-valid-data\"><span class=\"toc-item-num\">2.0.6.1&nbsp;&nbsp;</span>Accessing valid data</a></div><div class=\"lev3\"><a href=\"#Hard-and-Soft-Masks\"><span class=\"toc-item-num\">2.0.7&nbsp;&nbsp;</span>Hard and Soft Masks</a></div><div class=\"lev1\"><a href=\"#Structured-data-types\"><span class=\"toc-item-num\">3&nbsp;&nbsp;</span>Structured data types</a></div><div class=\"lev1\"><a href=\"#Exercises\"><span class=\"toc-item-num\">4&nbsp;&nbsp;</span>Exercises</a></div>"
   ]
  },
  {
   "cell_type": "markdown",
   "metadata": {},
   "source": [
    "# 08 Invalid Values and Masked Arrays"
   ]
  },
  {
   "cell_type": "code",
   "execution_count": 5,
   "metadata": {
    "ExecuteTime": {
     "end_time": "2017-09-08T10:40:43.222454Z",
     "start_time": "2017-09-08T10:40:43.160167Z"
    },
    "collapsed": true
   },
   "outputs": [],
   "source": [
    "import numpy as np"
   ]
  },
  {
   "cell_type": "markdown",
   "metadata": {},
   "source": [
    "## Inf and NaN"
   ]
  },
  {
   "cell_type": "code",
   "execution_count": null,
   "metadata": {
    "collapsed": true
   },
   "outputs": [],
   "source": [
    "a = np.arange(3)\n",
    "a"
   ]
  },
  {
   "cell_type": "code",
   "execution_count": null,
   "metadata": {
    "collapsed": true
   },
   "outputs": [],
   "source": [
    "b = 1./a\n",
    "b"
   ]
  },
  {
   "cell_type": "markdown",
   "metadata": {},
   "source": [
    "**inf**inity"
   ]
  },
  {
   "cell_type": "code",
   "execution_count": null,
   "metadata": {
    "collapsed": true
   },
   "outputs": [],
   "source": [
    "np.inf == b[0]"
   ]
  },
  {
   "cell_type": "code",
   "execution_count": null,
   "metadata": {
    "collapsed": true
   },
   "outputs": [],
   "source": [
    "type(np.inf)"
   ]
  },
  {
   "cell_type": "code",
   "execution_count": null,
   "metadata": {
    "collapsed": true
   },
   "outputs": [],
   "source": [
    "np.inf * 1.0"
   ]
  },
  {
   "cell_type": "code",
   "execution_count": null,
   "metadata": {
    "collapsed": true
   },
   "outputs": [],
   "source": [
    "np.inf - 1000000000"
   ]
  },
  {
   "cell_type": "code",
   "execution_count": null,
   "metadata": {
    "collapsed": true
   },
   "outputs": [],
   "source": [
    "1./np.inf"
   ]
  },
  {
   "cell_type": "code",
   "execution_count": null,
   "metadata": {
    "collapsed": true
   },
   "outputs": [],
   "source": [
    "b.max()"
   ]
  },
  {
   "cell_type": "code",
   "execution_count": null,
   "metadata": {
    "collapsed": true
   },
   "outputs": [],
   "source": [
    "b.min()"
   ]
  },
  {
   "cell_type": "code",
   "execution_count": null,
   "metadata": {
    "collapsed": true
   },
   "outputs": [],
   "source": [
    "b.mean()"
   ]
  },
  {
   "cell_type": "code",
   "execution_count": null,
   "metadata": {
    "collapsed": true
   },
   "outputs": [],
   "source": [
    "- np.inf"
   ]
  },
  {
   "cell_type": "markdown",
   "metadata": {},
   "source": [
    "-------------------------------------------------------"
   ]
  },
  {
   "cell_type": "code",
   "execution_count": null,
   "metadata": {
    "collapsed": true
   },
   "outputs": [],
   "source": [
    "a = np.arange(-1, 3, 0.001)\n",
    "b = np.sqrt(a)\n",
    "b"
   ]
  },
  {
   "cell_type": "markdown",
   "metadata": {},
   "source": [
    "nan := Not a Number (NaN), undefined value"
   ]
  },
  {
   "cell_type": "code",
   "execution_count": null,
   "metadata": {
    "collapsed": true
   },
   "outputs": [],
   "source": [
    "b * 100  # NaN can never become anyhing other"
   ]
  },
  {
   "cell_type": "markdown",
   "metadata": {},
   "source": [
    "#### Testing for NaNs"
   ]
  },
  {
   "cell_type": "code",
   "execution_count": null,
   "metadata": {
    "collapsed": true
   },
   "outputs": [],
   "source": [
    "np.isnan(b)  # there are also isinf(), isneginf(), isposinf(), and more"
   ]
  },
  {
   "cell_type": "markdown",
   "metadata": {},
   "source": [
    "\n",
    "## Exercise\n",
    "<div class=\"alert alert-success\">\n",
    "<li>Test `isinf` and `isfinite` </li>\n",
    "</div>"
   ]
  },
  {
   "cell_type": "markdown",
   "metadata": {},
   "source": [
    "# Working with invalid data: masked arrays"
   ]
  },
  {
   "cell_type": "markdown",
   "metadata": {},
   "source": [
    "If there are invalid values, they can be masked => masked arrays"
   ]
  },
  {
   "cell_type": "code",
   "execution_count": null,
   "metadata": {
    "ExecuteTime": {
     "end_time": "2017-09-08T08:24:46.175237Z",
     "start_time": "2017-09-08T08:24:46.172760Z"
    },
    "collapsed": true
   },
   "outputs": [],
   "source": [
    "import numpy.ma as ma  # ma = masked array"
   ]
  },
  {
   "cell_type": "code",
   "execution_count": null,
   "metadata": {
    "ExecuteTime": {
     "end_time": "2017-09-08T08:24:46.775454Z",
     "start_time": "2017-09-08T08:24:46.770229Z"
    },
    "collapsed": true
   },
   "outputs": [],
   "source": [
    "a = np.arange(5.)\n",
    "a[3] = np.nan\n",
    "a"
   ]
  },
  {
   "cell_type": "code",
   "execution_count": null,
   "metadata": {
    "ExecuteTime": {
     "end_time": "2017-09-08T08:24:47.438072Z",
     "start_time": "2017-09-08T08:24:47.434256Z"
    },
    "collapsed": true
   },
   "outputs": [],
   "source": [
    "a.mean()"
   ]
  },
  {
   "cell_type": "code",
   "execution_count": null,
   "metadata": {
    "ExecuteTime": {
     "end_time": "2017-09-08T08:24:47.977368Z",
     "start_time": "2017-09-08T08:24:47.972233Z"
    },
    "collapsed": true
   },
   "outputs": [],
   "source": [
    "b = ma.masked_array(a, mask=[0, 0, 0, 1, 0])\n",
    "b"
   ]
  },
  {
   "cell_type": "code",
   "execution_count": null,
   "metadata": {
    "ExecuteTime": {
     "end_time": "2017-09-08T08:24:49.707230Z",
     "start_time": "2017-09-08T08:24:49.702811Z"
    },
    "collapsed": true
   },
   "outputs": [],
   "source": [
    "b.mean()"
   ]
  },
  {
   "cell_type": "markdown",
   "metadata": {},
   "source": [
    "`masked_array` is a subclass of *ndarray*, so it inherits all methods."
   ]
  },
  {
   "cell_type": "markdown",
   "metadata": {},
   "source": [
    "### Creating MaskedArrays"
   ]
  },
  {
   "cell_type": "code",
   "execution_count": null,
   "metadata": {
    "ExecuteTime": {
     "end_time": "2017-09-08T08:24:51.338783Z",
     "start_time": "2017-09-08T08:24:51.334223Z"
    },
    "collapsed": true
   },
   "outputs": [],
   "source": [
    "a = ma.masked_array(np.arange(5))  # no mask\n",
    "a"
   ]
  },
  {
   "cell_type": "code",
   "execution_count": null,
   "metadata": {
    "ExecuteTime": {
     "end_time": "2017-09-08T08:24:51.621791Z",
     "start_time": "2017-09-08T08:24:51.616668Z"
    },
    "collapsed": true
   },
   "outputs": [],
   "source": [
    "a = ma.masked_array(np.arange(5), mask=[0, 0, 0, 1, 0])  # created with a mask\n",
    "a"
   ]
  },
  {
   "cell_type": "code",
   "execution_count": null,
   "metadata": {
    "ExecuteTime": {
     "end_time": "2017-09-08T08:24:51.878024Z",
     "start_time": "2017-09-08T08:24:51.873054Z"
    },
    "collapsed": true
   },
   "outputs": [],
   "source": [
    "a = np.sin(np.arange(0, 100, 10))\n",
    "a"
   ]
  },
  {
   "cell_type": "code",
   "execution_count": null,
   "metadata": {
    "ExecuteTime": {
     "end_time": "2017-09-08T08:24:52.133965Z",
     "start_time": "2017-09-08T08:24:52.129125Z"
    },
    "collapsed": true
   },
   "outputs": [],
   "source": [
    "b = ma.masked_greater(a, 0.5)\n",
    "b"
   ]
  },
  {
   "cell_type": "code",
   "execution_count": null,
   "metadata": {
    "ExecuteTime": {
     "end_time": "2017-09-08T08:24:52.387471Z",
     "start_time": "2017-09-08T08:24:52.382416Z"
    },
    "collapsed": true
   },
   "outputs": [],
   "source": [
    "a = np.arange(5.)\n",
    "a[3] = np.nan\n",
    "a"
   ]
  },
  {
   "cell_type": "code",
   "execution_count": null,
   "metadata": {
    "ExecuteTime": {
     "end_time": "2017-09-08T08:24:52.649952Z",
     "start_time": "2017-09-08T08:24:52.645036Z"
    },
    "collapsed": true
   },
   "outputs": [],
   "source": [
    "b = ma.masked_invalid(a)\n",
    "b"
   ]
  },
  {
   "cell_type": "markdown",
   "metadata": {},
   "source": [
    "### masked arrays can be masked further"
   ]
  },
  {
   "cell_type": "code",
   "execution_count": null,
   "metadata": {
    "ExecuteTime": {
     "end_time": "2017-09-08T08:24:53.240287Z",
     "start_time": "2017-09-08T08:24:53.235515Z"
    },
    "collapsed": true
   },
   "outputs": [],
   "source": [
    "c = ma.masked_equal(b, 1.0)\n",
    "c"
   ]
  },
  {
   "cell_type": "markdown",
   "metadata": {},
   "source": [
    "Single values can be masked as well"
   ]
  },
  {
   "cell_type": "code",
   "execution_count": null,
   "metadata": {
    "ExecuteTime": {
     "end_time": "2017-09-08T08:24:53.802924Z",
     "start_time": "2017-09-08T08:24:53.798488Z"
    },
    "collapsed": true
   },
   "outputs": [],
   "source": [
    "c[4] = ma.masked\n",
    "c"
   ]
  },
  {
   "cell_type": "markdown",
   "metadata": {},
   "source": [
    "analog to *masked_greater(a, v)*:\n",
    "\n",
    " * *masked_less(a, v)*\n",
    " * *masked_less_equal(a, v)*\n",
    " * *masked_equal(a, v)*\n",
    " * …\n",
    " * *masked_where(condition, a)*\n",
    " * *masked_inside(a, v1, v2)*\n",
    " * …"
   ]
  },
  {
   "cell_type": "markdown",
   "metadata": {},
   "source": [
    "### masked arrays support (?) ndarray ufuncs"
   ]
  },
  {
   "cell_type": "code",
   "execution_count": null,
   "metadata": {
    "ExecuteTime": {
     "end_time": "2017-09-08T08:24:57.054005Z",
     "start_time": "2017-09-08T08:24:57.050045Z"
    },
    "collapsed": true
   },
   "outputs": [],
   "source": [
    "b"
   ]
  },
  {
   "cell_type": "code",
   "execution_count": null,
   "metadata": {
    "ExecuteTime": {
     "end_time": "2017-09-08T08:24:57.313852Z",
     "start_time": "2017-09-08T08:24:57.309995Z"
    },
    "collapsed": true
   },
   "outputs": [],
   "source": [
    "b.max()"
   ]
  },
  {
   "cell_type": "code",
   "execution_count": null,
   "metadata": {
    "ExecuteTime": {
     "end_time": "2017-09-08T08:24:57.585874Z",
     "start_time": "2017-09-08T08:24:57.566545Z"
    },
    "collapsed": true
   },
   "outputs": [],
   "source": [
    "b / b.mean()"
   ]
  },
  {
   "cell_type": "markdown",
   "metadata": {},
   "source": [
    "### Indexing and Slicing"
   ]
  },
  {
   "cell_type": "code",
   "execution_count": null,
   "metadata": {
    "ExecuteTime": {
     "end_time": "2017-09-08T08:24:58.155340Z",
     "start_time": "2017-09-08T08:24:58.151297Z"
    },
    "collapsed": true
   },
   "outputs": [],
   "source": [
    "b"
   ]
  },
  {
   "cell_type": "code",
   "execution_count": null,
   "metadata": {
    "ExecuteTime": {
     "end_time": "2017-09-08T08:24:58.399680Z",
     "start_time": "2017-09-08T08:24:58.396028Z"
    },
    "collapsed": true
   },
   "outputs": [],
   "source": [
    "b[0]"
   ]
  },
  {
   "cell_type": "code",
   "execution_count": null,
   "metadata": {
    "ExecuteTime": {
     "end_time": "2017-09-08T08:24:58.645781Z",
     "start_time": "2017-09-08T08:24:58.642244Z"
    },
    "collapsed": true
   },
   "outputs": [],
   "source": [
    "b[3]"
   ]
  },
  {
   "cell_type": "code",
   "execution_count": null,
   "metadata": {
    "ExecuteTime": {
     "end_time": "2017-09-08T08:24:58.894897Z",
     "start_time": "2017-09-08T08:24:58.891180Z"
    },
    "collapsed": true
   },
   "outputs": [],
   "source": [
    "b[3] is ma.masked  # Testing for masked works as testing for np.nan"
   ]
  },
  {
   "cell_type": "markdown",
   "metadata": {},
   "source": [
    "### Refill Masked Arrays"
   ]
  },
  {
   "cell_type": "code",
   "execution_count": null,
   "metadata": {
    "ExecuteTime": {
     "end_time": "2017-09-08T08:25:04.295949Z",
     "start_time": "2017-09-08T08:25:04.291540Z"
    },
    "collapsed": true
   },
   "outputs": [],
   "source": [
    "b"
   ]
  },
  {
   "cell_type": "code",
   "execution_count": null,
   "metadata": {
    "collapsed": true
   },
   "outputs": [],
   "source": [
    "c = b.filled()\n",
    "c"
   ]
  },
  {
   "cell_type": "code",
   "execution_count": null,
   "metadata": {
    "collapsed": true
   },
   "outputs": [],
   "source": [
    "c = b.filled(b.mean())\n",
    "c\n"
   ]
  },
  {
   "cell_type": "code",
   "execution_count": null,
   "metadata": {
    "collapsed": true
   },
   "outputs": [],
   "source": [
    "b.fill_value = 3\n",
    "b  # fill value is 3.0 now"
   ]
  },
  {
   "cell_type": "code",
   "execution_count": null,
   "metadata": {
    "collapsed": true
   },
   "outputs": [],
   "source": [
    "b"
   ]
  },
  {
   "cell_type": "markdown",
   "metadata": {},
   "source": [
    "### Accessing Data and Mask"
   ]
  },
  {
   "cell_type": "code",
   "execution_count": null,
   "metadata": {
    "collapsed": true
   },
   "outputs": [],
   "source": [
    "c = b.data\n",
    "c"
   ]
  },
  {
   "cell_type": "code",
   "execution_count": null,
   "metadata": {
    "collapsed": true
   },
   "outputs": [],
   "source": [
    "type(c)"
   ]
  },
  {
   "cell_type": "code",
   "execution_count": null,
   "metadata": {
    "collapsed": true
   },
   "outputs": [],
   "source": [
    "b.mask  # True is masked"
   ]
  },
  {
   "cell_type": "markdown",
   "metadata": {},
   "source": [
    "#### Accessing valid data"
   ]
  },
  {
   "cell_type": "code",
   "execution_count": null,
   "metadata": {
    "collapsed": true
   },
   "outputs": [],
   "source": [
    "b[~b.mask]  # carefull, this is again a masked array"
   ]
  },
  {
   "cell_type": "code",
   "execution_count": null,
   "metadata": {
    "collapsed": true
   },
   "outputs": [],
   "source": [
    "b[~b.mask].data"
   ]
  },
  {
   "cell_type": "code",
   "execution_count": null,
   "metadata": {
    "collapsed": true
   },
   "outputs": [],
   "source": [
    "b[0] = ma.masked"
   ]
  },
  {
   "cell_type": "code",
   "execution_count": null,
   "metadata": {
    "collapsed": true
   },
   "outputs": [],
   "source": [
    "b"
   ]
  },
  {
   "cell_type": "code",
   "execution_count": null,
   "metadata": {
    "collapsed": true
   },
   "outputs": [],
   "source": [
    "ma.masked_equal(a, 2.0)"
   ]
  },
  {
   "cell_type": "code",
   "execution_count": null,
   "metadata": {
    "collapsed": true
   },
   "outputs": [],
   "source": [
    "b"
   ]
  },
  {
   "cell_type": "markdown",
   "metadata": {},
   "source": [
    "### Hard and Soft Masks"
   ]
  },
  {
   "cell_type": "code",
   "execution_count": null,
   "metadata": {
    "collapsed": true
   },
   "outputs": [],
   "source": [
    "b"
   ]
  },
  {
   "cell_type": "code",
   "execution_count": null,
   "metadata": {
    "collapsed": true
   },
   "outputs": [],
   "source": [
    "b[0] = 3.0  # demask b[0]\n",
    "b"
   ]
  },
  {
   "cell_type": "markdown",
   "metadata": {},
   "source": [
    "if a mask is *hard*, it cannot be demasked"
   ]
  },
  {
   "cell_type": "code",
   "execution_count": null,
   "metadata": {
    "collapsed": true
   },
   "outputs": [],
   "source": [
    "b = ma.masked_invalid(a)\n",
    "b"
   ]
  },
  {
   "cell_type": "code",
   "execution_count": null,
   "metadata": {
    "collapsed": true
   },
   "outputs": [],
   "source": [
    "b.hardmask"
   ]
  },
  {
   "cell_type": "code",
   "execution_count": null,
   "metadata": {
    "collapsed": true
   },
   "outputs": [],
   "source": [
    "b.harden_mask()\n",
    "b.hardmask"
   ]
  },
  {
   "cell_type": "code",
   "execution_count": null,
   "metadata": {
    "collapsed": true
   },
   "outputs": [],
   "source": [
    "b[3] = 3.0  # Careful, no exception!\n",
    "b"
   ]
  },
  {
   "cell_type": "code",
   "execution_count": null,
   "metadata": {
    "collapsed": true
   },
   "outputs": [],
   "source": [
    "b.data"
   ]
  },
  {
   "cell_type": "code",
   "execution_count": 1,
   "metadata": {
    "ExecuteTime": {
     "end_time": "2017-09-08T10:39:28.009930Z",
     "start_time": "2017-09-08T10:39:27.955168Z"
    }
   },
   "outputs": [
    {
     "ename": "NameError",
     "evalue": "name 'b' is not defined",
     "output_type": "error",
     "traceback": [
      "\u001b[0;31m------------------------------------------------------------\u001b[0m",
      "\u001b[0;31mNameError\u001b[0m                  Traceback (most recent call last)",
      "\u001b[0;32m<ipython-input-1-8967072f0e3c>\u001b[0m in \u001b[0;36m<module>\u001b[0;34m()\u001b[0m\n\u001b[0;32m----> 1\u001b[0;31m \u001b[0mb\u001b[0m\u001b[0;34m.\u001b[0m\u001b[0msoften_mask\u001b[0m\u001b[0;34m(\u001b[0m\u001b[0;34m)\u001b[0m\u001b[0;34m\u001b[0m\u001b[0m\n\u001b[0m\u001b[1;32m      2\u001b[0m \u001b[0mb\u001b[0m\u001b[0;34m.\u001b[0m\u001b[0mhardmask\u001b[0m\u001b[0;34m\u001b[0m\u001b[0m\n",
      "\u001b[0;31mNameError\u001b[0m: name 'b' is not defined"
     ]
    }
   ],
   "source": [
    "b.soften_mask()\n",
    "b.hardmask"
   ]
  },
  {
   "cell_type": "markdown",
   "metadata": {},
   "source": [
    "# Structured data types\n",
    "* arrays with different data types\n",
    "* strings have fixed lengths"
   ]
  },
  {
   "cell_type": "code",
   "execution_count": 17,
   "metadata": {
    "ExecuteTime": {
     "end_time": "2017-09-08T10:42:41.263807Z",
     "start_time": "2017-09-08T10:42:41.257837Z"
    }
   },
   "outputs": [
    {
     "data": {
      "text/plain": [
       "array([(b'',  0.,  0.), (b'',  0.,  0.), (b'',  0.,  0.), (b'',  0.,  0.),\n",
       "       (b'',  0.,  0.), (b'',  0.,  0.)], \n",
       "      dtype=[('sensor_code', 'S4'), ('position', '<f8'), ('value', '<f8')])"
      ]
     },
     "execution_count": 17,
     "metadata": {},
     "output_type": "execute_result"
    }
   ],
   "source": [
    "samples = np.zeros((6,), dtype=[('sensor_code', 'S4'), ('position', float), ('value', float)])\n",
    "samples\n"
   ]
  },
  {
   "cell_type": "code",
   "execution_count": 19,
   "metadata": {
    "ExecuteTime": {
     "end_time": "2017-09-08T10:42:51.868008Z",
     "start_time": "2017-09-08T10:42:51.863533Z"
    }
   },
   "outputs": [
    {
     "data": {
      "text/plain": [
       "1"
      ]
     },
     "execution_count": 19,
     "metadata": {},
     "output_type": "execute_result"
    }
   ],
   "source": [
    "samples.ndim"
   ]
  },
  {
   "cell_type": "code",
   "execution_count": 20,
   "metadata": {
    "ExecuteTime": {
     "end_time": "2017-09-08T10:42:52.338972Z",
     "start_time": "2017-09-08T10:42:52.335295Z"
    }
   },
   "outputs": [
    {
     "data": {
      "text/plain": [
       "(6,)"
      ]
     },
     "execution_count": 20,
     "metadata": {},
     "output_type": "execute_result"
    }
   ],
   "source": [
    "samples.shape"
   ]
  },
  {
   "cell_type": "code",
   "execution_count": 21,
   "metadata": {
    "ExecuteTime": {
     "end_time": "2017-09-08T10:42:52.929224Z",
     "start_time": "2017-09-08T10:42:52.925190Z"
    }
   },
   "outputs": [
    {
     "data": {
      "text/plain": [
       "('sensor_code', 'position', 'value')"
      ]
     },
     "execution_count": 21,
     "metadata": {},
     "output_type": "execute_result"
    }
   ],
   "source": [
    "samples.dtype.names"
   ]
  },
  {
   "cell_type": "code",
   "execution_count": 22,
   "metadata": {
    "ExecuteTime": {
     "end_time": "2017-09-08T10:42:53.351620Z",
     "start_time": "2017-09-08T10:42:53.343107Z"
    }
   },
   "outputs": [
    {
     "data": {
      "text/plain": [
       "array([(b'ALFA',  1. ,  0.37), (b'BETA',  1. ,  0.11),\n",
       "       (b'TAU',  1. ,  0.13), (b'ALFA',  1.5,  0.37),\n",
       "       (b'ALFA',  3. ,  0.11), (b'TAU',  1.2,  0.13)], \n",
       "      dtype=[('sensor_code', 'S4'), ('position', '<f8'), ('value', '<f8')])"
      ]
     },
     "execution_count": 22,
     "metadata": {},
     "output_type": "execute_result"
    }
   ],
   "source": [
    "samples[:] = [('ALFA',   1, 0.37), ('BETA', 1, 0.11), ('TAU', 1,   0.13),\n",
    "              ('ALFA', 1.5, 0.37), ('ALFA', 3, 0.11), ('TAU', 1.2, 0.13)]\n",
    "samples"
   ]
  },
  {
   "cell_type": "markdown",
   "metadata": {},
   "source": [
    "\n",
    "# Exercises\n",
    "<div class=\"alert alert-success\">\n",
    "<li>load *files/invalid_array.npy*, mask all NaN values and calculate the mean</li>\n",
    "<li>additionally mask all values `< - 50` and re-calculate the mean</li>\n",
    "<li>fill all masked values the array's mean</li>\n",
    "<li>how sensible is it to calculate the mean only along one axis?</li>\n",
    "</div>"
   ]
  },
  {
   "cell_type": "code",
   "execution_count": null,
   "metadata": {
    "ExecuteTime": {
     "end_time": "2017-09-08T08:28:36.969381Z",
     "start_time": "2017-09-08T08:28:36.942870Z"
    },
    "collapsed": true
   },
   "outputs": [],
   "source": [
    "data = np.load('files/invalid_array.npy')\n",
    "data = ma.masked_invalid(data)\n",
    "data.mean()"
   ]
  },
  {
   "cell_type": "code",
   "execution_count": null,
   "metadata": {
    "ExecuteTime": {
     "end_time": "2017-09-08T08:28:37.268580Z",
     "start_time": "2017-09-08T08:28:37.220575Z"
    },
    "collapsed": true
   },
   "outputs": [],
   "source": [
    "data = ma.masked_less(data, -50)\n",
    "data.mean()"
   ]
  },
  {
   "cell_type": "code",
   "execution_count": null,
   "metadata": {
    "ExecuteTime": {
     "end_time": "2017-09-08T08:28:42.503029Z",
     "start_time": "2017-09-08T08:28:42.483049Z"
    },
    "collapsed": true
   },
   "outputs": [],
   "source": [
    "mask = data.mask\n",
    "data.data[mask] = data.mean()"
   ]
  },
  {
   "cell_type": "code",
   "execution_count": null,
   "metadata": {
    "ExecuteTime": {
     "end_time": "2017-09-08T08:28:44.480391Z",
     "start_time": "2017-09-08T08:28:44.180410Z"
    },
    "collapsed": true
   },
   "outputs": [],
   "source": [
    "import matplotlib.pyplot as plt\n",
    "%matplotlib inline\n",
    "plt.imshow(data)"
   ]
  },
  {
   "cell_type": "code",
   "execution_count": null,
   "metadata": {
    "ExecuteTime": {
     "end_time": "2017-09-08T08:27:57.686676Z",
     "start_time": "2017-09-08T08:27:57.680787Z"
    },
    "collapsed": true
   },
   "outputs": [],
   "source": []
  },
  {
   "cell_type": "code",
   "execution_count": null,
   "metadata": {
    "collapsed": true
   },
   "outputs": [],
   "source": []
  }
 ],
 "metadata": {
  "hide_input": false,
  "kernelspec": {
   "display_name": "Python 3",
   "language": "python",
   "name": "python3"
  },
  "language_info": {
   "codemirror_mode": {
    "name": "ipython",
    "version": 3
   },
   "file_extension": ".py",
   "mimetype": "text/x-python",
   "name": "python",
   "nbconvert_exporter": "python",
   "pygments_lexer": "ipython3",
   "version": "3.5.2"
  },
  "toc": {
   "toc_cell": true,
   "toc_number_sections": true,
   "toc_threshold": 6,
   "toc_window_display": true
  }
 },
 "nbformat": 4,
 "nbformat_minor": 1
}
