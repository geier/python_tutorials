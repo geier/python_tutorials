{
 "cells": [
  {
   "cell_type": "markdown",
   "metadata": {
    "toc": "true"
   },
   "source": [
    "# Table of Contents\n",
    " <p><div class=\"lev1\"><a href=\"#Reading-and-Writing-Files\"><span class=\"toc-item-num\">1&nbsp;&nbsp;</span>Reading and Writing Files</a></div><div class=\"lev2\"><a href=\"#CSV-files\"><span class=\"toc-item-num\">1.1&nbsp;&nbsp;</span>CSV files</a></div><div class=\"lev2\"><a href=\"#CSV-with-header\"><span class=\"toc-item-num\">1.2&nbsp;&nbsp;</span>CSV with header</a></div><div class=\"lev2\"><a href=\"#CSV-with-header-and-comments\"><span class=\"toc-item-num\">1.3&nbsp;&nbsp;</span>CSV with header and comments</a></div><div class=\"lev2\"><a href=\"#CSV-with-missing-values\"><span class=\"toc-item-num\">1.4&nbsp;&nbsp;</span>CSV with missing values</a></div><div class=\"lev2\"><a href=\"#Save-data-as-csv\"><span class=\"toc-item-num\">1.5&nbsp;&nbsp;</span>Save data as csv</a></div><div class=\"lev3\"><a href=\"#Using-binary\"><span class=\"toc-item-num\">1.5.1&nbsp;&nbsp;</span>Using binary</a></div><div class=\"lev3\"><a href=\"#Reading-any-data-from-binary\"><span class=\"toc-item-num\">1.5.2&nbsp;&nbsp;</span>Reading any data from binary</a></div><div class=\"lev2\"><a href=\"#memory-mapped:-Cached-Access\"><span class=\"toc-item-num\">1.6&nbsp;&nbsp;</span>memory-mapped: Cached Access</a></div><div class=\"lev2\"><a href=\"#Reading-and-writing-Matlab-data-format\"><span class=\"toc-item-num\">1.7&nbsp;&nbsp;</span>Reading and writing Matlab data format</a></div><div class=\"lev1\"><a href=\"#Exercises\"><span class=\"toc-item-num\">2&nbsp;&nbsp;</span>Exercises</a></div>"
   ]
  },
  {
   "cell_type": "markdown",
   "metadata": {
    "slideshow": {
     "slide_type": "slide"
    }
   },
   "source": [
    "# Reading and Writing Files\n",
    "## CSV files"
   ]
  },
  {
   "cell_type": "code",
   "execution_count": null,
   "metadata": {
    "ExecuteTime": {
     "end_time": "2017-09-08T08:14:59.597365Z",
     "start_time": "2017-09-08T08:14:59.415255Z"
    },
    "slideshow": {
     "slide_type": "-"
    }
   },
   "outputs": [],
   "source": [
    "import numpy as np\n",
    "\n",
    "import tempfile\n",
    "\n",
    "from os.path import join\n",
    "\n",
    "temp = tempfile.gettempdir()\n",
    "\n",
    "# show the file via the shell\n",
    "!cat 'files/testfile_1.csv'"
   ]
  },
  {
   "cell_type": "code",
   "execution_count": null,
   "metadata": {
    "slideshow": {
     "slide_type": "-"
    }
   },
   "outputs": [],
   "source": [
    "csv_data = np.loadtxt(join('files', 'testfile_1.csv'), delimiter=',')\n",
    "csv_data"
   ]
  },
  {
   "cell_type": "code",
   "execution_count": null,
   "metadata": {
    "slideshow": {
     "slide_type": "fragment"
    }
   },
   "outputs": [],
   "source": [
    "# read csv with given datatypes:\n",
    "csv_data = np.loadtxt(join('files', 'testfile_1.csv'), delimiter=',', dtype=\"int, float, int\")\n",
    "csv_data  # attention: result is (structured) record-ndarray"
   ]
  },
  {
   "cell_type": "markdown",
   "metadata": {
    "slideshow": {
     "slide_type": "subslide"
    }
   },
   "source": [
    "## CSV with header"
   ]
  },
  {
   "cell_type": "code",
   "execution_count": null,
   "metadata": {
    "slideshow": {
     "slide_type": "-"
    }
   },
   "outputs": [],
   "source": [
    "!cat 'files/testfile_2.csv'"
   ]
  },
  {
   "cell_type": "code",
   "execution_count": null,
   "metadata": {},
   "outputs": [],
   "source": [
    "np.loadtxt(join('files', 'testfile_2.csv'), delimiter='\\t', skiprows=1)"
   ]
  },
  {
   "cell_type": "markdown",
   "metadata": {
    "slideshow": {
     "slide_type": "subslide"
    }
   },
   "source": [
    "## CSV with header and comments"
   ]
  },
  {
   "cell_type": "code",
   "execution_count": null,
   "metadata": {
    "slideshow": {
     "slide_type": "-"
    }
   },
   "outputs": [],
   "source": [
    "!cat files/testfile_3.csv"
   ]
  },
  {
   "cell_type": "code",
   "execution_count": null,
   "metadata": {
    "slideshow": {
     "slide_type": "-"
    }
   },
   "outputs": [],
   "source": [
    "# genfromtext has even more options\n",
    "data = np.genfromtxt(join('files', 'testfile_3.csv'), delimiter='\\t', names=True, comments='#')\n",
    "data"
   ]
  },
  {
   "cell_type": "code",
   "execution_count": null,
   "metadata": {},
   "outputs": [],
   "source": [
    "data['foo']"
   ]
  },
  {
   "cell_type": "markdown",
   "metadata": {
    "slideshow": {
     "slide_type": "subslide"
    }
   },
   "source": [
    "## CSV with missing values"
   ]
  },
  {
   "cell_type": "code",
   "execution_count": null,
   "metadata": {
    "slideshow": {
     "slide_type": "-"
    }
   },
   "outputs": [],
   "source": [
    "!cat files/testfile_4.csv"
   ]
  },
  {
   "cell_type": "code",
   "execution_count": null,
   "metadata": {
    "slideshow": {
     "slide_type": "-"
    }
   },
   "outputs": [],
   "source": [
    "np.genfromtxt(join('files', 'testfile_4.csv'),\n",
    "              delimiter='\\t', \n",
    "              names='foo,bar,names',\n",
    "              dtype='int, float, S10',\n",
    "              autostrip=True,\n",
    "              missing_values={0:'N/A', 1:'N/A', 2:'???'},\n",
    "              filling_values={0:-9999, 1:np.nan, 2:'???'}\n",
    "              )"
   ]
  },
  {
   "cell_type": "markdown",
   "metadata": {
    "slideshow": {
     "slide_type": "subslide"
    }
   },
   "source": [
    "## Save data as csv"
   ]
  },
  {
   "cell_type": "code",
   "execution_count": null,
   "metadata": {
    "slideshow": {
     "slide_type": "-"
    }
   },
   "outputs": [],
   "source": [
    "testfile = join(temp, 'test.csv')\n",
    "\n",
    "np.savetxt(testfile, np.random.rand(7, 3) * 10, fmt='%i, %2.3f, %i')\n",
    "\n",
    "!cat $testfile"
   ]
  },
  {
   "cell_type": "markdown",
   "metadata": {
    "slideshow": {
     "slide_type": "subslide"
    }
   },
   "source": [
    "### Using binary"
   ]
  },
  {
   "cell_type": "code",
   "execution_count": null,
   "metadata": {},
   "outputs": [],
   "source": [
    "testfile = join(temp, 'test.npy')\n",
    "\n",
    "np.save(testfile, np.random.rand(7, 3))\n",
    "\n",
    "np.load(testfile)"
   ]
  },
  {
   "cell_type": "code",
   "execution_count": null,
   "metadata": {},
   "outputs": [],
   "source": [
    "# saving severeal arrays in one file\n",
    "testfile = join(temp, 'test.npz')\n",
    "\n",
    "np.savez(testfile, my_arr1=np.random.rand(5, 2), my_second_array=np.random.rand(10))"
   ]
  },
  {
   "cell_type": "code",
   "execution_count": null,
   "metadata": {},
   "outputs": [],
   "source": [
    "# load several arrays\n",
    "data = np.load(testfile)\n",
    "data"
   ]
  },
  {
   "cell_type": "code",
   "execution_count": null,
   "metadata": {},
   "outputs": [],
   "source": [
    "data.keys()"
   ]
  },
  {
   "cell_type": "code",
   "execution_count": null,
   "metadata": {},
   "outputs": [],
   "source": [
    "data['my_second_array']"
   ]
  },
  {
   "cell_type": "markdown",
   "metadata": {
    "slideshow": {
     "slide_type": "subslide"
    }
   },
   "source": [
    "### Reading any data from binary"
   ]
  },
  {
   "cell_type": "code",
   "execution_count": null,
   "metadata": {
    "slideshow": {
     "slide_type": "fragment"
    }
   },
   "outputs": [],
   "source": [
    "testfile = join(temp, 'test.bin.npy')\n",
    "\n",
    "np.save(testfile, np.arange(10).reshape(2, 5))\n",
    "\n",
    "# Opening the data:\n",
    "infile = open(testfile)\n",
    "\n",
    "# skip the header\n",
    "infile.seek(80)\n",
    "\n",
    "# define the data type: 2 x long int\n",
    "numdtype = np.dtype('2l')\n",
    "\n",
    "# read the data!\n",
    "np.fromfile(infile, dtype=numdtype)"
   ]
  },
  {
   "cell_type": "markdown",
   "metadata": {
    "slideshow": {
     "slide_type": "slide"
    }
   },
   "source": [
    "## memory-mapped: Cached Access"
   ]
  },
  {
   "cell_type": "code",
   "execution_count": null,
   "metadata": {},
   "outputs": [],
   "source": [
    "testfile = join(temp, 'big_test_file.npy')\n",
    "\n",
    "\n",
    "np.save(testfile, np.empty(shape=(32 * 1024 ** 2)))\n",
    "!ls -ahl $testfile"
   ]
  },
  {
   "cell_type": "code",
   "execution_count": null,
   "metadata": {},
   "outputs": [],
   "source": [
    "%timeit -n 1 nur_von_interesse = np.load(testfile)[10000:20000]"
   ]
  },
  {
   "cell_type": "code",
   "execution_count": null,
   "metadata": {},
   "outputs": [],
   "source": [
    "%timeit -n 1 nur_von_interesse = np.load(testfile, mmap_mode='r')[10000:20000]"
   ]
  },
  {
   "cell_type": "markdown",
   "metadata": {
    "slideshow": {
     "slide_type": "slide"
    }
   },
   "source": [
    "## Reading and writing Matlab data format"
   ]
  },
  {
   "cell_type": "code",
   "execution_count": null,
   "metadata": {},
   "outputs": [],
   "source": [
    "from scipy.io import loadmat, savemat\n",
    "\n",
    "foo = np.random.rand(10)\n",
    "bar = np.arange(100)\n",
    "\n",
    "testfile = join(temp, 'test.mat')\n",
    "\n",
    "\n",
    "savemat(testfile, {'foo': foo, 'bar': bar}, oned_as='row')\n",
    "\n",
    "my_mat = loadmat(testfile)\n",
    "my_mat"
   ]
  },
  {
   "cell_type": "markdown",
   "metadata": {
    "slideshow": {
     "slide_type": "slide"
    }
   },
   "source": [
    "---\n",
    "\n",
    "# Exercises\n",
    "<div class=\"alert alert-success\">\n",
    "<li>save and load arrays foo and bar with numpy_compressed </li>\n",
    "</div>\n",
    "\n",
    "foo = np.random.rand(8, 8)\n",
    "\n",
    "bar = np.arange(256, dtype=np.uint8)"
   ]
  },
  {
   "cell_type": "code",
   "execution_count": null,
   "metadata": {
    "ExecuteTime": {
     "end_time": "2017-09-08T08:15:29.679665Z",
     "start_time": "2017-09-08T08:15:29.675548Z"
    }
   },
   "outputs": [],
   "source": [
    "foo = np.random.rand(8, 8)\n",
    "bar = np.arange(256, dtype=np.uint8)"
   ]
  },
  {
   "cell_type": "code",
   "execution_count": null,
   "metadata": {
    "ExecuteTime": {
     "end_time": "2017-09-08T08:15:30.166836Z",
     "start_time": "2017-09-08T08:15:30.143017Z"
    }
   },
   "outputs": [],
   "source": [
    "np.savez_compressed(join(temp, 'compressed_numpy_file.npz'), foo=foo, bar=bar)\n",
    "\n",
    "data = np.load(join(temp, 'compressed_numpy_file.npz'))\n",
    "data['foo']\n",
    "data['bar']"
   ]
  },
  {
   "cell_type": "markdown",
   "metadata": {},
   "source": [
    "<div class=\"alert alert-success\">\n",
    "<li> Load the file 'files/testfile.bin' as a memmap</li>\n",
    "<li> the header (str) is of size 24</li>\n",
    "<li> data is saved as int8, this can be written as b'byte-string'</li>\n",
    "<li> the shape is 8 x 8 </li>\n",
    "\n",
    "</div>"
   ]
  },
  {
   "cell_type": "code",
   "execution_count": null,
   "metadata": {
    "ExecuteTime": {
     "end_time": "2017-09-08T08:17:18.878609Z",
     "start_time": "2017-09-08T08:17:18.865853Z"
    }
   },
   "outputs": [],
   "source": [
    "# create file\n",
    "with open(join('files', 'testfile.bin'), 'wb') as myfile:\n",
    "    header = b'write a header! :-)'\n",
    "    myfile.write(header)\n",
    "    myfile.close()\n",
    "\n",
    "# create memmep and save data\n",
    "data = np.memmap(join('files', 'testfile.bin'), offset=24, shape=(8,8), dtype=np.int8)\n",
    "data[:] = np.arange(64).reshape(8, 8)\n",
    "data"
   ]
  },
  {
   "cell_type": "code",
   "execution_count": null,
   "metadata": {
    "ExecuteTime": {
     "end_time": "2017-09-08T08:17:38.308599Z",
     "start_time": "2017-09-08T08:17:38.301055Z"
    }
   },
   "outputs": [],
   "source": [
    "# read data\n",
    "neu = np.memmap(join('files', 'testfile.bin'),\n",
    "                mode='r',\n",
    "                offset=24,\n",
    "                shape=(8, 8),\n",
    "                dtype=np.int8)\n",
    "neu"
   ]
  },
  {
   "cell_type": "code",
   "execution_count": null,
   "metadata": {},
   "outputs": [],
   "source": []
  }
 ],
 "metadata": {
  "hide_input": false,
  "kernelspec": {
   "display_name": "Python 3",
   "language": "python",
   "name": "python3"
  },
  "language_info": {
   "codemirror_mode": {
    "name": "ipython",
    "version": 3
   },
   "file_extension": ".py",
   "mimetype": "text/x-python",
   "name": "python",
   "nbconvert_exporter": "python",
   "pygments_lexer": "ipython3",
   "version": "3.5.2"
  },
  "toc": {
   "toc_cell": true,
   "toc_number_sections": true,
   "toc_threshold": 6,
   "toc_window_display": true
  }
 },
 "nbformat": 4,
 "nbformat_minor": 1
}
