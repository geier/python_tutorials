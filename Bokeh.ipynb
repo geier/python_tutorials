{
 "cells": [
  {
   "cell_type": "markdown",
   "metadata": {},
   "source": [
    "# Bokeh\n",
    "\n",
    "* Bokeh is an interactive graphing toolkit build on javascript.\n",
    "\n",
    "* Good tutorial available at http://nbviewer.jupyter.org/github/bokeh/bokeh-notebooks/blob/master/tutorial/00%20-%20Introduction%20and%20Setup.ipynb\n",
    "\n",
    "\n",
    "* Check out the examples: http://bokeh.pydata.org/en/latest/docs/gallery.html"
   ]
  },
  {
   "cell_type": "code",
   "execution_count": null,
   "metadata": {
    "ExecuteTime": {
     "end_time": "2018-10-19T12:22:51.138451Z",
     "start_time": "2018-10-19T12:22:51.129513Z"
    }
   },
   "outputs": [],
   "source": [
    "import numpy as np\n",
    "import pandas as pd\n",
    "\n",
    "# Standard imports \n",
    "\n",
    "from bokeh.io import output_notebook, show\n",
    "from bokeh.plotting import figure\n",
    "\n",
    "\n",
    "output_notebook()   # load bokeh in the notebook"
   ]
  },
  {
   "cell_type": "markdown",
   "metadata": {
    "ExecuteTime": {
     "end_time": "2018-10-11T19:10:05.417943Z",
     "start_time": "2018-10-11T19:10:05.414759Z"
    }
   },
   "source": [
    "## Loading some more sample data\n",
    "\n",
    "**Only needs to be exectude once**"
   ]
  },
  {
   "cell_type": "code",
   "execution_count": null,
   "metadata": {
    "ExecuteTime": {
     "end_time": "2018-10-14T22:50:04.196746Z",
     "start_time": "2018-10-14T22:49:17.466547Z"
    }
   },
   "outputs": [],
   "source": [
    "\n",
    "import bokeh.sampledata\n",
    "bokeh.sampledata.download()"
   ]
  },
  {
   "cell_type": "markdown",
   "metadata": {
    "ExecuteTime": {
     "end_time": "2018-10-11T18:58:56.681690Z",
     "start_time": "2018-10-11T18:58:56.604101Z"
    }
   },
   "source": [
    "# Your first Bokeh plot"
   ]
  },
  {
   "cell_type": "code",
   "execution_count": null,
   "metadata": {
    "ExecuteTime": {
     "end_time": "2018-10-19T12:24:30.447734Z",
     "start_time": "2018-10-19T12:24:30.369167Z"
    }
   },
   "outputs": [],
   "source": [
    "# create a new plot with default tools, using figure\n",
    "p = figure(plot_width=400, plot_height=400)\n",
    "\n",
    "# add a circle renderer with x and y coordinates, size, color, and alpha\n",
    "p.circle(\n",
    "    x=np.random.random(100), y=np.random.random(100),\n",
    "    size=10 * np.random.random(100),  \n",
    "    line_color='navy',\n",
    "    fill_color='orange',\n",
    "    fill_alpha=0.5,  # and alpha\n",
    ")\n",
    "\n",
    "show(p) # show the results"
   ]
  },
  {
   "cell_type": "markdown",
   "metadata": {
    "ExecuteTime": {
     "end_time": "2018-10-11T19:05:52.450779Z",
     "start_time": "2018-10-11T19:05:52.445753Z"
    }
   },
   "source": [
    "* all properties can be vectorized, i.e., hand over a list\n",
    "* lots of different markers exist, e.g., *asterisk*, *square*, *x*"
   ]
  },
  {
   "cell_type": "markdown",
   "metadata": {
    "ExecuteTime": {
     "end_time": "2018-10-11T19:06:32.617497Z",
     "start_time": "2018-10-11T19:06:32.614310Z"
    }
   },
   "source": [
    "# Line Plots"
   ]
  },
  {
   "cell_type": "code",
   "execution_count": null,
   "metadata": {
    "ExecuteTime": {
     "end_time": "2018-10-19T12:25:07.106165Z",
     "start_time": "2018-10-19T12:25:07.021871Z"
    }
   },
   "outputs": [],
   "source": [
    "p = figure(plot_width=400, plot_height=400, title=\"My Line Plot\")\n",
    "\n",
    "p.line([1, 2, 3, 4, 5], [6, 7, 2, 4, 5], line_width=2)\n",
    "\n",
    "show(p) "
   ]
  },
  {
   "cell_type": "markdown",
   "metadata": {
    "ExecuteTime": {
     "end_time": "2018-10-11T19:08:29.151634Z",
     "start_time": "2018-10-11T19:08:29.148566Z"
    }
   },
   "source": [
    "# Plots can be combined"
   ]
  },
  {
   "cell_type": "code",
   "execution_count": null,
   "metadata": {
    "ExecuteTime": {
     "end_time": "2018-10-19T12:25:12.476409Z",
     "start_time": "2018-10-19T12:25:12.388594Z"
    },
    "scrolled": false
   },
   "outputs": [],
   "source": [
    "p = figure(plot_width=400, plot_height=400, title=\"My Line Plot\")\n",
    "\n",
    "p.line([1, 2, 3, 4, 5], [6, 7, 2, 4, 5], line_width=2)\n",
    "p.scatter([1, 2, 3, 4, 5], [6, 7, 2, 4, 5], size=10)\n",
    "\n",
    "show(p) "
   ]
  },
  {
   "cell_type": "markdown",
   "metadata": {
    "ExecuteTime": {
     "end_time": "2018-10-11T20:26:45.472698Z",
     "start_time": "2018-10-11T20:26:45.468273Z"
    }
   },
   "source": [
    "# Categorical Data"
   ]
  },
  {
   "cell_type": "code",
   "execution_count": null,
   "metadata": {
    "ExecuteTime": {
     "end_time": "2018-10-19T12:25:27.010915Z",
     "start_time": "2018-10-19T12:25:26.925322Z"
    }
   },
   "outputs": [],
   "source": [
    "fruits = ['Apples', 'Pears', 'Nectarines', 'Plums', 'Grapes', 'Strawberries']\n",
    "\n",
    "p = figure(x_range=fruits, plot_height=250, title=\"Fruit Counts\", tools=[])\n",
    "\n",
    "# Categorical values can also be used as coordinates\n",
    "p.circle(x=fruits, y=[5, 3, 4, 2, 4, 6])\n",
    "\n",
    "# Set some properties to make the plot look better\n",
    "p.xgrid.grid_line_color = None\n",
    "p.y_range.start = 0\n",
    "\n",
    "show(p)"
   ]
  },
  {
   "cell_type": "markdown",
   "metadata": {},
   "source": [
    "# Bar Charts"
   ]
  },
  {
   "cell_type": "code",
   "execution_count": null,
   "metadata": {
    "ExecuteTime": {
     "end_time": "2018-10-19T12:25:28.995989Z",
     "start_time": "2018-10-19T12:25:28.904477Z"
    }
   },
   "outputs": [],
   "source": [
    "fruits = ['Apples', 'Pears', 'Nectarines', 'Plums', 'Grapes', 'Strawberries']\n",
    "\n",
    "p = figure(x_range=fruits, plot_height=250, title=\"Fruit Counts\", tools=[])\n",
    "\n",
    "p.vbar(x=fruits, top=[5, 3, 4, 2, 4, 6], width=0.9)\n",
    "\n",
    "# Set some properties to make the plot look better\n",
    "p.xgrid.grid_line_color = None\n",
    "p.y_range.start = 0\n",
    "\n",
    "show(p)"
   ]
  },
  {
   "cell_type": "markdown",
   "metadata": {},
   "source": [
    "# Columnar Data"
   ]
  },
  {
   "cell_type": "code",
   "execution_count": null,
   "metadata": {
    "ExecuteTime": {
     "end_time": "2018-10-19T12:25:31.205800Z",
     "start_time": "2018-10-19T12:25:31.154306Z"
    }
   },
   "outputs": [],
   "source": [
    "from bokeh.sampledata.autompg import autompg_clean\n",
    "autompg_clean.head()"
   ]
  },
  {
   "cell_type": "code",
   "execution_count": null,
   "metadata": {
    "ExecuteTime": {
     "end_time": "2018-10-19T12:26:06.695829Z",
     "start_time": "2018-10-19T12:26:06.590856Z"
    }
   },
   "outputs": [],
   "source": [
    "p = figure()\n",
    "p.circle(x='weight', y='hp', size='cyl', source=autompg_clean)\n",
    "show(p)"
   ]
  },
  {
   "cell_type": "markdown",
   "metadata": {
    "ExecuteTime": {
     "end_time": "2018-10-11T19:23:15.683917Z",
     "start_time": "2018-10-11T19:23:15.680356Z"
    }
   },
   "source": [
    "# Hover"
   ]
  },
  {
   "cell_type": "code",
   "execution_count": null,
   "metadata": {
    "ExecuteTime": {
     "end_time": "2018-10-19T12:27:46.912149Z",
     "start_time": "2018-10-19T12:27:46.786658Z"
    }
   },
   "outputs": [],
   "source": [
    "from bokeh.models import HoverTool\n",
    "\n",
    "my_hover = HoverTool()\n",
    "\n",
    "my_hover.tooltips = [\n",
    "    ('Name of the car', '@name'),\n",
    "    ('Origin', '@origin'),\n",
    "]\n",
    "\n",
    "p = figure()\n",
    "p.add_tools(my_hover)\n",
    "p.circle(x='weight', y='hp', color='displ', size='cyl', source=autompg_clean)\n",
    "show(p)"
   ]
  },
  {
   "cell_type": "markdown",
   "metadata": {},
   "source": [
    "# Export\n",
    "\n",
    "## PNG Export"
   ]
  },
  {
   "cell_type": "code",
   "execution_count": null,
   "metadata": {
    "ExecuteTime": {
     "end_time": "2018-10-15T10:14:31.185691Z",
     "start_time": "2018-10-15T10:14:31.170170Z"
    }
   },
   "outputs": [],
   "source": [
    "from bokeh.plotting import figure\n",
    "from bokeh.sampledata.stocks import AAPL\n",
    "\n",
    "df = pd.DataFrame(AAPL)\n",
    "df['date'] = pd.to_datetime(df['date'])"
   ]
  },
  {
   "cell_type": "code",
   "execution_count": null,
   "metadata": {
    "ExecuteTime": {
     "end_time": "2018-10-14T22:59:31.819589Z",
     "start_time": "2018-10-14T22:59:31.679810Z"
    }
   },
   "outputs": [],
   "source": [
    "!conda install selenium  pillow phantomjs-prebuilt"
   ]
  },
  {
   "cell_type": "code",
   "execution_count": null,
   "metadata": {
    "ExecuteTime": {
     "end_time": "2018-10-15T10:14:43.518355Z",
     "start_time": "2018-10-15T10:14:43.340181Z"
    }
   },
   "outputs": [],
   "source": [
    "from bokeh.io import export_png\n",
    "\n",
    "p = figure(plot_width=800, plot_height=250, x_axis_type=\"datetime\")\n",
    "p.line(df['date'], df['close'], color='navy', alpha=0.5)\n",
    "\n",
    "export_png(p, filename=\"plot.png\")"
   ]
  },
  {
   "cell_type": "markdown",
   "metadata": {
    "ExecuteTime": {
     "end_time": "2018-10-11T19:09:00.334761Z",
     "start_time": "2018-10-11T19:09:00.332259Z"
    }
   },
   "source": [
    "# Datetime Axes"
   ]
  },
  {
   "cell_type": "code",
   "execution_count": null,
   "metadata": {
    "ExecuteTime": {
     "end_time": "2018-10-19T12:28:35.672945Z",
     "start_time": "2018-10-19T12:28:35.565245Z"
    }
   },
   "outputs": [],
   "source": [
    "from bokeh.sampledata.glucose import data\n",
    "data.head()"
   ]
  },
  {
   "cell_type": "code",
   "execution_count": null,
   "metadata": {
    "ExecuteTime": {
     "end_time": "2018-10-19T12:28:35.961627Z",
     "start_time": "2018-10-19T12:28:35.781906Z"
    }
   },
   "outputs": [],
   "source": [
    "# reduce data size to one week\n",
    "week = data.loc['2010-10-01':'2010-10-08']\n",
    "\n",
    "p = figure(\n",
    "    x_axis_type=\"datetime\",\n",
    "    title=\"Glocose Range\",\n",
    "    plot_height=350,\n",
    "    plot_width=800,\n",
    ")\n",
    "p.xgrid.grid_line_color=None\n",
    "p.ygrid.grid_line_alpha=0.5\n",
    "p.xaxis.axis_label = 'Time'\n",
    "p.yaxis.axis_label = 'Value'\n",
    "\n",
    "p.line(week.index, week.glucose)\n",
    "\n",
    "show(p)"
   ]
  },
  {
   "cell_type": "markdown",
   "metadata": {
    "ExecuteTime": {
     "end_time": "2018-10-11T20:37:07.670854Z",
     "start_time": "2018-10-11T20:37:07.667520Z"
    }
   },
   "source": [
    "# Linked Plots"
   ]
  },
  {
   "cell_type": "code",
   "execution_count": null,
   "metadata": {
    "ExecuteTime": {
     "end_time": "2018-10-19T12:28:46.807063Z",
     "start_time": "2018-10-19T12:28:46.804237Z"
    }
   },
   "outputs": [],
   "source": [
    "from bokeh.layouts import gridplot"
   ]
  },
  {
   "cell_type": "code",
   "execution_count": null,
   "metadata": {
    "ExecuteTime": {
     "end_time": "2018-10-19T12:28:47.260193Z",
     "start_time": "2018-10-19T12:28:47.034705Z"
    }
   },
   "outputs": [],
   "source": [
    "from bokeh.models import ColumnDataSource\n",
    "\n",
    "x = list(range(-20, 21))\n",
    "y0, y1 = [abs(xx) for xx in x], [xx**2 for xx in x]\n",
    "\n",
    "# create a column data source for the plots to share\n",
    "source = ColumnDataSource(data=dict(x=x, y0=y0, y1=y1))\n",
    "\n",
    "TOOLS = \"box_select,lasso_select,help\"\n",
    "\n",
    "# create a new plot and add a renderer\n",
    "left = figure(tools=TOOLS, width=300, height=300)\n",
    "left.circle('x', 'y0', source=source)\n",
    "\n",
    "# create another new plot and add a renderer\n",
    "right = figure(tools=TOOLS, width=300, height=300)\n",
    "right.circle('y0', 'y1', source=source)\n",
    "\n",
    "p = gridplot([[left, right]])\n",
    "\n",
    "show(p)"
   ]
  },
  {
   "cell_type": "code",
   "execution_count": null,
   "metadata": {
    "ExecuteTime": {
     "end_time": "2018-10-19T12:28:58.596747Z",
     "start_time": "2018-10-19T12:28:58.359064Z"
    }
   },
   "outputs": [],
   "source": [
    "plot_options = dict(width=250, plot_height=250, tools='box_select,lasso_select,pan,wheel_zoom')\n",
    "\n",
    "# create a new plot\n",
    "s1 = figure(**plot_options)\n",
    "s1.circle(x='x', y='y0', size=10, color=\"navy\", source=source)\n",
    "\n",
    "# create a new plot and share both ranges\n",
    "s2 = figure(x_range=s1.x_range, y_range=s1.y_range, **plot_options)\n",
    "s2.triangle(x='x', y='y1', size=10, color=\"firebrick\", source=source)\n",
    "\n",
    "# create a new plot and share only one range\n",
    "s3 = figure(x_range=s1.x_range, y_range=s1.y_range, **plot_options)\n",
    "s3.square(x='y0', y='y1', size=10, color=\"olive\", source=source)\n",
    "\n",
    "p = gridplot([[s1, s2, s3]])\n",
    "\n",
    "# show the results\n",
    "show(p)"
   ]
  },
  {
   "cell_type": "markdown",
   "metadata": {
    "ExecuteTime": {
     "end_time": "2018-10-11T20:54:47.148396Z",
     "start_time": "2018-10-11T20:54:47.145658Z"
    }
   },
   "source": [
    "# Interactivity"
   ]
  },
  {
   "cell_type": "code",
   "execution_count": null,
   "metadata": {
    "ExecuteTime": {
     "end_time": "2018-10-15T10:17:45.418199Z",
     "start_time": "2018-10-15T10:17:45.232140Z"
    }
   },
   "outputs": [],
   "source": [
    "from bokeh.layouts import column\n",
    "from bokeh.models import CustomJS, ColumnDataSource, Slider\n",
    "\n",
    "x = [x*0.005 for x in range(0, 201)]\n",
    "\n",
    "source = ColumnDataSource(data=dict(x=x, y=x))\n",
    "\n",
    "plot = figure(plot_width=400, plot_height=400)\n",
    "plot.line('x', 'y', source=source, line_width=3, line_alpha=0.6)\n",
    "\n",
    "slider = Slider(start=0.1, end=6, value=1, step=.1, title=\"power\")\n",
    "\n",
    "update_curve = CustomJS(args=dict(source=source, slider=slider), code=\"\"\"\n",
    "    var data = source.data;\n",
    "    var f = slider.value;\n",
    "    x = data['x']\n",
    "    y = data['y']\n",
    "    for (i = 0; i < x.length; i++) {\n",
    "        y[i] = Math.pow(x[i], f)\n",
    "    }\n",
    "    \n",
    "    // necessary becasue we mutated source.data in-place\n",
    "    source.change.emit();\n",
    "\"\"\")\n",
    "slider.js_on_change('value', update_curve)\n",
    "\n",
    "show(column(slider, plot))"
   ]
  },
  {
   "cell_type": "code",
   "execution_count": null,
   "metadata": {
    "ExecuteTime": {
     "end_time": "2018-10-15T10:18:39.176740Z",
     "start_time": "2018-10-15T10:18:38.231439Z"
    }
   },
   "outputs": [],
   "source": [
    "from bokeh.models import LogColorMapper\n",
    "from bokeh.palettes import Viridis6 as palette\n",
    "from bokeh.plotting import figure\n",
    "\n",
    "from bokeh.sampledata.us_counties import data as counties\n",
    "from bokeh.sampledata.unemployment import data as unemployment\n",
    "\n",
    "palette.reverse()\n",
    "\n",
    "counties = {\n",
    "    code: county for code, county in counties.items() if county[\"state\"] == \"tx\"\n",
    "}\n",
    "\n",
    "county_xs = [county[\"lons\"] for county in counties.values()]\n",
    "county_ys = [county[\"lats\"] for county in counties.values()]\n",
    "\n",
    "county_names = [county['name'] for county in counties.values()]\n",
    "county_rates = [unemployment[county_id] for county_id in counties]\n",
    "color_mapper = LogColorMapper(palette=palette)\n",
    "\n",
    "data=dict(\n",
    "    x=county_xs,\n",
    "    y=county_ys,\n",
    "    name=county_names,\n",
    "    rate=county_rates,\n",
    ")\n",
    "\n",
    "TOOLS = \"pan,wheel_zoom,reset,hover,save\"\n",
    "\n",
    "p = figure(\n",
    "    title=\"Texas Unemployment, 2009\", tools=TOOLS,\n",
    "    x_axis_location=None, y_axis_location=None,\n",
    "   )\n",
    "p.grid.grid_line_color = None\n",
    "\n",
    "p.patches('x', 'y', source=data,\n",
    "          fill_color={'field': 'rate', 'transform': color_mapper},\n",
    "          fill_alpha=0.7, line_color=\"white\", line_width=0.5)\n",
    "\n",
    "show(p)"
   ]
  },
  {
   "cell_type": "markdown",
   "metadata": {
    "ExecuteTime": {
     "end_time": "2018-10-11T20:54:24.791089Z",
     "start_time": "2018-10-11T20:54:24.787145Z"
    }
   },
   "source": [
    "Great example: https://www.data-dive.com/cologne-bike-rentals-interactive-map-bokeh-dynamic-choropleth"
   ]
  },
  {
   "cell_type": "markdown",
   "metadata": {
    "ExecuteTime": {
     "end_time": "2018-10-11T20:58:14.610976Z",
     "start_time": "2018-10-11T20:58:14.606690Z"
    }
   },
   "source": [
    "https://automating-gis-processes.github.io/2017/lessons/L5/interactive-map-bokeh.html\n",
    "\n",
    "https://moderndata.plot.ly/weather-maps-in-python-with-mapbox-gl-xarray-and-netcdf4/"
   ]
  }
 ],
 "metadata": {
  "hide_input": false,
  "kernelspec": {
   "display_name": "Python 3",
   "language": "python",
   "name": "python3"
  },
  "language_info": {
   "codemirror_mode": {
    "name": "ipython",
    "version": 3
   },
   "file_extension": ".py",
   "mimetype": "text/x-python",
   "name": "python",
   "nbconvert_exporter": "python",
   "pygments_lexer": "ipython3",
   "version": "3.6.4"
  },
  "toc": {
   "base_numbering": 1,
   "nav_menu": {},
   "number_sections": true,
   "sideBar": true,
   "skip_h1_title": false,
   "title_cell": "Table of Contents",
   "title_sidebar": "Contents",
   "toc_cell": false,
   "toc_position": {},
   "toc_section_display": true,
   "toc_window_display": false
  }
 },
 "nbformat": 4,
 "nbformat_minor": 2
}
