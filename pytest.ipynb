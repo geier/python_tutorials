{
 "cells": [
  {
   "cell_type": "markdown",
   "metadata": {},
   "source": [
    "# Covered Here\n",
    "* pytest\n",
    "* tox\n",
    "* hypothesis"
   ]
  },
  {
   "cell_type": "markdown",
   "metadata": {},
   "source": [
    "\n",
    "# Introduction pytest\n",
    "\n",
    "* pytest is a testing framework, including a test runner\n",
    "* scales nicely from easy first start to testing of complex applications\n",
    "* don't use `unittest` if you can help it\n",
    "* only use basic `assert` for asserting\n",
    "* loads of plugins\n",
    "* tests all functions/methods prefixed with `test_` in files prefixed `test_`\n",
    "* run `pytest path` (might be called `py.test`)\n",
    "\n",
    "\n",
    "some usefuls arguments:\n",
    "\n",
    "* `-x` stop at first failure\n",
    "* `-k string` only run tests whose name contains `string`\n",
    "* `--pdb` jumps into debugger at failed assert"
   ]
  },
  {
   "cell_type": "code",
   "execution_count": null,
   "metadata": {
    "ExecuteTime": {
     "end_time": "2019-04-16T15:19:19.787711Z",
     "start_time": "2019-04-16T15:19:19.784502Z"
    }
   },
   "outputs": [],
   "source": [
    "assert True"
   ]
  },
  {
   "cell_type": "code",
   "execution_count": null,
   "metadata": {
    "ExecuteTime": {
     "end_time": "2019-04-16T15:19:20.439442Z",
     "start_time": "2019-04-16T15:19:20.311397Z"
    }
   },
   "outputs": [],
   "source": [
    "assert False"
   ]
  },
  {
   "cell_type": "code",
   "execution_count": null,
   "metadata": {
    "ExecuteTime": {
     "end_time": "2019-04-16T15:19:20.687483Z",
     "start_time": "2019-04-16T15:19:20.679522Z"
    }
   },
   "outputs": [],
   "source": [
    "assert False, 'Something went Wrong'"
   ]
  },
  {
   "cell_type": "code",
   "execution_count": null,
   "metadata": {
    "ExecuteTime": {
     "end_time": "2019-04-16T15:19:22.201577Z",
     "start_time": "2019-04-16T15:19:22.193140Z"
    }
   },
   "outputs": [],
   "source": [
    "foo = 'bar'\n",
    "assert foo == 42\n",
    "assert foo == 45"
   ]
  },
  {
   "cell_type": "code",
   "execution_count": null,
   "metadata": {
    "ExecuteTime": {
     "end_time": "2019-04-16T15:20:04.129059Z",
     "start_time": "2019-04-16T15:20:04.006565Z"
    }
   },
   "outputs": [],
   "source": [
    "cat project/tests/test_simple.py"
   ]
  },
  {
   "cell_type": "code",
   "execution_count": null,
   "metadata": {
    "ExecuteTime": {
     "end_time": "2019-04-16T15:20:06.545513Z",
     "start_time": "2019-04-16T15:20:05.541090Z"
    }
   },
   "outputs": [],
   "source": [
    "!pytest project/tests/test_simple.py"
   ]
  },
  {
   "cell_type": "code",
   "execution_count": null,
   "metadata": {
    "ExecuteTime": {
     "end_time": "2019-04-16T15:20:07.304310Z",
     "start_time": "2019-04-16T15:20:06.708852Z"
    }
   },
   "outputs": [],
   "source": [
    "!cd project\n",
    "!tox"
   ]
  },
  {
   "cell_type": "markdown",
   "metadata": {
    "ExecuteTime": {
     "end_time": "2017-09-06T22:01:12.355165Z",
     "start_time": "2017-09-06T22:01:12.353051Z"
    }
   },
   "source": [
    "## fixtures\n",
    "\n",
    "* use `def test_something(fixture)` for fixtures\n",
    "* define own fixtures with using `@pytest.fixture` decorator\n",
    "* see examples in `test_fixtures.py`"
   ]
  },
  {
   "cell_type": "code",
   "execution_count": null,
   "metadata": {
    "ExecuteTime": {
     "end_time": "2019-04-16T15:20:07.889831Z",
     "start_time": "2019-04-16T15:20:07.765342Z"
    }
   },
   "outputs": [],
   "source": [
    "!cat project/tests/test_fixtures.py"
   ]
  },
  {
   "cell_type": "markdown",
   "metadata": {
    "ExecuteTime": {
     "end_time": "2017-09-06T22:01:21.566885Z",
     "start_time": "2017-09-06T22:01:21.564716Z"
    }
   },
   "source": [
    "## Mocking\n",
    "* also know as monkeypatching\n",
    "* uses the `monkeypatch` fixture for monkey patching (also see example\n",
    "\n",
    "```\n",
    "def test_something(monkeypatch):\n",
    "    \n",
    "    def mockfunction(args):\n",
    "        return something\n",
    "    \n",
    "    monkeypatch.setattr(package.subpackage, 'funcname', mocked_function)\n",
    "    assert otherfunction_calling_funcname(arguments) == something_else\n",
    "```"
   ]
  },
  {
   "cell_type": "code",
   "execution_count": null,
   "metadata": {
    "ExecuteTime": {
     "end_time": "2019-04-16T15:20:47.476332Z",
     "start_time": "2019-04-16T15:20:47.344314Z"
    }
   },
   "outputs": [],
   "source": [
    "!cat project/tests/test_mocking.py"
   ]
  },
  {
   "cell_type": "markdown",
   "metadata": {},
   "source": [
    "<div class=\"alert alert-success\">\n",
    "    <b>EXERCISE:</b>\n",
    "        <li> Create some tests for the following capitalize function, including one where you are not passing a string\n",
    "        <li> Create a fixture that creates a file in a tempdir\n",
    "        <li> mock the `os.getcwd()` so it always returns the same directory\n",
    "</div>"
   ]
  },
  {
   "cell_type": "code",
   "execution_count": null,
   "metadata": {
    "ExecuteTime": {
     "end_time": "2019-04-16T15:20:48.511174Z",
     "start_time": "2019-04-16T15:20:48.507275Z"
    }
   },
   "outputs": [],
   "source": [
    "def capitalize(string):\n",
    "    return string.upper()"
   ]
  },
  {
   "cell_type": "markdown",
   "metadata": {
    "ExecuteTime": {
     "end_time": "2017-09-06T22:37:44.894468Z",
     "start_time": "2017-09-06T22:37:44.890941Z"
    }
   },
   "source": [
    "# tox\n",
    "* run your tests in several environments, e.g., different python interpreters, versions of dependencies, etc\n",
    "* works well with pytest\n",
    "* detox runs in parallel\n",
    "* meant to test a package (place `tox.ini` in a directory containing a `setup.py`)"
   ]
  },
  {
   "cell_type": "markdown",
   "metadata": {
    "ExecuteTime": {
     "end_time": "2017-09-06T22:01:52.652062Z",
     "start_time": "2017-09-06T22:01:52.649024Z"
    }
   },
   "source": [
    "minimal example `tox.ini`\n",
    "```\n",
    "[tox]\n",
    "envlist = {py33,py34,py35,py36,pypy}\n",
    "skip_missing_interpreters = True\n",
    "\n",
    "[testenv]\n",
    "deps =\n",
    "   pytest\n",
    "   pytest-cov\n",
    "\n",
    "commands = \n",
    "    py.test {posargs}\n",
    "```"
   ]
  },
  {
   "cell_type": "code",
   "execution_count": null,
   "metadata": {
    "ExecuteTime": {
     "end_time": "2019-03-28T15:15:26.699461Z",
     "start_time": "2019-03-28T15:15:26.579124Z"
    }
   },
   "outputs": [],
   "source": [
    "!pwd"
   ]
  },
  {
   "cell_type": "code",
   "execution_count": null,
   "metadata": {
    "ExecuteTime": {
     "end_time": "2019-04-16T15:21:25.624800Z",
     "start_time": "2019-04-16T15:21:18.121839Z"
    }
   },
   "outputs": [],
   "source": [
    "!cd project && tox"
   ]
  },
  {
   "cell_type": "markdown",
   "metadata": {},
   "source": [
    "<div class=\"alert alert-success\">\n",
    "    <b>EXERCISE:</b>\n",
    "   \n",
    "Modify the `tox.ini`, so that the tests get run with two different versions of the timezone database, e.g. `pytz==2017.2` and `pytz==2016.10` get used.\n",
    "</div>"
   ]
  },
  {
   "cell_type": "code",
   "execution_count": null,
   "metadata": {
    "tags": [
     "solution"
    ]
   },
   "outputs": [],
   "source": [
    "[tox]\n",
    "envlist = {py33,py34,py35,py36}-{pytz201702,pytz201610}\n",
    "skip_missing_interpreters = True\n",
    "\n",
    "[testenv]\n",
    "\n",
    "deps =\n",
    "    pytest\n",
    "    pytz201702: pytz==2017.2\n",
    "    pytz201610: pytz==2016.10\n",
    "\n",
    "commands =\n",
    "    py.test  {posargs}\n",
    "\n",
    "\n",
    "[flake8]\n",
    "max-line-length = 100\n",
    "exclude=.tox,examples,doc\n"
   ]
  },
  {
   "cell_type": "markdown",
   "metadata": {
    "ExecuteTime": {
     "end_time": "2017-09-08T10:47:33.365017Z",
     "start_time": "2017-09-08T10:47:28.922685Z"
    }
   },
   "source": [
    "# hypothesis\n",
    "https://hypothesis.readthedocs.io/en/latest/\n",
    "* property based testing for python\n",
    "* started out as a quickcheck (Haskell) port for python\n",
    "* generates test data for your tests\n",
    "* you can't test for conditions you didn't think of (or can you?)"
   ]
  },
  {
   "cell_type": "markdown",
   "metadata": {
    "ExecuteTime": {
     "end_time": "2017-09-08T10:50:55.763779Z",
     "start_time": "2017-09-08T10:50:54.593198Z"
    },
    "collapsed": true
   },
   "source": [
    "* use `@given` decorator for specifying data and strategies for generating data\n",
    "* can use the strategies solo, e.g., see examples\n",
    "* set fixed examples with `@example`\n",
    "* change settings with `@settings`\n",
    "* pytest can give statistics with `--hypothesis-show-statistics`\n",
    "* build compound data types\n",
    "* can `.filter()` data and make assumptions with `.assume()` (good, but no magic)"
   ]
  },
  {
   "cell_type": "code",
   "execution_count": null,
   "metadata": {
    "ExecuteTime": {
     "end_time": "2017-09-08T11:17:57.624558Z",
     "start_time": "2017-09-08T11:17:57.618122Z"
    }
   },
   "outputs": [],
   "source": [
    "from hypothesis import given, example, settings, assume\n",
    "from hypothesis import strategies as st\n",
    "\n",
    "@given(st.text())\n",
    "def test_upper_lower(s):\n",
    "    assert s.upper().lower() == s.lower()"
   ]
  },
  {
   "cell_type": "code",
   "execution_count": null,
   "metadata": {
    "ExecuteTime": {
     "end_time": "2017-09-08T11:28:41.180569Z",
     "start_time": "2017-09-08T11:28:41.138881Z"
    }
   },
   "outputs": [],
   "source": [
    "test_upper_lower()"
   ]
  },
  {
   "cell_type": "code",
   "execution_count": null,
   "metadata": {
    "ExecuteTime": {
     "end_time": "2017-09-08T11:28:51.530795Z",
     "start_time": "2017-09-08T11:28:51.521231Z"
    }
   },
   "outputs": [],
   "source": [
    "text = st.text()\n",
    "text.example()"
   ]
  },
  {
   "cell_type": "code",
   "execution_count": null,
   "metadata": {
    "ExecuteTime": {
     "end_time": "2017-09-08T11:11:18.753381Z",
     "start_time": "2017-09-08T11:11:18.749451Z"
    }
   },
   "outputs": [],
   "source": [
    "@given(st.text())\n",
    "@example('ß')\n",
    "def test_upper_lower(s):\n",
    "    assert s.upper().lower() == s.lower()\n"
   ]
  },
  {
   "cell_type": "code",
   "execution_count": null,
   "metadata": {
    "ExecuteTime": {
     "end_time": "2017-09-08T11:11:30.446787Z",
     "start_time": "2017-09-08T11:11:30.429935Z"
    }
   },
   "outputs": [],
   "source": [
    "test_upper_lower()"
   ]
  },
  {
   "cell_type": "code",
   "execution_count": null,
   "metadata": {
    "ExecuteTime": {
     "end_time": "2017-09-08T11:14:34.729740Z",
     "start_time": "2017-09-08T11:14:34.723456Z"
    }
   },
   "outputs": [],
   "source": [
    "@given(st.text())\n",
    "@settings(max_examples=2000)\n",
    "def test_upper_lower(s):\n",
    "    assert s.upper().lower() == s.lower()"
   ]
  },
  {
   "cell_type": "code",
   "execution_count": null,
   "metadata": {
    "ExecuteTime": {
     "end_time": "2017-09-08T11:14:35.880499Z",
     "start_time": "2017-09-08T11:14:35.348451Z"
    }
   },
   "outputs": [],
   "source": [
    "test_upper_lower()"
   ]
  },
  {
   "cell_type": "code",
   "execution_count": null,
   "metadata": {
    "ExecuteTime": {
     "end_time": "2017-09-08T11:14:49.930819Z",
     "start_time": "2017-09-08T11:14:49.772588Z"
    }
   },
   "outputs": [],
   "source": [
    "@given(st.tuples(st.booleans(), st.text()))\n",
    "def test_look_tuples_work_too(t):\n",
    "    # A tuple is generated as the one you provided, with the corresponding\n",
    "    # types in those positions.\n",
    "    assert len(t) == 2\n",
    "    assert isinstance(t[0], bool)\n",
    "    assert isinstance(t[1], str)\n",
    "    \n",
    "test_look_tuples_work_too()"
   ]
  },
  {
   "cell_type": "code",
   "execution_count": null,
   "metadata": {
    "ExecuteTime": {
     "end_time": "2017-09-08T11:16:05.856125Z",
     "start_time": "2017-09-08T11:16:05.741920Z"
    }
   },
   "outputs": [],
   "source": [
    "@given(st.integers().filter(lambda x: x % 2 == 0))\n",
    "def test_even_integers(i):\n",
    "    assert i % 2 == 0\n",
    "    \n",
    "test_even_integers()"
   ]
  },
  {
   "cell_type": "code",
   "execution_count": null,
   "metadata": {
    "ExecuteTime": {
     "end_time": "2017-09-08T11:19:27.161543Z",
     "start_time": "2017-09-08T11:19:26.156537Z"
    }
   },
   "outputs": [],
   "source": [
    "@given(st.lists(st.integers()))\n",
    "def test_sum_is_positive(xs):\n",
    "    assume(len(xs) > 3)\n",
    "    assume(all(x > 0 for x in xs))\n",
    "    print(xs)\n",
    "    assert sum(xs) > 0\n",
    "\n",
    "test_sum_is_positive()"
   ]
  },
  {
   "cell_type": "markdown",
   "metadata": {},
   "source": [
    "* support for numpy arrays with `hypothesis.extra.numpy'"
   ]
  },
  {
   "cell_type": "code",
   "execution_count": null,
   "metadata": {
    "ExecuteTime": {
     "end_time": "2017-09-08T11:27:42.388664Z",
     "start_time": "2017-09-08T11:27:42.385705Z"
    }
   },
   "outputs": [],
   "source": [
    "from hypothesis.extra.numpy import arrays\n",
    "import numpy as np"
   ]
  },
  {
   "cell_type": "code",
   "execution_count": null,
   "metadata": {
    "ExecuteTime": {
     "end_time": "2017-09-08T11:29:38.337770Z",
     "start_time": "2017-09-08T11:29:38.330427Z"
    }
   },
   "outputs": [],
   "source": [
    "arrays(np.int8, (2, 3)).example()"
   ]
  },
  {
   "cell_type": "code",
   "execution_count": null,
   "metadata": {
    "ExecuteTime": {
     "end_time": "2017-09-08T11:34:01.476890Z",
     "start_time": "2017-09-08T11:34:01.466381Z"
    }
   },
   "outputs": [],
   "source": [
    "arrays(np.float64, (8), elements=st.floats(min_value=0, max_value=1)).example()"
   ]
  },
  {
   "cell_type": "code",
   "execution_count": null,
   "metadata": {
    "ExecuteTime": {
     "end_time": "2017-09-08T11:35:31.787075Z",
     "start_time": "2017-09-08T11:35:31.782730Z"
    }
   },
   "outputs": [],
   "source": [
    "def rnd_len_arrays(dtype, min_len=1, max_len=3, elements=None):\n",
    "    lengths = st.integers(min_value=min_len, max_value=max_len)\n",
    "    return lengths.flatmap(lambda n: arrays(dtype, n, elements=elements))"
   ]
  },
  {
   "cell_type": "code",
   "execution_count": null,
   "metadata": {
    "ExecuteTime": {
     "end_time": "2017-09-08T11:35:58.031300Z",
     "start_time": "2017-09-08T11:35:58.026603Z"
    }
   },
   "outputs": [],
   "source": [
    "rnd_len_arrays(np.int16).example()"
   ]
  }
 ],
 "metadata": {
  "celltoolbar": "Tags",
  "hide_input": false,
  "kernelspec": {
   "display_name": "Python 3",
   "language": "python",
   "name": "python3"
  },
  "language_info": {
   "codemirror_mode": {
    "name": "ipython",
    "version": 3
   },
   "file_extension": ".py",
   "mimetype": "text/x-python",
   "name": "python",
   "nbconvert_exporter": "python",
   "pygments_lexer": "ipython3",
   "version": "3.6.4"
  },
  "toc": {
   "base_numbering": 1,
   "nav_menu": {
    "height": "30px",
    "width": "252px"
   },
   "number_sections": true,
   "sideBar": true,
   "skip_h1_title": false,
   "title_cell": "Table of Contents",
   "title_sidebar": "Contents",
   "toc_cell": false,
   "toc_position": {},
   "toc_section_display": "block",
   "toc_window_display": false
  }
 },
 "nbformat": 4,
 "nbformat_minor": 2
}
