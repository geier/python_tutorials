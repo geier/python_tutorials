{
 "cells": [
  {
   "cell_type": "markdown",
   "metadata": {
    "ExecuteTime": {
     "end_time": "2018-10-12T16:46:00.856472Z",
     "start_time": "2018-10-12T16:46:00.852648Z"
    }
   },
   "source": [
    "# Visualisation with Python"
   ]
  },
  {
   "cell_type": "markdown",
   "metadata": {},
   "source": [
    "* Lots of different options with different strengths and weaknesses\n",
    "\n",
    "\n",
    "* matplotlib\n",
    "* seaborn\n",
    "* bokeh\n",
    "* plot.ly\n",
    "* altair\n",
    "* many many more..."
   ]
  },
  {
   "cell_type": "markdown",
   "metadata": {},
   "source": [
    "# matplotlib\n",
    "\n",
    "* mostly static\n",
    "* basis for many other plotting libraries (pandas, seaborn, ...)\n",
    "* high quality output (pdf, jpg, great font rendering, including LaTeX)\n",
    "* sometimes akward to use\n",
    "* sometime non-intuitive API (modelled after matlab)\n",
    "* but everything is possible"
   ]
  },
  {
   "cell_type": "markdown",
   "metadata": {},
   "source": [
    "# seaborn\n",
    "* higher level plotting library build on matplotlib\n",
    "* easy to use statistical plots\n",
    "* easy styling of plots\n",
    "* access to matplotlib basics possible"
   ]
  },
  {
   "cell_type": "markdown",
   "metadata": {
    "ExecuteTime": {
     "end_time": "2018-10-12T16:52:23.127836Z",
     "start_time": "2018-10-12T16:52:23.124351Z"
    }
   },
   "source": [
    "# bokeh\n",
    "* great at interactive plots\n",
    "* not so great export functions (but getting better all the time)"
   ]
  },
  {
   "cell_type": "markdown",
   "metadata": {},
   "source": [
    "# Bad news:\n",
    " really fancy, interactive plotting, espeically applications need at least some java script skills"
   ]
  },
  {
   "cell_type": "markdown",
   "metadata": {
    "ExecuteTime": {
     "end_time": "2018-10-14T22:59:00.333384Z",
     "start_time": "2018-10-14T22:59:00.324592Z"
    }
   },
   "source": [
    "# Plan\n",
    "\n",
    "* 5 Min. Overview\n",
    "* 5 Min. Jupyter Notebook\n",
    "* 20 Min. Matplotlib\n",
    "* 15 Min. Seaborn\n",
    "* 20 Min. Bokeh\n",
    "* 15 Min. Geo-Data Plotting"
   ]
  },
  {
   "cell_type": "code",
   "execution_count": null,
   "metadata": {},
   "outputs": [],
   "source": []
  }
 ],
 "metadata": {
  "hide_input": false,
  "kernelspec": {
   "display_name": "Python 3",
   "language": "python",
   "name": "python3"
  },
  "language_info": {
   "codemirror_mode": {
    "name": "ipython",
    "version": 3
   },
   "file_extension": ".py",
   "mimetype": "text/x-python",
   "name": "python",
   "nbconvert_exporter": "python",
   "pygments_lexer": "ipython3",
   "version": "3.6.4"
  },
  "toc": {
   "base_numbering": 1,
   "nav_menu": {},
   "number_sections": true,
   "sideBar": true,
   "skip_h1_title": false,
   "title_cell": "Table of Contents",
   "title_sidebar": "Contents",
   "toc_cell": false,
   "toc_position": {},
   "toc_section_display": true,
   "toc_window_display": false
  }
 },
 "nbformat": 4,
 "nbformat_minor": 2
}
