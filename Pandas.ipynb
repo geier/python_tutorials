{
 "cells": [
  {
   "cell_type": "code",
   "execution_count": null,
   "metadata": {
    "ExecuteTime": {
     "end_time": "2019-04-16T14:43:32.527758Z",
     "start_time": "2019-04-16T14:43:31.185818Z"
    }
   },
   "outputs": [],
   "source": [
    "import pandas as pd\n",
    "import numpy as np\n",
    "import datetime as dt\n",
    "import matplotlib.pyplot as plt\n",
    "import sqlite3\n",
    "%matplotlib inline\n",
    "\n",
    "pd.options.display.max_rows = 10"
   ]
  },
  {
   "cell_type": "markdown",
   "metadata": {},
   "source": [
    "# First Example"
   ]
  },
  {
   "cell_type": "code",
   "execution_count": null,
   "metadata": {
    "ExecuteTime": {
     "end_time": "2019-04-16T14:44:30.326463Z",
     "start_time": "2019-04-16T14:44:30.214628Z"
    }
   },
   "outputs": [],
   "source": [
    "diamonds = pd.read_csv('data/diamonds.csv')\n",
    "iris = pd.read_csv('data/iris.csv', index_col=0)\n",
    "titanic = pd.read_csv('data/titanic.csv')\n",
    "stocks = pd.read_csv('data/stock.csv', index_col=0, parse_dates=['Date'])  # we'll cover this later\n",
    "stocks"
   ]
  },
  {
   "cell_type": "code",
   "execution_count": null,
   "metadata": {
    "ExecuteTime": {
     "end_time": "2019-04-16T14:44:33.452833Z",
     "start_time": "2019-04-16T14:44:33.175920Z"
    }
   },
   "outputs": [],
   "source": [
    "stocks.plot() "
   ]
  },
  {
   "cell_type": "code",
   "execution_count": null,
   "metadata": {
    "ExecuteTime": {
     "end_time": "2019-04-16T14:44:34.242742Z",
     "start_time": "2019-04-16T14:44:33.945895Z"
    }
   },
   "outputs": [],
   "source": [
    "stocks.rolling(100, min_periods=5).mean().plot()"
   ]
  },
  {
   "cell_type": "code",
   "execution_count": null,
   "metadata": {
    "ExecuteTime": {
     "end_time": "2019-04-16T14:44:34.368734Z",
     "start_time": "2019-04-16T14:44:34.363297Z"
    }
   },
   "outputs": [],
   "source": [
    "type(stocks)  # it's a DataFrame"
   ]
  },
  {
   "cell_type": "code",
   "execution_count": null,
   "metadata": {
    "ExecuteTime": {
     "end_time": "2019-04-16T14:44:34.541919Z",
     "start_time": "2019-04-16T14:44:34.534495Z"
    }
   },
   "outputs": [],
   "source": [
    "stocks.info()"
   ]
  },
  {
   "cell_type": "code",
   "execution_count": null,
   "metadata": {
    "ExecuteTime": {
     "end_time": "2019-04-16T14:44:34.790225Z",
     "start_time": "2019-04-16T14:44:34.769444Z"
    }
   },
   "outputs": [],
   "source": [
    "stocks.describe()"
   ]
  },
  {
   "cell_type": "markdown",
   "metadata": {
    "ExecuteTime": {
     "end_time": "2017-08-31T20:34:04.176497Z",
     "start_time": "2017-08-31T20:34:04.173486Z"
    }
   },
   "source": [
    "# Data Structures\n",
    "\n",
    "The most important data structures in pandas are the `Series` (1-Dimensional) and the `DataFrame` (2-Dimensional).\n",
    "There are also more dimensional data structures, e.g., `Panel` and `Panel4D` which won't be covered here."
   ]
  },
  {
   "cell_type": "markdown",
   "metadata": {},
   "source": [
    "## Series\n",
    "can be created from any iterable, an index gets created automatically if none is provided"
   ]
  },
  {
   "cell_type": "code",
   "execution_count": null,
   "metadata": {
    "ExecuteTime": {
     "end_time": "2019-04-16T14:44:35.547546Z",
     "start_time": "2019-04-16T14:44:35.542409Z"
    }
   },
   "outputs": [],
   "source": [
    "series = pd.Series([1.0, 4.0, 9.0, 16.0])\n",
    "series"
   ]
  },
  {
   "cell_type": "code",
   "execution_count": null,
   "metadata": {
    "ExecuteTime": {
     "end_time": "2019-04-16T14:44:35.679611Z",
     "start_time": "2019-04-16T14:44:35.675493Z"
    }
   },
   "outputs": [],
   "source": [
    "series.index  # an int range index is automatically created"
   ]
  },
  {
   "cell_type": "code",
   "execution_count": null,
   "metadata": {
    "ExecuteTime": {
     "end_time": "2019-04-16T14:44:35.799664Z",
     "start_time": "2019-04-16T14:44:35.795565Z"
    }
   },
   "outputs": [],
   "source": [
    "series.values  # the data is kept in a numpy array"
   ]
  },
  {
   "cell_type": "code",
   "execution_count": null,
   "metadata": {
    "ExecuteTime": {
     "end_time": "2019-04-16T14:44:35.953889Z",
     "start_time": "2019-04-16T14:44:35.926765Z"
    }
   },
   "outputs": [],
   "source": [
    "diamonds.values"
   ]
  },
  {
   "cell_type": "code",
   "execution_count": null,
   "metadata": {
    "ExecuteTime": {
     "end_time": "2019-04-16T14:44:36.057238Z",
     "start_time": "2019-04-16T14:44:36.053394Z"
    }
   },
   "outputs": [],
   "source": [
    "type(series.values)"
   ]
  },
  {
   "cell_type": "markdown",
   "metadata": {},
   "source": [
    "Series can mostly be accessed like numpy arrays:"
   ]
  },
  {
   "cell_type": "code",
   "execution_count": null,
   "metadata": {
    "ExecuteTime": {
     "end_time": "2019-04-16T14:44:36.406863Z",
     "start_time": "2019-04-16T14:44:36.400896Z"
    }
   },
   "outputs": [],
   "source": [
    "series[3]"
   ]
  },
  {
   "cell_type": "code",
   "execution_count": null,
   "metadata": {
    "ExecuteTime": {
     "end_time": "2019-04-16T14:44:36.528612Z",
     "start_time": "2019-04-16T14:44:36.523936Z"
    }
   },
   "outputs": [],
   "source": [
    "series[1:3]"
   ]
  },
  {
   "cell_type": "markdown",
   "metadata": {},
   "source": [
    "An index can be given and neither the index nor the values need to be numbers:"
   ]
  },
  {
   "cell_type": "code",
   "execution_count": null,
   "metadata": {
    "ExecuteTime": {
     "end_time": "2019-04-16T14:44:36.895340Z",
     "start_time": "2019-04-16T14:44:36.887319Z"
    }
   },
   "outputs": [],
   "source": [
    "capitals = pd.Series(['Paris', 'London', 'Stockholm'], index=['France', 'United Kingdom', 'Sweden'])\n",
    "capitals"
   ]
  },
  {
   "cell_type": "code",
   "execution_count": null,
   "metadata": {
    "ExecuteTime": {
     "end_time": "2019-04-16T14:44:37.011494Z",
     "start_time": "2019-04-16T14:44:37.005800Z"
    }
   },
   "outputs": [],
   "source": [
    "capitals[0]"
   ]
  },
  {
   "cell_type": "code",
   "execution_count": null,
   "metadata": {
    "ExecuteTime": {
     "end_time": "2019-04-16T14:44:37.142934Z",
     "start_time": "2019-04-16T14:44:37.139281Z"
    }
   },
   "outputs": [],
   "source": [
    "capitals['France']"
   ]
  },
  {
   "cell_type": "markdown",
   "metadata": {},
   "source": [
    "## DataFrames\n",
    "`DataFrame` consist of multiple `Series` of the *same length*, sharing a common index.\n",
    "\n",
    "Can be easily created from a dictionary:"
   ]
  },
  {
   "cell_type": "code",
   "execution_count": null,
   "metadata": {
    "ExecuteTime": {
     "end_time": "2019-04-16T14:44:37.517980Z",
     "start_time": "2019-04-16T14:44:37.502979Z"
    }
   },
   "outputs": [],
   "source": [
    "bands = pd.DataFrame({\n",
    "    'name': ['The Beatles', 'The Rolling Stones', 'The Who', 'Deep Purple'],\n",
    "    'from': [1960, 1962, 1964, 1968],\n",
    "    'to': [1970, np.nan, 1983, 1976],\n",
    "    'origin': ['Liverpool', 'London', 'London', 'Hertford',], \n",
    "    'greatest hit': ['Yesterday', 'Satisfaction', 'My Generation', 'Smoke On the Water'],\n",
    "})\n",
    "bands"
   ]
  },
  {
   "cell_type": "code",
   "execution_count": null,
   "metadata": {
    "ExecuteTime": {
     "end_time": "2019-04-16T14:44:37.812138Z",
     "start_time": "2019-04-16T14:44:37.807944Z"
    }
   },
   "outputs": [],
   "source": [
    "bands['from']"
   ]
  },
  {
   "cell_type": "code",
   "execution_count": null,
   "metadata": {
    "ExecuteTime": {
     "end_time": "2019-04-16T14:44:37.932562Z",
     "start_time": "2019-04-16T14:44:37.925967Z"
    }
   },
   "outputs": [],
   "source": [
    "bands.columns"
   ]
  },
  {
   "cell_type": "code",
   "execution_count": null,
   "metadata": {
    "ExecuteTime": {
     "end_time": "2019-04-16T14:44:38.042263Z",
     "start_time": "2019-04-16T14:44:38.038554Z"
    }
   },
   "outputs": [],
   "source": [
    "bands.index"
   ]
  },
  {
   "cell_type": "code",
   "execution_count": null,
   "metadata": {
    "ExecuteTime": {
     "end_time": "2019-04-16T14:44:38.157921Z",
     "start_time": "2019-04-16T14:44:38.149940Z"
    }
   },
   "outputs": [],
   "source": [
    "bands.values  # data is still stored in a numpy array"
   ]
  },
  {
   "cell_type": "code",
   "execution_count": null,
   "metadata": {
    "ExecuteTime": {
     "end_time": "2019-04-16T14:44:38.308160Z",
     "start_time": "2019-04-16T14:44:38.298078Z"
    }
   },
   "outputs": [],
   "source": [
    "bands['sold records']  = [1, 2, 3, 7]\n",
    "bands"
   ]
  },
  {
   "cell_type": "markdown",
   "metadata": {
    "ExecuteTime": {
     "end_time": "2017-08-31T20:51:08.215110Z",
     "start_time": "2017-08-31T20:51:08.212143Z"
    }
   },
   "source": [
    "# Common Operations\n",
    "\n",
    "## getting some information on our data"
   ]
  },
  {
   "cell_type": "code",
   "execution_count": null,
   "metadata": {
    "ExecuteTime": {
     "end_time": "2019-04-16T14:44:38.830194Z",
     "start_time": "2019-04-16T14:44:38.823302Z"
    }
   },
   "outputs": [],
   "source": [
    "bands.info()"
   ]
  },
  {
   "cell_type": "code",
   "execution_count": null,
   "metadata": {
    "ExecuteTime": {
     "end_time": "2019-04-16T14:44:38.947255Z",
     "start_time": "2019-04-16T14:44:38.938008Z"
    }
   },
   "outputs": [],
   "source": [
    "bands"
   ]
  },
  {
   "cell_type": "code",
   "execution_count": null,
   "metadata": {
    "ExecuteTime": {
     "end_time": "2019-04-16T14:44:39.242636Z",
     "start_time": "2019-04-16T14:44:39.238180Z"
    }
   },
   "outputs": [],
   "source": [
    "stocks.count()"
   ]
  },
  {
   "cell_type": "code",
   "execution_count": null,
   "metadata": {
    "ExecuteTime": {
     "end_time": "2019-04-16T14:44:39.369774Z",
     "start_time": "2019-04-16T14:44:39.365117Z"
    }
   },
   "outputs": [],
   "source": [
    "bands.dtypes"
   ]
  },
  {
   "cell_type": "code",
   "execution_count": null,
   "metadata": {
    "ExecuteTime": {
     "end_time": "2019-04-16T14:44:39.487060Z",
     "start_time": "2019-04-16T14:44:39.482133Z"
    }
   },
   "outputs": [],
   "source": [
    "stocks.dtypes"
   ]
  },
  {
   "cell_type": "markdown",
   "metadata": {
    "ExecuteTime": {
     "end_time": "2017-08-31T21:04:08.747516Z",
     "start_time": "2017-08-31T21:04:08.736165Z"
    }
   },
   "source": [
    "## Setting the index"
   ]
  },
  {
   "cell_type": "code",
   "execution_count": null,
   "metadata": {
    "ExecuteTime": {
     "end_time": "2019-04-16T14:44:39.857991Z",
     "start_time": "2019-04-16T14:44:39.852645Z"
    }
   },
   "outputs": [],
   "source": [
    "bands['name']"
   ]
  },
  {
   "cell_type": "code",
   "execution_count": null,
   "metadata": {
    "ExecuteTime": {
     "end_time": "2019-04-16T14:44:39.987608Z",
     "start_time": "2019-04-16T14:44:39.976711Z"
    }
   },
   "outputs": [],
   "source": [
    "bands = bands.set_index('name')\n",
    "bands"
   ]
  },
  {
   "cell_type": "markdown",
   "metadata": {},
   "source": [
    "## Mostly behaves like numpy arrays"
   ]
  },
  {
   "cell_type": "code",
   "execution_count": null,
   "metadata": {
    "ExecuteTime": {
     "end_time": "2019-04-16T14:44:40.535258Z",
     "start_time": "2019-04-16T14:44:40.523841Z"
    }
   },
   "outputs": [],
   "source": [
    "stocks"
   ]
  },
  {
   "cell_type": "code",
   "execution_count": null,
   "metadata": {
    "ExecuteTime": {
     "end_time": "2019-04-16T14:44:40.863292Z",
     "start_time": "2019-04-16T14:44:40.839469Z"
    }
   },
   "outputs": [],
   "source": [
    "stocks * 10"
   ]
  },
  {
   "cell_type": "code",
   "execution_count": null,
   "metadata": {
    "ExecuteTime": {
     "end_time": "2019-04-16T14:44:41.163975Z",
     "start_time": "2019-04-16T14:44:41.150685Z"
    }
   },
   "outputs": [],
   "source": [
    "stocks - 8"
   ]
  },
  {
   "cell_type": "markdown",
   "metadata": {},
   "source": [
    "obviously only were it makes sense"
   ]
  },
  {
   "cell_type": "code",
   "execution_count": null,
   "metadata": {
    "ExecuteTime": {
     "end_time": "2019-04-16T14:44:41.701102Z",
     "start_time": "2019-04-16T14:44:41.696805Z"
    }
   },
   "outputs": [],
   "source": [
    "try:\n",
    "    bands / 100\n",
    "except TypeError as error:\n",
    "    print(error)"
   ]
  },
  {
   "cell_type": "code",
   "execution_count": null,
   "metadata": {
    "ExecuteTime": {
     "end_time": "2019-04-16T14:44:41.826181Z",
     "start_time": "2019-04-16T14:44:41.820257Z"
    }
   },
   "outputs": [],
   "source": [
    "bands.max() # or not?"
   ]
  },
  {
   "cell_type": "code",
   "execution_count": null,
   "metadata": {
    "ExecuteTime": {
     "end_time": "2019-04-16T14:44:41.950458Z",
     "start_time": "2019-04-16T14:44:41.943473Z"
    }
   },
   "outputs": [],
   "source": [
    "bands.median()  # for some operations only numeric values are included"
   ]
  },
  {
   "cell_type": "code",
   "execution_count": null,
   "metadata": {
    "ExecuteTime": {
     "end_time": "2019-04-16T14:44:42.077308Z",
     "start_time": "2019-04-16T14:44:42.071223Z"
    }
   },
   "outputs": [],
   "source": [
    "stocks.min()"
   ]
  },
  {
   "cell_type": "code",
   "execution_count": null,
   "metadata": {
    "ExecuteTime": {
     "end_time": "2019-04-16T14:44:42.206055Z",
     "start_time": "2019-04-16T14:44:42.200159Z"
    }
   },
   "outputs": [],
   "source": [
    "stocks.idxmin()"
   ]
  },
  {
   "cell_type": "code",
   "execution_count": null,
   "metadata": {
    "ExecuteTime": {
     "end_time": "2019-04-16T14:44:42.322779Z",
     "start_time": "2019-04-16T14:44:42.317072Z"
    }
   },
   "outputs": [],
   "source": [
    "stocks.min(axis=0)  # axis=0 is the default"
   ]
  },
  {
   "cell_type": "markdown",
   "metadata": {
    "ExecuteTime": {
     "end_time": "2017-08-31T21:28:19.098456Z",
     "start_time": "2017-08-31T21:28:19.095452Z"
    }
   },
   "source": [
    "<div class=\"alert alert-success\">\n",
    "    <b>EXERCISE:</b> Check the maximum values and the dates when the maximum values of the `stocks` occurred\n",
    "</div>"
   ]
  },
  {
   "cell_type": "code",
   "execution_count": null,
   "metadata": {
    "ExecuteTime": {
     "end_time": "2019-04-16T14:44:42.676231Z",
     "start_time": "2019-04-16T14:44:42.670737Z"
    },
    "tags": [
     "solution"
    ]
   },
   "outputs": [],
   "source": [
    "stocks.max()"
   ]
  },
  {
   "cell_type": "code",
   "execution_count": null,
   "metadata": {
    "ExecuteTime": {
     "end_time": "2019-04-16T14:44:42.823019Z",
     "start_time": "2019-04-16T14:44:42.813160Z"
    },
    "tags": [
     "solution"
    ]
   },
   "outputs": [],
   "source": [
    "stocks.iloc[np.where(stocks['AAPL'] == 133.00)[0]]"
   ]
  },
  {
   "cell_type": "markdown",
   "metadata": {},
   "source": [
    "## adding new data\n",
    "* add new data by assigning it like to a dictionary\n",
    "* there is also an assign methods to basically do the same\n",
    "* rename columns with `.rename()`"
   ]
  },
  {
   "cell_type": "code",
   "execution_count": null,
   "metadata": {
    "ExecuteTime": {
     "end_time": "2019-04-16T14:44:43.383223Z",
     "start_time": "2019-04-16T14:44:43.371112Z"
    }
   },
   "outputs": [],
   "source": [
    "bands['years active'] = bands['to'] - bands['from']\n",
    "bands"
   ]
  },
  {
   "cell_type": "markdown",
   "metadata": {
    "ExecuteTime": {
     "end_time": "2017-08-31T21:24:41.471243Z",
     "start_time": "2017-08-31T21:24:41.467899Z"
    }
   },
   "source": [
    "<div class=\"alert alert-success\">\n",
    "    <b>EXERCISE:</b> Add a `volume` (x \\* y \\* z) column to the diamonds DataFrame and test if carat is the same as the volume\n",
    "</div>"
   ]
  },
  {
   "cell_type": "code",
   "execution_count": null,
   "metadata": {
    "ExecuteTime": {
     "end_time": "2019-04-16T14:44:43.960050Z",
     "start_time": "2019-04-16T14:44:43.944667Z"
    }
   },
   "outputs": [],
   "source": [
    "diamonds.head()"
   ]
  },
  {
   "cell_type": "code",
   "execution_count": null,
   "metadata": {
    "ExecuteTime": {
     "end_time": "2019-04-16T14:44:44.277557Z",
     "start_time": "2019-04-16T14:44:44.261522Z"
    },
    "tags": [
     "solution"
    ]
   },
   "outputs": [],
   "source": [
    "diamonds['volume'] = diamonds['x'] * diamonds['y'] * diamonds['z']\n",
    "diamonds['volume'] / diamonds['carat']"
   ]
  },
  {
   "cell_type": "markdown",
   "metadata": {},
   "source": [
    "<div class=\"alert alert-success\">\n",
    "    <b>EXERCISE:</b> Add a absolute price changes columns to stocks\n",
    "</div>"
   ]
  },
  {
   "cell_type": "code",
   "execution_count": null,
   "metadata": {
    "ExecuteTime": {
     "end_time": "2019-04-16T14:44:44.631216Z",
     "start_time": "2019-04-16T14:44:44.600740Z"
    },
    "tags": [
     "solution"
    ]
   },
   "outputs": [],
   "source": [
    "diffs = stocks.diff()\n",
    "stocksdiff = stocks.copy()\n",
    "for symbol in diffs.columns:\n",
    "    stocksdiff[symbol + ' diff'] = diffs[symbol]\n",
    "stocksdiff"
   ]
  },
  {
   "cell_type": "code",
   "execution_count": null,
   "metadata": {
    "ExecuteTime": {
     "end_time": "2019-04-16T14:44:44.939529Z",
     "start_time": "2019-04-16T14:44:44.916692Z"
    },
    "tags": [
     "solution"
    ]
   },
   "outputs": [],
   "source": [
    "for symbol in stocks:\n",
    "    stocksdiff[symbol + ' rel'] = stocksdiff[symbol + ' diff'] / stocks[symbol]\n",
    "stocksdiff"
   ]
  },
  {
   "cell_type": "code",
   "execution_count": null,
   "metadata": {
    "ExecuteTime": {
     "end_time": "2019-04-16T14:44:45.245789Z",
     "start_time": "2019-04-16T14:44:45.234500Z"
    }
   },
   "outputs": [],
   "source": [
    "stocks"
   ]
  },
  {
   "cell_type": "code",
   "execution_count": null,
   "metadata": {
    "ExecuteTime": {
     "end_time": "2019-04-16T14:44:45.581402Z",
     "start_time": "2019-04-16T14:44:45.568278Z"
    }
   },
   "outputs": [],
   "source": [
    "stocks.rename(columns={'AAPL': 'Apple', 'AMZN': 'Amazon'})"
   ]
  },
  {
   "cell_type": "markdown",
   "metadata": {},
   "source": [
    "# Selecting Data"
   ]
  },
  {
   "cell_type": "markdown",
   "metadata": {
    "ExecuteTime": {
     "end_time": "2017-08-30T21:32:56.015128Z",
     "start_time": "2017-08-30T21:32:56.011943Z"
    }
   },
   "source": [
    "## Selecting Columns\n",
    "\n",
    "There are several ways to get columns from a DataFrame:\n",
    "\n",
    "* The same way you would get an dictionary element\n",
    "* as an attribute (this only works if the column name is a valid python identifier, stocks.1 wouldn't work)"
   ]
  },
  {
   "cell_type": "code",
   "execution_count": null,
   "metadata": {
    "ExecuteTime": {
     "end_time": "2019-04-16T14:44:46.365535Z",
     "start_time": "2019-04-16T14:44:46.349950Z"
    }
   },
   "outputs": [],
   "source": [
    "stocks['AAPL']"
   ]
  },
  {
   "cell_type": "code",
   "execution_count": null,
   "metadata": {
    "ExecuteTime": {
     "end_time": "2019-04-16T14:44:46.491167Z",
     "start_time": "2019-04-16T14:44:46.485490Z"
    }
   },
   "outputs": [],
   "source": [
    "stocks.1AMZN"
   ]
  },
  {
   "cell_type": "markdown",
   "metadata": {
    "ExecuteTime": {
     "end_time": "2017-08-30T22:00:02.670971Z",
     "start_time": "2017-08-30T22:00:02.643252Z"
    }
   },
   "source": [
    "You can select multiple columns by using a list:"
   ]
  },
  {
   "cell_type": "code",
   "execution_count": null,
   "metadata": {
    "ExecuteTime": {
     "end_time": "2019-04-16T14:44:46.850691Z",
     "start_time": "2019-04-16T14:44:46.837731Z"
    }
   },
   "outputs": [],
   "source": [
    "stocks[['MSFT', 'AAPL']]"
   ]
  },
  {
   "cell_type": "markdown",
   "metadata": {},
   "source": [
    "## Selecting Rows\n",
    "* Use indices or numbers to select from Series\n",
    "* Use slices to select rows from DataFrames (accessing rows like this `stocks[150]` doesn't work)"
   ]
  },
  {
   "cell_type": "code",
   "execution_count": null,
   "metadata": {
    "ExecuteTime": {
     "end_time": "2019-04-16T14:44:47.398928Z",
     "start_time": "2019-04-16T14:44:47.395344Z"
    }
   },
   "outputs": [],
   "source": [
    "capitals[0]"
   ]
  },
  {
   "cell_type": "code",
   "execution_count": null,
   "metadata": {
    "ExecuteTime": {
     "end_time": "2019-04-16T14:44:47.527137Z",
     "start_time": "2019-04-16T14:44:47.520828Z"
    }
   },
   "outputs": [],
   "source": [
    "capitals['France']"
   ]
  },
  {
   "cell_type": "code",
   "execution_count": null,
   "metadata": {
    "ExecuteTime": {
     "end_time": "2019-04-16T14:44:47.650468Z",
     "start_time": "2019-04-16T14:44:47.645795Z"
    }
   },
   "outputs": [],
   "source": [
    "capitals"
   ]
  },
  {
   "cell_type": "code",
   "execution_count": null,
   "metadata": {
    "ExecuteTime": {
     "end_time": "2019-04-16T14:44:47.774130Z",
     "start_time": "2019-04-16T14:44:47.771763Z"
    }
   },
   "outputs": [],
   "source": [
    "import datetime as dt"
   ]
  },
  {
   "cell_type": "code",
   "execution_count": null,
   "metadata": {
    "ExecuteTime": {
     "end_time": "2019-04-16T14:44:47.912717Z",
     "start_time": "2019-04-16T14:44:47.895008Z"
    }
   },
   "outputs": [],
   "source": [
    "stocks['2010-10-11':'2010-10-12']"
   ]
  },
  {
   "cell_type": "code",
   "execution_count": null,
   "metadata": {
    "ExecuteTime": {
     "end_time": "2019-04-16T14:44:48.237455Z",
     "start_time": "2019-04-16T14:44:48.228496Z"
    }
   },
   "outputs": [],
   "source": [
    "stocks[:5]"
   ]
  },
  {
   "cell_type": "code",
   "execution_count": null,
   "metadata": {
    "ExecuteTime": {
     "end_time": "2019-04-16T14:44:48.562325Z",
     "start_time": "2019-04-16T14:44:48.552941Z"
    }
   },
   "outputs": [],
   "source": [
    "stocks[-5:]"
   ]
  },
  {
   "cell_type": "code",
   "execution_count": null,
   "metadata": {
    "ExecuteTime": {
     "end_time": "2019-04-16T14:44:48.882967Z",
     "start_time": "2019-04-16T14:44:48.871440Z"
    }
   },
   "outputs": [],
   "source": [
    "stocks[::2]  # every second entry"
   ]
  },
  {
   "cell_type": "markdown",
   "metadata": {
    "ExecuteTime": {
     "end_time": "2017-08-30T22:08:46.277299Z",
     "start_time": "2017-08-30T22:08:46.274877Z"
    }
   },
   "source": [
    "Or slicing:\n",
    "<div class=\"alert alert-warning\">\n",
    "<b>Careful, the end is included!</b>"
   ]
  },
  {
   "cell_type": "code",
   "execution_count": null,
   "metadata": {
    "ExecuteTime": {
     "end_time": "2019-04-16T14:44:49.477665Z",
     "start_time": "2019-04-16T14:44:49.465894Z"
    }
   },
   "outputs": [],
   "source": [
    "stocks[0:]"
   ]
  },
  {
   "cell_type": "markdown",
   "metadata": {},
   "source": [
    "Or index via bool sequences (of the right length)"
   ]
  },
  {
   "cell_type": "code",
   "execution_count": null,
   "metadata": {
    "ExecuteTime": {
     "end_time": "2019-04-16T14:44:50.060947Z",
     "start_time": "2019-04-16T14:44:50.044597Z"
    }
   },
   "outputs": [],
   "source": [
    "stocks['AAPL'] > 90"
   ]
  },
  {
   "cell_type": "code",
   "execution_count": null,
   "metadata": {
    "ExecuteTime": {
     "end_time": "2019-04-16T14:44:50.182433Z",
     "start_time": "2019-04-16T14:44:50.167655Z"
    }
   },
   "outputs": [],
   "source": [
    "stocks[(stocks['AAPL'] > 90).values]"
   ]
  },
  {
   "cell_type": "code",
   "execution_count": null,
   "metadata": {
    "ExecuteTime": {
     "end_time": "2019-04-16T14:44:50.524202Z",
     "start_time": "2019-04-16T14:44:50.500822Z"
    }
   },
   "outputs": [],
   "source": [
    "diamonds"
   ]
  },
  {
   "cell_type": "code",
   "execution_count": null,
   "metadata": {
    "ExecuteTime": {
     "end_time": "2019-04-16T14:44:50.866033Z",
     "start_time": "2019-04-16T14:44:50.836356Z"
    }
   },
   "outputs": [],
   "source": [
    "diamonds[diamonds.color.isin(['E', 'F', 'G'])]"
   ]
  },
  {
   "cell_type": "code",
   "execution_count": null,
   "metadata": {
    "ExecuteTime": {
     "end_time": "2019-04-16T14:44:51.211430Z",
     "start_time": "2019-04-16T14:44:51.207480Z"
    }
   },
   "outputs": [],
   "source": [
    "df = diamonds[['color', 'cut']]"
   ]
  },
  {
   "cell_type": "code",
   "execution_count": null,
   "metadata": {
    "ExecuteTime": {
     "end_time": "2019-04-16T14:44:51.356855Z",
     "start_time": "2019-04-16T14:44:51.346702Z"
    }
   },
   "outputs": [],
   "source": [
    "df"
   ]
  },
  {
   "cell_type": "markdown",
   "metadata": {
    "ExecuteTime": {
     "end_time": "2017-08-30T22:19:15.617851Z",
     "start_time": "2017-08-30T22:19:15.613974Z"
    }
   },
   "source": [
    "## Select by label with .loc\n",
    "\n",
    "`.loc` allows selecting and slicing by label and lists of labels\n",
    "\n",
    "<div class=\"alert alert-warning\">\n",
    "<b>Careful: the end is included!</b>"
   ]
  },
  {
   "cell_type": "code",
   "execution_count": null,
   "metadata": {
    "ExecuteTime": {
     "end_time": "2019-04-16T14:44:51.933468Z",
     "start_time": "2019-04-16T14:44:51.925983Z"
    }
   },
   "outputs": [],
   "source": [
    "stocks.loc[dt.date(2012, 8, 7)]"
   ]
  },
  {
   "cell_type": "code",
   "execution_count": null,
   "metadata": {
    "ExecuteTime": {
     "end_time": "2019-04-16T14:44:52.066126Z",
     "start_time": "2019-04-16T14:44:52.051510Z"
    }
   },
   "outputs": [],
   "source": [
    "stocks.loc[dt.date(2012, 8, 8):dt.date(2012, 9, 7)]"
   ]
  },
  {
   "cell_type": "code",
   "execution_count": null,
   "metadata": {
    "ExecuteTime": {
     "end_time": "2019-04-16T14:44:52.403222Z",
     "start_time": "2019-04-16T14:44:52.389142Z"
    }
   },
   "outputs": [],
   "source": [
    "stocks.loc[:, 'AAPL']  # needs to be in the right dimension stocks.loc['AAPL'] doesn't work"
   ]
  },
  {
   "cell_type": "code",
   "execution_count": null,
   "metadata": {
    "ExecuteTime": {
     "end_time": "2019-04-16T14:44:52.520661Z",
     "start_time": "2019-04-16T14:44:52.503300Z"
    }
   },
   "outputs": [],
   "source": [
    "stocks.loc[[dt.date(2010, 10, 1), dt.date(2010, 11, 1), dt.date(2010, 12, 1)], ['MSFT', 'AAPL', 'AMZN']] "
   ]
  },
  {
   "cell_type": "markdown",
   "metadata": {
    "ExecuteTime": {
     "end_time": "2017-08-30T22:19:59.438265Z",
     "start_time": "2017-08-30T22:19:59.434671Z"
    }
   },
   "source": [
    "## Select by index with .iloc\n",
    "\n",
    "Select and slice by index and lists of indices"
   ]
  },
  {
   "cell_type": "code",
   "execution_count": null,
   "metadata": {
    "ExecuteTime": {
     "end_time": "2019-04-16T14:44:53.100153Z",
     "start_time": "2019-04-16T14:44:53.091837Z"
    }
   },
   "outputs": [],
   "source": [
    "stocks.iloc[0:2]"
   ]
  },
  {
   "cell_type": "code",
   "execution_count": null,
   "metadata": {
    "ExecuteTime": {
     "end_time": "2019-04-16T14:44:53.573642Z",
     "start_time": "2019-04-16T14:44:53.560964Z"
    }
   },
   "outputs": [],
   "source": [
    "stocks"
   ]
  },
  {
   "cell_type": "code",
   "execution_count": null,
   "metadata": {
    "ExecuteTime": {
     "end_time": "2019-04-16T14:44:53.913942Z",
     "start_time": "2019-04-16T14:44:53.898886Z"
    }
   },
   "outputs": [],
   "source": [
    "stocks.iloc[:, 2]"
   ]
  },
  {
   "cell_type": "code",
   "execution_count": null,
   "metadata": {
    "ExecuteTime": {
     "end_time": "2019-04-16T14:44:54.056139Z",
     "start_time": "2019-04-16T14:44:54.047480Z"
    }
   },
   "outputs": [],
   "source": [
    "stocks.iloc[[1, 10, 100, 1000], [2, 0, 1]]"
   ]
  },
  {
   "cell_type": "markdown",
   "metadata": {
    "ExecuteTime": {
     "end_time": "2017-08-31T22:26:55.512511Z",
     "start_time": "2017-08-31T22:26:55.509414Z"
    }
   },
   "source": [
    "<div class=\"alert alert-success\">\n",
    "        <b>EXERCISE:</b> \n",
    "        <li>access the \"Fare\" and the \"class\" column</li>\n",
    "        <li>check how much the passengers in First class paid on average</li>\n",
    "</div>"
   ]
  },
  {
   "cell_type": "code",
   "execution_count": null,
   "metadata": {
    "ExecuteTime": {
     "end_time": "2019-04-16T14:44:54.660266Z",
     "start_time": "2019-04-16T14:44:54.633734Z"
    },
    "tags": [
     "solution"
    ]
   },
   "outputs": [],
   "source": [
    "titanic = pd.read_csv('data/titanic.csv', index_col=0)\n",
    "titanic.head()"
   ]
  },
  {
   "cell_type": "code",
   "execution_count": null,
   "metadata": {
    "ExecuteTime": {
     "end_time": "2019-04-16T14:44:54.978692Z",
     "start_time": "2019-04-16T14:44:54.970108Z"
    },
    "tags": [
     "solution"
    ]
   },
   "outputs": [],
   "source": [
    "titanic[titanic['class'] == 'First']['fare'].mean()"
   ]
  },
  {
   "cell_type": "markdown",
   "metadata": {
    "ExecuteTime": {
     "end_time": "2017-08-31T21:30:52.931890Z",
     "start_time": "2017-08-31T21:30:52.672Z"
    }
   },
   "source": [
    "## Summary\n",
    "\n",
    "* .name allows quick access to columns\n",
    "* `[]` allows access to columns or rows\n",
    "* .loc for label based access\n",
    "* .iloc for index based acces "
   ]
  },
  {
   "cell_type": "markdown",
   "metadata": {
    "ExecuteTime": {
     "end_time": "2017-08-30T21:53:32.762116Z",
     "start_time": "2017-08-30T21:53:32.759733Z"
    }
   },
   "source": [
    "# Plotting"
   ]
  },
  {
   "cell_type": "code",
   "execution_count": null,
   "metadata": {
    "ExecuteTime": {
     "end_time": "2019-04-16T14:44:55.934051Z",
     "start_time": "2019-04-16T14:44:55.636575Z"
    }
   },
   "outputs": [],
   "source": [
    "stocks.plot()"
   ]
  },
  {
   "cell_type": "markdown",
   "metadata": {
    "ExecuteTime": {
     "end_time": "2017-08-31T21:34:08.995066Z",
     "start_time": "2017-08-31T21:34:08.399Z"
    }
   },
   "source": [
    "There are several different kinds of plots available, which take different keywords.\n",
    "\n",
    "If in doubt, consult the [documentation](https://pandas.pydata.org/pandas-docs/stable/visualization.html).\n"
   ]
  },
  {
   "cell_type": "code",
   "execution_count": null,
   "metadata": {
    "ExecuteTime": {
     "end_time": "2019-04-16T14:44:56.296497Z",
     "start_time": "2019-04-16T14:44:56.079797Z"
    }
   },
   "outputs": [],
   "source": [
    "\n",
    "diamonds['price'].plot(kind='hist', bins=20);\n"
   ]
  },
  {
   "cell_type": "code",
   "execution_count": null,
   "metadata": {
    "ExecuteTime": {
     "end_time": "2019-04-16T14:44:56.439177Z",
     "start_time": "2019-04-16T14:44:56.298818Z"
    }
   },
   "outputs": [],
   "source": [
    "pd.Series([3, 5, -1, 8]).plot(kind='bar')"
   ]
  },
  {
   "cell_type": "code",
   "execution_count": null,
   "metadata": {
    "ExecuteTime": {
     "end_time": "2019-04-16T14:44:56.639827Z",
     "start_time": "2019-04-16T14:44:56.441478Z"
    }
   },
   "outputs": [],
   "source": [
    "pd.DataFrame({'a': [1, 4, 8], 'b': [3, 1, 1], 'c': [1, 1, 1]}).plot(kind='barh')"
   ]
  },
  {
   "cell_type": "code",
   "execution_count": null,
   "metadata": {
    "ExecuteTime": {
     "end_time": "2019-04-16T14:44:56.811053Z",
     "start_time": "2019-04-16T14:44:56.642580Z"
    }
   },
   "outputs": [],
   "source": [
    "pd.DataFrame({'a': [1, 4, 8], 'b': [3, 1, 1], 'c': [1, 1, 1]}).plot(kind='barh', stacked=True)"
   ]
  },
  {
   "cell_type": "markdown",
   "metadata": {},
   "source": [
    "multiple calls to plot() in one cell create a single figure"
   ]
  },
  {
   "cell_type": "code",
   "execution_count": null,
   "metadata": {
    "ExecuteTime": {
     "end_time": "2019-04-16T14:44:58.091212Z",
     "start_time": "2019-04-16T14:44:57.029926Z"
    }
   },
   "outputs": [],
   "source": [
    "pd.Series([1, 8, 7, 3, 110, 12, -3, 16, 21, -30]).plot(kind='kde')\n",
    "pd.Series([11, 84, 3, 14, 45, ]).plot(kind='kde')"
   ]
  },
  {
   "cell_type": "code",
   "execution_count": null,
   "metadata": {
    "ExecuteTime": {
     "end_time": "2019-04-16T14:44:58.249185Z",
     "start_time": "2019-04-16T14:44:58.093969Z"
    }
   },
   "outputs": [],
   "source": [
    "diamonds.iloc[:5].plot(kind='scatter', x='carat', y='x')"
   ]
  },
  {
   "cell_type": "code",
   "execution_count": null,
   "metadata": {
    "ExecuteTime": {
     "end_time": "2019-04-16T14:44:58.256618Z",
     "start_time": "2019-04-16T14:44:58.252028Z"
    }
   },
   "outputs": [],
   "source": [
    "diamonds.loc[3, 'x'] = np.nan"
   ]
  },
  {
   "cell_type": "code",
   "execution_count": null,
   "metadata": {
    "ExecuteTime": {
     "end_time": "2019-04-16T14:44:58.353789Z",
     "start_time": "2019-04-16T14:44:58.259078Z"
    }
   },
   "outputs": [],
   "source": [
    "pd.Series([3, 5, 1, 8]).plot(kind='pie')  # please don't use those"
   ]
  },
  {
   "cell_type": "markdown",
   "metadata": {},
   "source": [
    "and many more...\n",
    "<div class=\"alert alert-success\">\n",
    "    <b>EXERCISE:</b> Scatter-plot AAPL and MSFT\n",
    "</div>"
   ]
  },
  {
   "cell_type": "code",
   "execution_count": null,
   "metadata": {
    "ExecuteTime": {
     "end_time": "2019-04-16T14:44:58.540500Z",
     "start_time": "2019-04-16T14:44:58.355907Z"
    },
    "tags": [
     "solution"
    ]
   },
   "outputs": [],
   "source": [
    "stocks.plot(kind='scatter', x='AAPL', y='MSFT')"
   ]
  },
  {
   "cell_type": "markdown",
   "metadata": {},
   "source": [
    "<div class=\"alert alert-success\">\n",
    "    <b>EXERCISE:</b>plot histograms of the stock diffs (absolute and relative)\n",
    "</div>"
   ]
  },
  {
   "cell_type": "code",
   "execution_count": null,
   "metadata": {
    "ExecuteTime": {
     "end_time": "2019-04-16T14:44:59.787761Z",
     "start_time": "2019-04-16T14:44:58.543576Z"
    },
    "tags": [
     "solution"
    ]
   },
   "outputs": [],
   "source": [
    "stocksdiff[['AMZN diff', 'AAPL diff', 'MSFT diff']].plot(kind='hist', bins=200)"
   ]
  },
  {
   "cell_type": "code",
   "execution_count": null,
   "metadata": {
    "ExecuteTime": {
     "end_time": "2019-04-16T14:45:01.180751Z",
     "start_time": "2019-04-16T14:44:59.790400Z"
    },
    "tags": [
     "solution"
    ]
   },
   "outputs": [],
   "source": [
    "stocksdiff[['AMZN rel', 'AAPL rel', 'MSFT rel']].plot(kind='hist', bins=200)"
   ]
  },
  {
   "cell_type": "markdown",
   "metadata": {
    "ExecuteTime": {
     "end_time": "2017-08-31T22:10:13.985873Z",
     "start_time": "2017-08-31T22:10:13.982894Z"
    }
   },
   "source": [
    "<div class=\"alert alert-success\">\n",
    "    <b>EXERCISE:</b> Scatter-plot diamond carat vs depth and use the price as the size (argument `s`)\n",
    "</div>"
   ]
  },
  {
   "cell_type": "code",
   "execution_count": null,
   "metadata": {
    "ExecuteTime": {
     "end_time": "2019-04-16T14:47:01.753681Z",
     "start_time": "2019-04-16T14:46:59.019073Z"
    },
    "tags": [
     "solution"
    ]
   },
   "outputs": [],
   "source": [
    "diamonds.plot(kind='scatter', x='carat', y='depth', s=diamonds['price'] / 100)"
   ]
  },
  {
   "cell_type": "markdown",
   "metadata": {},
   "source": [
    "<div class=\"alert alert-success\">\n",
    "    <b>EXERCISE:</b> Plot a labelled histograms of the iris' petal width, seperated by species\n",
    "</div>"
   ]
  },
  {
   "cell_type": "code",
   "execution_count": null,
   "metadata": {
    "ExecuteTime": {
     "end_time": "2019-04-16T14:47:02.242991Z",
     "start_time": "2019-04-16T14:47:01.982105Z"
    },
    "tags": [
     "solution"
    ]
   },
   "outputs": [],
   "source": [
    "for species, group in iris.groupby('species'):\n",
    "    group['petal_width'].hist(alpha=0.5, label=species)\n",
    "plt.legend();"
   ]
  },
  {
   "cell_type": "markdown",
   "metadata": {
    "ExecuteTime": {
     "end_time": "2017-09-08T14:21:19.410495Z",
     "start_time": "2017-09-08T14:21:19.406714Z"
    }
   },
   "source": [
    "# Groupby\n",
    "* allows for grouping by certain properties\n",
    "* often used for \"split-apply-combine\" workflow\n",
    "* mostly useful for categorical data"
   ]
  },
  {
   "cell_type": "code",
   "execution_count": null,
   "metadata": {
    "ExecuteTime": {
     "end_time": "2019-04-16T14:47:03.667698Z",
     "start_time": "2019-04-16T14:47:03.650419Z"
    }
   },
   "outputs": [],
   "source": [
    "titanic.head()"
   ]
  },
  {
   "cell_type": "code",
   "execution_count": null,
   "metadata": {
    "ExecuteTime": {
     "end_time": "2019-04-16T14:47:04.297599Z",
     "start_time": "2019-04-16T14:47:04.282515Z"
    }
   },
   "outputs": [],
   "source": [
    "titanic.groupby('class').aggregate(np.mean)"
   ]
  },
  {
   "cell_type": "code",
   "execution_count": null,
   "metadata": {
    "ExecuteTime": {
     "end_time": "2019-04-16T14:47:05.214095Z",
     "start_time": "2019-04-16T14:47:04.994486Z"
    }
   },
   "outputs": [],
   "source": [
    "fig, axx = plt.subplots(1)\n",
    "for num, (class_, data) in enumerate(titanic.groupby('class')):\n",
    "    colors = {0: 'red', 1: 'blue', 2: 'green'}\n",
    "    data.plot(x='age', y='fare', kind='scatter', label=class_, ax=axx, color=colors[num])"
   ]
  },
  {
   "cell_type": "code",
   "execution_count": null,
   "metadata": {
    "ExecuteTime": {
     "end_time": "2019-04-16T14:47:05.671010Z",
     "start_time": "2019-04-16T14:47:05.493058Z"
    }
   },
   "outputs": [],
   "source": [
    "titanic.groupby('class')[['fare', 'age']].aggregate(np.mean).plot(kind='bar')"
   ]
  },
  {
   "cell_type": "code",
   "execution_count": null,
   "metadata": {
    "ExecuteTime": {
     "end_time": "2019-04-16T14:47:06.101943Z",
     "start_time": "2019-04-16T14:47:06.097963Z"
    }
   },
   "outputs": [],
   "source": [
    "titanic.groupby('class')"
   ]
  },
  {
   "cell_type": "code",
   "execution_count": null,
   "metadata": {
    "ExecuteTime": {
     "end_time": "2019-04-16T14:47:06.600164Z",
     "start_time": "2019-04-16T14:47:06.593243Z"
    }
   },
   "outputs": [],
   "source": [
    "titanic.groupby('class')['fare'].aggregate(np.mean)"
   ]
  },
  {
   "cell_type": "markdown",
   "metadata": {
    "ExecuteTime": {
     "end_time": "2017-09-08T14:27:04.761175Z",
     "start_time": "2017-09-08T14:27:04.521869Z"
    }
   },
   "source": [
    "<div class=\"alert alert-success\">\n",
    "    <b>EXERCISE:</b>\n",
    "    <li>See if there are differences in the survival rates between male and females (you can also use statistical tests)</li>\n",
    "    <li>Did people who survive pay a higher fare?</li>\n",
    "    <li>Try what happens when you groupby a tuple of columns</li>\n",
    "</div>"
   ]
  },
  {
   "cell_type": "code",
   "execution_count": null,
   "metadata": {
    "ExecuteTime": {
     "end_time": "2019-04-16T14:47:07.722836Z",
     "start_time": "2019-04-16T14:47:07.708223Z"
    },
    "tags": [
     "solution"
    ]
   },
   "outputs": [],
   "source": [
    "titanic.groupby('survived').aggregate(np.mean)"
   ]
  },
  {
   "cell_type": "code",
   "execution_count": null,
   "metadata": {
    "ExecuteTime": {
     "end_time": "2019-04-16T14:47:08.344605Z",
     "start_time": "2019-04-16T14:47:08.327009Z"
    },
    "tags": [
     "solution"
    ]
   },
   "outputs": [],
   "source": [
    "titanic.groupby(['survived', 'class']).aggregate(np.mean)"
   ]
  },
  {
   "cell_type": "markdown",
   "metadata": {},
   "source": [
    "<div class=\"alert alert-success\">\n",
    "    <b>EXERCISE:</b>\n",
    "    <li>Group the iris data set by species and plot petal vs sepal length and petal length vs width\n",
    "</div>"
   ]
  },
  {
   "cell_type": "code",
   "execution_count": null,
   "metadata": {
    "ExecuteTime": {
     "end_time": "2019-04-16T14:47:10.000928Z",
     "start_time": "2019-04-16T14:47:09.622064Z"
    },
    "tags": [
     "solution"
    ]
   },
   "outputs": [],
   "source": [
    "fig, axx = plt.subplots(1, 2, figsize=(12, 4))\n",
    "for num, (species, data) in enumerate(iris.groupby('species')):\n",
    "    data.plot(x='petal_length', y='petal_width', kind='scatter',ax=axx[0], color='C{}'.format(num), label=species)\n",
    "    data.plot(x='petal_length', y='sepal_length', kind='scatter',ax=axx[1], color='C{}'.format(num), label=species)"
   ]
  },
  {
   "cell_type": "markdown",
   "metadata": {},
   "source": [
    "* `TimeGrouper` lets you group timeindexed data by time"
   ]
  },
  {
   "cell_type": "code",
   "execution_count": null,
   "metadata": {
    "ExecuteTime": {
     "end_time": "2019-04-16T14:47:11.647017Z",
     "start_time": "2019-04-16T14:47:11.262834Z"
    }
   },
   "outputs": [],
   "source": [
    "stocks.groupby([pd.TimeGrouper(freq='10D')]).aggregate(np.mean).plot()"
   ]
  },
  {
   "cell_type": "code",
   "execution_count": null,
   "metadata": {
    "ExecuteTime": {
     "end_time": "2019-04-16T14:47:12.591519Z",
     "start_time": "2019-04-16T14:47:12.577258Z"
    }
   },
   "outputs": [],
   "source": [
    "stocks['weekday'] = stocks.index.weekday_name\n",
    "stocks.head()"
   ]
  },
  {
   "cell_type": "code",
   "execution_count": null,
   "metadata": {
    "ExecuteTime": {
     "end_time": "2019-04-16T14:47:15.555232Z",
     "start_time": "2019-04-16T14:47:15.552409Z"
    }
   },
   "outputs": [],
   "source": [
    "x = stocks.copy()"
   ]
  },
  {
   "cell_type": "code",
   "execution_count": null,
   "metadata": {
    "ExecuteTime": {
     "end_time": "2019-04-16T14:47:16.123316Z",
     "start_time": "2019-04-16T14:47:16.090269Z"
    }
   },
   "outputs": [],
   "source": [
    "titanic"
   ]
  },
  {
   "cell_type": "code",
   "execution_count": null,
   "metadata": {
    "ExecuteTime": {
     "end_time": "2019-04-16T14:47:16.959511Z",
     "start_time": "2019-04-16T14:47:16.852471Z"
    }
   },
   "outputs": [],
   "source": [
    "sss = titanic[titanic['age'] > 20]\n",
    "sss.loc[:, 'fare'] = 99\n",
    "sss"
   ]
  },
  {
   "cell_type": "code",
   "execution_count": null,
   "metadata": {
    "ExecuteTime": {
     "end_time": "2019-04-16T14:47:21.472953Z",
     "start_time": "2019-04-16T14:47:21.214045Z"
    }
   },
   "outputs": [],
   "source": [
    "fig, ax = plt.subplots(1, figsize=(10, 4))\n",
    "groupby = stocks[['MSFT', 'weekday']].groupby('weekday')\n",
    "groupby.boxplot(subplots=False)"
   ]
  },
  {
   "cell_type": "markdown",
   "metadata": {},
   "source": [
    "# Merging Data\n",
    "* `.concat()` allows for stacking DataFrames along any axis\n",
    "* `.merge()` allows more compilated merging, set argument `how` to one of `inner`, `outer`, `left` or `right`"
   ]
  },
  {
   "cell_type": "code",
   "execution_count": null,
   "metadata": {
    "ExecuteTime": {
     "end_time": "2019-04-16T14:47:22.415159Z",
     "start_time": "2019-04-16T14:47:22.406800Z"
    }
   },
   "outputs": [],
   "source": [
    "names1 = pd.DataFrame({\n",
    "    'id': [1, 4, 3, 2, 7, 8],\n",
    "    'first name': ['Alexander', 'Brooklyn', 'Christopher', 'Destiny', 'Ethan', 'Faith'],\n",
    "    'last name': ['Abner', 'Bach', 'Carlisle', 'Dawson', 'Egger', 'Fairbanks'],\n",
    "})\n",
    "\n",
    "names2 = pd.DataFrame({\n",
    "    'id': [5, 6, 9, 10],\n",
    "    'first name': ['George', 'Holly', 'Alexander', 'Brooklyn'],\n",
    "    'last name': ['Garret', 'Hansen', 'Abner', 'Bach'],\n",
    "})\n",
    "\n",
    "scores_a = pd.DataFrame({\n",
    "    'id': [1, 2, 3, 4, 5, 6, 7, 8, 9, 10],\n",
    "    'score': [0.1, 0.2, 0.3, 0.4, 0.5, 0.6, 0.7, 0.8, 0.9, 1.0],\n",
    "})\n",
    "\n",
    "scores_b = pd.DataFrame({\n",
    "    'id': [1, 2, 3, 4, 5, 6, 7, 8, 9, 10, 3, 4],\n",
    "    'score': [5, 10, 15, 20, 25, 30, 40, 50, 55, 60, 65, 70],\n",
    "})\n",
    "pd.options.display.max_rows = 20"
   ]
  },
  {
   "cell_type": "code",
   "execution_count": null,
   "metadata": {
    "ExecuteTime": {
     "end_time": "2019-04-16T14:47:23.012859Z",
     "start_time": "2019-04-16T14:47:23.002929Z"
    }
   },
   "outputs": [],
   "source": [
    "names = pd.concat([names1, names2])\n",
    "names"
   ]
  },
  {
   "cell_type": "code",
   "execution_count": null,
   "metadata": {
    "ExecuteTime": {
     "end_time": "2019-04-16T14:47:23.849251Z",
     "start_time": "2019-04-16T14:47:23.831242Z"
    }
   },
   "outputs": [],
   "source": [
    "pd.concat([names, names2], axis=0)"
   ]
  },
  {
   "cell_type": "code",
   "execution_count": null,
   "metadata": {
    "ExecuteTime": {
     "end_time": "2019-04-16T14:47:24.618943Z",
     "start_time": "2019-04-16T14:47:24.607876Z"
    }
   },
   "outputs": [],
   "source": [
    "pd.concat([scores_a, scores_b], axis=1, )  # NaN gets inserted for missing values"
   ]
  },
  {
   "cell_type": "code",
   "execution_count": null,
   "metadata": {
    "ExecuteTime": {
     "end_time": "2019-04-16T14:47:25.478015Z",
     "start_time": "2019-04-16T14:47:25.465622Z"
    }
   },
   "outputs": [],
   "source": [
    "pd.merge(names, scores_a, on='id')"
   ]
  },
  {
   "cell_type": "code",
   "execution_count": null,
   "metadata": {
    "ExecuteTime": {
     "end_time": "2019-04-16T14:47:26.211803Z",
     "start_time": "2019-04-16T14:47:26.196304Z"
    }
   },
   "outputs": [],
   "source": [
    "pd.merge(names, scores_b, on='id')"
   ]
  },
  {
   "cell_type": "code",
   "execution_count": null,
   "metadata": {
    "ExecuteTime": {
     "end_time": "2019-04-16T14:47:26.940604Z",
     "start_time": "2019-04-16T14:47:26.929628Z"
    }
   },
   "outputs": [],
   "source": [
    "pd.merge(names1, names2, on=['first name', 'last name'])"
   ]
  },
  {
   "cell_type": "code",
   "execution_count": null,
   "metadata": {
    "ExecuteTime": {
     "end_time": "2019-04-16T14:47:27.658779Z",
     "start_time": "2019-04-16T14:47:27.647400Z"
    }
   },
   "outputs": [],
   "source": [
    "pd.merge(names1, names2, on=['first name'])"
   ]
  },
  {
   "cell_type": "code",
   "execution_count": null,
   "metadata": {
    "ExecuteTime": {
     "end_time": "2019-04-16T14:47:28.543812Z",
     "start_time": "2019-04-16T14:47:28.527715Z"
    }
   },
   "outputs": [],
   "source": [
    "names1.merge(names2, on='first name')"
   ]
  },
  {
   "cell_type": "code",
   "execution_count": null,
   "metadata": {
    "ExecuteTime": {
     "end_time": "2019-04-16T14:47:29.405502Z",
     "start_time": "2019-04-16T14:47:29.394085Z"
    }
   },
   "outputs": [],
   "source": [
    "pd.merge(names1, names2, on=['first name', 'last name'], how='inner')"
   ]
  },
  {
   "cell_type": "code",
   "execution_count": null,
   "metadata": {
    "ExecuteTime": {
     "end_time": "2019-04-16T14:47:30.240508Z",
     "start_time": "2019-04-16T14:47:30.224009Z"
    }
   },
   "outputs": [],
   "source": [
    "pd.merge(names1, names2, on=['first name'], how='outer')"
   ]
  },
  {
   "cell_type": "code",
   "execution_count": null,
   "metadata": {
    "ExecuteTime": {
     "end_time": "2019-04-16T14:47:30.862792Z",
     "start_time": "2019-04-16T14:47:30.847996Z"
    }
   },
   "outputs": [],
   "source": [
    "pd.merge(names1, names2, on='id', how='left')"
   ]
  },
  {
   "cell_type": "code",
   "execution_count": null,
   "metadata": {
    "ExecuteTime": {
     "end_time": "2019-04-16T14:47:31.743663Z",
     "start_time": "2019-04-16T14:47:31.732251Z"
    }
   },
   "outputs": [],
   "source": [
    "pd.merge(scores_a, scores_b, on='id', how='outer')"
   ]
  },
  {
   "cell_type": "code",
   "execution_count": null,
   "metadata": {
    "ExecuteTime": {
     "end_time": "2019-04-16T14:47:32.316265Z",
     "start_time": "2019-04-16T14:47:32.303875Z"
    }
   },
   "outputs": [],
   "source": [
    "scores = pd.merge(scores_a, scores_b, on='id', how='right', suffixes=('_reaction', '_recall'))\n",
    "scores"
   ]
  },
  {
   "cell_type": "code",
   "execution_count": null,
   "metadata": {
    "ExecuteTime": {
     "end_time": "2019-04-16T14:47:33.134069Z",
     "start_time": "2019-04-16T14:47:33.114776Z"
    }
   },
   "outputs": [],
   "source": [
    "scores.drop_duplicates(['id'], keep=False)"
   ]
  },
  {
   "cell_type": "markdown",
   "metadata": {
    "ExecuteTime": {
     "end_time": "2017-08-30T21:39:05.561116Z",
     "start_time": "2017-08-30T21:39:05.558939Z"
    }
   },
   "source": [
    "# IO\n",
    "https://pandas.pydata.org/pandas-docs/stable/io.html\n",
    "\n",
    "pandas has build in support for various data formats, among others: CSV, Excel Files, HDF5, SQL\n",
    "\n",
    "It's mostly as easy as `pd.read_csv('path/to/csv', some=arguments)` and `pd.to_csv('path/to/csv')`"
   ]
  },
  {
   "cell_type": "markdown",
   "metadata": {
    "ExecuteTime": {
     "end_time": "2017-08-30T21:42:47.383470Z",
     "start_time": "2017-08-30T21:42:47.378371Z"
    }
   },
   "source": [
    "## CSV"
   ]
  },
  {
   "cell_type": "code",
   "execution_count": null,
   "metadata": {
    "ExecuteTime": {
     "end_time": "2019-04-16T14:47:47.593100Z",
     "start_time": "2019-04-16T14:47:47.575894Z"
    }
   },
   "outputs": [],
   "source": [
    "df = pd.read_csv('data/iris2.csv')\n",
    "df.columns = [1, 2, 3, 4, '5', '5']\n",
    "df['5']"
   ]
  },
  {
   "cell_type": "code",
   "execution_count": null,
   "metadata": {
    "ExecuteTime": {
     "end_time": "2019-04-16T14:47:47.971310Z",
     "start_time": "2019-04-16T14:47:47.967710Z"
    }
   },
   "outputs": [],
   "source": [
    "float('nan')"
   ]
  },
  {
   "cell_type": "markdown",
   "metadata": {},
   "source": [
    "pandas doesn't know that the first column should be an index"
   ]
  },
  {
   "cell_type": "code",
   "execution_count": null,
   "metadata": {
    "ExecuteTime": {
     "end_time": "2019-04-16T14:47:48.852673Z",
     "start_time": "2019-04-16T14:47:48.831288Z"
    }
   },
   "outputs": [],
   "source": [
    "# most of the arguments are unnecessary for this file, but you get the idea\n",
    "df = pd.read_csv('data/stock.csv', index_col=0, parse_dates=['Date'], sep=',', encoding='ascii')\n",
    "df.head()"
   ]
  },
  {
   "cell_type": "markdown",
   "metadata": {},
   "source": [
    "Let's save it in another CSV, but tab seperated"
   ]
  },
  {
   "cell_type": "code",
   "execution_count": null,
   "metadata": {
    "ExecuteTime": {
     "end_time": "2019-04-16T14:47:49.752051Z",
     "start_time": "2019-04-16T14:47:49.535868Z"
    }
   },
   "outputs": [],
   "source": [
    "df.to_csv('data/stock_out.csv', sep='\\t', )"
   ]
  },
  {
   "cell_type": "code",
   "execution_count": null,
   "metadata": {
    "ExecuteTime": {
     "end_time": "2019-04-16T14:47:49.902555Z",
     "start_time": "2019-04-16T14:47:49.769452Z"
    }
   },
   "outputs": [],
   "source": [
    "!head data/stock_out.csv"
   ]
  },
  {
   "cell_type": "markdown",
   "metadata": {},
   "source": [
    "## SQL\n",
    "* the pd.read_sql_query(), pd.read_sql(), and pd.to_sql() let you read and write sql\n",
    "* need an SQLAlchemy engine or SQLite connection"
   ]
  },
  {
   "cell_type": "code",
   "execution_count": null,
   "metadata": {
    "ExecuteTime": {
     "end_time": "2019-04-16T14:47:50.479626Z",
     "start_time": "2019-04-16T14:47:50.351338Z"
    }
   },
   "outputs": [],
   "source": [
    "import pandas as pd\n",
    "import sqlite3\n",
    "\n",
    "conn = sqlite3.connect(\"data/titanic.db\")\n",
    "\n",
    "titanic.to_sql('titanic', conn, if_exists='replace', )\n",
    "conn.close()"
   ]
  },
  {
   "cell_type": "code",
   "execution_count": null,
   "metadata": {
    "ExecuteTime": {
     "end_time": "2019-04-16T14:47:50.485799Z",
     "start_time": "2019-04-16T14:47:50.481521Z"
    }
   },
   "outputs": [],
   "source": [
    "conn = sqlite3.connect(\"data/titanic.db\")\n",
    "cur = conn.cursor()\n",
    "cur.execute(\"select * from titanic limit 5;\")\n",
    "print(cur.fetchall())\n",
    "cur.close()"
   ]
  },
  {
   "cell_type": "code",
   "execution_count": null,
   "metadata": {
    "ExecuteTime": {
     "end_time": "2019-04-16T14:47:50.690673Z",
     "start_time": "2019-04-16T14:47:50.675341Z"
    }
   },
   "outputs": [],
   "source": [
    "pd.read_sql_query('SELECT fare, class FROM titanic WHERE survived == 0;', conn)"
   ]
  },
  {
   "cell_type": "markdown",
   "metadata": {},
   "source": [
    "# Time series\n",
    "* pandas can easily parse data time for us\n",
    "* see `pd.to_datetime()`'s documentation on how to specify the format (it often does the right thing anyway)\n",
    "* many read methods support reading datetime strings\n",
    "* DataTimeIndex has lots of properties to show days, hours, years, weekdays, etc.\n",
    "* data with DateTimeIndex gets properly labeled X-Axis"
   ]
  },
  {
   "cell_type": "code",
   "execution_count": null,
   "metadata": {
    "ExecuteTime": {
     "end_time": "2019-04-16T14:47:51.536963Z",
     "start_time": "2019-04-16T14:47:51.412318Z"
    }
   },
   "outputs": [],
   "source": [
    "!head data/flowdata.csv"
   ]
  },
  {
   "cell_type": "code",
   "execution_count": null,
   "metadata": {
    "ExecuteTime": {
     "end_time": "2019-04-16T14:47:51.580041Z",
     "start_time": "2019-04-16T14:47:51.539657Z"
    }
   },
   "outputs": [],
   "source": [
    "pd.read_csv(\"data/flowdata.csv\")"
   ]
  },
  {
   "cell_type": "code",
   "execution_count": null,
   "metadata": {
    "ExecuteTime": {
     "end_time": "2019-04-16T14:47:51.979127Z",
     "start_time": "2019-04-16T14:47:51.945341Z"
    }
   },
   "outputs": [],
   "source": [
    "flow = pd.read_csv(\"data/flowdata.csv\", index_col=0, parse_dates=True)\n",
    "flow"
   ]
  },
  {
   "cell_type": "code",
   "execution_count": null,
   "metadata": {
    "ExecuteTime": {
     "end_time": "2019-04-16T14:47:52.374276Z",
     "start_time": "2019-04-16T14:47:52.361922Z"
    }
   },
   "outputs": [],
   "source": [
    "flow.index"
   ]
  },
  {
   "cell_type": "code",
   "execution_count": null,
   "metadata": {
    "ExecuteTime": {
     "end_time": "2019-04-16T14:47:52.501846Z",
     "start_time": "2019-04-16T14:47:52.496096Z"
    }
   },
   "outputs": [],
   "source": [
    "flow.index.day"
   ]
  },
  {
   "cell_type": "code",
   "execution_count": null,
   "metadata": {
    "ExecuteTime": {
     "end_time": "2019-04-16T14:47:52.819357Z",
     "start_time": "2019-04-16T14:47:52.813222Z"
    }
   },
   "outputs": [],
   "source": [
    "flow.index.weekday"
   ]
  },
  {
   "cell_type": "code",
   "execution_count": null,
   "metadata": {
    "ExecuteTime": {
     "end_time": "2019-04-16T14:47:53.581221Z",
     "start_time": "2019-04-16T14:47:53.250360Z"
    }
   },
   "outputs": [],
   "source": [
    "flow.plot()"
   ]
  },
  {
   "cell_type": "markdown",
   "metadata": {},
   "source": [
    "## Selecting data by date\n",
    "* can select rows by datetime"
   ]
  },
  {
   "cell_type": "code",
   "execution_count": null,
   "metadata": {
    "ExecuteTime": {
     "end_time": "2019-04-16T14:47:54.093123Z",
     "start_time": "2019-04-16T14:47:54.078815Z"
    }
   },
   "outputs": [],
   "source": [
    "import datetime as dt\n",
    "flow[dt.datetime(2011, 1, 1):dt.datetime(2011, 2, 1)]"
   ]
  },
  {
   "cell_type": "code",
   "execution_count": null,
   "metadata": {
    "ExecuteTime": {
     "end_time": "2019-04-16T14:47:54.660613Z",
     "start_time": "2019-04-16T14:47:54.650258Z"
    }
   },
   "outputs": [],
   "source": [
    "flow[pd.to_datetime('2011-1-1 10:00'):pd.to_datetime('2011-1-2 14:00')]"
   ]
  },
  {
   "cell_type": "code",
   "execution_count": null,
   "metadata": {
    "ExecuteTime": {
     "end_time": "2019-04-16T14:47:55.344844Z",
     "start_time": "2019-04-16T14:47:55.333950Z"
    }
   },
   "outputs": [],
   "source": [
    "flow['2011-1-1 10:00':'2011-1-2 14:00']"
   ]
  },
  {
   "cell_type": "code",
   "execution_count": null,
   "metadata": {
    "ExecuteTime": {
     "end_time": "2019-04-16T14:47:55.884223Z",
     "start_time": "2019-04-16T14:47:55.865463Z"
    }
   },
   "outputs": [],
   "source": [
    "flow['2011']"
   ]
  },
  {
   "cell_type": "code",
   "execution_count": null,
   "metadata": {
    "ExecuteTime": {
     "end_time": "2019-04-16T14:47:56.399490Z",
     "start_time": "2019-04-16T14:47:56.385688Z"
    }
   },
   "outputs": [],
   "source": [
    "flow['2011-6']"
   ]
  },
  {
   "cell_type": "markdown",
   "metadata": {},
   "source": [
    "<div class=\"alert alert-success\">\n",
    "    <b>EXERCISES:</b>\n",
    "\n",
    "<li>Select all data from all Januaries\n",
    "<li>Select all data from 2010 to 2012\n",
    "<li>Select all data from the weekend\n",
    "<li>Select all data between 9:00 and 17:00 on every day\n",
    "</div>"
   ]
  },
  {
   "cell_type": "code",
   "execution_count": null,
   "metadata": {
    "ExecuteTime": {
     "end_time": "2019-04-16T14:47:57.636621Z",
     "start_time": "2019-04-16T14:47:57.622762Z"
    },
    "tags": [
     "solution"
    ]
   },
   "outputs": [],
   "source": [
    "flow[flow.index.month == 1]"
   ]
  },
  {
   "cell_type": "code",
   "execution_count": null,
   "metadata": {
    "ExecuteTime": {
     "end_time": "2019-04-16T14:47:58.103927Z",
     "start_time": "2019-04-16T14:47:58.089389Z"
    },
    "tags": [
     "solution"
    ]
   },
   "outputs": [],
   "source": [
    "flow['2010':'2012']"
   ]
  },
  {
   "cell_type": "code",
   "execution_count": null,
   "metadata": {
    "ExecuteTime": {
     "end_time": "2019-04-16T14:47:58.530617Z",
     "start_time": "2019-04-16T14:47:58.516696Z"
    },
    "tags": [
     "solution"
    ]
   },
   "outputs": [],
   "source": [
    "flow[flow.index.weekday.isin([6, 7])]"
   ]
  },
  {
   "cell_type": "code",
   "execution_count": null,
   "metadata": {
    "ExecuteTime": {
     "end_time": "2019-04-16T14:48:02.526487Z",
     "start_time": "2019-04-16T14:48:02.507864Z"
    }
   },
   "outputs": [],
   "source": [
    "flow[(flow.index.hour > 9) & (flow.index.hour < 17)]"
   ]
  },
  {
   "cell_type": "markdown",
   "metadata": {},
   "source": [
    "## Resampling\n",
    "* often data isn't sampled as needed\n",
    "* `.resample('10D').mean()` resamples to every ten days and uses the mean for resampling\n",
    "* shortcuts:\n",
    "* ```\n",
    "B \tbusiness day frequency\n",
    "D \tcalendar day frequency\n",
    "W \tweekly frequency\n",
    "M \tmonth end frequency\n",
    "A \tyear end frequency\n",
    "H \thourly frequency\n",
    "T, min \tminutely frequency\n",
    "S \tsecondly frequency```\n",
    "\n",
    "there are many more\n",
    "\n",
    "* need to specify how to resample\n",
    "* for downsampling: `.mean()`, `.sum()`, `.max()`, ...\n",
    "* for upsampling: `.pad()`, `bfill()`, ...\n",
    "\n",
    "* or apply custom sampler with `.apply()`"
   ]
  },
  {
   "cell_type": "code",
   "execution_count": null,
   "metadata": {
    "ExecuteTime": {
     "end_time": "2019-04-16T14:48:03.881335Z",
     "start_time": "2019-04-16T14:48:03.851209Z"
    }
   },
   "outputs": [],
   "source": [
    "flow.resample('D').mean()"
   ]
  },
  {
   "cell_type": "code",
   "execution_count": null,
   "metadata": {
    "ExecuteTime": {
     "end_time": "2019-04-16T14:48:04.575901Z",
     "start_time": "2019-04-16T14:48:04.356198Z"
    }
   },
   "outputs": [],
   "source": [
    "flow.resample('M').mean().plot();"
   ]
  },
  {
   "cell_type": "code",
   "execution_count": null,
   "metadata": {
    "ExecuteTime": {
     "end_time": "2019-04-16T14:48:04.704314Z",
     "start_time": "2019-04-16T14:48:04.690256Z"
    }
   },
   "outputs": [],
   "source": [
    "flow.resample('H').asfreq().head(10)"
   ]
  },
  {
   "cell_type": "code",
   "execution_count": null,
   "metadata": {
    "ExecuteTime": {
     "end_time": "2019-04-16T14:48:05.165921Z",
     "start_time": "2019-04-16T14:48:05.153913Z"
    }
   },
   "outputs": [],
   "source": [
    "flow.resample('H').pad().head()"
   ]
  },
  {
   "cell_type": "code",
   "execution_count": null,
   "metadata": {
    "ExecuteTime": {
     "end_time": "2019-04-16T14:48:05.815148Z",
     "start_time": "2019-04-16T14:48:05.809704Z"
    }
   },
   "outputs": [],
   "source": [
    "x = flow.resample('H')\n",
    "x"
   ]
  },
  {
   "cell_type": "code",
   "execution_count": null,
   "metadata": {
    "ExecuteTime": {
     "end_time": "2019-04-16T14:48:13.718121Z",
     "start_time": "2019-04-16T14:48:06.340323Z"
    }
   },
   "outputs": [],
   "source": [
    "def custom_resampler(array_like):\n",
    "    return np.sum(array_like) * 5\n",
    "\n",
    "flow.resample('H').apply(custom_resampler)"
   ]
  },
  {
   "cell_type": "markdown",
   "metadata": {},
   "source": [
    "<div class=\"alert alert-success\">\n",
    "    <b>EXERCISES:</b>\n",
    "<li>Plot minimum and maximum value from each month for L06_347\n",
    "<li>Resample the flow data set to a weekly sample rate and write a custom resampler that returns the difference between the maximum and minimum in the week\n",
    "\n",
    "</div>"
   ]
  },
  {
   "cell_type": "code",
   "execution_count": null,
   "metadata": {
    "ExecuteTime": {
     "end_time": "2019-04-16T14:48:14.045966Z",
     "start_time": "2019-04-16T14:48:13.720427Z"
    },
    "tags": [
     "solution"
    ]
   },
   "outputs": [],
   "source": [
    "fig, ax = plt.subplots(1)\n",
    "flow['L06_347'].resample('1M').min().plot(ax=ax, label='min')\n",
    "flow['L06_347'].resample('1M').max().plot(ax=ax, label='max')\n",
    "ax.legend();"
   ]
  },
  {
   "cell_type": "code",
   "execution_count": null,
   "metadata": {
    "ExecuteTime": {
     "end_time": "2019-04-16T14:48:14.396891Z",
     "start_time": "2019-04-16T14:48:14.048434Z"
    },
    "tags": [
     "solution"
    ]
   },
   "outputs": [],
   "source": [
    "def dif(array):\n",
    "    return np.abs(array.max() - array.min())\n",
    "\n",
    "flow.resample('1W').apply(dif).plot();\n"
   ]
  },
  {
   "cell_type": "markdown",
   "metadata": {},
   "source": [
    "# Reshaping Data\n",
    "## pivot\n",
    "* use `pivot_table()` for pivoting your DataFrames to make them broader\n",
    "* there is also `.pivot()` which works like excels pivot"
   ]
  },
  {
   "cell_type": "code",
   "execution_count": null,
   "metadata": {
    "ExecuteTime": {
     "end_time": "2019-04-16T14:48:14.429059Z",
     "start_time": "2019-04-16T14:48:14.399125Z"
    }
   },
   "outputs": [],
   "source": [
    "titanic.head()"
   ]
  },
  {
   "cell_type": "code",
   "execution_count": null,
   "metadata": {
    "ExecuteTime": {
     "end_time": "2019-04-16T14:48:14.462742Z",
     "start_time": "2019-04-16T14:48:14.431932Z"
    }
   },
   "outputs": [],
   "source": [
    "titanic.pivot_table(index='sex', columns='survived', values='fare')  # default is taking the mean"
   ]
  },
  {
   "cell_type": "code",
   "execution_count": null,
   "metadata": {
    "ExecuteTime": {
     "end_time": "2019-04-16T14:48:14.489159Z",
     "start_time": "2019-04-16T14:48:14.464735Z"
    }
   },
   "outputs": [],
   "source": [
    "df = titanic.pivot_table(index='sex', columns=['survived', 'class', 'embarked'], values='fare', aggfunc=len)"
   ]
  },
  {
   "cell_type": "code",
   "execution_count": null,
   "metadata": {
    "ExecuteTime": {
     "end_time": "2019-04-16T14:48:14.527910Z",
     "start_time": "2019-04-16T14:48:14.491107Z"
    }
   },
   "outputs": [],
   "source": [
    "df"
   ]
  },
  {
   "cell_type": "code",
   "execution_count": null,
   "metadata": {
    "ExecuteTime": {
     "end_time": "2019-04-16T14:48:14.536142Z",
     "start_time": "2019-04-16T14:48:14.530110Z"
    }
   },
   "outputs": [],
   "source": [
    "type(df[0])"
   ]
  },
  {
   "cell_type": "markdown",
   "metadata": {
    "ExecuteTime": {
     "end_time": "2019-04-16T14:48:15.595626Z",
     "start_time": "2019-04-16T14:48:15.588990Z"
    }
   },
   "source": [
    "<div class=\"alert alert-success\">\n",
    "    <b>EXERCISES:</b>\n",
    "<li>Create a table sex vs class, containing the average survival rates\n",
    "<li>Create a table sex vs class and embark town, contaning the average fares\n",
    "\n",
    "</div>"
   ]
  },
  {
   "cell_type": "code",
   "execution_count": null,
   "metadata": {
    "ExecuteTime": {
     "end_time": "2019-04-16T14:48:27.314824Z",
     "start_time": "2019-04-16T14:48:27.298124Z"
    },
    "tags": [
     "solution"
    ]
   },
   "outputs": [],
   "source": [
    "titanic.pivot_table(index='class', columns='sex', values='survived', aggfunc='mean')"
   ]
  },
  {
   "cell_type": "code",
   "execution_count": null,
   "metadata": {
    "ExecuteTime": {
     "end_time": "2019-04-16T14:48:28.204653Z",
     "start_time": "2019-04-16T14:48:28.185197Z"
    },
    "tags": [
     "solution"
    ]
   },
   "outputs": [],
   "source": [
    "titanic.pivot_table(index=['class', 'embarked'], columns='sex', values='fare', aggfunc='mean')"
   ]
  },
  {
   "cell_type": "markdown",
   "metadata": {},
   "source": [
    "## Melt\n",
    "* `.melt()` unpivots your DataFrames to make them longer (and \"tidy\")"
   ]
  },
  {
   "cell_type": "code",
   "execution_count": null,
   "metadata": {
    "ExecuteTime": {
     "end_time": "2019-04-16T14:48:29.308233Z",
     "start_time": "2019-04-16T14:48:29.289705Z"
    }
   },
   "outputs": [],
   "source": [
    "titanic_p = titanic.pivot_table(index='sex', columns='class', values='fare').reset_index()\n",
    "titanic_p.columns.name = None\n",
    "titanic_p"
   ]
  },
  {
   "cell_type": "code",
   "execution_count": null,
   "metadata": {
    "ExecuteTime": {
     "end_time": "2019-04-16T14:48:30.175722Z",
     "start_time": "2019-04-16T14:48:30.166791Z"
    }
   },
   "outputs": [],
   "source": [
    "pd.melt(titanic_p)  # this isn't what we want yet"
   ]
  },
  {
   "cell_type": "code",
   "execution_count": null,
   "metadata": {
    "ExecuteTime": {
     "end_time": "2019-04-16T14:48:30.792477Z",
     "start_time": "2019-04-16T14:48:30.781676Z"
    }
   },
   "outputs": [],
   "source": [
    "pd.melt(titanic_p, id_vars='sex')"
   ]
  },
  {
   "cell_type": "markdown",
   "metadata": {},
   "source": [
    "* you can also use `.stack()` and `.unstack()` for basically the same functionality as pivot and melt"
   ]
  },
  {
   "cell_type": "markdown",
   "metadata": {
    "collapsed": true
   },
   "source": [
    "# TODO\n",
    "\n",
    "* .query and .eval"
   ]
  }
 ],
 "metadata": {
  "celltoolbar": "Tags",
  "hide_input": false,
  "kernelspec": {
   "display_name": "Python 3",
   "language": "python",
   "name": "python3"
  },
  "language_info": {
   "codemirror_mode": {
    "name": "ipython",
    "version": 3
   },
   "file_extension": ".py",
   "mimetype": "text/x-python",
   "name": "python",
   "nbconvert_exporter": "python",
   "pygments_lexer": "ipython3",
   "version": "3.6.4"
  },
  "toc": {
   "base_numbering": 1,
   "nav_menu": {
    "height": "161px",
    "width": "252px"
   },
   "number_sections": true,
   "sideBar": false,
   "skip_h1_title": false,
   "title_cell": "Table of Contents",
   "title_sidebar": "Contents",
   "toc_cell": false,
   "toc_position": {
    "height": "441px",
    "left": "4px",
    "right": "1260px",
    "top": "108px",
    "width": "212px"
   },
   "toc_section_display": "block",
   "toc_window_display": false
  },
  "toc_position": {
   "height": "556px",
   "left": "1391px",
   "right": "44px",
   "top": "120px",
   "width": "243px"
  }
 },
 "nbformat": 4,
 "nbformat_minor": 2
}
